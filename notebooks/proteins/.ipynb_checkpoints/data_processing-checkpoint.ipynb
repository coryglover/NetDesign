{
 "cells": [
  {
   "cell_type": "code",
   "execution_count": 1,
   "id": "d7c01827-1b60-434e-8720-25b99c3c1c53",
   "metadata": {},
   "outputs": [],
   "source": [
    "import pandas as pd\n",
    "import numpy as np\n",
    "import networkx as nx\n",
    "import sys\n",
    "from matplotlib.colors import to_rgba\n",
    "# adding Folder_2/subfolder to the system path\n",
    "sys.path.insert(0, '/work/ccnr/glover.co/net_design/NetDesign')\n",
    "import network_design as nd\n",
    "import netrd\n",
    "import matplotlib.pyplot as plt"
   ]
  },
  {
   "cell_type": "code",
   "execution_count": 44,
   "id": "2279f176-275f-4ce6-b465-a1f208cf41f9",
   "metadata": {},
   "outputs": [],
   "source": [
    "all_species_co_complex = pd.read_csv('../../data/protein_complex/both_all.txt',index_col=False,delimiter='\\t')\n",
    "all_species_co_complex['pmid:method:quality:type'] = all_species_co_complex['pmid:method:quality:type'].str.split('|')\n",
    "all_species_co_complex = all_species_co_complex.explode('pmid:method:quality:type')"
   ]
  },
  {
   "cell_type": "code",
   "execution_count": 45,
   "id": "360207bc-ebdf-4af6-9c1e-6227c22af668",
   "metadata": {},
   "outputs": [],
   "source": [
    "new_column_names = all_species_co_complex.columns[4].split(':')"
   ]
  },
  {
   "cell_type": "code",
   "execution_count": 46,
   "id": "0cea2107-5d3d-4b12-97c4-81158a8f25ee",
   "metadata": {},
   "outputs": [],
   "source": [
    "all_species_co_complex[new_column_names] = all_species_co_complex[all_species_co_complex.columns[4]].str.split(':',expand=True)"
   ]
  },
  {
   "cell_type": "code",
   "execution_count": 47,
   "id": "b367cf86-de76-4871-a3eb-75e81903e996",
   "metadata": {},
   "outputs": [],
   "source": [
    "all_species_co_complex.drop(columns=[all_species_co_complex.columns[4]],inplace=True)"
   ]
  },
  {
   "cell_type": "code",
   "execution_count": 48,
   "id": "9f252107-f6ce-4025-a62f-0217f0684c55",
   "metadata": {},
   "outputs": [],
   "source": [
    "all_species_co_complex = all_species_co_complex[all_species_co_complex['type'] == 'co-complex']"
   ]
  },
  {
   "cell_type": "code",
   "execution_count": 49,
   "id": "7aa25ab8-f568-436c-9955-c9e1ea8169fe",
   "metadata": {},
   "outputs": [],
   "source": [
    "all_species_co_complex_high_quality = all_species_co_complex[all_species_co_complex['high_quality_cocomp'] == True]\n",
    "all_species_co_complex_high_quality['pmid'] = all_species_co_complex_high_quality['pmid'].astype(int)"
   ]
  },
  {
   "cell_type": "code",
   "execution_count": 50,
   "id": "ad86f22d-e86d-49e8-875f-82b6531cf877",
   "metadata": {},
   "outputs": [],
   "source": [
    "corum = pd.read_csv('../../data/protein_complex/corum_allComplexes.txt',delimiter='\\t')"
   ]
  },
  {
   "cell_type": "code",
   "execution_count": 58,
   "id": "40c55d57-db32-4e24-a45d-55ac4db79907",
   "metadata": {},
   "outputs": [],
   "source": [
    "combined = pd.merge(corum,all_species_co_complex_high_quality,on='pmid')"
   ]
  },
  {
   "cell_type": "code",
   "execution_count": 79,
   "id": "c65d0d09-73df-4ff1-bc8a-4ce0aa0c29ec",
   "metadata": {},
   "outputs": [
    {
     "name": "stderr",
     "output_type": "stream",
     "text": [
      "/tmp/ipykernel_1982/3329499226.py:1: SettingWithCopyWarning: \n",
      "A value is trying to be set on a copy of a slice from a DataFrame.\n",
      "Try using .loc[row_indexer,col_indexer] = value instead\n",
      "\n",
      "See the caveats in the documentation: https://pandas.pydata.org/pandas-docs/stable/user_guide/indexing.html#returning-a-view-versus-a-copy\n",
      "  combined['correct_complex'] = True\n"
     ]
    }
   ],
   "source": [
    "combined['correct_complex'] = True"
   ]
  },
  {
   "cell_type": "code",
   "execution_count": 80,
   "id": "1f4d3204-c0d4-407a-9598-076270630b21",
   "metadata": {},
   "outputs": [],
   "source": [
    "for row in range(len(combined)):\n",
    "    cur_row = combined.iloc[row]\n",
    "    if cur_row['Uniprot_A'] not in cur_row['subunits_uniprot_id'].split(';') or cur_row['Uniprot_B'] not in cur_row['subunits_uniprot_id'].split(';'):\n",
    "        combined.iloc[row,-1] = False"
   ]
  },
  {
   "cell_type": "code",
   "execution_count": 91,
   "id": "d33310aa-e276-4d30-acbf-8e8296ff0db0",
   "metadata": {},
   "outputs": [],
   "source": [
    "combined = combined[combined['correct_complex'] == True]"
   ]
  },
  {
   "cell_type": "code",
   "execution_count": 94,
   "id": "45c03d56-7767-4a50-b4ea-7b08f8a35b3d",
   "metadata": {},
   "outputs": [
    {
     "data": {
      "text/plain": [
       "6    Q15021;Q9BPX3;Q15003;O95347;Q9NTJ3\n",
       "7    Q15021;Q9BPX3;Q15003;O95347;Q9NTJ3\n",
       "8    Q15021;Q9BPX3;Q15003;O95347;Q9NTJ3\n",
       "9    Q15021;Q9BPX3;Q15003;O95347;Q9NTJ3\n",
       "Name: subunits_uniprot_id, dtype: object"
      ]
     },
     "execution_count": 94,
     "metadata": {},
     "output_type": "execute_result"
    }
   ],
   "source": [
    "combined[combined['pmid'] == 11136719]['subunits_uniprot_id']"
   ]
  },
  {
   "cell_type": "code",
   "execution_count": 66,
   "id": "75d6ad19-4b93-4ed5-a006-e1c8565a2bcd",
   "metadata": {},
   "outputs": [],
   "source": [
    "combined = combined[combined['pmid'].isin(vals)]"
   ]
  },
  {
   "cell_type": "code",
   "execution_count": 100,
   "id": "521cdea4-5bd5-4dec-9fa1-0df1e6dad600",
   "metadata": {},
   "outputs": [],
   "source": [
    "combined = combined.drop_duplicates(subset='subunits_uniprot_id')"
   ]
  },
  {
   "cell_type": "code",
   "execution_count": null,
   "id": "60047f09-9e5a-40d8-af84-8fa76e70650f",
   "metadata": {},
   "outputs": [],
   "source": [
    "combined"
   ]
  },
  {
   "cell_type": "code",
   "execution_count": 73,
   "id": "54e44fc0-4b6e-4e8e-86b1-d284a3924a00",
   "metadata": {},
   "outputs": [
    {
     "data": {
      "text/plain": [
       "6          O95347\n",
       "7          Q15003\n",
       "8          Q15021\n",
       "9          Q9BPX3\n",
       "50         Q99PF4\n",
       "            ...  \n",
       "1704760    P08476\n",
       "1704761    Q07813\n",
       "1704762    O75096\n",
       "1704763    O75197\n",
       "1704764    O75581\n",
       "Name: Uniprot_A, Length: 22189, dtype: object"
      ]
     },
     "execution_count": 73,
     "metadata": {},
     "output_type": "execute_result"
    }
   ],
   "source": [
    "combined['Uniprot_A']"
   ]
  },
  {
   "cell_type": "code",
   "execution_count": null,
   "id": "051b7ee3-da48-44f3-bbfe-7fd8ddd3e1ec",
   "metadata": {},
   "outputs": [],
   "source": []
  }
 ],
 "metadata": {
  "kernelspec": {
   "display_name": "Python 3 (ipykernel)",
   "language": "python",
   "name": "python3"
  },
  "language_info": {
   "codemirror_mode": {
    "name": "ipython",
    "version": 3
   },
   "file_extension": ".py",
   "mimetype": "text/x-python",
   "name": "python",
   "nbconvert_exporter": "python",
   "pygments_lexer": "ipython3",
   "version": "3.12.5"
  }
 },
 "nbformat": 4,
 "nbformat_minor": 5
}
