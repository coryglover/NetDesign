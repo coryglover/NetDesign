{
 "cells": [
  {
   "cell_type": "code",
   "execution_count": 1,
   "id": "54b75cc1-433e-4549-8661-4d3ae3a20a8e",
   "metadata": {},
   "outputs": [],
   "source": [
    "import networkx as nx\n",
    "import numpy as np\n",
    "import matplotlib.pyplot as plt\n",
    "import scipy.linalg as la\n",
    "import network_design as nd"
   ]
  },
  {
   "cell_type": "code",
   "execution_count": 2,
   "id": "8c780ab5-ba5d-464e-bad7-ebc62d077eb5",
   "metadata": {},
   "outputs": [],
   "source": [
    "O = np.array([[0,2],[2,0]])\n",
    "X = np.zeros((8,2))\n",
    "X[:4,0] = 1\n",
    "X[4:,1] =1 "
   ]
  },
  {
   "cell_type": "code",
   "execution_count": 4,
   "id": "4a22033e-bdac-4eb3-a98d-e1d8220b1a23",
   "metadata": {},
   "outputs": [],
   "source": [
    "cap = {0:{0:0,1:2},1:{0:2,1:0}}"
   ]
  },
  {
   "cell_type": "code",
   "execution_count": 77,
   "id": "f8ba7d41-bf03-4af4-a5ba-2f8727a5736a",
   "metadata": {},
   "outputs": [],
   "source": [
    "networks = []\n",
    "counts = {}\n",
    "for i in range(10000):\n",
    "    g = nd.new_soup_of_nodes(X,nd.create_capacity(X,cap))\n",
    "    found = False\n",
    "    for k,n in enumerate(networks):\n",
    "        if nx.is_isomorphic(g,n):\n",
    "            found = True\n",
    "            counts[k] += 1\n",
    "            continue\n",
    "    if found is False:\n",
    "        counts[len(networks)] = 1\n",
    "        networks.append(g)\n",
    "        \n",
    "            "
   ]
  },
  {
   "cell_type": "code",
   "execution_count": 108,
   "id": "791f2efc-6228-4109-973b-c68c99b7eceb",
   "metadata": {},
   "outputs": [],
   "source": [
    "matrix = []\n",
    "matrix_counts = {}\n",
    "for i in range(1000):\n",
    "    g = nd.new_soup_of_nodes(X,nd.create_capacity(X,cap))\n",
    "    A = nx.adjacency_matrix(g).toarray()\n",
    "    found = False\n",
    "    for k,n in enumerate(matrix):\n",
    "        if np.allclose(np.linalg.norm(A-n),0):\n",
    "            found = True\n",
    "            matrix_counts[k] += 1\n",
    "            continue\n",
    "    if found is False:\n",
    "        matrix_counts[len(matrix)] = 1\n",
    "        matrix.append(g)"
   ]
  },
  {
   "cell_type": "code",
   "execution_count": 109,
   "id": "402748bf-0791-4206-ab77-15e0aa9a16fb",
   "metadata": {},
   "outputs": [
    {
     "data": {
      "text/plain": [
       "1000"
      ]
     },
     "execution_count": 109,
     "metadata": {},
     "output_type": "execute_result"
    }
   ],
   "source": [
    "len(matrix)"
   ]
  },
  {
   "cell_type": "code",
   "execution_count": 138,
   "id": "c62d9ee2-1a0d-4ef6-9b7f-ac49c483eac7",
   "metadata": {},
   "outputs": [],
   "source": [
    "def draw_two_particle_network(g,X,pos=None,file=None,figsize=(10,10),with_labels=False,directed=False):\n",
    "    \"\"\"\n",
    "    Draw particle network in style of Fig. 1\n",
    "    \n",
    "    Parameters:\n",
    "        g (networkx)\n",
    "        X (ndarray) - node labels\n",
    "    \"\"\"\n",
    "    fig = plt.figure(figsize=figsize)\n",
    "    # create weighted graph from M\n",
    "#     g = nx.Graph()\n",
    "#     for u,v,data in M.edges(data=True):\n",
    "#         w = data['weight'] if 'weight' in data else 1.0\n",
    "#         if g.has_edge(u,v):\n",
    "#             g[u][v]['weight'] += w\n",
    "#         else:\n",
    "#             g.add_edge(u, v, weight=w)\n",
    "            \n",
    "    if pos is None:\n",
    "        pos = nx.spring_layout(g)\n",
    "        \n",
    "    \n",
    "    for edge in g.edges(data='weight'):\n",
    "        if directed:\n",
    "            nx.draw_networkx_edges(g,pos=pos,edgelist=[edge],arrowsize=20)\n",
    "        else:\n",
    "            nx.draw_networkx_edges(g,pos=pos,edgelist=[edge],width=5)\n",
    "    \n",
    "    # Draw particles \\theta_1\n",
    "    nx.draw_networkx_nodes(nx.subgraph(g,set(np.where(X[:,0]==1)[0])),\n",
    "                       pos=pos,\n",
    "                       node_color='red',\n",
    "                       linewidths=1,\n",
    "                       node_shape='^',\n",
    "                       edgecolors='w',\n",
    "                          node_size=1000)\n",
    "    \n",
    "    # Draw particles \\theta_2\n",
    "    nx.draw_networkx_nodes(nx.subgraph(g,set(np.where(X[:,1]==1)[0])),\n",
    "                       pos=pos,\n",
    "                       node_color='deepskyblue',\n",
    "                       linewidths=1,\n",
    "                       node_shape='o',\n",
    "                       edgecolors='w',node_size=1000)\n",
    "    \n",
    "    \n",
    "    if with_labels:\n",
    "        nx.draw_networkx_labels(g,pos)\n",
    "        \n",
    "    if file != None:\n",
    "        plt.savefig(file)\n",
    "    plt.axis('off')\n"
   ]
  },
  {
   "cell_type": "code",
   "execution_count": 142,
   "id": "f0f488fe-dfb1-4efa-bfb4-0182dbe9869c",
   "metadata": {},
   "outputs": [
    {
     "data": {
      "image/png": "[encoded data removed]",
      "text/plain": [
       "<Figure size 720x720 with 1 Axes>"
      ]
     },
     "metadata": {},
     "output_type": "display_data"
    }
   ],
   "source": [
    "draw_two_particle_network(networks[0],X)\n",
    "plt.savefig('../figs/drafts/v4/hemoglobin1.png')"
   ]
  },
  {
   "cell_type": "code",
   "execution_count": 71,
   "id": "f330f295-079b-4ea6-b00b-f675c5e2243a",
   "metadata": {},
   "outputs": [
    {
     "data": {
      "text/plain": [
       "0.211"
      ]
     },
     "execution_count": 71,
     "metadata": {},
     "output_type": "execute_result"
    }
   ],
   "source": [
    "211/1000"
   ]
  },
  {
   "cell_type": "code",
   "execution_count": 91,
   "id": "dfe79517-66fe-4f75-9d0e-b0cb8f7b4b27",
   "metadata": {},
   "outputs": [],
   "source": [
    "canonical_networks = []\n",
    "canonical_counts = {}\n",
    "for i in range(10000):\n",
    "    g = nd.canonical_ensemble([4,4],O,X)\n",
    "    found = False\n",
    "    for q,n in enumerate(canonical_networks):\n",
    "        if nx.is_isomorphic(g,n):\n",
    "            found = True\n",
    "            canonical_counts[q] += 1\n",
    "            continue\n",
    "    if found is False:\n",
    "        canonical_counts[len(canonical_networks)] = 1\n",
    "        canonical_networks.append(g)"
   ]
  },
  {
   "cell_type": "code",
   "execution_count": 97,
   "id": "1142d32f-2281-4764-a92f-945d59979beb",
   "metadata": {},
   "outputs": [
    {
     "data": {
      "text/plain": [
       "np.int64(39)"
      ]
     },
     "execution_count": 97,
     "metadata": {},
     "output_type": "execute_result"
    }
   ],
   "source": [
    "np.array(list(canonical_counts.values())).argmax()"
   ]
  },
  {
   "cell_type": "code",
   "execution_count": 98,
   "id": "ebb681bb-d6b6-4cfa-a4f6-78f7238c0406",
   "metadata": {},
   "outputs": [
    {
     "data": {
      "image/png": "[encoded data removed]",
      "text/plain": [
       "<Figure size 432x288 with 1 Axes>"
      ]
     },
     "metadata": {},
     "output_type": "display_data"
    }
   ],
   "source": [
    "nx.draw(canonical_networks[39])"
   ]
  },
  {
   "cell_type": "code",
   "execution_count": null,
   "id": "cd763eb9-d2b3-4055-9fa6-2fd1144efc69",
   "metadata": {},
   "outputs": [],
   "source": []
  }
 ],
 "metadata": {
  "kernelspec": {
   "display_name": "Python 3 (ipykernel)",
   "language": "python",
   "name": "python3"
  },
  "language_info": {
   "codemirror_mode": {
    "name": "ipython",
    "version": 3
   },
   "file_extension": ".py",
   "mimetype": "text/x-python",
   "name": "python",
   "nbconvert_exporter": "python",
   "pygments_lexer": "ipython3",
   "version": "3.9.12"
  }
 },
 "nbformat": 4,
 "nbformat_minor": 5
}
