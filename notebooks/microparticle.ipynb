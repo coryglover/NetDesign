{
 "cells": [
  {
   "cell_type": "code",
   "execution_count": 1,
   "id": "ceb8ef2b-9fd6-4272-8e5d-03a5e471cc03",
   "metadata": {
    "scrolled": true,
    "tags": []
   },
   "outputs": [
    {
     "name": "stderr",
     "output_type": "stream",
     "text": [
      "\n",
      "A module that was compiled using NumPy 1.x cannot be run in\n",
      "NumPy 2.0.0 as it may crash. To support both 1.x and 2.x\n",
      "versions of NumPy, modules must be compiled with NumPy 2.0.\n",
      "Some module may need to rebuild instead e.g. with 'pybind11>=2.12'.\n",
      "\n",
      "If you are a user of the module, the easiest solution will be to\n",
      "downgrade to 'numpy<2' or try to upgrade the affected module.\n",
      "We expect that some modules will need time to support NumPy 2.\n",
      "\n",
      "Traceback (most recent call last):  File \"/shared/centos7/anaconda3/2022.05/lib/python3.9/runpy.py\", line 197, in _run_module_as_main\n",
      "    return _run_code(code, main_globals, None,\n",
      "  File \"/shared/centos7/anaconda3/2022.05/lib/python3.9/runpy.py\", line 87, in _run_code\n",
      "    exec(code, run_globals)\n",
      "  File \"/shared/centos7/anaconda3/2022.05/lib/python3.9/site-packages/ipykernel_launcher.py\", line 16, in <module>\n",
      "    app.launch_new_instance()\n",
      "  File \"/shared/centos7/anaconda3/2022.05/lib/python3.9/site-packages/traitlets/config/application.py\", line 846, in launch_instance\n",
      "    app.start()\n",
      "  File \"/shared/centos7/anaconda3/2022.05/lib/python3.9/site-packages/ipykernel/kernelapp.py\", line 677, in start\n",
      "    self.io_loop.start()\n",
      "  File \"/shared/centos7/anaconda3/2022.05/lib/python3.9/site-packages/tornado/platform/asyncio.py\", line 199, in start\n",
      "    self.asyncio_loop.run_forever()\n",
      "  File \"/shared/centos7/anaconda3/2022.05/lib/python3.9/asyncio/base_events.py\", line 601, in run_forever\n",
      "    self._run_once()\n",
      "  File \"/shared/centos7/anaconda3/2022.05/lib/python3.9/asyncio/base_events.py\", line 1905, in _run_once\n",
      "    handle._run()\n",
      "  File \"/shared/centos7/anaconda3/2022.05/lib/python3.9/asyncio/events.py\", line 80, in _run\n",
      "    self._context.run(self._callback, *self._args)\n",
      "  File \"/shared/centos7/anaconda3/2022.05/lib/python3.9/site-packages/ipykernel/kernelbase.py\", line 471, in dispatch_queue\n",
      "    await self.process_one()\n",
      "  File \"/shared/centos7/anaconda3/2022.05/lib/python3.9/site-packages/ipykernel/kernelbase.py\", line 460, in process_one\n",
      "    await dispatch(*args)\n",
      "  File \"/shared/centos7/anaconda3/2022.05/lib/python3.9/site-packages/ipykernel/kernelbase.py\", line 367, in dispatch_shell\n",
      "    await result\n",
      "  File \"/shared/centos7/anaconda3/2022.05/lib/python3.9/site-packages/ipykernel/kernelbase.py\", line 662, in execute_request\n",
      "    reply_content = await reply_content\n",
      "  File \"/shared/centos7/anaconda3/2022.05/lib/python3.9/site-packages/ipykernel/ipkernel.py\", line 360, in do_execute\n",
      "    res = shell.run_cell(code, store_history=store_history, silent=silent)\n",
      "  File \"/shared/centos7/anaconda3/2022.05/lib/python3.9/site-packages/ipykernel/zmqshell.py\", line 532, in run_cell\n",
      "    return super().run_cell(*args, **kwargs)\n",
      "  File \"/shared/centos7/anaconda3/2022.05/lib/python3.9/site-packages/IPython/core/interactiveshell.py\", line 2863, in run_cell\n",
      "    result = self._run_cell(\n",
      "  File \"/shared/centos7/anaconda3/2022.05/lib/python3.9/site-packages/IPython/core/interactiveshell.py\", line 2909, in _run_cell\n",
      "    return runner(coro)\n",
      "  File \"/shared/centos7/anaconda3/2022.05/lib/python3.9/site-packages/IPython/core/async_helpers.py\", line 129, in _pseudo_sync_runner\n",
      "    coro.send(None)\n",
      "  File \"/shared/centos7/anaconda3/2022.05/lib/python3.9/site-packages/IPython/core/interactiveshell.py\", line 3106, in run_cell_async\n",
      "    has_raised = await self.run_ast_nodes(code_ast.body, cell_name,\n",
      "  File \"/shared/centos7/anaconda3/2022.05/lib/python3.9/site-packages/IPython/core/interactiveshell.py\", line 3309, in run_ast_nodes\n",
      "    if await self.run_code(code, result, async_=asy):\n",
      "  File \"/shared/centos7/anaconda3/2022.05/lib/python3.9/site-packages/IPython/core/interactiveshell.py\", line 3369, in run_code\n",
      "    exec(code_obj, self.user_global_ns, self.user_ns)\n",
      "  File \"/tmp/ipykernel_173792/4059779256.py\", line 4, in <cell line: 4>\n",
      "    import pandas as pd\n",
      "  File \"/home/glover.co/.local/lib/python3.9/site-packages/pandas/__init__.py\", line 49, in <module>\n",
      "    from pandas.core.api import (\n",
      "  File \"/home/glover.co/.local/lib/python3.9/site-packages/pandas/core/api.py\", line 28, in <module>\n",
      "    from pandas.core.arrays import Categorical\n",
      "  File \"/home/glover.co/.local/lib/python3.9/site-packages/pandas/core/arrays/__init__.py\", line 1, in <module>\n",
      "    from pandas.core.arrays.arrow import ArrowExtensionArray\n",
      "  File \"/home/glover.co/.local/lib/python3.9/site-packages/pandas/core/arrays/arrow/__init__.py\", line 5, in <module>\n",
      "    from pandas.core.arrays.arrow.array import ArrowExtensionArray\n",
      "  File \"/home/glover.co/.local/lib/python3.9/site-packages/pandas/core/arrays/arrow/array.py\", line 50, in <module>\n",
      "    from pandas.core import (\n",
      "  File \"/home/glover.co/.local/lib/python3.9/site-packages/pandas/core/ops/__init__.py\", line 8, in <module>\n",
      "    from pandas.core.ops.array_ops import (\n",
      "  File \"/home/glover.co/.local/lib/python3.9/site-packages/pandas/core/ops/array_ops.py\", line 56, in <module>\n",
      "    from pandas.core.computation import expressions\n",
      "  File \"/home/glover.co/.local/lib/python3.9/site-packages/pandas/core/computation/expressions.py\", line 21, in <module>\n",
      "    from pandas.core.computation.check import NUMEXPR_INSTALLED\n",
      "  File \"/home/glover.co/.local/lib/python3.9/site-packages/pandas/core/computation/check.py\", line 5, in <module>\n",
      "    ne = import_optional_dependency(\"numexpr\", errors=\"warn\")\n",
      "  File \"/home/glover.co/.local/lib/python3.9/site-packages/pandas/compat/_optional.py\", line 135, in import_optional_dependency\n",
      "    module = importlib.import_module(name)\n",
      "  File \"/shared/centos7/anaconda3/2022.05/lib/python3.9/importlib/__init__.py\", line 127, in import_module\n",
      "    return _bootstrap._gcd_import(name[level:], package, level)\n",
      "  File \"/shared/centos7/anaconda3/2022.05/lib/python3.9/site-packages/numexpr/__init__.py\", line 24, in <module>\n",
      "    from numexpr.interpreter import MAX_THREADS, use_vml, __BLOCK_SIZE1__\n"
     ]
    },
    {
     "ename": "AttributeError",
     "evalue": "_ARRAY_API not found",
     "output_type": "error",
     "traceback": [
      "\u001b[0;31m---------------------------------------------------------------------------\u001b[0m",
      "\u001b[0;31mAttributeError\u001b[0m                            Traceback (most recent call last)",
      "\u001b[0;31mAttributeError\u001b[0m: _ARRAY_API not found"
     ]
    },
    {
     "name": "stderr",
     "output_type": "stream",
     "text": [
      "\n",
      "A module that was compiled using NumPy 1.x cannot be run in\n",
      "NumPy 2.0.0 as it may crash. To support both 1.x and 2.x\n",
      "versions of NumPy, modules must be compiled with NumPy 2.0.\n",
      "Some module may need to rebuild instead e.g. with 'pybind11>=2.12'.\n",
      "\n",
      "If you are a user of the module, the easiest solution will be to\n",
      "downgrade to 'numpy<2' or try to upgrade the affected module.\n",
      "We expect that some modules will need time to support NumPy 2.\n",
      "\n",
      "Traceback (most recent call last):  File \"/shared/centos7/anaconda3/2022.05/lib/python3.9/runpy.py\", line 197, in _run_module_as_main\n",
      "    return _run_code(code, main_globals, None,\n",
      "  File \"/shared/centos7/anaconda3/2022.05/lib/python3.9/runpy.py\", line 87, in _run_code\n",
      "    exec(code, run_globals)\n",
      "  File \"/shared/centos7/anaconda3/2022.05/lib/python3.9/site-packages/ipykernel_launcher.py\", line 16, in <module>\n",
      "    app.launch_new_instance()\n",
      "  File \"/shared/centos7/anaconda3/2022.05/lib/python3.9/site-packages/traitlets/config/application.py\", line 846, in launch_instance\n",
      "    app.start()\n",
      "  File \"/shared/centos7/anaconda3/2022.05/lib/python3.9/site-packages/ipykernel/kernelapp.py\", line 677, in start\n",
      "    self.io_loop.start()\n",
      "  File \"/shared/centos7/anaconda3/2022.05/lib/python3.9/site-packages/tornado/platform/asyncio.py\", line 199, in start\n",
      "    self.asyncio_loop.run_forever()\n",
      "  File \"/shared/centos7/anaconda3/2022.05/lib/python3.9/asyncio/base_events.py\", line 601, in run_forever\n",
      "    self._run_once()\n",
      "  File \"/shared/centos7/anaconda3/2022.05/lib/python3.9/asyncio/base_events.py\", line 1905, in _run_once\n",
      "    handle._run()\n",
      "  File \"/shared/centos7/anaconda3/2022.05/lib/python3.9/asyncio/events.py\", line 80, in _run\n",
      "    self._context.run(self._callback, *self._args)\n",
      "  File \"/shared/centos7/anaconda3/2022.05/lib/python3.9/site-packages/ipykernel/kernelbase.py\", line 471, in dispatch_queue\n",
      "    await self.process_one()\n",
      "  File \"/shared/centos7/anaconda3/2022.05/lib/python3.9/site-packages/ipykernel/kernelbase.py\", line 460, in process_one\n",
      "    await dispatch(*args)\n",
      "  File \"/shared/centos7/anaconda3/2022.05/lib/python3.9/site-packages/ipykernel/kernelbase.py\", line 367, in dispatch_shell\n",
      "    await result\n",
      "  File \"/shared/centos7/anaconda3/2022.05/lib/python3.9/site-packages/ipykernel/kernelbase.py\", line 662, in execute_request\n",
      "    reply_content = await reply_content\n",
      "  File \"/shared/centos7/anaconda3/2022.05/lib/python3.9/site-packages/ipykernel/ipkernel.py\", line 360, in do_execute\n",
      "    res = shell.run_cell(code, store_history=store_history, silent=silent)\n",
      "  File \"/shared/centos7/anaconda3/2022.05/lib/python3.9/site-packages/ipykernel/zmqshell.py\", line 532, in run_cell\n",
      "    return super().run_cell(*args, **kwargs)\n",
      "  File \"/shared/centos7/anaconda3/2022.05/lib/python3.9/site-packages/IPython/core/interactiveshell.py\", line 2863, in run_cell\n",
      "    result = self._run_cell(\n",
      "  File \"/shared/centos7/anaconda3/2022.05/lib/python3.9/site-packages/IPython/core/interactiveshell.py\", line 2909, in _run_cell\n",
      "    return runner(coro)\n",
      "  File \"/shared/centos7/anaconda3/2022.05/lib/python3.9/site-packages/IPython/core/async_helpers.py\", line 129, in _pseudo_sync_runner\n",
      "    coro.send(None)\n",
      "  File \"/shared/centos7/anaconda3/2022.05/lib/python3.9/site-packages/IPython/core/interactiveshell.py\", line 3106, in run_cell_async\n",
      "    has_raised = await self.run_ast_nodes(code_ast.body, cell_name,\n",
      "  File \"/shared/centos7/anaconda3/2022.05/lib/python3.9/site-packages/IPython/core/interactiveshell.py\", line 3309, in run_ast_nodes\n",
      "    if await self.run_code(code, result, async_=asy):\n",
      "  File \"/shared/centos7/anaconda3/2022.05/lib/python3.9/site-packages/IPython/core/interactiveshell.py\", line 3369, in run_code\n",
      "    exec(code_obj, self.user_global_ns, self.user_ns)\n",
      "  File \"/tmp/ipykernel_173792/4059779256.py\", line 4, in <cell line: 4>\n",
      "    import pandas as pd\n",
      "  File \"/home/glover.co/.local/lib/python3.9/site-packages/pandas/__init__.py\", line 49, in <module>\n",
      "    from pandas.core.api import (\n",
      "  File \"/home/glover.co/.local/lib/python3.9/site-packages/pandas/core/api.py\", line 28, in <module>\n",
      "    from pandas.core.arrays import Categorical\n",
      "  File \"/home/glover.co/.local/lib/python3.9/site-packages/pandas/core/arrays/__init__.py\", line 1, in <module>\n",
      "    from pandas.core.arrays.arrow import ArrowExtensionArray\n",
      "  File \"/home/glover.co/.local/lib/python3.9/site-packages/pandas/core/arrays/arrow/__init__.py\", line 5, in <module>\n",
      "    from pandas.core.arrays.arrow.array import ArrowExtensionArray\n",
      "  File \"/home/glover.co/.local/lib/python3.9/site-packages/pandas/core/arrays/arrow/array.py\", line 64, in <module>\n",
      "    from pandas.core.arrays.masked import BaseMaskedArray\n",
      "  File \"/home/glover.co/.local/lib/python3.9/site-packages/pandas/core/arrays/masked.py\", line 60, in <module>\n",
      "    from pandas.core import (\n",
      "  File \"/home/glover.co/.local/lib/python3.9/site-packages/pandas/core/nanops.py\", line 52, in <module>\n",
      "    bn = import_optional_dependency(\"bottleneck\", errors=\"warn\")\n",
      "  File \"/home/glover.co/.local/lib/python3.9/site-packages/pandas/compat/_optional.py\", line 135, in import_optional_dependency\n",
      "    module = importlib.import_module(name)\n",
      "  File \"/shared/centos7/anaconda3/2022.05/lib/python3.9/importlib/__init__.py\", line 127, in import_module\n",
      "    return _bootstrap._gcd_import(name[level:], package, level)\n",
      "  File \"/shared/centos7/anaconda3/2022.05/lib/python3.9/site-packages/bottleneck/__init__.py\", line 7, in <module>\n",
      "    from .move import (move_argmax, move_argmin, move_max, move_mean, move_median,\n"
     ]
    },
    {
     "ename": "AttributeError",
     "evalue": "_ARRAY_API not found",
     "output_type": "error",
     "traceback": [
      "\u001b[0;31m---------------------------------------------------------------------------\u001b[0m",
      "\u001b[0;31mAttributeError\u001b[0m                            Traceback (most recent call last)",
      "\u001b[0;31mAttributeError\u001b[0m: _ARRAY_API not found"
     ]
    }
   ],
   "source": [
    "import numpy as np\n",
    "import network_design as nd\n",
    "import networkx as nx\n",
    "import pandas as pd\n",
    "import matplotlib.pyplot as plt"
   ]
  },
  {
   "cell_type": "code",
   "execution_count": 2,
   "id": "7235dcda-198c-4d46-892b-046a372c451d",
   "metadata": {},
   "outputs": [],
   "source": [
    "capacities = {0:{0:2,1:2,2:2,3:0},\n",
    "              1:{0:2,1:2,2:0,3:2},\n",
    "              2:{0:2,1:0,2:2,3:0},\n",
    "              3:{0:0,1:2,2:0,3:2}}"
   ]
  },
  {
   "cell_type": "code",
   "execution_count": 3,
   "id": "4a34c477-e3e6-4119-b45d-f583a884339a",
   "metadata": {},
   "outputs": [],
   "source": [
    "def color_particles(X):\n",
    "    colors = []\n",
    "    for i in range(len(X)):\n",
    "        if np.where(X[i] == 1)[0] == 0:\n",
    "            colors.append('r')\n",
    "        elif np.where(X[i] == 1)[0] == 1:\n",
    "            colors.append('b')\n",
    "        elif np.where(X[i] == 1)[0] == 2:\n",
    "            colors.append('gold')\n",
    "        else:\n",
    "            colors.append('g')\n",
    "        \n",
    "    return colors"
   ]
  },
  {
   "cell_type": "code",
   "execution_count": 4,
   "id": "d7937bf0-5a50-4655-bace-1ba7af7ce965",
   "metadata": {},
   "outputs": [],
   "source": [
    "X = nd.generate_node_assignments(10,4)"
   ]
  },
  {
   "cell_type": "code",
   "execution_count": 5,
   "id": "4c5d6d08-547d-44d4-8d3b-e2769b22f10d",
   "metadata": {},
   "outputs": [],
   "source": [
    "node_capacities = nd.create_capacity(X,capacities)"
   ]
  },
  {
   "cell_type": "code",
   "execution_count": 6,
   "id": "1996d27a-292a-4cd7-819c-b5b34f9a4c9a",
   "metadata": {},
   "outputs": [],
   "source": [
    "kmax = np.ones(10)*2"
   ]
  },
  {
   "cell_type": "code",
   "execution_count": 7,
   "id": "e23da717-84e7-4446-9aff-36a8092ab7fb",
   "metadata": {},
   "outputs": [],
   "source": [
    "pos = np.random.random(size=(10,2))"
   ]
  },
  {
   "cell_type": "code",
   "execution_count": 23,
   "id": "3dde7aec-10d7-4e09-acbb-9f99ffffeabe",
   "metadata": {},
   "outputs": [
    {
     "data": {
      "text/plain": [
       "[<matplotlib.lines.Line2D at 0x2b6785565fa0>]"
      ]
     },
     "execution_count": 23,
     "metadata": {},
     "output_type": "execute_result"
    },
    {
     "data": {
      "image/png": "[encoded data removed]",
      "text/plain": [
       "<Figure size 432x288 with 1 Axes>"
      ]
     },
     "metadata": {
      "needs_background": "light"
     },
     "output_type": "display_data"
    }
   ],
   "source": [
    "plt.plot(pos[:,0],pos[:,1],'o')"
   ]
  },
  {
   "cell_type": "code",
   "execution_count": 19,
   "id": "e8c42556-a717-4485-a469-1870340dd1f6",
   "metadata": {},
   "outputs": [],
   "source": [
    "r = np.zeros((10,10))\n",
    "for i in range(10):\n",
    "    for j in range(i+1,10):\n",
    "        r[i,j] = np.exp(np.linalg.norm(pos[i] - pos[j]))\n",
    "        r[j,i] = r[i,j]\n",
    "r /= r.sum(axis=1)"
   ]
  },
  {
   "cell_type": "code",
   "execution_count": 20,
   "id": "f3fc0d24-d297-4052-9b61-1053fc791e5a",
   "metadata": {},
   "outputs": [
    {
     "data": {
      "text/plain": [
       "<matplotlib.colorbar.Colorbar at 0x2b8dac0c83a0>"
      ]
     },
     "execution_count": 20,
     "metadata": {},
     "output_type": "execute_result"
    },
    {
     "data": {
      "image/png": "[encoded data removed]",
      "text/plain": [
       "<Figure size 432x288 with 2 Axes>"
      ]
     },
     "metadata": {
      "needs_background": "light"
     },
     "output_type": "display_data"
    }
   ],
   "source": [
    "plt.imshow(r)\n",
    "plt.colorbar()"
   ]
  },
  {
   "cell_type": "code",
   "execution_count": 21,
   "id": "13c9772f-de45-449d-bb43-6cbb245263e6",
   "metadata": {},
   "outputs": [],
   "source": [
    "test = nd.NetDesign(X,nd.create_capacity(X,capacities))"
   ]
  },
  {
   "cell_type": "code",
   "execution_count": 22,
   "id": "51d3f530-89bb-43da-b81a-a5fba275b9d5",
   "metadata": {},
   "outputs": [],
   "source": [
    "test.simulate(100,r=r,kmax=kmax)"
   ]
  },
  {
   "cell_type": "code",
   "execution_count": 23,
   "id": "37680bda-833e-4193-8a38-5df3bd4d24b9",
   "metadata": {},
   "outputs": [
    {
     "data": {
      "image/png": "[encoded data removed]",
      "text/plain": [
       "<Figure size 432x288 with 1 Axes>"
      ]
     },
     "metadata": {},
     "output_type": "display_data"
    }
   ],
   "source": [
    "nx.draw(test.g,pos=pos,node_color=color_particles(X))"
   ]
  },
  {
   "cell_type": "code",
   "execution_count": 24,
   "id": "12a0103d-2ac2-4f51-82a4-fd3d296e9c4d",
   "metadata": {},
   "outputs": [
    {
     "data": {
      "image/png": "[encoded data removed]",
      "text/plain": [
       "<Figure size 432x288 with 1 Axes>"
      ]
     },
     "metadata": {},
     "output_type": "display_data"
    }
   ],
   "source": [
    "nx.draw(test.g,node_color=color_particles(X))"
   ]
  },
  {
   "cell_type": "code",
   "execution_count": null,
   "id": "836bd93a-609c-472a-8fbc-0981a54561ec",
   "metadata": {},
   "outputs": [],
   "source": [
    "np.lo"
   ]
  }
 ],
 "metadata": {
  "kernelspec": {
   "display_name": "Python 3 (ipykernel)",
   "language": "python",
   "name": "python3"
  },
  "language_info": {
   "codemirror_mode": {
    "name": "ipython",
    "version": 3
   },
   "file_extension": ".py",
   "mimetype": "text/x-python",
   "name": "python",
   "nbconvert_exporter": "python",
   "pygments_lexer": "ipython3",
   "version": "3.9.12"
  }
 },
 "nbformat": 4,
 "nbformat_minor": 5
}
