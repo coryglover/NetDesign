{
 "cells": [
  {
   "cell_type": "code",
   "execution_count": 1,
   "metadata": {},
   "outputs": [],
   "source": [
    "import numpy as np\n",
    "import matplotlib.pyplot as plt\n",
    "import networkx as nx\n",
    "import graph_tool.all as gt\n",
    "import sys\n",
    "# sys.insert_path('/Users/glover.co/Documents/laszlo/NetDesign/scripts/')\n",
    "import assembly_tree as at\n",
    "import mcmc\n",
    "import treelib\n",
    "from itertools import product"
   ]
  },
  {
   "cell_type": "code",
   "execution_count": 2,
   "metadata": {},
   "outputs": [],
   "source": [
    "X = np.vstack([np.eye(3) for i in range(2)])\n",
    "O = np.array([[0,1,1],[1,0,1],[1,1,2]])\n",
    "capacity = O.sum(axis=1,dtype=int)\n",
    "target = nx.Graph()\n",
    "target.add_nodes_from(np.arange(6))\n",
    "target.add_edges_from([[0,1],[1,2],[2,0],[3,4],[4,5],[5,3],[2,5]])"
   ]
  },
  {
   "cell_type": "code",
   "execution_count": 3,
   "metadata": {},
   "outputs": [
    {
     "name": "stdout",
     "output_type": "stream",
     "text": [
      "(array([1, 2, 7]), [<networkx.classes.graph.Graph object at 0x168db1400>, <networkx.classes.graph.Graph object at 0x30e2781b0>, <networkx.classes.graph.Graph object at 0x30e2522d0>], array([2, 1, 0]))\n"
     ]
    }
   ],
   "source": [
    "ex0 = mcmc.AssemblyTree(target,X,O,capacity)"
   ]
  },
  {
   "cell_type": "code",
   "execution_count": 4,
   "metadata": {},
   "outputs": [
    {
     "data": {
      "text/plain": [
       "array([1.])"
      ]
     },
     "execution_count": 4,
     "metadata": {},
     "output_type": "execute_result"
    }
   ],
   "source": [
    "ex0.Tree.get_node(0).data.p"
   ]
  },
  {
   "cell_type": "code",
   "execution_count": 5,
   "metadata": {},
   "outputs": [
    {
     "name": "stdout",
     "output_type": "stream",
     "text": [
      "[Node(tag=1, identifier=1, data=<mcmc.AssemblyNode object at 0x30e1fa5d0>), Node(tag=2, identifier=2, data=<mcmc.AssemblyNode object at 0x30e1fa850>), Node(tag=3, identifier=3, data=<mcmc.AssemblyNode object at 0x11b160b00>)]\n",
      "Node(tag=1, identifier=1, data=<mcmc.AssemblyNode object at 0x30e1fa5d0>)\n",
      "(array([8, 2]), [<networkx.classes.graph.Graph object at 0x30e252cd0>, <networkx.classes.graph.Graph object at 0x30e2d08d0>], array([0, 1]))\n",
      "Node(tag=2, identifier=2, data=<mcmc.AssemblyNode object at 0x30e1fa850>)\n",
      "(array([10]), [<networkx.classes.graph.Graph object at 0x30e2d1750>], array([0]))\n",
      "Node(tag=3, identifier=3, data=<mcmc.AssemblyNode object at 0x11b160b00>)\n",
      "(array([10]), [<networkx.classes.graph.Graph object at 0x30e2522d0>], array([0]))\n",
      "Node(tag=0, identifier=0, data=<mcmc.AssemblyNode object at 0x30e235a90>)\n",
      "PROBS [(np.float64(0.4), np.float64(1.0), np.float64(1.0)), (np.float64(0.6), np.float64(1.0), np.float64(1.0))]\n",
      "node 0\n",
      "(array([1, 1, 1, 4, 3]), [<networkx.classes.graph.Graph object at 0x30e2d1c50>, <networkx.classes.graph.Graph object at 0x30e2520d0>, <networkx.classes.graph.Graph object at 0x30e2519d0>, <networkx.classes.graph.Graph object at 0x30e252d50>, <networkx.classes.graph.Graph object at 0x30e2d1bd0>], array([3, 4, 2, 1, 0]))\n"
     ]
    },
    {
     "ename": "TypeError",
     "evalue": "only integer scalar arrays can be converted to a scalar index",
     "output_type": "error",
     "traceback": [
      "\u001b[31m---------------------------------------------------------------------------\u001b[39m",
      "\u001b[31mTypeError\u001b[39m                                 Traceback (most recent call last)",
      "\u001b[36mCell\u001b[39m\u001b[36m \u001b[39m\u001b[32mIn[5]\u001b[39m\u001b[32m, line 1\u001b[39m\n\u001b[32m----> \u001b[39m\u001b[32m1\u001b[39m \u001b[43mex0\u001b[49m\u001b[43m.\u001b[49m\u001b[43mupdate_tree\u001b[49m\u001b[43m(\u001b[49m\u001b[43mdist\u001b[49m\u001b[43m=\u001b[49m\u001b[43m[\u001b[49m\u001b[32;43m1\u001b[39;49m\u001b[43m,\u001b[49m\u001b[32;43m0\u001b[39;49m\u001b[43m,\u001b[49m\u001b[32;43m0\u001b[39;49m\u001b[43m,\u001b[49m\u001b[32;43m0\u001b[39;49m\u001b[43m]\u001b[49m\u001b[43m)\u001b[49m\n",
      "\u001b[36mFile \u001b[39m\u001b[32m~/Documents/laszlo/NetDesign/notebooks/mcmc.py:111\u001b[39m, in \u001b[36mAssemblyTree.update_tree\u001b[39m\u001b[34m(self, dist)\u001b[39m\n\u001b[32m    109\u001b[39m leaf = nodes_to_update.pop(\u001b[32m0\u001b[39m)\n\u001b[32m    110\u001b[39m \u001b[38;5;28mprint\u001b[39m(leaf)\n\u001b[32m--> \u001b[39m\u001b[32m111\u001b[39m \u001b[38;5;28;43mself\u001b[39;49m\u001b[43m.\u001b[49m\u001b[43mupdate_prob\u001b[49m\u001b[43m(\u001b[49m\u001b[43mleaf\u001b[49m\u001b[43m.\u001b[49m\u001b[43midentifier\u001b[49m\u001b[43m)\u001b[49m\n\u001b[32m    112\u001b[39m \u001b[38;5;28;01mif\u001b[39;00m \u001b[38;5;28mself\u001b[39m.Tree.parent(leaf.identifier) \u001b[38;5;129;01mis\u001b[39;00m \u001b[38;5;129;01mnot\u001b[39;00m \u001b[38;5;28;01mNone\u001b[39;00m:\n\u001b[32m    113\u001b[39m     \u001b[38;5;66;03m# Get parent node\u001b[39;00m\n\u001b[32m    114\u001b[39m     parent = \u001b[38;5;28mself\u001b[39m.Tree.parent(leaf.identifier)\n",
      "\u001b[36mFile \u001b[39m\u001b[32m~/Documents/laszlo/NetDesign/notebooks/mcmc.py:263\u001b[39m, in \u001b[36mAssemblyTree.update_prob\u001b[39m\u001b[34m(self, node_id)\u001b[39m\n\u001b[32m    261\u001b[39m p = p / np.sum(p)\n\u001b[32m    262\u001b[39m \u001b[38;5;66;03m# Check whether sample is subgraph of G\u001b[39;00m\n\u001b[32m--> \u001b[39m\u001b[32m263\u001b[39m \u001b[38;5;28;01mfor\u001b[39;00m j, s \u001b[38;5;129;01min\u001b[39;00m \u001b[38;5;28menumerate\u001b[39m(\u001b[43msamples\u001b[49m\u001b[43m[\u001b[49m\u001b[43midx\u001b[49m\u001b[43m]\u001b[49m):\n\u001b[32m    264\u001b[39m     \u001b[38;5;28;01mif\u001b[39;00m nx.is_isomorphic(s,nx.subgraph(\u001b[38;5;28mself\u001b[39m.target,s.nodes())) \u001b[38;5;129;01mand\u001b[39;00m p[j] > \u001b[32m0\u001b[39m:\n\u001b[32m    265\u001b[39m         node.data.p.append(p[j]*probs[i])\n",
      "\u001b[31mTypeError\u001b[39m: only integer scalar arrays can be converted to a scalar index"
     ]
    }
   ],
   "source": [
    "ex0.update_tree(dist=[1,0,0,0])"
   ]
  },
  {
   "cell_type": "code",
   "execution_count": 7,
   "metadata": {},
   "outputs": [
    {
     "data": {
      "text/plain": [
       "array([0])"
      ]
     },
     "execution_count": 7,
     "metadata": {},
     "output_type": "execute_result"
    }
   ],
   "source": [
    "x = np.array([1])\n",
    "np.argsort(x)[::-1]"
   ]
  },
  {
   "cell_type": "code",
   "execution_count": null,
   "metadata": {},
   "outputs": [],
   "source": [
    "subgraph_combinations = list(product(*subgraphs))\n"
   ]
  },
  {
   "cell_type": "code",
   "execution_count": null,
   "metadata": {},
   "outputs": [],
   "source": [
    "subgraph_combinations\n",
    "for i, subgraph in enumerate(subgraph_combinations):\n",
    "    initial_graph = nx.Graph()\n",
    "    for s in subgraph:\n",
    "        initial_graph = nx.compose(initial_graph, s)"
   ]
  },
  {
   "cell_type": "code",
   "execution_count": null,
   "metadata": {},
   "outputs": [],
   "source": [
    "initial_graph = nx.Graph()\n",
    "initial_graph.add_nodes_from([np.int64(4),np.int64(0)])"
   ]
  },
  {
   "cell_type": "code",
   "execution_count": 25,
   "metadata": {},
   "outputs": [
    {
     "data": {
      "text/plain": [
       "[np.int64(3), np.int64(2)]"
      ]
     },
     "execution_count": 25,
     "metadata": {},
     "output_type": "execute_result"
    }
   ],
   "source": [
    "sub_nodes = ex0.Tree.get_node(1).data.nodes"
   ]
  },
  {
   "cell_type": "code",
   "execution_count": 30,
   "metadata": {},
   "outputs": [],
   "source": [
    "p, samples, idx = at.prob_dist(ex0.X[sub_nodes,:],ex0.O,ex0.capacity,initial_graph=None,max_edges=True,labeled=True)"
   ]
  },
  {
   "cell_type": "code",
   "execution_count": 32,
   "metadata": {},
   "outputs": [
    {
     "data": {
      "text/plain": [
       "False"
      ]
     },
     "execution_count": 32,
     "metadata": {},
     "output_type": "execute_result"
    }
   ],
   "source": [
    "true_A = ex0.target_A[:,sub_nodes][sub_nodes,:]\n",
    "cur_a = nx.adjacency_matrix(samples[0]).todense()\n",
    "np.allclose(true_A,cur_a)"
   ]
  },
  {
   "cell_type": "code",
   "execution_count": 34,
   "metadata": {},
   "outputs": [
    {
     "data": {
      "text/plain": [
       "(array([[0, 0],\n",
       "        [0, 0]]),\n",
       " array([[0, 1],\n",
       "        [1, 0]]))"
      ]
     },
     "execution_count": 34,
     "metadata": {},
     "output_type": "execute_result"
    }
   ],
   "source": [
    "true_A, cur_a"
   ]
  },
  {
   "cell_type": "code",
   "execution_count": null,
   "metadata": {},
   "outputs": [],
   "source": [
    "children = ex0.Tree.get_node(0).successors(ex0.Tree.identifier)"
   ]
  },
  {
   "cell_type": "code",
   "execution_count": 56,
   "metadata": {},
   "outputs": [],
   "source": [
    "zero_prob = np.prod(np.array([np.prod(x) for c in children for x in ex0.Tree.get_node(c).data.logP ]))"
   ]
  },
  {
   "cell_type": "code",
   "execution_count": 63,
   "metadata": {},
   "outputs": [],
   "source": [
    "subgraph_list = [ex0.Tree.get_node(c).data.subgraph for c in children]"
   ]
  },
  {
   "cell_type": "code",
   "execution_count": 64,
   "metadata": {},
   "outputs": [
    {
     "data": {
      "text/plain": [
       "[[],\n",
       " [],\n",
       " [<networkx.classes.graph.Graph at 0x3092c4fd0>],\n",
       " [<networkx.classes.graph.Graph at 0x309263c50>]]"
      ]
     },
     "execution_count": 64,
     "metadata": {},
     "output_type": "execute_result"
    }
   ],
   "source": [
    "subgraph_list"
   ]
  },
  {
   "cell_type": "code",
   "execution_count": 9,
   "metadata": {},
   "outputs": [],
   "source": [
    "x = 1\n",
    "y = 2\n",
    "z = 3\n",
    "true_list = [x,y,z]\n",
    "for j, s in enumerate(true_list):\n",
    "    true_list[j] = 4"
   ]
  },
  {
   "cell_type": "code",
   "execution_count": 70,
   "metadata": {},
   "outputs": [],
   "source": [
    "list1 = [1,2,3,4,5,6]\n",
    "list2 = [4,5,6,7]\n",
    "list3 = [2,1]"
   ]
  },
  {
   "cell_type": "code",
   "execution_count": 71,
   "metadata": {},
   "outputs": [],
   "source": [
    "from itertools import product"
   ]
  },
  {
   "cell_type": "code",
   "execution_count": 74,
   "metadata": {},
   "outputs": [
    {
     "data": {
      "text/plain": [
       "array([ 8,  4, 10,  5, 12,  6, 14,  7, 16,  8, 20, 10, 24, 12, 28, 14, 24,\n",
       "       12, 30, 15, 36, 18, 42, 21, 32, 16, 40, 20, 48, 24, 56, 28, 40, 20,\n",
       "       50, 25, 60, 30, 70, 35, 48, 24, 60, 30, 72, 36, 84, 42])"
      ]
     },
     "execution_count": 74,
     "metadata": {},
     "output_type": "execute_result"
    }
   ],
   "source": [
    "np.prod(list(product(list1, list2, list3)),axis=1)"
   ]
  },
  {
   "cell_type": "code",
   "execution_count": null,
   "metadata": {},
   "outputs": [],
   "source": []
  }
 ],
 "metadata": {
  "kernelspec": {
   "display_name": "pymc_env",
   "language": "python",
   "name": "python3"
  },
  "language_info": {
   "codemirror_mode": {
    "name": "ipython",
    "version": 3
   },
   "file_extension": ".py",
   "mimetype": "text/x-python",
   "name": "python",
   "nbconvert_exporter": "python",
   "pygments_lexer": "ipython3",
   "version": "3.13.3"
  }
 },
 "nbformat": 4,
 "nbformat_minor": 2
}
