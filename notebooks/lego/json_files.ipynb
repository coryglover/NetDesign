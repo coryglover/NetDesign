{
 "cells": [
  {
   "cell_type": "code",
   "execution_count": 53,
   "id": "8d506fbb-a861-4166-ab0b-4c4f5e1e669d",
   "metadata": {},
   "outputs": [],
   "source": [
    "import json\n",
    "import matplotlib.pyplot as plt\n",
    "import numpy as np\n",
    "import scipy.linalg as la\n",
    "import pandas as pd\n",
    "import re\n",
    "import networkx as nx\n",
    "import shapely"
   ]
  },
  {
   "cell_type": "code",
   "execution_count": 2,
   "id": "280f8038-e913-446a-904c-1a66f308f8de",
   "metadata": {},
   "outputs": [],
   "source": [
    "colors = pd.read_csv(f'/work/ccnr/glover.co/net_design/NetDesign/data/lego/colors.csv',delimiter=',')\n",
    "elements = pd.read_csv(f'/work/ccnr/glover.co/net_design/NetDesign/data/lego/elements.csv',delimiter=',')\n",
    "inventories = pd.read_csv(f'/work/ccnr/glover.co/net_design/NetDesign/data/lego/inventories.csv',delimiter=',')\n",
    "inventory_minifigs = pd.read_csv(f'/work/ccnr/glover.co/net_design/NetDesign/data/lego/inventory_minifigs.csv',delimiter=',')\n",
    "inventory_parts = pd.read_csv(f'/work/ccnr/glover.co/net_design/NetDesign/data/lego/inventory_parts.csv',delimiter=',')\n",
    "inventory_sets = pd.read_csv(f'/work/ccnr/glover.co/net_design/NetDesign/data/lego/inventory_sets.csv',delimiter=',')\n",
    "minifigs = pd.read_csv(f'/work/ccnr/glover.co/net_design/NetDesign/data/lego/minifigs.csv',delimiter=',')\n",
    "part_categories = pd.read_csv(f'/work/ccnr/glover.co/net_design/NetDesign/data/lego/part_categories.csv',delimiter=',')\n",
    "part_relationships = pd.read_csv(f'/work/ccnr/glover.co/net_design/NetDesign/data/lego/part_relationships.csv',delimiter=',')\n",
    "parts = pd.read_csv(f'/work/ccnr/glover.co/net_design/NetDesign/data/lego/parts.csv',delimiter=',')\n",
    "sets = pd.read_csv(f'/work/ccnr/glover.co/net_design/NetDesign/data/lego/sets.csv',delimiter=',')\n",
    "themes = pd.read_csv(f'/work/ccnr/glover.co/net_design/NetDesign/data/lego/themes.csv',delimiter=',')"
   ]
  },
  {
   "cell_type": "code",
   "execution_count": 3,
   "id": "1142a457-f3c7-4f79-ade1-fe954ae4a8bc",
   "metadata": {},
   "outputs": [],
   "source": [
    "def extract_sizes(name):\n",
    "    match = re.search(r'(\\d+)\\s*[xX]\\s*(\\d+)(?:\\s*[xX]\\s*(\\d+))?', name)\n",
    "    if match:\n",
    "        x, y, z = match.groups()\n",
    "        return int(x), int(y), int(z) if z else 1  # Default z to 1\n",
    "    return None, None, None "
   ]
  },
  {
   "cell_type": "code",
   "execution_count": 4,
   "id": "38c06863-ce85-4d39-b616-262d62c874ff",
   "metadata": {},
   "outputs": [],
   "source": [
    "parts[['x','y','z']] = parts['name'].apply(lambda name: pd.Series(extract_sizes(name)))"
   ]
  },
  {
   "cell_type": "code",
   "execution_count": 5,
   "id": "c4b21c4b-bd36-408d-9769-06242df7aa30",
   "metadata": {},
   "outputs": [],
   "source": [
    "with open('../../data/lego/eval_datasets/classics/000012/info.json','r') as f:\n",
    "    data =json.load(f)"
   ]
  },
  {
   "cell_type": "code",
   "execution_count": 6,
   "id": "1f1f15fc-210d-43ce-985e-521d5b82a408",
   "metadata": {},
   "outputs": [],
   "source": [
    "df = pd.read_pickle('../../data/lego/eval_datasets/classics/000012/conns.pkl')"
   ]
  },
  {
   "cell_type": "code",
   "execution_count": 7,
   "id": "b5c086d6-fd6c-4cfe-9b74-9670f7364fc5",
   "metadata": {
    "scrolled": true
   },
   "outputs": [
    {
     "data": {
      "text/plain": [
       "[(),\n",
       " (array([[-0.5,  3. ,  2.5],\n",
       "         [ 0.5,  3. ,  2.5],\n",
       "         [ 0.5,  3. , -1.5],\n",
       "         [-0.5,  3. ,  1.5],\n",
       "         [-0.5,  3. , -2.5],\n",
       "         [ 0.5,  3. , -2.5],\n",
       "         [ 0.5,  3. ,  0.5],\n",
       "         [ 0.5,  3. ,  1.5],\n",
       "         [-0.5,  3. ,  0.5],\n",
       "         [-0.5,  3. , -0.5],\n",
       "         [ 0.5,  3. , -0.5],\n",
       "         [-0.5,  3. , -1.5]], dtype=float32),\n",
       "  array([[3.0751416e+02, 3.8053992e+02, 4.2823367e-02],\n",
       "         [2.9017609e+02, 3.7187091e+02, 4.3417163e-02],\n",
       "         [2.2082390e+02, 4.0654700e+02, 4.1041989e-02],\n",
       "         [2.9017609e+02, 3.8920892e+02, 4.2229574e-02],\n",
       "         [2.2082390e+02, 4.2388501e+02, 3.9854400e-02],\n",
       "         [2.0348586e+02, 4.1521600e+02, 4.0448196e-02],\n",
       "         [2.5550000e+02, 3.8920892e+02, 4.2229574e-02],\n",
       "         [2.7283804e+02, 3.8053992e+02, 4.2823367e-02],\n",
       "         [2.7283804e+02, 3.9787796e+02, 4.1635782e-02],\n",
       "         [2.5550000e+02, 4.0654700e+02, 4.1041989e-02],\n",
       "         [2.3816196e+02, 3.9787796e+02, 4.1635782e-02],\n",
       "         [2.3816196e+02, 4.1521600e+02, 4.0448196e-02]], dtype=float32)),\n",
       " (array([[-0.5,  3. ,  2.5],\n",
       "         [ 0.5,  6. , -0.5],\n",
       "         [ 0.5,  6. ,  0.5],\n",
       "         [ 0.5,  3. ,  2.5],\n",
       "         [-0.5,  6. , -1.5],\n",
       "         [-0.5,  3. , -2.5],\n",
       "         [-0.5,  6. , -0.5],\n",
       "         [ 0.5,  3. , -2.5],\n",
       "         [ 0.5,  6. , -1.5],\n",
       "         [-0.5,  6. ,  1.5],\n",
       "         [ 0.5,  6. ,  1.5],\n",
       "         [-0.5,  6. ,  0.5]], dtype=float32),\n",
       "  array([[3.0751416e+02, 3.8053992e+02, 4.2823367e-02],\n",
       "         [2.3816196e+02, 3.7238815e+02, 4.1053921e-02],\n",
       "         [2.5550000e+02, 3.6371912e+02, 4.1647714e-02],\n",
       "         [2.9017609e+02, 3.7187091e+02, 4.3417163e-02],\n",
       "         [2.3816196e+02, 3.8972623e+02, 3.9866336e-02],\n",
       "         [2.2082390e+02, 4.2388501e+02, 3.9854400e-02],\n",
       "         [2.5550000e+02, 3.8105719e+02, 4.0460128e-02],\n",
       "         [2.0348586e+02, 4.1521600e+02, 4.0448196e-02],\n",
       "         [2.2082390e+02, 3.8105719e+02, 4.0460128e-02],\n",
       "         [2.9017609e+02, 3.6371912e+02, 4.1647714e-02],\n",
       "         [2.7283804e+02, 3.5505011e+02, 4.2241506e-02],\n",
       "         [2.7283804e+02, 3.7238815e+02, 4.1053921e-02]], dtype=float32)),\n",
       " (array([[ 0.5,  6. , -0.5],\n",
       "         [ 0.5,  6. ,  0.5],\n",
       "         [-0.5,  6. , -1.5],\n",
       "         [-0.5,  6. ,  2.5],\n",
       "         [-0.5,  6. , -2.5],\n",
       "         [ 0.5,  6. ,  2.5],\n",
       "         [-0.5,  6. , -0.5],\n",
       "         [ 0.5,  6. , -1.5],\n",
       "         [-0.5,  6. ,  1.5],\n",
       "         [ 0.5,  6. , -2.5],\n",
       "         [ 0.5,  6. ,  1.5],\n",
       "         [-0.5,  6. ,  0.5]], dtype=float32),\n",
       "  array([[2.3816196e+02, 3.7238815e+02, 4.1053921e-02],\n",
       "         [2.5550000e+02, 3.6371912e+02, 4.1647714e-02],\n",
       "         [2.3816196e+02, 3.8972623e+02, 3.9866336e-02],\n",
       "         [3.0751416e+02, 3.5505011e+02, 4.2241506e-02],\n",
       "         [2.2082390e+02, 3.9839523e+02, 3.9272539e-02],\n",
       "         [2.9017609e+02, 3.4638107e+02, 4.2835303e-02],\n",
       "         [2.5550000e+02, 3.8105719e+02, 4.0460128e-02],\n",
       "         [2.2082390e+02, 3.8105719e+02, 4.0460128e-02],\n",
       "         [2.9017609e+02, 3.6371912e+02, 4.1647714e-02],\n",
       "         [2.0348586e+02, 3.8972623e+02, 3.9866336e-02],\n",
       "         [2.7283804e+02, 3.5505011e+02, 4.2241506e-02],\n",
       "         [2.7283804e+02, 3.7238815e+02, 4.1053921e-02]], dtype=float32)),\n",
       " (array([[ 0.5,  6. , -0.5],\n",
       "         [ 0.5,  6. ,  0.5],\n",
       "         [-0.5,  6. , -1.5],\n",
       "         [ 0.5,  9. ,  2.5],\n",
       "         [-0.5,  6. , -2.5],\n",
       "         [-0.5,  6. ,  0.5],\n",
       "         [ 0.5,  6. , -1.5],\n",
       "         [-0.5,  6. ,  1.5],\n",
       "         [-0.5,  9. ,  2.5],\n",
       "         [ 0.5,  6. , -2.5],\n",
       "         [ 0.5,  6. ,  1.5],\n",
       "         [-0.5,  6. , -0.5]], dtype=float32),\n",
       "  array([[2.3816196e+02, 3.7238815e+02, 4.1053921e-02],\n",
       "         [2.5550000e+02, 3.6371912e+02, 4.1647714e-02],\n",
       "         [2.3816196e+02, 3.8972623e+02, 3.9866336e-02],\n",
       "         [2.9017609e+02, 3.2089127e+02, 4.2253438e-02],\n",
       "         [2.2082390e+02, 3.9839523e+02, 3.9272539e-02],\n",
       "         [2.7283804e+02, 3.7238815e+02, 4.1053921e-02],\n",
       "         [2.2082390e+02, 3.8105719e+02, 4.0460128e-02],\n",
       "         [2.9017609e+02, 3.6371912e+02, 4.1647714e-02],\n",
       "         [3.0751416e+02, 3.2956030e+02, 4.1659646e-02],\n",
       "         [2.0348586e+02, 3.8972623e+02, 3.9866336e-02],\n",
       "         [2.7283804e+02, 3.5505011e+02, 4.2241506e-02],\n",
       "         [2.5550000e+02, 3.8105719e+02, 4.0460128e-02]], dtype=float32)),\n",
       " (array([[-0.5,  9. , -0.5],\n",
       "         [ 0.5,  9. ,  2.5],\n",
       "         [ 0.5,  9. , -1.5],\n",
       "         [-0.5,  9. , -1.5],\n",
       "         [ 0.5,  9. , -2.5],\n",
       "         [-0.5,  9. ,  2.5],\n",
       "         [ 0.5,  9. ,  1.5],\n",
       "         [-0.5,  9. , -2.5],\n",
       "         [-0.5,  9. ,  1.5],\n",
       "         [ 0.5,  9. ,  0.5],\n",
       "         [ 0.5,  9. , -0.5],\n",
       "         [-0.5,  9. ,  0.5]], dtype=float32),\n",
       "  array([[2.5550000e+02, 3.5556735e+02, 3.9878268e-02],\n",
       "         [2.9017609e+02, 3.2089127e+02, 4.2253438e-02],\n",
       "         [2.2082390e+02, 3.5556735e+02, 3.9878268e-02],\n",
       "         [2.3816196e+02, 3.6423639e+02, 3.9284475e-02],\n",
       "         [2.0348586e+02, 3.6423639e+02, 3.9284475e-02],\n",
       "         [3.0751416e+02, 3.2956030e+02, 4.1659646e-02],\n",
       "         [2.7283804e+02, 3.2956030e+02, 4.1659646e-02],\n",
       "         [2.2082390e+02, 3.7290543e+02, 3.8690683e-02],\n",
       "         [2.9017609e+02, 3.3822934e+02, 4.1065853e-02],\n",
       "         [2.5550000e+02, 3.3822934e+02, 4.1065853e-02],\n",
       "         [2.3816196e+02, 3.4689835e+02, 4.0472060e-02],\n",
       "         [2.7283804e+02, 3.4689835e+02, 4.0472060e-02]], dtype=float32)),\n",
       " (array([[ 0.5, 12. , -0.5],\n",
       "         [ 0.5, 12. ,  0.5],\n",
       "         [-0.5,  9. ,  0.5],\n",
       "         [ 0.5, 12. , -1.5],\n",
       "         [-0.5,  9. , -1.5],\n",
       "         [-0.5,  9. ,  2.5],\n",
       "         [-0.5,  9. , -2.5],\n",
       "         [-0.5,  9. ,  1.5],\n",
       "         [ 0.5, 12. ,  1.5],\n",
       "         [-0.5,  9. , -0.5]], dtype=float32),\n",
       "  array([[2.3816196e+02, 3.2140857e+02, 3.9890200e-02],\n",
       "         [2.5550000e+02, 3.1273953e+02, 4.0483993e-02],\n",
       "         [2.7283804e+02, 3.4689835e+02, 4.0472060e-02],\n",
       "         [2.2082390e+02, 3.3007758e+02, 3.9296407e-02],\n",
       "         [2.3816196e+02, 3.6423639e+02, 3.9284475e-02],\n",
       "         [3.0751416e+02, 3.2956030e+02, 4.1659646e-02],\n",
       "         [2.2082390e+02, 3.7290543e+02, 3.8690683e-02],\n",
       "         [2.9017609e+02, 3.3822934e+02, 4.1065853e-02],\n",
       "         [2.7283804e+02, 3.0407047e+02, 4.1077785e-02],\n",
       "         [2.5550000e+02, 3.5556735e+02, 3.9878268e-02]], dtype=float32)),\n",
       " (array([[ 0.5, 12. , -0.5],\n",
       "         [-0.5, 12. ,  1.5],\n",
       "         [ 0.5, 12. ,  0.5],\n",
       "         [ 0.5, 12. , -1.5],\n",
       "         [-0.5, 12. , -0.5],\n",
       "         [-0.5, 12. ,  0.5],\n",
       "         [-0.5, 12. , -1.5],\n",
       "         [ 0.5, 12. ,  1.5]], dtype=float32),\n",
       "  array([[2.3816196e+02, 3.2140857e+02, 3.9890200e-02],\n",
       "         [2.9017609e+02, 3.1273953e+02, 4.0483993e-02],\n",
       "         [2.5550000e+02, 3.1273953e+02, 4.0483993e-02],\n",
       "         [2.2082390e+02, 3.3007758e+02, 3.9296407e-02],\n",
       "         [2.5550000e+02, 3.3007758e+02, 3.9296407e-02],\n",
       "         [2.7283804e+02, 3.2140857e+02, 3.9890200e-02],\n",
       "         [2.3816196e+02, 3.3874658e+02, 3.8702615e-02],\n",
       "         [2.7283804e+02, 3.0407047e+02, 4.1077785e-02]], dtype=float32)),\n",
       " (array([[-0.5, 12. ,  1.5],\n",
       "         [-0.5, 15. ,  0.5],\n",
       "         [ 0.5, 12. , -1.5],\n",
       "         [-0.5, 12. , -1.5],\n",
       "         [-0.5, 15. , -0.5],\n",
       "         [ 0.5, 12. ,  1.5]], dtype=float32),\n",
       "  array([[2.9017609e+02, 3.1273953e+02, 4.0483993e-02],\n",
       "         [2.7283804e+02, 2.9591873e+02, 3.9308339e-02],\n",
       "         [2.2082390e+02, 3.3007758e+02, 3.9296407e-02],\n",
       "         [2.3816196e+02, 3.3874658e+02, 3.8702615e-02],\n",
       "         [2.5550000e+02, 3.0458774e+02, 3.8714547e-02],\n",
       "         [2.7283804e+02, 3.0407047e+02, 4.1077785e-02]], dtype=float32)),\n",
       " (array([[-0.5, 15. , -0.5],\n",
       "         [ 0.5, 12. , -1.5],\n",
       "         [-0.5, 18. ,  2.5],\n",
       "         [-0.5, 12. , -1.5],\n",
       "         [-0.5, 15. ,  0.5],\n",
       "         [ 0.5, 12. ,  1.5]], dtype=float32),\n",
       "  array([[2.5550000e+02, 3.0458774e+02, 3.8714547e-02],\n",
       "         [2.2082390e+02, 3.3007758e+02, 3.9296407e-02],\n",
       "         [3.0751416e+02, 2.5309087e+02, 3.9914064e-02],\n",
       "         [2.3816196e+02, 3.3874658e+02, 3.8702615e-02],\n",
       "         [2.7283804e+02, 2.9591873e+02, 3.9308339e-02],\n",
       "         [2.7283804e+02, 3.0407047e+02, 4.1077785e-02]], dtype=float32)),\n",
       " (array([[-0.5, 15. ,  0.5],\n",
       "         [-0.5, 21. , -2.5],\n",
       "         [ 0.5, 12. , -1.5],\n",
       "         [-0.5, 18. ,  2.5],\n",
       "         [-0.5, 15. , -0.5],\n",
       "         [ 0.5, 12. ,  1.5]], dtype=float32),\n",
       "  array([[2.7283804e+02, 2.9591873e+02, 3.9308339e-02],\n",
       "         [2.2082390e+02, 2.7094620e+02, 3.6363237e-02],\n",
       "         [2.2082390e+02, 3.3007758e+02, 3.9296407e-02],\n",
       "         [3.0751416e+02, 2.5309087e+02, 3.9914064e-02],\n",
       "         [2.5550000e+02, 3.0458774e+02, 3.8714547e-02],\n",
       "         [2.7283804e+02, 3.0407047e+02, 4.1077785e-02]], dtype=float32)),\n",
       " (array([[-0.5, 21. , -2.5],\n",
       "         [ 0.5, 12. , -1.5],\n",
       "         [-0.5, 18. ,  2.5],\n",
       "         [-0.5, 27. , -0.5],\n",
       "         [ 0.5, 12. ,  1.5],\n",
       "         [-0.5, 27. ,  0.5]], dtype=float32),\n",
       "  array([[2.2082390e+02, 2.7094620e+02, 3.6363237e-02],\n",
       "         [2.2082390e+02, 3.3007758e+02, 3.9296407e-02],\n",
       "         [3.0751416e+02, 2.5309087e+02, 3.9914064e-02],\n",
       "         [2.5550000e+02, 2.0262852e+02, 3.6387105e-02],\n",
       "         [2.7283804e+02, 3.0407047e+02, 4.1077785e-02],\n",
       "         [2.7283804e+02, 1.9395952e+02, 3.6980897e-02]], dtype=float32))]"
      ]
     },
     "execution_count": 7,
     "metadata": {},
     "output_type": "execute_result"
    }
   ],
   "source": [
    "df"
   ]
  },
  {
   "cell_type": "code",
   "execution_count": 93,
   "id": "8ef6bac9-9a34-44a3-9d24-6a1876ebe11f",
   "metadata": {},
   "outputs": [],
   "source": [
    "brick_part_names = []"
   ]
  },
  {
   "cell_type": "code",
   "execution_count": 94,
   "id": "0a6065e7-8fd1-4f07-9209-a17cee8587b0",
   "metadata": {},
   "outputs": [],
   "source": [
    "steps = data['operations'].keys()\n",
    "for s in steps:\n",
    "    bricks = data['operations'][s]['bricks']\n",
    "    for b in bricks:\n",
    "        try:\n",
    "            brick_part_names.append(b['brick_type'])\n",
    "        except:\n",
    "            continue"
   ]
  },
  {
   "cell_type": "code",
   "execution_count": 95,
   "id": "79bcf89f-5add-4010-843c-8e9256c6b13e",
   "metadata": {},
   "outputs": [
    {
     "data": {
      "text/html": [
       "<div>\n",
       "<style scoped>\n",
       "    .dataframe tbody tr th:only-of-type {\n",
       "        vertical-align: middle;\n",
       "    }\n",
       "\n",
       "    .dataframe tbody tr th {\n",
       "        vertical-align: top;\n",
       "    }\n",
       "\n",
       "    .dataframe thead th {\n",
       "        text-align: right;\n",
       "    }\n",
       "</style>\n",
       "<table border=\"1\" class=\"dataframe\">\n",
       "  <thead>\n",
       "    <tr style=\"text-align: right;\">\n",
       "      <th></th>\n",
       "      <th>part_num</th>\n",
       "      <th>name</th>\n",
       "      <th>part_cat_id</th>\n",
       "      <th>part_material</th>\n",
       "      <th>x</th>\n",
       "      <th>y</th>\n",
       "      <th>z</th>\n",
       "    </tr>\n",
       "  </thead>\n",
       "  <tbody>\n",
       "    <tr>\n",
       "      <th>11500</th>\n",
       "      <td>2877</td>\n",
       "      <td>Brick Special 1 x 2 with Grille</td>\n",
       "      <td>5</td>\n",
       "      <td>Plastic</td>\n",
       "      <td>1.0</td>\n",
       "      <td>2.0</td>\n",
       "      <td>1.0</td>\n",
       "    </tr>\n",
       "    <tr>\n",
       "      <th>11799</th>\n",
       "      <td>3001</td>\n",
       "      <td>Brick 2 x 4</td>\n",
       "      <td>11</td>\n",
       "      <td>Plastic</td>\n",
       "      <td>2.0</td>\n",
       "      <td>4.0</td>\n",
       "      <td>1.0</td>\n",
       "    </tr>\n",
       "    <tr>\n",
       "      <th>11914</th>\n",
       "      <td>3003</td>\n",
       "      <td>Brick 2 x 2</td>\n",
       "      <td>11</td>\n",
       "      <td>Plastic</td>\n",
       "      <td>2.0</td>\n",
       "      <td>2.0</td>\n",
       "      <td>1.0</td>\n",
       "    </tr>\n",
       "    <tr>\n",
       "      <th>12021</th>\n",
       "      <td>3004</td>\n",
       "      <td>Brick 1 x 2</td>\n",
       "      <td>11</td>\n",
       "      <td>Plastic</td>\n",
       "      <td>1.0</td>\n",
       "      <td>2.0</td>\n",
       "      <td>1.0</td>\n",
       "    </tr>\n",
       "    <tr>\n",
       "      <th>12165</th>\n",
       "      <td>3005</td>\n",
       "      <td>Brick 1 x 1</td>\n",
       "      <td>11</td>\n",
       "      <td>Plastic</td>\n",
       "      <td>1.0</td>\n",
       "      <td>1.0</td>\n",
       "      <td>1.0</td>\n",
       "    </tr>\n",
       "    <tr>\n",
       "      <th>14085</th>\n",
       "      <td>3040b</td>\n",
       "      <td>Slope 45° 2 x 1 with Bottom Pin</td>\n",
       "      <td>3</td>\n",
       "      <td>Plastic</td>\n",
       "      <td>2.0</td>\n",
       "      <td>1.0</td>\n",
       "      <td>1.0</td>\n",
       "    </tr>\n",
       "    <tr>\n",
       "      <th>23060</th>\n",
       "      <td>3660</td>\n",
       "      <td>Slope Inverted 45° 2 x 2 [Ovoid Bottom Pin, Ba...</td>\n",
       "      <td>3</td>\n",
       "      <td>Plastic</td>\n",
       "      <td>2.0</td>\n",
       "      <td>2.0</td>\n",
       "      <td>1.0</td>\n",
       "    </tr>\n",
       "    <tr>\n",
       "      <th>38669</th>\n",
       "      <td>85984</td>\n",
       "      <td>Slope 30° 1 x 2 x 2/3</td>\n",
       "      <td>3</td>\n",
       "      <td>Plastic</td>\n",
       "      <td>1.0</td>\n",
       "      <td>2.0</td>\n",
       "      <td>2.0</td>\n",
       "    </tr>\n",
       "  </tbody>\n",
       "</table>\n",
       "</div>"
      ],
      "text/plain": [
       "      part_num                                               name  \\\n",
       "11500     2877                    Brick Special 1 x 2 with Grille   \n",
       "11799     3001                                        Brick 2 x 4   \n",
       "11914     3003                                        Brick 2 x 2   \n",
       "12021     3004                                        Brick 1 x 2   \n",
       "12165     3005                                        Brick 1 x 1   \n",
       "14085    3040b                    Slope 45° 2 x 1 with Bottom Pin   \n",
       "23060     3660  Slope Inverted 45° 2 x 2 [Ovoid Bottom Pin, Ba...   \n",
       "38669    85984                              Slope 30° 1 x 2 x 2/3   \n",
       "\n",
       "       part_cat_id part_material    x    y    z  \n",
       "11500            5       Plastic  1.0  2.0  1.0  \n",
       "11799           11       Plastic  2.0  4.0  1.0  \n",
       "11914           11       Plastic  2.0  2.0  1.0  \n",
       "12021           11       Plastic  1.0  2.0  1.0  \n",
       "12165           11       Plastic  1.0  1.0  1.0  \n",
       "14085            3       Plastic  2.0  1.0  1.0  \n",
       "23060            3       Plastic  2.0  2.0  1.0  \n",
       "38669            3       Plastic  1.0  2.0  2.0  "
      ]
     },
     "execution_count": 95,
     "metadata": {},
     "output_type": "execute_result"
    }
   ],
   "source": [
    "parts[parts['part_num'].isin(brick_part_names)]"
   ]
  },
  {
   "cell_type": "code",
   "execution_count": 105,
   "id": "f38f67a8-5b3a-4a7b-b642-25c296cfcb8b",
   "metadata": {
    "scrolled": true
   },
   "outputs": [
    {
     "data": {
      "text/plain": [
       "array([[ 0. ,  0. ,  0. ],\n",
       "       [ 0. , -2. ,  0. ],\n",
       "       [ 0. ,  2. ,  0. ],\n",
       "       [ 0. , -1. ,  3. ],\n",
       "       [ 0. ,  1. ,  3. ],\n",
       "       [ 0. , -2.5,  3. ],\n",
       "       [ 0.5,  2.5,  3. ],\n",
       "       [-0.5,  2.5,  3. ],\n",
       "       [-0. ,  2.5,  6. ],\n",
       "       [ 0. , -1. ,  6. ],\n",
       "       [ 0.5,  1.5,  6. ],\n",
       "       [-0.5,  1.5,  6. ],\n",
       "       [ 0.5, -2. ,  9. ],\n",
       "       [ 0.5,  2. ,  9. ],\n",
       "       [ 0.5,  0. ,  9. ],\n",
       "       [-0.5, -2. ,  9. ],\n",
       "       [-0.5,  2. ,  9. ],\n",
       "       [-0.5,  0. ,  9. ],\n",
       "       [ 0. ,  0. , 12. ],\n",
       "       [ 0.5,  0. , 15. ],\n",
       "       [-0.5,  0. , 15. ],\n",
       "       [-0.5,  0. , 18. ],\n",
       "       [-0.5,  0. , 21. ],\n",
       "       [-0.5,  0. , 24. ]])"
      ]
     },
     "execution_count": 105,
     "metadata": {},
     "output_type": "execute_result"
    }
   ],
   "source": [
    "positions"
   ]
  },
  {
   "cell_type": "code",
   "execution_count": 154,
   "id": "2b18bcd1-e241-4f9f-b215-8fe04270a027",
   "metadata": {},
   "outputs": [],
   "source": [
    "def make_lego_network(data,brick_height=3,brick_unit=.5,part_info=parts,pos_order = [0,2,1]):\n",
    "    # Get brick_types\n",
    "    brick_part_names = []\n",
    "    positions = []\n",
    "    rotations = []\n",
    "    steps = data['operations'].keys()\n",
    "    for s in steps:\n",
    "        bricks = data['operations'][s]['bricks']\n",
    "        for b in bricks:\n",
    "            try:\n",
    "                brick_part_names.append(b['brick_type'])\n",
    "                positions.append(b['brick_transform']['position'])\n",
    "                rotations.append(b['brick_transform']['rotation_euler'])\n",
    "            except:\n",
    "                continue\n",
    "\n",
    "    # Initialize label matrix\n",
    "    num_bricks = len(set(brick_part_names))\n",
    "    positions = np.array(positions)\n",
    "    rotations = np.array(rotations)\n",
    "    positions = positions[:,pos_order]\n",
    "    rotations = rotations[:,pos_order]\n",
    "    N = positions.shape[0]\n",
    "    X = np.zeros((N,num_bricks))\n",
    "    \n",
    "    # Initialize network\n",
    "    g = nx.Graph()\n",
    "    \n",
    "    for s in steps:\n",
    "        bricks = data['operations'][s]['bricks']\n",
    "        for j,b in enumerate(bricks):\n",
    "            try:\n",
    "                # Add node\n",
    "                g.add_node(g.number_of_nodes())\n",
    "                node_idx = g.number_of_nodes()-1\n",
    "\n",
    "                # Make bounding box of brick\n",
    "                cur_brick = brick_part_names[node_idx]\n",
    "                # Get size\n",
    "                brick_x, brick_y, brick_z = part_info[part_info['part_num'] == cur_brick][['x','y','z']].values[0]\n",
    "                brick_x *= brick_unit\n",
    "                brick_y *= brick_unit\n",
    "                brick_z *= brick_height\n",
    "\n",
    "                p0 = (positions[node_idx,0] + brick_x, positions[node_idx,1] + brick_y)\n",
    "                p1 = (positions[node_idx,0] + brick_x, positions[node_idx,1] - brick_y)\n",
    "                p2 = (positions[node_idx,0] - brick_x, positions[node_idx,1] - brick_y)\n",
    "                p3 = (positions[node_idx,0] - brick_x, positions[node_idx,1] + brick_y)\n",
    "    \n",
    "                # Make shapely box\n",
    "                brick_box = shapely.Polygon((p0,p1,p2,p3))\n",
    "                brick_box = shapely.affinity.scale(brick_box,xfact=rotations[node_idx,0],yfact=rotations[node_idx,1])\n",
    "                g.nodes[node_idx]['box'] = brick_box\n",
    "                g.nodes[node_idx]['top'] = brick_z + positions[node_idx,2]\n",
    "                for node in range(node_idx):\n",
    "                    # Check for connection\n",
    "                    new_height = g.nodes[node]['top']\n",
    "                    if new_height == positions[node_idx,2] or positions[node,2] == g.nodes[node_idx]['top']:\n",
    "                        new_brick = g.nodes[node]['box']\n",
    "                        if new_brick.overlaps(brick_box):\n",
    "                            g.add_edge(node,node_idx)\n",
    "            except:\n",
    "                continue\n",
    "    return g, X, positions"
   ]
  },
  {
   "cell_type": "code",
   "execution_count": 155,
   "id": "866930de-d24d-4669-af0f-6581df08f2f9",
   "metadata": {
    "scrolled": true
   },
   "outputs": [],
   "source": [
    "g, X, positions = make_lego_network(data)"
   ]
  },
  {
   "cell_type": "code",
   "execution_count": 156,
   "id": "7c8b62e0-08d0-4989-8427-4003617fe960",
   "metadata": {},
   "outputs": [
    {
     "data": {
      "image/png": "[encoded data removed]",
      "text/plain": [
       "<Figure size 640x480 with 1 Axes>"
      ]
     },
     "metadata": {},
     "output_type": "display_data"
    }
   ],
   "source": [
    "nx.draw(g)"
   ]
  },
  {
   "cell_type": "code",
   "execution_count": 142,
   "id": "7deece7e-8125-491c-8f51-d1a85e53ac37",
   "metadata": {},
   "outputs": [
    {
     "data": {
      "image/png": "[encoded data removed]",
      "text/plain": [
       "<Figure size 640x480 with 1 Axes>"
      ]
     },
     "metadata": {},
     "output_type": "display_data"
    }
   ],
   "source": [
    "nx.draw(g,node_size=10,with_labels=True)"
   ]
  },
  {
   "cell_type": "code",
   "execution_count": 111,
   "id": "77fcdc7d-40e6-4a8f-a2ec-bb3db0b93885",
   "metadata": {},
   "outputs": [
    {
     "data": {
      "text/html": [
       "<div>\n",
       "<style scoped>\n",
       "    .dataframe tbody tr th:only-of-type {\n",
       "        vertical-align: middle;\n",
       "    }\n",
       "\n",
       "    .dataframe tbody tr th {\n",
       "        vertical-align: top;\n",
       "    }\n",
       "\n",
       "    .dataframe thead th {\n",
       "        text-align: right;\n",
       "    }\n",
       "</style>\n",
       "<table border=\"1\" class=\"dataframe\">\n",
       "  <thead>\n",
       "    <tr style=\"text-align: right;\">\n",
       "      <th></th>\n",
       "      <th>x</th>\n",
       "      <th>y</th>\n",
       "      <th>z</th>\n",
       "    </tr>\n",
       "  </thead>\n",
       "  <tbody>\n",
       "    <tr>\n",
       "      <th>11914</th>\n",
       "      <td>2.0</td>\n",
       "      <td>2.0</td>\n",
       "      <td>1.0</td>\n",
       "    </tr>\n",
       "  </tbody>\n",
       "</table>\n",
       "</div>"
      ],
      "text/plain": [
       "         x    y    z\n",
       "11914  2.0  2.0  1.0"
      ]
     },
     "execution_count": 111,
     "metadata": {},
     "output_type": "execute_result"
    }
   ],
   "source": [
    "parts[parts['part_num'] == brick_part_names[0]][['x','y','z']]"
   ]
  },
  {
   "cell_type": "code",
   "execution_count": 46,
   "id": "7b5e66df-f9c5-4e1e-907d-0e3e3055878b",
   "metadata": {},
   "outputs": [],
   "source": [
    "p0 = (positions[0,0] + .5*2, positions[0,1] + .5*2)\n",
    "p1 = (positions[0,0] + .5*2, positions[0,1] - .5*2)\n",
    "p2 = (positions[0,0] - .5*2, positions[0,1] - .5*2)\n",
    "p3 = (positions[0,0] - .5*2, positions[0,1] + .5*2)"
   ]
  },
  {
   "cell_type": "code",
   "execution_count": 47,
   "id": "999d4889-1d48-4a62-a31c-f2253ebfb88b",
   "metadata": {},
   "outputs": [],
   "source": [
    "brick_box = shapely.Polygon((p0,p1,p2,p3))"
   ]
  },
  {
   "cell_type": "code",
   "execution_count": 50,
   "id": "f3e31139-51e4-452b-a4e3-d6d0b6e5bf47",
   "metadata": {},
   "outputs": [],
   "source": [
    "q0 = (positions[0,0] + .5*2-.5, positions[0,1] + .5*2-.5)\n",
    "q1 = (positions[0,0] + .5*2-.5, positions[0,1] - .5*2-.5)\n",
    "q2 = (positions[0,0] - .5*2-.5, positions[0,1] - .5*2-.5)\n",
    "q3 = (positions[0,0] - .5*2-.5, positions[0,1] + .5*2-.5)"
   ]
  },
  {
   "cell_type": "code",
   "execution_count": 51,
   "id": "44d8685f-a651-4ab8-b135-664766f63a7a",
   "metadata": {},
   "outputs": [],
   "source": [
    "brick_box_2 = shapely.Polygon((q0,q1,q2,q3))"
   ]
  },
  {
   "cell_type": "code",
   "execution_count": 52,
   "id": "e280357c-a141-46e1-a079-2ebcea85a3bf",
   "metadata": {},
   "outputs": [
    {
     "data": {
      "text/plain": [
       "True"
      ]
     },
     "execution_count": 52,
     "metadata": {},
     "output_type": "execute_result"
    }
   ],
   "source": [
    "brick_box.overlaps(brick_box_2)"
   ]
  },
  {
   "cell_type": "code",
   "execution_count": null,
   "id": "02868bf9-17d6-4a70-af33-a3b35ee32860",
   "metadata": {},
   "outputs": [],
   "source": []
  }
 ],
 "metadata": {
  "kernelspec": {
   "display_name": "Python 3 (ipykernel)",
   "language": "python",
   "name": "python3"
  },
  "language_info": {
   "codemirror_mode": {
    "name": "ipython",
    "version": 3
   },
   "file_extension": ".py",
   "mimetype": "text/x-python",
   "name": "python",
   "nbconvert_exporter": "python",
   "pygments_lexer": "ipython3",
   "version": "3.12.5"
  }
 },
 "nbformat": 4,
 "nbformat_minor": 5
}
