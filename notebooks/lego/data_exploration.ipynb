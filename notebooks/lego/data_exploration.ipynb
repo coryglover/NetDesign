{
 "cells": [
  {
   "cell_type": "code",
   "execution_count": 58,
   "id": "350c04c3-9a00-49cf-980f-65de8e25b637",
   "metadata": {},
   "outputs": [],
   "source": [
    "import pandas as pd\n",
    "import matplotlib.pyplot as plot\n",
    "import numpy as np\n",
    "import os\n",
    "import re"
   ]
  },
  {
   "cell_type": "code",
   "execution_count": 4,
   "id": "498c6754-aa0a-4dfa-ad82-e9d2a5ad0c29",
   "metadata": {},
   "outputs": [],
   "source": [
    "# Read in files\n",
    "files = os.listdir('/work/ccnr/glover.co/net_design/NetDesign/data/lego/')"
   ]
  },
  {
   "cell_type": "code",
   "execution_count": 8,
   "id": "f11b486c-3d1d-4a38-bd2e-f236c24a6e84",
   "metadata": {
    "scrolled": true
   },
   "outputs": [],
   "source": [
    "colors = pd.read_csv(f'/work/ccnr/glover.co/net_design/NetDesign/data/lego/{files[0]}',delimiter=',')\n",
    "elements = pd.read_csv(f'/work/ccnr/glover.co/net_design/NetDesign/data/lego/{files[1]}',delimiter=',')\n",
    "inventories = pd.read_csv(f'/work/ccnr/glover.co/net_design/NetDesign/data/lego/{files[2]}',delimiter=',')\n",
    "inventory_minifigs = pd.read_csv(f'/work/ccnr/glover.co/net_design/NetDesign/data/lego/{files[3]}',delimiter=',')\n",
    "inventory_parts = pd.read_csv(f'/work/ccnr/glover.co/net_design/NetDesign/data/lego/{files[4]}',delimiter=',')\n",
    "inventory_sets = pd.read_csv(f'/work/ccnr/glover.co/net_design/NetDesign/data/lego/{files[5]}',delimiter=',')\n",
    "minifigs = pd.read_csv(f'/work/ccnr/glover.co/net_design/NetDesign/data/lego/{files[6]}',delimiter=',')\n",
    "part_categories = pd.read_csv(f'/work/ccnr/glover.co/net_design/NetDesign/data/lego/{files[7]}',delimiter=',')\n",
    "part_relationships = pd.read_csv(f'/work/ccnr/glover.co/net_design/NetDesign/data/lego/{files[8]}',delimiter=',')\n",
    "parts = pd.read_csv(f'/work/ccnr/glover.co/net_design/NetDesign/data/lego/{files[9]}',delimiter=',')\n",
    "sets = pd.read_csv(f'/work/ccnr/glover.co/net_design/NetDesign/data/lego/{files[10]}',delimiter=',')\n",
    "themes = pd.read_csv(f'/work/ccnr/glover.co/net_design/NetDesign/data/lego/{files[11]}',delimiter=',')"
   ]
  },
  {
   "cell_type": "code",
   "execution_count": 44,
   "id": "78a89864-e4b4-497c-8258-dadfb0d51dd0",
   "metadata": {},
   "outputs": [
    {
     "ename": "KeyError",
     "evalue": "'set_num'",
     "output_type": "error",
     "traceback": [
      "\u001b[0;31m---------------------------------------------------------------------------\u001b[0m",
      "\u001b[0;31mKeyError\u001b[0m                                  Traceback (most recent call last)",
      "File \u001b[0;32m~/miniconda3/envs/gt/lib/python3.12/site-packages/pandas/core/indexes/base.py:3805\u001b[0m, in \u001b[0;36mIndex.get_loc\u001b[0;34m(self, key)\u001b[0m\n\u001b[1;32m   3804\u001b[0m \u001b[38;5;28;01mtry\u001b[39;00m:\n\u001b[0;32m-> 3805\u001b[0m     \u001b[38;5;28;01mreturn\u001b[39;00m \u001b[38;5;28mself\u001b[39m\u001b[38;5;241m.\u001b[39m_engine\u001b[38;5;241m.\u001b[39mget_loc(casted_key)\n\u001b[1;32m   3806\u001b[0m \u001b[38;5;28;01mexcept\u001b[39;00m \u001b[38;5;167;01mKeyError\u001b[39;00m \u001b[38;5;28;01mas\u001b[39;00m err:\n",
      "File \u001b[0;32mindex.pyx:167\u001b[0m, in \u001b[0;36mpandas._libs.index.IndexEngine.get_loc\u001b[0;34m()\u001b[0m\n",
      "File \u001b[0;32mindex.pyx:196\u001b[0m, in \u001b[0;36mpandas._libs.index.IndexEngine.get_loc\u001b[0;34m()\u001b[0m\n",
      "File \u001b[0;32mpandas/_libs/hashtable_class_helper.pxi:7081\u001b[0m, in \u001b[0;36mpandas._libs.hashtable.PyObjectHashTable.get_item\u001b[0;34m()\u001b[0m\n",
      "File \u001b[0;32mpandas/_libs/hashtable_class_helper.pxi:7089\u001b[0m, in \u001b[0;36mpandas._libs.hashtable.PyObjectHashTable.get_item\u001b[0;34m()\u001b[0m\n",
      "\u001b[0;31mKeyError\u001b[0m: 'set_num'",
      "\nThe above exception was the direct cause of the following exception:\n",
      "\u001b[0;31mKeyError\u001b[0m                                  Traceback (most recent call last)",
      "Cell \u001b[0;32mIn[44], line 1\u001b[0m\n\u001b[0;32m----> 1\u001b[0m inventory_parts[inventory_parts[\u001b[38;5;124m'\u001b[39m\u001b[38;5;124mset_num\u001b[39m\u001b[38;5;124m'\u001b[39m] \u001b[38;5;241m==\u001b[39m \u001b[38;5;124m'\u001b[39m\u001b[38;5;124m0012-1\u001b[39m\u001b[38;5;124m'\u001b[39m]\n",
      "File \u001b[0;32m~/miniconda3/envs/gt/lib/python3.12/site-packages/pandas/core/frame.py:4102\u001b[0m, in \u001b[0;36mDataFrame.__getitem__\u001b[0;34m(self, key)\u001b[0m\n\u001b[1;32m   4100\u001b[0m \u001b[38;5;28;01mif\u001b[39;00m \u001b[38;5;28mself\u001b[39m\u001b[38;5;241m.\u001b[39mcolumns\u001b[38;5;241m.\u001b[39mnlevels \u001b[38;5;241m>\u001b[39m \u001b[38;5;241m1\u001b[39m:\n\u001b[1;32m   4101\u001b[0m     \u001b[38;5;28;01mreturn\u001b[39;00m \u001b[38;5;28mself\u001b[39m\u001b[38;5;241m.\u001b[39m_getitem_multilevel(key)\n\u001b[0;32m-> 4102\u001b[0m indexer \u001b[38;5;241m=\u001b[39m \u001b[38;5;28mself\u001b[39m\u001b[38;5;241m.\u001b[39mcolumns\u001b[38;5;241m.\u001b[39mget_loc(key)\n\u001b[1;32m   4103\u001b[0m \u001b[38;5;28;01mif\u001b[39;00m is_integer(indexer):\n\u001b[1;32m   4104\u001b[0m     indexer \u001b[38;5;241m=\u001b[39m [indexer]\n",
      "File \u001b[0;32m~/miniconda3/envs/gt/lib/python3.12/site-packages/pandas/core/indexes/base.py:3812\u001b[0m, in \u001b[0;36mIndex.get_loc\u001b[0;34m(self, key)\u001b[0m\n\u001b[1;32m   3807\u001b[0m     \u001b[38;5;28;01mif\u001b[39;00m \u001b[38;5;28misinstance\u001b[39m(casted_key, \u001b[38;5;28mslice\u001b[39m) \u001b[38;5;129;01mor\u001b[39;00m (\n\u001b[1;32m   3808\u001b[0m         \u001b[38;5;28misinstance\u001b[39m(casted_key, abc\u001b[38;5;241m.\u001b[39mIterable)\n\u001b[1;32m   3809\u001b[0m         \u001b[38;5;129;01mand\u001b[39;00m \u001b[38;5;28many\u001b[39m(\u001b[38;5;28misinstance\u001b[39m(x, \u001b[38;5;28mslice\u001b[39m) \u001b[38;5;28;01mfor\u001b[39;00m x \u001b[38;5;129;01min\u001b[39;00m casted_key)\n\u001b[1;32m   3810\u001b[0m     ):\n\u001b[1;32m   3811\u001b[0m         \u001b[38;5;28;01mraise\u001b[39;00m InvalidIndexError(key)\n\u001b[0;32m-> 3812\u001b[0m     \u001b[38;5;28;01mraise\u001b[39;00m \u001b[38;5;167;01mKeyError\u001b[39;00m(key) \u001b[38;5;28;01mfrom\u001b[39;00m \u001b[38;5;21;01merr\u001b[39;00m\n\u001b[1;32m   3813\u001b[0m \u001b[38;5;28;01mexcept\u001b[39;00m \u001b[38;5;167;01mTypeError\u001b[39;00m:\n\u001b[1;32m   3814\u001b[0m     \u001b[38;5;66;03m# If we have a listlike key, _check_indexing_error will raise\u001b[39;00m\n\u001b[1;32m   3815\u001b[0m     \u001b[38;5;66;03m#  InvalidIndexError. Otherwise we fall through and re-raise\u001b[39;00m\n\u001b[1;32m   3816\u001b[0m     \u001b[38;5;66;03m#  the TypeError.\u001b[39;00m\n\u001b[1;32m   3817\u001b[0m     \u001b[38;5;28mself\u001b[39m\u001b[38;5;241m.\u001b[39m_check_indexing_error(key)\n",
      "\u001b[0;31mKeyError\u001b[0m: 'set_num'"
     ]
    }
   ],
   "source": [
    "inventory_parts[inventory_parts['set_num'] == '0012-1']"
   ]
  },
  {
   "cell_type": "code",
   "execution_count": 52,
   "id": "ae5e0660-6182-4f41-ad24-06cce67915c7",
   "metadata": {},
   "outputs": [
    {
     "ename": "SyntaxError",
     "evalue": "leading zeros in decimal integer literals are not permitted; use an 0o prefix for octal integers (469294042.py, line 1)",
     "output_type": "error",
     "traceback": [
      "\u001b[0;36m  Cell \u001b[0;32mIn[52], line 1\u001b[0;36m\u001b[0m\n\u001b[0;31m    inventory_sets[inventory_sets['set_num'] == 00121]\u001b[0m\n\u001b[0m                                                ^\u001b[0m\n\u001b[0;31mSyntaxError\u001b[0m\u001b[0;31m:\u001b[0m leading zeros in decimal integer literals are not permitted; use an 0o prefix for octal integers\n"
     ]
    }
   ],
   "source": [
    "inventory_sets[inventory_sets['set_num'] == 00121]"
   ]
  },
  {
   "cell_type": "code",
   "execution_count": 63,
   "id": "8e7b20cc-b6fd-4b01-be46-c00606354bdd",
   "metadata": {},
   "outputs": [],
   "source": [
    "def extract_sizes(name):\n",
    "    match = re.search(r'(\\d+)\\s*[xX]\\s*(\\d+)(?:\\s*[xX]\\s*(\\d+))?', name)\n",
    "    if match:\n",
    "        x, y, z = match.groups()\n",
    "        return int(x), int(y), int(z) if z else 1  # Default z to 1\n",
    "    return None, None, None "
   ]
  },
  {
   "cell_type": "code",
   "execution_count": 65,
   "id": "d4dfb12d-9844-4f83-adff-45e35b3ef138",
   "metadata": {},
   "outputs": [],
   "source": [
    "parts[['x','y','z']] = parts['name'].apply(lambda name: pd.Series(extract_sizes(name)))"
   ]
  },
  {
   "cell_type": "code",
   "execution_count": 69,
   "id": "e6a5e216-ccff-4969-b7ce-0fe0dd050503",
   "metadata": {},
   "outputs": [
    {
     "data": {
      "text/html": [
       "<div>\n",
       "<style scoped>\n",
       "    .dataframe tbody tr th:only-of-type {\n",
       "        vertical-align: middle;\n",
       "    }\n",
       "\n",
       "    .dataframe tbody tr th {\n",
       "        vertical-align: top;\n",
       "    }\n",
       "\n",
       "    .dataframe thead th {\n",
       "        text-align: right;\n",
       "    }\n",
       "</style>\n",
       "<table border=\"1\" class=\"dataframe\">\n",
       "  <thead>\n",
       "    <tr style=\"text-align: right;\">\n",
       "      <th></th>\n",
       "      <th>part_num</th>\n",
       "      <th>name</th>\n",
       "      <th>part_cat_id</th>\n",
       "      <th>part_material</th>\n",
       "      <th>x</th>\n",
       "      <th>y</th>\n",
       "      <th>z</th>\n",
       "    </tr>\n",
       "  </thead>\n",
       "  <tbody>\n",
       "    <tr>\n",
       "      <th>1421</th>\n",
       "      <td>102216</td>\n",
       "      <td>Boat 20 x 50 x 7 with Deck [Complete Assembly]</td>\n",
       "      <td>35</td>\n",
       "      <td>Plastic</td>\n",
       "      <td>20.0</td>\n",
       "      <td>50.0</td>\n",
       "      <td>7.0</td>\n",
       "    </tr>\n",
       "    <tr>\n",
       "      <th>3261</th>\n",
       "      <td>125c01</td>\n",
       "      <td>Boat 24 x 6 x 3 [Complete Assembly]</td>\n",
       "      <td>35</td>\n",
       "      <td>Plastic</td>\n",
       "      <td>24.0</td>\n",
       "      <td>6.0</td>\n",
       "      <td>3.0</td>\n",
       "    </tr>\n",
       "    <tr>\n",
       "      <th>4611</th>\n",
       "      <td>15540</td>\n",
       "      <td>Helicopter Landing Ski 1 x 6 with Pin Hole</td>\n",
       "      <td>35</td>\n",
       "      <td>Plastic</td>\n",
       "      <td>1.0</td>\n",
       "      <td>6.0</td>\n",
       "      <td>1.0</td>\n",
       "    </tr>\n",
       "    <tr>\n",
       "      <th>4806</th>\n",
       "      <td>15790</td>\n",
       "      <td>Propeller 3 Blade 9 Diameter with Recessed Center</td>\n",
       "      <td>35</td>\n",
       "      <td>Plastic</td>\n",
       "      <td>NaN</td>\n",
       "      <td>NaN</td>\n",
       "      <td>NaN</td>\n",
       "    </tr>\n",
       "    <tr>\n",
       "      <th>5028</th>\n",
       "      <td>164c01</td>\n",
       "      <td>Boat Hull Section, Stern 6 x 6 x 3 1/3 with Li...</td>\n",
       "      <td>35</td>\n",
       "      <td>Plastic</td>\n",
       "      <td>6.0</td>\n",
       "      <td>6.0</td>\n",
       "      <td>3.0</td>\n",
       "    </tr>\n",
       "    <tr>\n",
       "      <th>...</th>\n",
       "      <td>...</td>\n",
       "      <td>...</td>\n",
       "      <td>...</td>\n",
       "      <td>...</td>\n",
       "      <td>...</td>\n",
       "      <td>...</td>\n",
       "      <td>...</td>\n",
       "    </tr>\n",
       "    <tr>\n",
       "      <th>56658</th>\n",
       "      <td>upn0101pr0001</td>\n",
       "      <td>Tail Vintage with Sterling Print</td>\n",
       "      <td>35</td>\n",
       "      <td>Plastic</td>\n",
       "      <td>NaN</td>\n",
       "      <td>NaN</td>\n",
       "      <td>NaN</td>\n",
       "    </tr>\n",
       "    <tr>\n",
       "      <th>56816</th>\n",
       "      <td>upn0206</td>\n",
       "      <td>Boat, Keel Weighted 8 x 2 x 4</td>\n",
       "      <td>35</td>\n",
       "      <td>Plastic</td>\n",
       "      <td>8.0</td>\n",
       "      <td>2.0</td>\n",
       "      <td>4.0</td>\n",
       "    </tr>\n",
       "    <tr>\n",
       "      <th>56817</th>\n",
       "      <td>upn0206a</td>\n",
       "      <td>Boat, Keel Weighted 8 x 2 x 4 without Bottom Tab</td>\n",
       "      <td>35</td>\n",
       "      <td>Plastic</td>\n",
       "      <td>8.0</td>\n",
       "      <td>2.0</td>\n",
       "      <td>4.0</td>\n",
       "    </tr>\n",
       "    <tr>\n",
       "      <th>56936</th>\n",
       "      <td>upn0307c01</td>\n",
       "      <td>Boat Hull Section, Middle 12 x 6 x 3 1/3, Deck...</td>\n",
       "      <td>35</td>\n",
       "      <td>Plastic</td>\n",
       "      <td>12.0</td>\n",
       "      <td>6.0</td>\n",
       "      <td>3.0</td>\n",
       "    </tr>\n",
       "    <tr>\n",
       "      <th>57017</th>\n",
       "      <td>upn0385c01</td>\n",
       "      <td>Boat 52 x 12 x 6 1/3 [Complete Assembly]</td>\n",
       "      <td>35</td>\n",
       "      <td>Plastic</td>\n",
       "      <td>52.0</td>\n",
       "      <td>12.0</td>\n",
       "      <td>6.0</td>\n",
       "    </tr>\n",
       "  </tbody>\n",
       "</table>\n",
       "<p>259 rows × 7 columns</p>\n",
       "</div>"
      ],
      "text/plain": [
       "            part_num                                               name  \\\n",
       "1421          102216     Boat 20 x 50 x 7 with Deck [Complete Assembly]   \n",
       "3261          125c01                Boat 24 x 6 x 3 [Complete Assembly]   \n",
       "4611           15540         Helicopter Landing Ski 1 x 6 with Pin Hole   \n",
       "4806           15790  Propeller 3 Blade 9 Diameter with Recessed Center   \n",
       "5028          164c01  Boat Hull Section, Stern 6 x 6 x 3 1/3 with Li...   \n",
       "...              ...                                                ...   \n",
       "56658  upn0101pr0001                   Tail Vintage with Sterling Print   \n",
       "56816        upn0206                      Boat, Keel Weighted 8 x 2 x 4   \n",
       "56817       upn0206a   Boat, Keel Weighted 8 x 2 x 4 without Bottom Tab   \n",
       "56936     upn0307c01  Boat Hull Section, Middle 12 x 6 x 3 1/3, Deck...   \n",
       "57017     upn0385c01           Boat 52 x 12 x 6 1/3 [Complete Assembly]   \n",
       "\n",
       "       part_cat_id part_material     x     y    z  \n",
       "1421            35       Plastic  20.0  50.0  7.0  \n",
       "3261            35       Plastic  24.0   6.0  3.0  \n",
       "4611            35       Plastic   1.0   6.0  1.0  \n",
       "4806            35       Plastic   NaN   NaN  NaN  \n",
       "5028            35       Plastic   6.0   6.0  3.0  \n",
       "...            ...           ...   ...   ...  ...  \n",
       "56658           35       Plastic   NaN   NaN  NaN  \n",
       "56816           35       Plastic   8.0   2.0  4.0  \n",
       "56817           35       Plastic   8.0   2.0  4.0  \n",
       "56936           35       Plastic  12.0   6.0  3.0  \n",
       "57017           35       Plastic  52.0  12.0  6.0  \n",
       "\n",
       "[259 rows x 7 columns]"
      ]
     },
     "execution_count": 69,
     "metadata": {},
     "output_type": "execute_result"
    }
   ],
   "source": [
    "parts[parts['part_cat_id'] == 35]"
   ]
  },
  {
   "cell_type": "code",
   "execution_count": 68,
   "id": "fec9b68f-8872-4fb5-a876-da74953ddc24",
   "metadata": {},
   "outputs": [
    {
     "data": {
      "text/plain": [
       "0        NaN\n",
       "1        NaN\n",
       "2        NaN\n",
       "3        NaN\n",
       "4        NaN\n",
       "        ... \n",
       "57225    NaN\n",
       "57226    NaN\n",
       "57227    NaN\n",
       "57228    NaN\n",
       "57229    3.0\n",
       "Name: x, Length: 57230, dtype: float64"
      ]
     },
     "execution_count": 68,
     "metadata": {},
     "output_type": "execute_result"
    }
   ],
   "source": [
    "parts['x']"
   ]
  },
  {
   "cell_type": "code",
   "execution_count": null,
   "id": "f125d5b3-e931-43a5-bc16-6433c8c4952d",
   "metadata": {},
   "outputs": [],
   "source": []
  }
 ],
 "metadata": {
  "kernelspec": {
   "display_name": "Python 3 (ipykernel)",
   "language": "python",
   "name": "python3"
  },
  "language_info": {
   "codemirror_mode": {
    "name": "ipython",
    "version": 3
   },
   "file_extension": ".py",
   "mimetype": "text/x-python",
   "name": "python",
   "nbconvert_exporter": "python",
   "pygments_lexer": "ipython3",
   "version": "3.12.5"
  }
 },
 "nbformat": 4,
 "nbformat_minor": 5
}
