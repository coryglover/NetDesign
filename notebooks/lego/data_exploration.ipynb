{
 "cells": [
  {
   "cell_type": "code",
   "execution_count": 2,
   "id": "350c04c3-9a00-49cf-980f-65de8e25b637",
   "metadata": {},
   "outputs": [],
   "source": [
    "import pandas as pd\n",
    "import matplotlib.pyplot as plot\n",
    "import numpy as np\n",
    "import os\n",
    "import re"
   ]
  },
  {
   "cell_type": "code",
   "execution_count": 3,
   "id": "498c6754-aa0a-4dfa-ad82-e9d2a5ad0c29",
   "metadata": {},
   "outputs": [],
   "source": [
    "# Read in files\n",
    "files = os.listdir('/work/ccnr/glover.co/net_design/NetDesign/data/lego/')"
   ]
  },
  {
   "cell_type": "code",
   "execution_count": 4,
   "id": "f11b486c-3d1d-4a38-bd2e-f236c24a6e84",
   "metadata": {
    "scrolled": true
   },
   "outputs": [],
   "source": [
    "colors = pd.read_csv(f'/work/ccnr/glover.co/net_design/NetDesign/data/lego/colors.csv',delimiter=',')\n",
    "elements = pd.read_csv(f'/work/ccnr/glover.co/net_design/NetDesign/data/lego/elements.csv',delimiter=',')\n",
    "inventories = pd.read_csv(f'/work/ccnr/glover.co/net_design/NetDesign/data/lego/inventories.csv',delimiter=',')\n",
    "inventory_minifigs = pd.read_csv(f'/work/ccnr/glover.co/net_design/NetDesign/data/lego/inventory_minifigs.csv',delimiter=',')\n",
    "inventory_parts = pd.read_csv(f'/work/ccnr/glover.co/net_design/NetDesign/data/lego/inventory_parts.csv',delimiter=',')\n",
    "inventory_sets = pd.read_csv(f'/work/ccnr/glover.co/net_design/NetDesign/data/lego/inventory_sets.csv',delimiter=',')\n",
    "minifigs = pd.read_csv(f'/work/ccnr/glover.co/net_design/NetDesign/data/lego/minifigs.csv',delimiter=',')\n",
    "part_categories = pd.read_csv(f'/work/ccnr/glover.co/net_design/NetDesign/data/lego/part_categories.csv',delimiter=',')\n",
    "part_relationships = pd.read_csv(f'/work/ccnr/glover.co/net_design/NetDesign/data/lego/part_relationships.csv',delimiter=',')\n",
    "parts = pd.read_csv(f'/work/ccnr/glover.co/net_design/NetDesign/data/lego/parts.csv',delimiter=',')\n",
    "sets = pd.read_csv(f'/work/ccnr/glover.co/net_design/NetDesign/data/lego/sets.csv',delimiter=',')\n",
    "themes = pd.read_csv(f'/work/ccnr/glover.co/net_design/NetDesign/data/lego/themes.csv',delimiter=',')"
   ]
  },
  {
   "cell_type": "code",
   "execution_count": 4,
   "id": "78a89864-e4b4-497c-8258-dadfb0d51dd0",
   "metadata": {},
   "outputs": [
    {
     "ename": "KeyError",
     "evalue": "'set_num'",
     "output_type": "error",
     "traceback": [
      "\u001b[0;31m---------------------------------------------------------------------------\u001b[0m",
      "\u001b[0;31mKeyError\u001b[0m                                  Traceback (most recent call last)",
      "File \u001b[0;32m~/miniconda3/envs/gt/lib/python3.12/site-packages/pandas/core/indexes/base.py:3805\u001b[0m, in \u001b[0;36mIndex.get_loc\u001b[0;34m(self, key)\u001b[0m\n\u001b[1;32m   3804\u001b[0m \u001b[38;5;28;01mtry\u001b[39;00m:\n\u001b[0;32m-> 3805\u001b[0m     \u001b[38;5;28;01mreturn\u001b[39;00m \u001b[38;5;28mself\u001b[39m\u001b[38;5;241m.\u001b[39m_engine\u001b[38;5;241m.\u001b[39mget_loc(casted_key)\n\u001b[1;32m   3806\u001b[0m \u001b[38;5;28;01mexcept\u001b[39;00m \u001b[38;5;167;01mKeyError\u001b[39;00m \u001b[38;5;28;01mas\u001b[39;00m err:\n",
      "File \u001b[0;32mindex.pyx:167\u001b[0m, in \u001b[0;36mpandas._libs.index.IndexEngine.get_loc\u001b[0;34m()\u001b[0m\n",
      "File \u001b[0;32mindex.pyx:196\u001b[0m, in \u001b[0;36mpandas._libs.index.IndexEngine.get_loc\u001b[0;34m()\u001b[0m\n",
      "File \u001b[0;32mpandas/_libs/hashtable_class_helper.pxi:7081\u001b[0m, in \u001b[0;36mpandas._libs.hashtable.PyObjectHashTable.get_item\u001b[0;34m()\u001b[0m\n",
      "File \u001b[0;32mpandas/_libs/hashtable_class_helper.pxi:7089\u001b[0m, in \u001b[0;36mpandas._libs.hashtable.PyObjectHashTable.get_item\u001b[0;34m()\u001b[0m\n",
      "\u001b[0;31mKeyError\u001b[0m: 'set_num'",
      "\nThe above exception was the direct cause of the following exception:\n",
      "\u001b[0;31mKeyError\u001b[0m                                  Traceback (most recent call last)",
      "Cell \u001b[0;32mIn[4], line 1\u001b[0m\n\u001b[0;32m----> 1\u001b[0m inventory_parts[inventory_parts[\u001b[38;5;124m'\u001b[39m\u001b[38;5;124mset_num\u001b[39m\u001b[38;5;124m'\u001b[39m] \u001b[38;5;241m==\u001b[39m \u001b[38;5;124m'\u001b[39m\u001b[38;5;124m0012-1\u001b[39m\u001b[38;5;124m'\u001b[39m]\n",
      "File \u001b[0;32m~/miniconda3/envs/gt/lib/python3.12/site-packages/pandas/core/frame.py:4102\u001b[0m, in \u001b[0;36mDataFrame.__getitem__\u001b[0;34m(self, key)\u001b[0m\n\u001b[1;32m   4100\u001b[0m \u001b[38;5;28;01mif\u001b[39;00m \u001b[38;5;28mself\u001b[39m\u001b[38;5;241m.\u001b[39mcolumns\u001b[38;5;241m.\u001b[39mnlevels \u001b[38;5;241m>\u001b[39m \u001b[38;5;241m1\u001b[39m:\n\u001b[1;32m   4101\u001b[0m     \u001b[38;5;28;01mreturn\u001b[39;00m \u001b[38;5;28mself\u001b[39m\u001b[38;5;241m.\u001b[39m_getitem_multilevel(key)\n\u001b[0;32m-> 4102\u001b[0m indexer \u001b[38;5;241m=\u001b[39m \u001b[38;5;28mself\u001b[39m\u001b[38;5;241m.\u001b[39mcolumns\u001b[38;5;241m.\u001b[39mget_loc(key)\n\u001b[1;32m   4103\u001b[0m \u001b[38;5;28;01mif\u001b[39;00m is_integer(indexer):\n\u001b[1;32m   4104\u001b[0m     indexer \u001b[38;5;241m=\u001b[39m [indexer]\n",
      "File \u001b[0;32m~/miniconda3/envs/gt/lib/python3.12/site-packages/pandas/core/indexes/base.py:3812\u001b[0m, in \u001b[0;36mIndex.get_loc\u001b[0;34m(self, key)\u001b[0m\n\u001b[1;32m   3807\u001b[0m     \u001b[38;5;28;01mif\u001b[39;00m \u001b[38;5;28misinstance\u001b[39m(casted_key, \u001b[38;5;28mslice\u001b[39m) \u001b[38;5;129;01mor\u001b[39;00m (\n\u001b[1;32m   3808\u001b[0m         \u001b[38;5;28misinstance\u001b[39m(casted_key, abc\u001b[38;5;241m.\u001b[39mIterable)\n\u001b[1;32m   3809\u001b[0m         \u001b[38;5;129;01mand\u001b[39;00m \u001b[38;5;28many\u001b[39m(\u001b[38;5;28misinstance\u001b[39m(x, \u001b[38;5;28mslice\u001b[39m) \u001b[38;5;28;01mfor\u001b[39;00m x \u001b[38;5;129;01min\u001b[39;00m casted_key)\n\u001b[1;32m   3810\u001b[0m     ):\n\u001b[1;32m   3811\u001b[0m         \u001b[38;5;28;01mraise\u001b[39;00m InvalidIndexError(key)\n\u001b[0;32m-> 3812\u001b[0m     \u001b[38;5;28;01mraise\u001b[39;00m \u001b[38;5;167;01mKeyError\u001b[39;00m(key) \u001b[38;5;28;01mfrom\u001b[39;00m \u001b[38;5;21;01merr\u001b[39;00m\n\u001b[1;32m   3813\u001b[0m \u001b[38;5;28;01mexcept\u001b[39;00m \u001b[38;5;167;01mTypeError\u001b[39;00m:\n\u001b[1;32m   3814\u001b[0m     \u001b[38;5;66;03m# If we have a listlike key, _check_indexing_error will raise\u001b[39;00m\n\u001b[1;32m   3815\u001b[0m     \u001b[38;5;66;03m#  InvalidIndexError. Otherwise we fall through and re-raise\u001b[39;00m\n\u001b[1;32m   3816\u001b[0m     \u001b[38;5;66;03m#  the TypeError.\u001b[39;00m\n\u001b[1;32m   3817\u001b[0m     \u001b[38;5;28mself\u001b[39m\u001b[38;5;241m.\u001b[39m_check_indexing_error(key)\n",
      "\u001b[0;31mKeyError\u001b[0m: 'set_num'"
     ]
    }
   ],
   "source": [
    "inventory_parts[inventory_parts['set_num'] == '0012-1']"
   ]
  },
  {
   "cell_type": "code",
   "execution_count": 52,
   "id": "ae5e0660-6182-4f41-ad24-06cce67915c7",
   "metadata": {},
   "outputs": [
    {
     "ename": "SyntaxError",
     "evalue": "leading zeros in decimal integer literals are not permitted; use an 0o prefix for octal integers (469294042.py, line 1)",
     "output_type": "error",
     "traceback": [
      "\u001b[0;36m  Cell \u001b[0;32mIn[52], line 1\u001b[0;36m\u001b[0m\n\u001b[0;31m    inventory_sets[inventory_sets['set_num'] == 00121]\u001b[0m\n\u001b[0m                                                ^\u001b[0m\n\u001b[0;31mSyntaxError\u001b[0m\u001b[0;31m:\u001b[0m leading zeros in decimal integer literals are not permitted; use an 0o prefix for octal integers\n"
     ]
    }
   ],
   "source": [
    "inventory_sets[inventory_sets['set_num'] == 00121]"
   ]
  },
  {
   "cell_type": "code",
   "execution_count": 5,
   "id": "8e7b20cc-b6fd-4b01-be46-c00606354bdd",
   "metadata": {},
   "outputs": [],
   "source": [
    "def extract_sizes(name):\n",
    "    match = re.search(r'(\\d+)\\s*[xX]\\s*(\\d+)(?:\\s*[xX]\\s*(\\d+))?', name)\n",
    "    if match:\n",
    "        x, y, z = match.groups()\n",
    "        return int(x), int(y), int(z) if z else 1  # Default z to 1\n",
    "    return None, None, None "
   ]
  },
  {
   "cell_type": "code",
   "execution_count": 6,
   "id": "d4dfb12d-9844-4f83-adff-45e35b3ef138",
   "metadata": {},
   "outputs": [],
   "source": [
    "parts[['x','y','z']] = parts['name'].apply(lambda name: pd.Series(extract_sizes(name)))"
   ]
  },
  {
   "cell_type": "code",
   "execution_count": 7,
   "id": "e6a5e216-ccff-4969-b7ce-0fe0dd050503",
   "metadata": {},
   "outputs": [],
   "source": [
    "parts_list = parts.dropna(axis=0)\n"
   ]
  },
  {
   "cell_type": "code",
   "execution_count": 11,
   "id": "f9409b8d-e293-47eb-8b4e-8922bfba36dd",
   "metadata": {},
   "outputs": [
    {
     "data": {
      "text/plain": [
       "(57230, 18590)"
      ]
     },
     "execution_count": 11,
     "metadata": {},
     "output_type": "execute_result"
    }
   ],
   "source": [
    "len(parts), len(parts_list)"
   ]
  },
  {
   "cell_type": "code",
   "execution_count": 12,
   "id": "07fbfb46-f41a-4c16-b73f-b9ade361f0bd",
   "metadata": {},
   "outputs": [
    {
     "data": {
      "text/plain": [
       "24733"
      ]
     },
     "execution_count": 12,
     "metadata": {},
     "output_type": "execute_result"
    }
   ],
   "source": [
    "len(sets)"
   ]
  },
  {
   "cell_type": "code",
   "execution_count": 8,
   "id": "fec9b68f-8872-4fb5-a876-da74953ddc24",
   "metadata": {},
   "outputs": [],
   "source": [
    "parts_list_repeated = parts_list.loc[parts_list.index.repeat(len(colors))].reset_index(drop=True)"
   ]
  },
  {
   "cell_type": "code",
   "execution_count": 9,
   "id": "ec2a2389-b20e-4cdc-a061-717513e77d42",
   "metadata": {},
   "outputs": [],
   "source": [
    "parts_list_repeated['color_id'] = np.tile(np.array(colors['id']),reps = len(parts_list))"
   ]
  },
  {
   "cell_type": "code",
   "execution_count": 10,
   "id": "f125d5b3-e931-43a5-bc16-6433c8c4952d",
   "metadata": {},
   "outputs": [],
   "source": [
    "brick_list = parts_list_repeated[parts_list_repeated['part_cat_id'] == 11]\n",
    "brick_list_csv = pd.DataFrame(columns=['part','color','quantity'])\n",
    "brick_list_csv['part'] = brick_list['part_num']\n",
    "brick_list_csv['color'] = brick_list['color_id']\n",
    "brick_list_csv['quantity'] = 100"
   ]
  },
  {
   "cell_type": "code",
   "execution_count": 81,
   "id": "eac73327-adc7-4039-ab9b-668bde7d9454",
   "metadata": {},
   "outputs": [],
   "source": [
    "brick_list_csv.to_csv('../../data/lego/ccnr_brick_list.csv',index=False)"
   ]
  },
  {
   "cell_type": "code",
   "execution_count": 74,
   "id": "3ac2139a-2f53-40d9-b56b-9500bed87e65",
   "metadata": {},
   "outputs": [],
   "source": [
    "part_list_csv = pd.DataFrame(columns=['part','color','quantity'])"
   ]
  },
  {
   "cell_type": "code",
   "execution_count": 75,
   "id": "fc7dff56-e986-4f08-b5d7-37695026413d",
   "metadata": {},
   "outputs": [],
   "source": [
    "part_list_csv['part'] = parts_list_repeated['part_num']\n",
    "part_list_csv['color'] = parts_list_repeated['color_id']\n",
    "part_list_csv['quantity'] = 100\n"
   ]
  },
  {
   "cell_type": "code",
   "execution_count": 76,
   "id": "7ae0d9b9-699f-4c3c-8385-91b2a2c11b8a",
   "metadata": {},
   "outputs": [],
   "source": [
    "part_list_csv.iloc[:len(part_list_csv)].to_csv('../../data/lego/ccnr_part_list.csv',index=False)"
   ]
  },
  {
   "cell_type": "code",
   "execution_count": 56,
   "id": "90d5a707-7875-447d-a5d1-270d3e45bfea",
   "metadata": {},
   "outputs": [
    {
     "data": {
      "text/html": [
       "<div>\n",
       "<style scoped>\n",
       "    .dataframe tbody tr th:only-of-type {\n",
       "        vertical-align: middle;\n",
       "    }\n",
       "\n",
       "    .dataframe tbody tr th {\n",
       "        vertical-align: top;\n",
       "    }\n",
       "\n",
       "    .dataframe thead th {\n",
       "        text-align: right;\n",
       "    }\n",
       "</style>\n",
       "<table border=\"1\" class=\"dataframe\">\n",
       "  <thead>\n",
       "    <tr style=\"text-align: right;\">\n",
       "      <th></th>\n",
       "      <th>part</th>\n",
       "      <th>color</th>\n",
       "      <th>quantity</th>\n",
       "    </tr>\n",
       "  </thead>\n",
       "  <tbody>\n",
       "  </tbody>\n",
       "</table>\n",
       "</div>"
      ],
      "text/plain": [
       "Empty DataFrame\n",
       "Columns: [part, color, quantity]\n",
       "Index: []"
      ]
     },
     "execution_count": 56,
     "metadata": {},
     "output_type": "execute_result"
    }
   ],
   "source": [
    "part_list_csv[part_list_csv['part'] == 14716]"
   ]
  },
  {
   "cell_type": "code",
   "execution_count": 84,
   "id": "c5624b0c-10c9-427b-b181-c5a53eb91d54",
   "metadata": {},
   "outputs": [
    {
     "data": {
      "text/plain": [
       "41265"
      ]
     },
     "execution_count": 84,
     "metadata": {},
     "output_type": "execute_result"
    }
   ],
   "source": [
    "len(pd.unique(elements['part_num']))"
   ]
  },
  {
   "cell_type": "code",
   "execution_count": 85,
   "id": "878779d3-34fd-41dd-9dcc-2c6a42062eac",
   "metadata": {},
   "outputs": [
    {
     "data": {
      "text/plain": [
       "57230"
      ]
     },
     "execution_count": 85,
     "metadata": {},
     "output_type": "execute_result"
    }
   ],
   "source": [
    "len(parts)"
   ]
  },
  {
   "cell_type": "code",
   "execution_count": 11,
   "id": "e6ce623d-f9a4-474d-ba0f-139d983258ee",
   "metadata": {},
   "outputs": [
    {
     "data": {
      "text/html": [
       "<div>\n",
       "<style scoped>\n",
       "    .dataframe tbody tr th:only-of-type {\n",
       "        vertical-align: middle;\n",
       "    }\n",
       "\n",
       "    .dataframe tbody tr th {\n",
       "        vertical-align: top;\n",
       "    }\n",
       "\n",
       "    .dataframe thead th {\n",
       "        text-align: right;\n",
       "    }\n",
       "</style>\n",
       "<table border=\"1\" class=\"dataframe\">\n",
       "  <thead>\n",
       "    <tr style=\"text-align: right;\">\n",
       "      <th></th>\n",
       "      <th>part_num</th>\n",
       "      <th>name</th>\n",
       "      <th>part_cat_id</th>\n",
       "      <th>part_material</th>\n",
       "      <th>x</th>\n",
       "      <th>y</th>\n",
       "      <th>z</th>\n",
       "    </tr>\n",
       "  </thead>\n",
       "  <tbody>\n",
       "    <tr>\n",
       "      <th>0</th>\n",
       "      <td>003381</td>\n",
       "      <td>Sticker Sheet for Set 663-1</td>\n",
       "      <td>58</td>\n",
       "      <td>Plastic</td>\n",
       "      <td>NaN</td>\n",
       "      <td>NaN</td>\n",
       "      <td>NaN</td>\n",
       "    </tr>\n",
       "    <tr>\n",
       "      <th>1</th>\n",
       "      <td>003383</td>\n",
       "      <td>Sticker Sheet for Sets 618-1, 628-2</td>\n",
       "      <td>58</td>\n",
       "      <td>Plastic</td>\n",
       "      <td>NaN</td>\n",
       "      <td>NaN</td>\n",
       "      <td>NaN</td>\n",
       "    </tr>\n",
       "    <tr>\n",
       "      <th>2</th>\n",
       "      <td>003402</td>\n",
       "      <td>Sticker Sheet for Sets 310-3, 311-1, 312-3</td>\n",
       "      <td>58</td>\n",
       "      <td>Plastic</td>\n",
       "      <td>NaN</td>\n",
       "      <td>NaN</td>\n",
       "      <td>NaN</td>\n",
       "    </tr>\n",
       "    <tr>\n",
       "      <th>3</th>\n",
       "      <td>003429</td>\n",
       "      <td>Sticker Sheet for Set 1550-1</td>\n",
       "      <td>58</td>\n",
       "      <td>Plastic</td>\n",
       "      <td>NaN</td>\n",
       "      <td>NaN</td>\n",
       "      <td>NaN</td>\n",
       "    </tr>\n",
       "    <tr>\n",
       "      <th>4</th>\n",
       "      <td>003432</td>\n",
       "      <td>Sticker Sheet for Sets 357-1, 355-1, 940-1</td>\n",
       "      <td>58</td>\n",
       "      <td>Plastic</td>\n",
       "      <td>NaN</td>\n",
       "      <td>NaN</td>\n",
       "      <td>NaN</td>\n",
       "    </tr>\n",
       "    <tr>\n",
       "      <th>...</th>\n",
       "      <td>...</td>\n",
       "      <td>...</td>\n",
       "      <td>...</td>\n",
       "      <td>...</td>\n",
       "      <td>...</td>\n",
       "      <td>...</td>\n",
       "      <td>...</td>\n",
       "    </tr>\n",
       "    <tr>\n",
       "      <th>57225</th>\n",
       "      <td>upn9999pr0001</td>\n",
       "      <td>Duplo Figure with Short Hair Dark Brown, with ...</td>\n",
       "      <td>57</td>\n",
       "      <td>Plastic</td>\n",
       "      <td>NaN</td>\n",
       "      <td>NaN</td>\n",
       "      <td>NaN</td>\n",
       "    </tr>\n",
       "    <tr>\n",
       "      <th>57226</th>\n",
       "      <td>vladekmask</td>\n",
       "      <td>Play Gear, Mask, Hard Plastic, Knights Kingdom...</td>\n",
       "      <td>17</td>\n",
       "      <td>Plastic</td>\n",
       "      <td>NaN</td>\n",
       "      <td>NaN</td>\n",
       "      <td>NaN</td>\n",
       "    </tr>\n",
       "    <tr>\n",
       "      <th>57227</th>\n",
       "      <td>wood03</td>\n",
       "      <td>Storage Box, Wooden with Red Sliding Top</td>\n",
       "      <td>17</td>\n",
       "      <td>Plastic</td>\n",
       "      <td>NaN</td>\n",
       "      <td>NaN</td>\n",
       "      <td>NaN</td>\n",
       "    </tr>\n",
       "    <tr>\n",
       "      <th>57228</th>\n",
       "      <td>wood04</td>\n",
       "      <td>Storage Box, Wooden with Plain Sliding Top and...</td>\n",
       "      <td>17</td>\n",
       "      <td>Plastic</td>\n",
       "      <td>NaN</td>\n",
       "      <td>NaN</td>\n",
       "      <td>NaN</td>\n",
       "    </tr>\n",
       "    <tr>\n",
       "      <th>57229</th>\n",
       "      <td>znapupn0005</td>\n",
       "      <td>Znap Connector 3 x 3 - 4 way C (Closed)</td>\n",
       "      <td>43</td>\n",
       "      <td>Plastic</td>\n",
       "      <td>3.0</td>\n",
       "      <td>3.0</td>\n",
       "      <td>1.0</td>\n",
       "    </tr>\n",
       "  </tbody>\n",
       "</table>\n",
       "<p>57230 rows × 7 columns</p>\n",
       "</div>"
      ],
      "text/plain": [
       "            part_num                                               name  \\\n",
       "0             003381                        Sticker Sheet for Set 663-1   \n",
       "1             003383                Sticker Sheet for Sets 618-1, 628-2   \n",
       "2             003402         Sticker Sheet for Sets 310-3, 311-1, 312-3   \n",
       "3             003429                       Sticker Sheet for Set 1550-1   \n",
       "4             003432         Sticker Sheet for Sets 357-1, 355-1, 940-1   \n",
       "...              ...                                                ...   \n",
       "57225  upn9999pr0001  Duplo Figure with Short Hair Dark Brown, with ...   \n",
       "57226     vladekmask  Play Gear, Mask, Hard Plastic, Knights Kingdom...   \n",
       "57227         wood03           Storage Box, Wooden with Red Sliding Top   \n",
       "57228         wood04  Storage Box, Wooden with Plain Sliding Top and...   \n",
       "57229    znapupn0005            Znap Connector 3 x 3 - 4 way C (Closed)   \n",
       "\n",
       "       part_cat_id part_material    x    y    z  \n",
       "0               58       Plastic  NaN  NaN  NaN  \n",
       "1               58       Plastic  NaN  NaN  NaN  \n",
       "2               58       Plastic  NaN  NaN  NaN  \n",
       "3               58       Plastic  NaN  NaN  NaN  \n",
       "4               58       Plastic  NaN  NaN  NaN  \n",
       "...            ...           ...  ...  ...  ...  \n",
       "57225           57       Plastic  NaN  NaN  NaN  \n",
       "57226           17       Plastic  NaN  NaN  NaN  \n",
       "57227           17       Plastic  NaN  NaN  NaN  \n",
       "57228           17       Plastic  NaN  NaN  NaN  \n",
       "57229           43       Plastic  3.0  3.0  1.0  \n",
       "\n",
       "[57230 rows x 7 columns]"
      ]
     },
     "execution_count": 11,
     "metadata": {},
     "output_type": "execute_result"
    }
   ],
   "source": [
    "parts"
   ]
  },
  {
   "cell_type": "code",
   "execution_count": null,
   "id": "3e8fe0b9-71da-492f-9b5a-105282a039c0",
   "metadata": {},
   "outputs": [],
   "source": []
  }
 ],
 "metadata": {
  "kernelspec": {
   "display_name": "Python 3 (ipykernel)",
   "language": "python",
   "name": "python3"
  },
  "language_info": {
   "codemirror_mode": {
    "name": "ipython",
    "version": 3
   },
   "file_extension": ".py",
   "mimetype": "text/x-python",
   "name": "python",
   "nbconvert_exporter": "python",
   "pygments_lexer": "ipython3",
   "version": "3.12.5"
  }
 },
 "nbformat": 4,
 "nbformat_minor": 5
}
