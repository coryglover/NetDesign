{
 "cells": [
  {
   "cell_type": "code",
   "execution_count": 12,
   "metadata": {},
   "outputs": [],
   "source": [
    "import numpy as np\n",
    "import os\n",
    "import extract_lego_networks as eln\n",
    "import networkx as nx\n",
    "import sys\n",
    "sys.path.insert(0, '/Users/glover.co/Documents/laszlo/NetDesign')\n",
    "import network_design as nd"
   ]
  },
  {
   "cell_type": "code",
   "execution_count": 13,
   "metadata": {},
   "outputs": [],
   "source": [
    "# Get ldr files\n",
    "ldr_files = []\n",
    "root_path = '/Users/glover.co/Documents/laszlo/NetDesign/data/lego/mepnet_data/'\n",
    "classics = 'classics_lpub3d/'\n",
    "architecture = 'architecture_lpub3d/'\n",
    "synthetic = 'synthetic_test_lpub3d/'\n",
    "dirs = [classics, architecture, synthetic]\n",
    "names = []\n",
    "for d in dirs:\n",
    "    # Get model dirs\n",
    "    model_dirs = os.listdir(root_path + d)\n",
    "    for model in model_dirs:\n",
    "        if model == '.DS_Store':\n",
    "            continue\n",
    "        # Get ldr files\n",
    "        ldr_files.append(root_path + d + model + '/model.ldr')\n",
    "        names.append(d[:-1] + '_' + model)"
   ]
  },
  {
   "cell_type": "code",
   "execution_count": 10,
   "metadata": {},
   "outputs": [
    {
     "data": {
      "text/plain": [
       "array([[0., 0., 0., 1.],\n",
       "       [1., 0., 0., 0.],\n",
       "       [1., 0., 0., 0.],\n",
       "       [1., 0., 0., 0.],\n",
       "       [1., 0., 0., 0.],\n",
       "       [0., 1., 0., 0.],\n",
       "       [0., 1., 0., 0.],\n",
       "       [0., 0., 1., 0.],\n",
       "       [0., 0., 1., 0.],\n",
       "       [1., 0., 0., 0.],\n",
       "       [1., 0., 0., 0.],\n",
       "       [1., 0., 0., 0.],\n",
       "       [1., 0., 0., 0.],\n",
       "       [0., 0., 1., 0.],\n",
       "       [0., 0., 1., 0.]])"
      ]
     },
     "execution_count": 10,
     "metadata": {},
     "output_type": "execute_result"
    }
   ],
   "source": [
    "g, X = eln.create_lego_network(root_path+architecture+'000002/model.ldr',with_names=True)\n",
    "X"
   ]
  },
  {
   "cell_type": "code",
   "execution_count": 6,
   "metadata": {},
   "outputs": [
    {
     "data": {
      "text/plain": [
       "15"
      ]
     },
     "execution_count": 6,
     "metadata": {},
     "output_type": "execute_result"
    }
   ],
   "source": [
    "len(X)"
   ]
  },
  {
   "cell_type": "code",
   "execution_count": 14,
   "metadata": {},
   "outputs": [
    {
     "ename": "TypeError",
     "evalue": "unhashable type: 'numpy.ndarray'",
     "output_type": "error",
     "traceback": [
      "\u001b[0;31m---------------------------------------------------------------------------\u001b[0m",
      "\u001b[0;31mTypeError\u001b[0m                                 Traceback (most recent call last)",
      "Cell \u001b[0;32mIn[14], line 1\u001b[0m\n\u001b[0;32m----> 1\u001b[0m unique_names \u001b[38;5;241m=\u001b[39m \u001b[38;5;28mlist\u001b[39m(\u001b[38;5;28mset\u001b[39m(names)) \n\u001b[1;32m      2\u001b[0m num_unique_names \u001b[38;5;241m=\u001b[39m \u001b[38;5;28mlen\u001b[39m(unique_names)\n\u001b[1;32m      3\u001b[0m X \u001b[38;5;241m=\u001b[39m np\u001b[38;5;241m.\u001b[39mzeros((g\u001b[38;5;241m.\u001b[39mnumber_of_nodes(), num_unique_names))\n",
      "\u001b[0;31mTypeError\u001b[0m: unhashable type: 'numpy.ndarray'"
     ]
    }
   ],
   "source": [
    "unique_names = list(set(names)) \n",
    "num_unique_names = len(unique_names)\n",
    "X = np.zeros((g.number_of_nodes(), num_unique_names))\n",
    "for i in range(g.number_of_nodes()):\n",
    "    X[i, unique_names.index(names[i])] = 1\n",
    "# return G, X"
   ]
  },
  {
   "cell_type": "code",
   "execution_count": 15,
   "metadata": {},
   "outputs": [
    {
     "data": {
      "text/plain": [
       "(array([], dtype=float64),\n",
       " array([], dtype=float64),\n",
       " ((0, 0, 0), (0, 0, 0)),\n",
       " (0, 0, 0))"
      ]
     },
     "execution_count": 15,
     "metadata": {},
     "output_type": "execute_result"
    }
   ],
   "source": [
    "eln.read_dat('/Users/glover.co/Downloads/ldraw/parts/4073.dat')"
   ]
  },
  {
   "cell_type": "code",
   "execution_count": 7,
   "metadata": {},
   "outputs": [
    {
     "data": {
      "text/plain": [
       "'/Users/glover.co/Documents/laszlo/NetDesign/data/lego/mepnet_data/architecture_lpub3d/000002/model.ldr'"
      ]
     },
     "execution_count": 7,
     "metadata": {},
     "output_type": "execute_result"
    }
   ],
   "source": [
    "root_path+architecture+'000002/model.ldr'"
   ]
  },
  {
   "cell_type": "code",
   "execution_count": 8,
   "metadata": {},
   "outputs": [
    {
     "data": {
      "text/plain": [
       "array([[0., 0., 0., 1.],\n",
       "       [1., 0., 0., 0.],\n",
       "       [1., 0., 0., 0.],\n",
       "       [1., 0., 0., 0.],\n",
       "       [1., 0., 0., 0.],\n",
       "       [0., 1., 0., 0.],\n",
       "       [0., 1., 0., 0.],\n",
       "       [0., 0., 1., 0.],\n",
       "       [0., 0., 1., 0.],\n",
       "       [1., 0., 0., 0.],\n",
       "       [1., 0., 0., 0.],\n",
       "       [1., 0., 0., 0.],\n",
       "       [1., 0., 0., 0.],\n",
       "       [0., 0., 1., 0.],\n",
       "       [0., 0., 1., 0.]])"
      ]
     },
     "execution_count": 8,
     "metadata": {},
     "output_type": "execute_result"
    }
   ],
   "source": [
    "names"
   ]
  },
  {
   "cell_type": "code",
   "execution_count": 11,
   "metadata": {},
   "outputs": [],
   "source": [
    "graph_root = '/Users/glover.co/Documents/laszlo/NetDesign/data/lego/networks/'\n",
    "for name, file in zip(names,ldr_files):\n",
    "    g, X = eln.create_lego_network(file)\n",
    "    nx.write_edgelist(g, graph_root + 'g_' + name + '.txt')\n",
    "    np.savetxt(graph_root + 'X_' + name + '.txt', X)"
   ]
  },
  {
   "cell_type": "code",
   "execution_count": 21,
   "metadata": {},
   "outputs": [],
   "source": [
    "g = nx.read_edgelist(graph_root + 'g_classics_lpub3d_000017.txt')"
   ]
  },
  {
   "cell_type": "code",
   "execution_count": 22,
   "metadata": {},
   "outputs": [],
   "source": [
    "X = np.loadtxt(graph_root + 'X_classics_lpub3d_000017.txt')"
   ]
  },
  {
   "cell_type": "code",
   "execution_count": 23,
   "metadata": {},
   "outputs": [
    {
     "data": {
      "text/plain": [
       "['3003',\n",
       " '3660',\n",
       " '3660',\n",
       " '3003',\n",
       " '3003',\n",
       " '3004',\n",
       " '3005',\n",
       " '3005',\n",
       " '3004',\n",
       " '3001',\n",
       " '3005',\n",
       " '3005',\n",
       " '3040b',\n",
       " '3040b',\n",
       " '3004',\n",
       " '3040b',\n",
       " '3040b',\n",
       " '2877',\n",
       " '3003',\n",
       " '85984',\n",
       " '3665',\n",
       " '3040b',\n",
       " '3665',\n",
       " '60481',\n",
       " '2877',\n",
       " '2877',\n",
       " '2877',\n",
       " '2877',\n",
       " '2877',\n",
       " '3005',\n",
       " '3005',\n",
       " '3004',\n",
       " '3040b']"
      ]
     },
     "execution_count": 23,
     "metadata": {},
     "output_type": "execute_result"
    }
   ],
   "source": [
    "g, X = eln.create_lego_network(ldr_files[17])\n",
    "names"
   ]
  },
  {
   "cell_type": "code",
   "execution_count": 24,
   "metadata": {},
   "outputs": [],
   "source": [
    "names, positions, rotations = eln.read_ldr(ldr_files[17])"
   ]
  },
  {
   "cell_type": "code",
   "execution_count": 25,
   "metadata": {},
   "outputs": [],
   "source": [
    "brick_pos=(positions*-1)[:,:2]\n"
   ]
  },
  {
   "cell_type": "code",
   "execution_count": 26,
   "metadata": {},
   "outputs": [],
   "source": [
    "obj = nd.NetAssembly(X, nd.extract_O(g,X),X.sum(axis=0,dtype=int))"
   ]
  },
  {
   "cell_type": "code",
   "execution_count": 27,
   "metadata": {},
   "outputs": [],
   "source": [
    "obj.g = g"
   ]
  },
  {
   "cell_type": "code",
   "execution_count": 28,
   "metadata": {},
   "outputs": [
    {
     "data": {
      "image/png": "[encoded data removed]",
      "text/plain": [
       "<Figure size 500x500 with 1 Axes>"
      ]
     },
     "metadata": {},
     "output_type": "display_data"
    },
    {
     "ename": "",
     "evalue": "",
     "output_type": "error",
     "traceback": [
      "\u001b[1;31mThe Kernel crashed while executing code in the current cell or a previous cell. \n",
      "\u001b[1;31mPlease review the code in the cell(s) to identify a possible cause of the failure. \n",
      "\u001b[1;31mClick <a href='https://aka.ms/vscodeJupyterKernelCrash'>here</a> for more info. \n",
      "\u001b[1;31mView Jupyter <a href='command:jupyter.viewOutput'>log</a> for further details."
     ]
    }
   ],
   "source": [
    "obj.draw(with_networkx=True,pos=brick_pos)"
   ]
  },
  {
   "cell_type": "code",
   "execution_count": null,
   "metadata": {},
   "outputs": [],
   "source": []
  }
 ],
 "metadata": {
  "kernelspec": {
   "display_name": "base",
   "language": "python",
   "name": "python3"
  },
  "language_info": {
   "codemirror_mode": {
    "name": "ipython",
    "version": 3
   },
   "file_extension": ".py",
   "mimetype": "text/x-python",
   "name": "python",
   "nbconvert_exporter": "python",
   "pygments_lexer": "ipython3",
   "version": "3.11.7"
  }
 },
 "nbformat": 4,
 "nbformat_minor": 2
}
