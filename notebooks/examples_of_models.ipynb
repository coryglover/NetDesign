{
 "cells": [
  {
   "cell_type": "code",
   "execution_count": 1,
   "id": "fe9cc908-32b0-4c60-b4a0-a70672e698e3",
   "metadata": {},
   "outputs": [],
   "source": [
    "import network_design as nd\n",
    "import networkx as nx\n",
    "import scipy.linalg as la\n",
    "import matplotlib.pyplot as plt\n",
    "import numpy as np"
   ]
  },
  {
   "cell_type": "markdown",
   "id": "a9348af7-2ae0-4542-bddf-60b9a993ae8f",
   "metadata": {},
   "source": [
    "# Original Example\n",
    "\n",
    "2 particles, $\\theta_1$ and $\\theta_2$ with\n",
    "$$O=\\begin{pmatrix}2&2\\\\3&0\\end{pmatrix}.$$"
   ]
  },
  {
   "cell_type": "markdown",
   "id": "5df70476-3815-4604-8b2c-b2d91200a732",
   "metadata": {},
   "source": [
    "We want to understand the space of networks with these a small number of particles. We do this for both the microcanonical and canonical ensembles systematically."
   ]
  },
  {
   "cell_type": "markdown",
   "id": "b29518aa-4f97-482c-873b-1d25fda5de98",
   "metadata": {},
   "source": [
    "## Two Particles"
   ]
  },
  {
   "cell_type": "markdown",
   "id": "cc07bab9-bd2f-4f9d-b34f-e856ad50c324",
   "metadata": {},
   "source": [
    "### Directed Microcanonical Ensemble $\\theta_1=1$, $\\theta_2=1$"
   ]
  },
  {
   "cell_type": "markdown",
   "id": "130ff3ef-f849-42d3-a108-64bf2746aaf7",
   "metadata": {},
   "source": [
    "Then we have\n",
    "$$\\begin{align}\n",
    "W&=\\prod_{\\theta_i\\in\\theta_1,\\theta_2}\\left(\\prod_{\\theta_j\\in\\theta_1,\\theta_2}\\binom{N_j}{O_{\\theta_i\\theta_j}}\\right)^{N_i}\\\\\n",
    "&=\\left(\\binom{1}{2}\\right)^1\\left(\\binom{1}{1}\\right)^1\\left(\\binom{1}{3}\\right)^1\\\\\n",
    "&=1.\n",
    "\\end{align}$$"
   ]
  },
  {
   "cell_type": "markdown",
   "id": "6ead3ba6-da9b-4397-9b47-a3c4ee84334f",
   "metadata": {},
   "source": [
    "Thus there is only one possible network that can be created.\n",
    "Note that both $\\theta_1$ and $\\theta_2$ can connect to the other.\n",
    "So both nodes will have one directed edge towards the other.\n",
    "In the case of a multilink network, then there will be multiple directed edges from one node to the other."
   ]
  },
  {
   "cell_type": "markdown",
   "id": "00d488b5-2a0a-49d5-ad5c-e41be1da991a",
   "metadata": {},
   "source": [
    "### Undirected Microcanonical Ensemble $\\theta_1=1,\\theta_2=1$"
   ]
  },
  {
   "cell_type": "markdown",
   "id": "76c49533-cbd3-46f1-9700-6d5d24bf6df6",
   "metadata": {},
   "source": [
    "In this case we know that $r_{12}=\\min\\left\\{1(2),1(3)\\right\\}!=2$.\n",
    "Thus we know that \n",
    "$$\\begin{align}\n",
    "W&=\\binom{1}{2}=1.\n",
    "\\end{align}$$\n",
    "So we only have one possible undirected network."
   ]
  },
  {
   "cell_type": "markdown",
   "id": "c75e080b-aa3b-43f4-a443-e82ea1153bee",
   "metadata": {},
   "source": [
    "### Directed and Undirected Canonical Ensemble $\\theta_1=1, \\theta_2=1$."
   ]
  },
  {
   "cell_type": "markdown",
   "id": "898ed28b-9ceb-4cfc-9943-6c2b29922bfc",
   "metadata": {},
   "source": [
    "In this case we have that $p_{12}=1$ and $p_{21}=1$ so there is only one possible network that we get.\n",
    "The same result holds for the undirected case."
   ]
  },
  {
   "cell_type": "markdown",
   "id": "bda8174b-a87f-4c4d-b3ab-c55b72aac8e4",
   "metadata": {},
   "source": [
    "## Three particles"
   ]
  },
  {
   "cell_type": "markdown",
   "id": "9e9e1a18-28ca-465b-91e2-0582ed61faa0",
   "metadata": {},
   "source": [
    "### Directed Microcanonical Ensemble $\\theta_1=3$, $\\theta_2=0$"
   ]
  },
  {
   "cell_type": "markdown",
   "id": "2509ed4d-ed35-465a-a568-53f533489d25",
   "metadata": {},
   "source": [
    "Then we have\n",
    "$$\\begin{align}\n",
    "W = \\binom{3}{3}^3=1.\n",
    "\\end{align}$$\n",
    "So we only have one configuration."
   ]
  },
  {
   "cell_type": "markdown",
   "id": "96eb4d46-72e2-4648-8e28-65dd7c2f4cd1",
   "metadata": {},
   "source": [
    "### Undirected Microcanonical Ensemble $\\theta_1=3,\\theta_2=0$\n"
   ]
  },
  {
   "cell_type": "markdown",
   "id": "16e00c91-31a3-49d8-a974-2e0259a4df43",
   "metadata": {},
   "source": [
    "Then we have $r_{11}=3(2)=6$\n",
    "$$\\begin{align}\n",
    "W=\\binom{3}{6}=1\n",
    "\\end{align}$$\n",
    "so there is only one configuration."
   ]
  },
  {
   "cell_type": "markdown",
   "id": "36473cbf-d35d-4a7f-a340-3e377ce0c475",
   "metadata": {},
   "source": [
    "### Canonical Ensemble $\\theta_1=3,\\theta_2=0$"
   ]
  },
  {
   "cell_type": "markdown",
   "id": "f578145f-0611-4242-9f82-4e02bc03ecb7",
   "metadata": {},
   "source": [
    "Then we have $p_{11}=\\frac{2}{3}$. If we do not allow for self-loops then we have $p_{11}=1$."
   ]
  },
  {
   "cell_type": "markdown",
   "id": "f96ad132-e21e-4fe7-ad97-cfb1e8a82af1",
   "metadata": {},
   "source": [
    "### Directed Microcanonical Ensemble $\\theta_1=2,\\theta_2=1$"
   ]
  },
  {
   "cell_type": "markdown",
   "id": "dd42e6de-5f04-4665-918e-37d458f2d72f",
   "metadata": {},
   "source": [
    "Then we have\n",
    "$$\n",
    "\\begin{align}\n",
    "W&=\\binom{1}{2}^2\\binom{1}{2}^2\\binom{1}{0}^1\\binom{1}{2}^1=1\n",
    "\\end{align}$$\n",
    "So we have one option."
   ]
  },
  {
   "cell_type": "markdown",
   "id": "6df6f08d-34c4-40c0-8aba-e18aecc0f85a",
   "metadata": {},
   "source": [
    "### Undirected Microcanonical Ensemble $\\theta_1=2,\\theta_2=1$"
   ]
  },
  {
   "cell_type": "markdown",
   "id": "cff4d464-731a-4729-bf64-0f99bc0132ff",
   "metadata": {},
   "source": [
    "Then we have $r_{11}=2(2)$ and $r_{12}=2(2)=4$ so we have\n",
    "$$\\begin{align}\n",
    "W=\\binom{4}{4}\\binom{2}{4}\\binom{1}{0}=1.\n",
    "\\end{align}$$\n",
    "So we have one configuration."
   ]
  },
  {
   "cell_type": "markdown",
   "id": "8025cc14-8aef-4b8b-9b02-7368e329c8a0",
   "metadata": {},
   "source": [
    "### Canonical Ensemble $\\theta_1=2,\\theta_2=1$"
   ]
  },
  {
   "cell_type": "markdown",
   "id": "730d2787-e298-48cd-9704-842edcff2726",
   "metadata": {},
   "source": [
    "In this case, including self-loops, we have $p_{11}=\\frac{2}{2}=1$ and $p_{12}=\\frac{2}{1}=1$ so there is one possible configuration.,"
   ]
  },
  {
   "cell_type": "markdown",
   "id": "cf1260a3-d4dd-4b9f-bb0a-e0fc9cc16388",
   "metadata": {},
   "source": [
    "### Directed Microcanonical Ensembel $\\theta_1=1,\\theta_2=2$"
   ]
  },
  {
   "cell_type": "markdown",
   "id": "1d5bdae4-0d89-41ef-9c12-c6e54a991135",
   "metadata": {},
   "source": [
    "We have\n",
    "$$\n",
    "\\begin{align}\n",
    "W=\\binom{1}{2}\\binom{2}{2}\\binom{1}{3}^2\\binom{2}{0}^2=1\n",
    "\\end{align}$$\n",
    "So there is one possible configuration."
   ]
  },
  {
   "cell_type": "markdown",
   "id": "cf163460-aa22-45dc-8862-04316e847e6c",
   "metadata": {},
   "source": [
    "## Four Particles"
   ]
  },
  {
   "cell_type": "markdown",
   "id": "eda1f03c-b1fb-47c2-a6f1-8a963e1b9df5",
   "metadata": {},
   "source": [
    "### Directed Microcanonical Ensemble $\\theta_1=4,\\theta_2=0$"
   ]
  },
  {
   "cell_type": "markdown",
   "id": "289b4a96-1ced-4e07-b20f-f67b40f05e54",
   "metadata": {},
   "source": [
    "Then we have\n",
    "$$\n",
    "\\begin{align}\n",
    "W&=\\binom{4}{2}^4=6^4=1296.\n",
    "\\end{align}\n",
    "$$\n",
    "So each configuration is very unlikely."
   ]
  },
  {
   "cell_type": "markdown",
   "id": "7de4164a-84ec-448d-8e19-98701bf4ffbe",
   "metadata": {},
   "source": [
    "### Undirected Microcanonical Ensemble $\\theta_1=4,\\theta_2=0$"
   ]
  },
  {
   "cell_type": "markdown",
   "id": "f0754269-4788-4644-8f88-3b01cf43c211",
   "metadata": {},
   "source": [
    "Then we have $r_{11}=\\frac{4(2)}{2}=4$.\n",
    "$$\\begin{align}\n",
    "W&=\\binom{\\binom{4}{2}}{4}=15.\n",
    "\\end{align}$$"
   ]
  },
  {
   "cell_type": "markdown",
   "id": "ed404c64-30fa-4b20-b057-f49e5a833956",
   "metadata": {},
   "source": [
    "### Canonical Ensemble $\\theta_1=4,\\theta_2=0$\n",
    "We have $p_{11}=\\frac{2}{4}=\\frac{1}{2}$."
   ]
  },
  {
   "cell_type": "markdown",
   "id": "5aa316c5-420c-43c9-aa31-62143ecf9489",
   "metadata": {},
   "source": [
    "### Directed Microcanonical Ensemble $\\theta_1=3,\\theta_2=1$"
   ]
  },
  {
   "cell_type": "markdown",
   "id": "c277af38-53d0-4ad3-9612-2c15320ea680",
   "metadata": {},
   "source": [
    "Then we have\n",
    "$$\\begin{align}\n",
    "W&=\\binom{3(2)}{3}^3\\binom{3(2)}{1}^3\\binom{1(3)}{3}=800(216)=172800\n",
    "\\end{align}$$"
   ]
  },
  {
   "cell_type": "markdown",
   "id": "67551d47-4b68-45f5-8792-5a45e14845d7",
   "metadata": {},
   "source": [
    "### Undirected Microcanonical Ensemble $\\theta_1=3, \\theta_2=1$"
   ]
  },
  {
   "cell_type": "markdown",
   "id": "cb1b4ed3-0cc5-49e1-b3a3-2545433f77b8",
   "metadata": {},
   "source": []
  }
 ],
 "metadata": {
  "kernelspec": {
   "display_name": "Python 3 (ipykernel)",
   "language": "python",
   "name": "python3"
  },
  "language_info": {
   "codemirror_mode": {
    "name": "ipython",
    "version": 3
   },
   "file_extension": ".py",
   "mimetype": "text/x-python",
   "name": "python",
   "nbconvert_exporter": "python",
   "pygments_lexer": "ipython3",
   "version": "3.9.12"
  }
 },
 "nbformat": 4,
 "nbformat_minor": 5
}
