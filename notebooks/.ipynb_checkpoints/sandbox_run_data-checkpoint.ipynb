{
 "cells": [
  {
   "cell_type": "code",
   "execution_count": 1,
   "id": "95c43d76-fc74-4d40-a4e0-6058112dcb33",
   "metadata": {},
   "outputs": [],
   "source": [
    "import networkx as nx\n",
    "import numpy as np\n",
    "import matplotlib.pyplot as plt\n",
    "# importing sys\n",
    "import sys\n",
    "# adding Folder_2/subfolder to the system path\n",
    "sys.path.insert(0, '/work/ccnr/glover.co/net_design/NetDesign')\n",
    "import network_design as nd\n",
    "import network_design_cont_time as nd_cont\n",
    "import time\n",
    "from matplotlib.colors import to_rgba\n",
    "import matplotlib.animation as animation\n",
    "import os\n",
    "import pandas as pd\n",
    "from itertools import product"
   ]
  },
  {
   "cell_type": "code",
   "execution_count": 60,
   "id": "3bd5882f-bcf1-47df-951b-916d1f1d38a7",
   "metadata": {},
   "outputs": [],
   "source": [
    "# Get eco data\n",
    "files = os.listdir('../data/EcoNets/')"
   ]
  },
  {
   "cell_type": "code",
   "execution_count": 61,
   "id": "213482ac-5e50-4f99-b4a7-2c8c2884cfb0",
   "metadata": {},
   "outputs": [],
   "source": [
    "graphs = [f for f in files if f[-1] == 't']"
   ]
  },
  {
   "cell_type": "code",
   "execution_count": 62,
   "id": "c51e4ff4-c5a6-4b7f-8c19-7afa8c4319f7",
   "metadata": {},
   "outputs": [],
   "source": [
    "eco_df = pd.DataFrame(columns=['file','label_file','detachment_rate','c','starter_attachment','recon_file','num_components'])"
   ]
  },
  {
   "cell_type": "code",
   "execution_count": 63,
   "id": "d3ab17c5-5f71-4b8b-a60e-98db698b6f3e",
   "metadata": {},
   "outputs": [
    {
     "name": "stdout",
     "output_type": "stream",
     "text": [
      "[ 0.  1.  2.  3.  4.  5.  6.  7.  8.  9. 10. 11. 12. 13. 14. 15. 16. 17.\n",
      " 18. 19. 20. 21. 22. 23. 24. 25. 26. 27. 28. 29. 30. 31. 32. 33. 34. 35.\n",
      " 36. 37. 38. 39. 40.]\n"
     ]
    }
   ],
   "source": [
    "ratio_vals = np.linspace(0,40,41)\n",
    "print(ratio_vals)\n",
    "# ratio_vals = np.append(ratio_vals,[None for i in range(21)])\n",
    "c_vals = np.append([None for i in range(21)],np.linspace(0,1,21))"
   ]
  },
  {
   "cell_type": "code",
   "execution_count": 64,
   "id": "baa40208-ece2-4caf-bbd7-c4267a6e23fa",
   "metadata": {},
   "outputs": [],
   "source": [
    "eco_df[['file','detachment_rate']] = list(product(graphs,ratio_vals))"
   ]
  },
  {
   "cell_type": "code",
   "execution_count": 65,
   "id": "0be0fc7d-bade-4db9-b13d-4a4a22554b99",
   "metadata": {},
   "outputs": [],
   "source": [
    "eco_df['file'] = eco_df['file'].apply(lambda f: f'/work/ccnr/glover.co/net_design/NetDesign/data/EcoNets/{f}')\n",
    "eco_df['label_file'] = 'None'\n",
    "eco_df['starter_attachment'] = 1\n",
    "eco_df['recon_file'] = eco_df['file'].apply(lambda f: f[:-4] + '_recon_2')\n",
    "eco_df['num_components'] = 2\n",
    "eco_df['c'] = 0"
   ]
  },
  {
   "cell_type": "code",
   "execution_count": 66,
   "id": "82992abc-7312-41fa-997a-57f1a5b67f17",
   "metadata": {},
   "outputs": [],
   "source": [
    "subset_df = eco_df[(eco_df['file'] == '/work/ccnr/glover.co/net_design/NetDesign/data/EcoNets/M_PL_015.txt')]# or\n",
    "                    # (eco_df['file'] == '/work/ccnr/glover.co/net_design/NetDesign/data/EcoNets/A_HP_006.txt')]"
   ]
  },
  {
   "cell_type": "code",
   "execution_count": 67,
   "id": "e99380db-684a-4908-bde7-134a4de3434f",
   "metadata": {},
   "outputs": [],
   "source": [
    "param_lines = subset_df.apply(lambda row: ' '.join([f'--{col} {row[col]}' for col in subset_df.columns]), axis=1)\n"
   ]
  },
  {
   "cell_type": "code",
   "execution_count": 68,
   "id": "49cb60fb-6fc9-4d02-90f0-defe5e029945",
   "metadata": {},
   "outputs": [],
   "source": [
    "param_lines.to_csv(f'../scripts/eco_data/large_ex_params.txt',sep='\\n',index=False,header=False)"
   ]
  },
  {
   "cell_type": "code",
   "execution_count": 179,
   "id": "0a6dd6fd-c804-49ba-b0de-69fc1448d9c6",
   "metadata": {},
   "outputs": [],
   "source": [
    "# eco_df['file'] = eco_df['file'].apply(lambda f: f'--file {f}')\n",
    "# eco_df['ratio'] = eco_df['ratio'].apply(lambda f: f'--ratio {f}')\n",
    "# eco_df['label_file'] = eco_df['label_file'].apply(lambda f: f'--label_file {f}')\n",
    "# eco_df['starter_attachment'] = eco_df['starter_attachment'].apply(lambda f: f'--starter_attachment {f}')\n",
    "# eco_df['recon_file'] = eco_df['recon_file'].apply(lambda f: f'--recon_file {f}')\n",
    "# eco_df['num_components'] = eco_df['num_components'].apply(lambda f: f'--num_components {f}')\n",
    "# eco_df['c'] = eco_df['c'].apply(lambda f: f'--c {f}')"
   ]
  },
  {
   "cell_type": "code",
   "execution_count": 180,
   "id": "4813137b-0a04-4347-b788-813a09c3e751",
   "metadata": {},
   "outputs": [],
   "source": [
    "for i in range(8):\n",
    "    param_lines.iloc[i*1000:(i+1)*1000].to_csv(f'../scripts/eco_data/eco_params_{i}.txt',sep = '\\n',index=False,header=False)"
   ]
  },
  {
   "cell_type": "code",
   "execution_count": 69,
   "id": "52aef19f-19c9-471e-a27d-fbf888b26a4a",
   "metadata": {},
   "outputs": [
    {
     "data": {
      "text/plain": [
       "41"
      ]
     },
     "execution_count": 69,
     "metadata": {},
     "output_type": "execute_result"
    }
   ],
   "source": [
    "len(param_lines)"
   ]
  },
  {
   "cell_type": "code",
   "execution_count": 42,
   "id": "3a0cf1a5-cae4-49f6-80f3-906136ad11ae",
   "metadata": {},
   "outputs": [
    {
     "data": {
      "text/plain": [
       "'--file /work/ccnr/glover.co/net_design/NetDesign/data/EcoNets/M_PL_015.txt --label_file None --detachment_rate 1.0 --c 0 --starter_attachment 1 --recon_file /work/ccnr/glover.co/net_design/NetDesign/data/EcoNets/M_PL_015_recon_2 --num_components 2'"
      ]
     },
     "execution_count": 42,
     "metadata": {},
     "output_type": "execute_result"
    }
   ],
   "source": [
    "param_lines.iloc[0]"
   ]
  },
  {
   "cell_type": "code",
   "execution_count": 148,
   "id": "2c176338-0c82-45c9-95a0-b5a66d14f4a2",
   "metadata": {},
   "outputs": [],
   "source": [
    "# Get eco data\n",
    "files = os.listdir('../data/Molecules/')"
   ]
  },
  {
   "cell_type": "code",
   "execution_count": 149,
   "id": "c5e243f7-fc2b-42f2-a02f-e92dc2a83810",
   "metadata": {},
   "outputs": [],
   "source": [
    "graphs = [f for f in files if f[-1] == 't' and f[0] != 'X']"
   ]
  },
  {
   "cell_type": "code",
   "execution_count": 150,
   "id": "68bea955-bb05-47ab-9f3f-558a7d1b7fdc",
   "metadata": {},
   "outputs": [],
   "source": [
    "Xs = [f for f in files if f[0] == 'X']"
   ]
  },
  {
   "cell_type": "code",
   "execution_count": 151,
   "id": "828ca6e0-d82d-4008-a7c6-34dc08deffee",
   "metadata": {},
   "outputs": [
    {
     "data": {
      "text/plain": [
       "(4382, 4383)"
      ]
     },
     "execution_count": 151,
     "metadata": {},
     "output_type": "execute_result"
    }
   ],
   "source": [
    "len(graphs), len(Xs)"
   ]
  },
  {
   "cell_type": "code",
   "execution_count": 152,
   "id": "aa3038a6-fa31-40fa-b581-8f6e945536cd",
   "metadata": {},
   "outputs": [],
   "source": [
    "molecule_df = pd.DataFrame(columns=['file','label_file','detachment_rate','c','starter_attachment','recon_file','num_components'])"
   ]
  },
  {
   "cell_type": "code",
   "execution_count": 153,
   "id": "95ef21df-cd98-4ca0-9173-8e49e47cc6c9",
   "metadata": {},
   "outputs": [],
   "source": [
    "ratio_vals = np.linspace(1,40,20)\n",
    "# ratio_vals = np.append(ratio_vals,[None for i in range(21)])\n",
    "c_vals = np.append([None for i in range(21)],np.linspace(0,1,21))"
   ]
  },
  {
   "cell_type": "code",
   "execution_count": 154,
   "id": "484b3ad4-8067-4d54-8019-84b764b06996",
   "metadata": {},
   "outputs": [],
   "source": [
    "molecule_df[['file','detachment_rate']] = list(product(graphs,ratio_vals))\n",
    "# molecule_df[['label_file','detachment_rate']] = list(product(Xs,ratio_vals))"
   ]
  },
  {
   "cell_type": "code",
   "execution_count": 155,
   "id": "f518b6f3-569a-40a3-8823-1a76a1f994db",
   "metadata": {},
   "outputs": [],
   "source": [
    "molecule_df['label_file'] = molecule_df['file'].apply(lambda f:'X' + f[3:])\n",
    "molecule_df['file'] = molecule_df['file'].apply(lambda f: f'/work/ccnr/glover.co/net_design/NetDesign/data/Molecules/{f}')\n",
    "molecule_df['label_file'] = molecule_df['label_file'].apply(lambda f: f'/work/ccnr/glover.co/net_design/NetDesign/data/Molecules/{f}')\n",
    "molecule_df['starter_attachment'] = 1\n",
    "molecule_df['recon_file'] = molecule_df['file'].apply(lambda f: f[:-4] + '_recon_2/')\n",
    "molecule_df['num_components'] = 2\n",
    "molecule_df['c'] = 0"
   ]
  },
  {
   "cell_type": "code",
   "execution_count": 156,
   "id": "4a3b7dc9-09c4-479a-8553-28ad63214efe",
   "metadata": {},
   "outputs": [
    {
     "data": {
      "text/html": [
       "<div>\n",
       "<style scoped>\n",
       "    .dataframe tbody tr th:only-of-type {\n",
       "        vertical-align: middle;\n",
       "    }\n",
       "\n",
       "    .dataframe tbody tr th {\n",
       "        vertical-align: top;\n",
       "    }\n",
       "\n",
       "    .dataframe thead th {\n",
       "        text-align: right;\n",
       "    }\n",
       "</style>\n",
       "<table border=\"1\" class=\"dataframe\">\n",
       "  <thead>\n",
       "    <tr style=\"text-align: right;\">\n",
       "      <th></th>\n",
       "      <th>file</th>\n",
       "      <th>label_file</th>\n",
       "      <th>detachment_rate</th>\n",
       "      <th>c</th>\n",
       "      <th>starter_attachment</th>\n",
       "      <th>recon_file</th>\n",
       "      <th>num_components</th>\n",
       "    </tr>\n",
       "  </thead>\n",
       "  <tbody>\n",
       "    <tr>\n",
       "      <th>0</th>\n",
       "      <td>/work/ccnr/glover.co/net_design/NetDesign/data...</td>\n",
       "      <td>/work/ccnr/glover.co/net_design/NetDesign/data...</td>\n",
       "      <td>1.0</td>\n",
       "      <td>0</td>\n",
       "      <td>1</td>\n",
       "      <td>/work/ccnr/glover.co/net_design/NetDesign/data...</td>\n",
       "      <td>2</td>\n",
       "    </tr>\n",
       "    <tr>\n",
       "      <th>1</th>\n",
       "      <td>/work/ccnr/glover.co/net_design/NetDesign/data...</td>\n",
       "      <td>/work/ccnr/glover.co/net_design/NetDesign/data...</td>\n",
       "      <td>3.052632</td>\n",
       "      <td>0</td>\n",
       "      <td>1</td>\n",
       "      <td>/work/ccnr/glover.co/net_design/NetDesign/data...</td>\n",
       "      <td>2</td>\n",
       "    </tr>\n",
       "    <tr>\n",
       "      <th>2</th>\n",
       "      <td>/work/ccnr/glover.co/net_design/NetDesign/data...</td>\n",
       "      <td>/work/ccnr/glover.co/net_design/NetDesign/data...</td>\n",
       "      <td>5.105263</td>\n",
       "      <td>0</td>\n",
       "      <td>1</td>\n",
       "      <td>/work/ccnr/glover.co/net_design/NetDesign/data...</td>\n",
       "      <td>2</td>\n",
       "    </tr>\n",
       "    <tr>\n",
       "      <th>3</th>\n",
       "      <td>/work/ccnr/glover.co/net_design/NetDesign/data...</td>\n",
       "      <td>/work/ccnr/glover.co/net_design/NetDesign/data...</td>\n",
       "      <td>7.157895</td>\n",
       "      <td>0</td>\n",
       "      <td>1</td>\n",
       "      <td>/work/ccnr/glover.co/net_design/NetDesign/data...</td>\n",
       "      <td>2</td>\n",
       "    </tr>\n",
       "    <tr>\n",
       "      <th>4</th>\n",
       "      <td>/work/ccnr/glover.co/net_design/NetDesign/data...</td>\n",
       "      <td>/work/ccnr/glover.co/net_design/NetDesign/data...</td>\n",
       "      <td>9.210526</td>\n",
       "      <td>0</td>\n",
       "      <td>1</td>\n",
       "      <td>/work/ccnr/glover.co/net_design/NetDesign/data...</td>\n",
       "      <td>2</td>\n",
       "    </tr>\n",
       "    <tr>\n",
       "      <th>...</th>\n",
       "      <td>...</td>\n",
       "      <td>...</td>\n",
       "      <td>...</td>\n",
       "      <td>...</td>\n",
       "      <td>...</td>\n",
       "      <td>...</td>\n",
       "      <td>...</td>\n",
       "    </tr>\n",
       "    <tr>\n",
       "      <th>87635</th>\n",
       "      <td>/work/ccnr/glover.co/net_design/NetDesign/data...</td>\n",
       "      <td>/work/ccnr/glover.co/net_design/NetDesign/data...</td>\n",
       "      <td>31.789474</td>\n",
       "      <td>0</td>\n",
       "      <td>1</td>\n",
       "      <td>/work/ccnr/glover.co/net_design/NetDesign/data...</td>\n",
       "      <td>2</td>\n",
       "    </tr>\n",
       "    <tr>\n",
       "      <th>87636</th>\n",
       "      <td>/work/ccnr/glover.co/net_design/NetDesign/data...</td>\n",
       "      <td>/work/ccnr/glover.co/net_design/NetDesign/data...</td>\n",
       "      <td>33.842105</td>\n",
       "      <td>0</td>\n",
       "      <td>1</td>\n",
       "      <td>/work/ccnr/glover.co/net_design/NetDesign/data...</td>\n",
       "      <td>2</td>\n",
       "    </tr>\n",
       "    <tr>\n",
       "      <th>87637</th>\n",
       "      <td>/work/ccnr/glover.co/net_design/NetDesign/data...</td>\n",
       "      <td>/work/ccnr/glover.co/net_design/NetDesign/data...</td>\n",
       "      <td>35.894737</td>\n",
       "      <td>0</td>\n",
       "      <td>1</td>\n",
       "      <td>/work/ccnr/glover.co/net_design/NetDesign/data...</td>\n",
       "      <td>2</td>\n",
       "    </tr>\n",
       "    <tr>\n",
       "      <th>87638</th>\n",
       "      <td>/work/ccnr/glover.co/net_design/NetDesign/data...</td>\n",
       "      <td>/work/ccnr/glover.co/net_design/NetDesign/data...</td>\n",
       "      <td>37.947368</td>\n",
       "      <td>0</td>\n",
       "      <td>1</td>\n",
       "      <td>/work/ccnr/glover.co/net_design/NetDesign/data...</td>\n",
       "      <td>2</td>\n",
       "    </tr>\n",
       "    <tr>\n",
       "      <th>87639</th>\n",
       "      <td>/work/ccnr/glover.co/net_design/NetDesign/data...</td>\n",
       "      <td>/work/ccnr/glover.co/net_design/NetDesign/data...</td>\n",
       "      <td>40.0</td>\n",
       "      <td>0</td>\n",
       "      <td>1</td>\n",
       "      <td>/work/ccnr/glover.co/net_design/NetDesign/data...</td>\n",
       "      <td>2</td>\n",
       "    </tr>\n",
       "  </tbody>\n",
       "</table>\n",
       "<p>87640 rows × 7 columns</p>\n",
       "</div>"
      ],
      "text/plain": [
       "                                                    file  \\\n",
       "0      /work/ccnr/glover.co/net_design/NetDesign/data...   \n",
       "1      /work/ccnr/glover.co/net_design/NetDesign/data...   \n",
       "2      /work/ccnr/glover.co/net_design/NetDesign/data...   \n",
       "3      /work/ccnr/glover.co/net_design/NetDesign/data...   \n",
       "4      /work/ccnr/glover.co/net_design/NetDesign/data...   \n",
       "...                                                  ...   \n",
       "87635  /work/ccnr/glover.co/net_design/NetDesign/data...   \n",
       "87636  /work/ccnr/glover.co/net_design/NetDesign/data...   \n",
       "87637  /work/ccnr/glover.co/net_design/NetDesign/data...   \n",
       "87638  /work/ccnr/glover.co/net_design/NetDesign/data...   \n",
       "87639  /work/ccnr/glover.co/net_design/NetDesign/data...   \n",
       "\n",
       "                                              label_file detachment_rate  c  \\\n",
       "0      /work/ccnr/glover.co/net_design/NetDesign/data...             1.0  0   \n",
       "1      /work/ccnr/glover.co/net_design/NetDesign/data...        3.052632  0   \n",
       "2      /work/ccnr/glover.co/net_design/NetDesign/data...        5.105263  0   \n",
       "3      /work/ccnr/glover.co/net_design/NetDesign/data...        7.157895  0   \n",
       "4      /work/ccnr/glover.co/net_design/NetDesign/data...        9.210526  0   \n",
       "...                                                  ...             ... ..   \n",
       "87635  /work/ccnr/glover.co/net_design/NetDesign/data...       31.789474  0   \n",
       "87636  /work/ccnr/glover.co/net_design/NetDesign/data...       33.842105  0   \n",
       "87637  /work/ccnr/glover.co/net_design/NetDesign/data...       35.894737  0   \n",
       "87638  /work/ccnr/glover.co/net_design/NetDesign/data...       37.947368  0   \n",
       "87639  /work/ccnr/glover.co/net_design/NetDesign/data...            40.0  0   \n",
       "\n",
       "       starter_attachment                                         recon_file  \\\n",
       "0                       1  /work/ccnr/glover.co/net_design/NetDesign/data...   \n",
       "1                       1  /work/ccnr/glover.co/net_design/NetDesign/data...   \n",
       "2                       1  /work/ccnr/glover.co/net_design/NetDesign/data...   \n",
       "3                       1  /work/ccnr/glover.co/net_design/NetDesign/data...   \n",
       "4                       1  /work/ccnr/glover.co/net_design/NetDesign/data...   \n",
       "...                   ...                                                ...   \n",
       "87635                   1  /work/ccnr/glover.co/net_design/NetDesign/data...   \n",
       "87636                   1  /work/ccnr/glover.co/net_design/NetDesign/data...   \n",
       "87637                   1  /work/ccnr/glover.co/net_design/NetDesign/data...   \n",
       "87638                   1  /work/ccnr/glover.co/net_design/NetDesign/data...   \n",
       "87639                   1  /work/ccnr/glover.co/net_design/NetDesign/data...   \n",
       "\n",
       "       num_components  \n",
       "0                   2  \n",
       "1                   2  \n",
       "2                   2  \n",
       "3                   2  \n",
       "4                   2  \n",
       "...               ...  \n",
       "87635               2  \n",
       "87636               2  \n",
       "87637               2  \n",
       "87638               2  \n",
       "87639               2  \n",
       "\n",
       "[87640 rows x 7 columns]"
      ]
     },
     "execution_count": 156,
     "metadata": {},
     "output_type": "execute_result"
    }
   ],
   "source": [
    "molecule_df"
   ]
  },
  {
   "cell_type": "code",
   "execution_count": 157,
   "id": "e8ae80a0-0b65-47aa-9331-908ccbe7ea34",
   "metadata": {
    "scrolled": true
   },
   "outputs": [],
   "source": [
    "param_lines = molecule_df.apply(lambda row: ' '.join([f'--{col} {row[col]}' for col in molecule_df.columns]), axis=1)\n"
   ]
  },
  {
   "cell_type": "code",
   "execution_count": 158,
   "id": "fb18b76f-5469-4c63-afe0-ab1f5caf2f62",
   "metadata": {},
   "outputs": [],
   "source": [
    "for i in range(10):\n",
    "    param_lines = param_lines.iloc[i*1000:(i+1)*1000]\n",
    "    param_lines.to_csv(f'../scripts/molecule_data/molecule_params_{i}.txt',sep = '\\n',index=False,header=False)"
   ]
  },
  {
   "cell_type": "code",
   "execution_count": 159,
   "id": "d8bacb74-f221-4043-bc09-dd7d97396b93",
   "metadata": {},
   "outputs": [],
   "source": [
    "files = os.listdir('../data/lattice_data/')"
   ]
  },
  {
   "cell_type": "code",
   "execution_count": 160,
   "id": "19fbe231-7ff0-4000-8398-14c9209e3774",
   "metadata": {},
   "outputs": [],
   "source": [
    "graphs = [f for f in files if f[-1] == 't' and f[0] != 'X']"
   ]
  },
  {
   "cell_type": "code",
   "execution_count": 161,
   "id": "d1ecf3ec-ef44-4335-a588-fa0caf991255",
   "metadata": {},
   "outputs": [],
   "source": [
    "Xs = [f for f in files if f[0] == 'X']"
   ]
  },
  {
   "cell_type": "code",
   "execution_count": 162,
   "id": "503343cc-d61c-4bcf-b0be-86ee2ee770b5",
   "metadata": {},
   "outputs": [
    {
     "data": {
      "text/plain": [
       "['cubic_graph.txt', 'hexgonal_graph.txt', 'triangular_graph.txt']"
      ]
     },
     "execution_count": 162,
     "metadata": {},
     "output_type": "execute_result"
    }
   ],
   "source": [
    "graphs"
   ]
  },
  {
   "cell_type": "code",
   "execution_count": 163,
   "id": "6c30fc62-8fe6-4fb3-9d66-7f00dba1a5d8",
   "metadata": {},
   "outputs": [],
   "source": [
    "lattice_df = pd.DataFrame(columns=['file','label_file','detachment_rate','c','starter_attachment','recon_file','num_components'])"
   ]
  },
  {
   "cell_type": "code",
   "execution_count": 164,
   "id": "82908251-ccf1-422f-ad13-e188c340f672",
   "metadata": {},
   "outputs": [],
   "source": [
    "ratio_vals = np.linspace(1,40,20)\n",
    "# ratio_vals = np.append(ratio_vals,[None for i in range(21)])\n",
    "c_vals = np.append([None for i in range(21)],np.linspace(0,1,21))"
   ]
  },
  {
   "cell_type": "code",
   "execution_count": 165,
   "id": "682e39ad-0375-4cfe-987e-e5440882b9dc",
   "metadata": {},
   "outputs": [],
   "source": [
    "lattice_df[['file','detachment_rate']] = list(product(graphs,ratio_vals))\n"
   ]
  },
  {
   "cell_type": "code",
   "execution_count": 166,
   "id": "dec012b9-92f3-4994-9d5f-19975278b51c",
   "metadata": {},
   "outputs": [],
   "source": [
    "lattice_df['label_file'] = lattice_df['file'].apply(lambda f:'X.txt')\n",
    "lattice_df['file'] = lattice_df['file'].apply(lambda f: f'/work/ccnr/glover.co/net_design/NetDesign/data/lattice_data/{f}')\n",
    "lattice_df['label_file'] = lattice_df['label_file'].apply(lambda f: f'/work/ccnr/glover.co/net_design/NetDesign/data/lattice_data/{f}')\n",
    "lattice_df['starter_attachment'] = 1\n",
    "lattice_df['recon_file'] = lattice_df['file'].apply(lambda f: f[:-4] + '_recon_2/')\n",
    "lattice_df['num_components'] = 2\n",
    "lattice_df['c'] = 0"
   ]
  },
  {
   "cell_type": "code",
   "execution_count": 167,
   "id": "108a523c-bb3a-48d4-a026-08a5f04bee4c",
   "metadata": {},
   "outputs": [
    {
     "data": {
      "text/plain": [
       "'/work/ccnr/glover.co/net_design/NetDesign/data/lattice_data/cubic_graph.txt'"
      ]
     },
     "execution_count": 167,
     "metadata": {},
     "output_type": "execute_result"
    }
   ],
   "source": [
    "lattice_df.iloc[0,0]"
   ]
  },
  {
   "cell_type": "code",
   "execution_count": 168,
   "id": "87c5ed53-3440-4b96-a403-e5d19daf9f91",
   "metadata": {},
   "outputs": [],
   "source": [
    "param_lines = lattice_df.apply(lambda row: ' '.join([f'--{col} {row[col]}' for col in lattice_df.columns]), axis=1)\n"
   ]
  },
  {
   "cell_type": "code",
   "execution_count": 169,
   "id": "60d7ad98-04b9-4bf5-ac1c-dbc36a0279a5",
   "metadata": {},
   "outputs": [
    {
     "data": {
      "text/plain": [
       "60"
      ]
     },
     "execution_count": 169,
     "metadata": {},
     "output_type": "execute_result"
    }
   ],
   "source": [
    "len(param_lines)"
   ]
  },
  {
   "cell_type": "code",
   "execution_count": 170,
   "id": "244e834b-1849-4050-bd90-7cfb6531e098",
   "metadata": {},
   "outputs": [],
   "source": [
    "param_lines.to_csv(f'../scripts/lattice_data/lattice_params.txt',sep = '\\n',index=False,header=False)"
   ]
  },
  {
   "cell_type": "code",
   "execution_count": 305,
   "id": "6e62377b-77b6-4a55-a5a0-6584ad2f9dad",
   "metadata": {},
   "outputs": [],
   "source": [
    "X = np.loadtxt('/work/ccnr/glover.co/net_design/NetDesign/data/lattice_data/X.txt')"
   ]
  },
  {
   "cell_type": "code",
   "execution_count": 306,
   "id": "6d99972c-d144-4c1a-b322-40c9dbbc4452",
   "metadata": {},
   "outputs": [
    {
     "data": {
      "text/plain": [
       "1"
      ]
     },
     "execution_count": 306,
     "metadata": {},
     "output_type": "execute_result"
    }
   ],
   "source": [
    "len(X.shape)"
   ]
  },
  {
   "cell_type": "code",
   "execution_count": 307,
   "id": "a390afb8-b76a-4506-85c7-561b28db2eb3",
   "metadata": {},
   "outputs": [],
   "source": [
    "files = os.listdir('../data/protein_complex/complex_portal/')"
   ]
  },
  {
   "cell_type": "code",
   "execution_count": 308,
   "id": "2a0e3590-71dd-44aa-9058-6f8a259c1c4b",
   "metadata": {},
   "outputs": [],
   "source": [
    "graphs = [f for f in files if f[-1] == 'e' and f[0] != 'X']"
   ]
  },
  {
   "cell_type": "code",
   "execution_count": 309,
   "id": "5e824de0-5c0f-443e-8109-799d6809f09d",
   "metadata": {},
   "outputs": [],
   "source": [
    "Xs = [f for f in files if f[0] == 'X']"
   ]
  },
  {
   "cell_type": "code",
   "execution_count": 310,
   "id": "eb6ecd52-4291-4b8e-b2fd-92c7242afd4b",
   "metadata": {},
   "outputs": [],
   "source": [
    "protein_df = pd.DataFrame(columns=['file','label_file','detachment_rate','c','starter_attachment','recon_file','num_components'])"
   ]
  },
  {
   "cell_type": "code",
   "execution_count": 311,
   "id": "3be0942f-80ed-4637-83f0-645dc5a9cd5b",
   "metadata": {},
   "outputs": [],
   "source": [
    "ratio_vals = np.linspace(1,40,20)\n",
    "# ratio_vals = np.append(ratio_vals,[None for i in range(21)])\n",
    "c_vals = np.append([None for i in range(21)],np.linspace(0,1,21))"
   ]
  },
  {
   "cell_type": "code",
   "execution_count": 312,
   "id": "f239107a-c601-4c96-8fe4-c949bc144682",
   "metadata": {},
   "outputs": [],
   "source": [
    "protein_df[['file','detachment_rate']] = list(product(graphs,ratio_vals))\n"
   ]
  },
  {
   "cell_type": "code",
   "execution_count": 313,
   "id": "70b6ff6a-0a46-4027-abc4-187b89635333",
   "metadata": {
    "scrolled": true
   },
   "outputs": [
    {
     "data": {
      "text/plain": [
       "['X_CPX-10041.txt',\n",
       " 'X_CPX-101.txt',\n",
       " 'X_CPX-10221.txt',\n",
       " 'X_CPX-10241.txt',\n",
       " 'X_CPX-10261.txt',\n",
       " 'X_CPX-10304.txt',\n",
       " 'X_CPX-10306.txt',\n",
       " 'X_CPX-10309.txt',\n",
       " 'X_CPX-10311.txt',\n",
       " 'X_CPX-10333.txt',\n",
       " 'X_CPX-11.txt',\n",
       " 'X_CPX-116.txt',\n",
       " 'X_CPX-125.txt',\n",
       " 'X_CPX-128.txt',\n",
       " 'X_CPX-131.txt',\n",
       " 'X_CPX-137.txt',\n",
       " 'X_CPX-143.txt',\n",
       " 'X_CPX-144.txt',\n",
       " 'X_CPX-152.txt',\n",
       " 'X_CPX-155.txt',\n",
       " 'X_CPX-1650.txt',\n",
       " 'X_CPX-168.txt',\n",
       " 'X_CPX-17.txt',\n",
       " 'X_CPX-1723.txt',\n",
       " 'X_CPX-1847.txt',\n",
       " 'X_CPX-187.txt',\n",
       " 'X_CPX-1877.txt',\n",
       " 'X_CPX-1878.txt',\n",
       " 'X_CPX-1879.txt',\n",
       " 'X_CPX-1910.txt',\n",
       " 'X_CPX-1919.txt',\n",
       " 'X_CPX-1941.txt',\n",
       " 'X_CPX-195.txt',\n",
       " 'X_CPX-1956.txt',\n",
       " 'X_CPX-200.txt',\n",
       " 'X_CPX-2000.txt',\n",
       " 'X_CPX-2001.txt',\n",
       " 'X_CPX-2002.txt',\n",
       " 'X_CPX-2087.txt',\n",
       " 'X_CPX-2093.txt',\n",
       " 'X_CPX-2097.txt',\n",
       " 'X_CPX-21210.txt',\n",
       " 'X_CPX-2127.txt',\n",
       " 'X_CPX-2129.txt',\n",
       " 'X_CPX-2158.txt',\n",
       " 'X_CPX-2159.txt',\n",
       " 'X_CPX-2167.txt',\n",
       " 'X_CPX-2175.txt',\n",
       " 'X_CPX-2180.txt',\n",
       " 'X_CPX-2194.txt',\n",
       " 'X_CPX-2208.txt',\n",
       " 'X_CPX-2229.txt',\n",
       " 'X_CPX-2234.txt',\n",
       " 'X_CPX-2236.txt',\n",
       " 'X_CPX-2239.txt',\n",
       " 'X_CPX-2250.txt',\n",
       " 'X_CPX-2259.txt',\n",
       " 'X_CPX-2341.txt',\n",
       " 'X_CPX-2397.txt',\n",
       " 'X_CPX-2398.txt',\n",
       " 'X_CPX-2401.txt',\n",
       " 'X_CPX-2419.txt',\n",
       " 'X_CPX-2492.txt',\n",
       " 'X_CPX-2499.txt',\n",
       " 'X_CPX-2503.txt',\n",
       " 'X_CPX-2505.txt',\n",
       " 'X_CPX-2506.txt',\n",
       " 'X_CPX-2513.txt',\n",
       " 'X_CPX-2514.txt',\n",
       " 'X_CPX-2537.txt',\n",
       " 'X_CPX-2540.txt',\n",
       " 'X_CPX-2544.txt',\n",
       " 'X_CPX-2545.txt',\n",
       " 'X_CPX-25716.txt',\n",
       " 'X_CPX-25717.txt',\n",
       " 'X_CPX-25720.txt',\n",
       " 'X_CPX-25729.txt',\n",
       " 'X_CPX-25730.txt',\n",
       " 'X_CPX-25758.txt',\n",
       " 'X_CPX-25766.txt',\n",
       " 'X_CPX-25782.txt',\n",
       " 'X_CPX-26028.txt',\n",
       " 'X_CPX-2612.txt',\n",
       " 'X_CPX-262.txt',\n",
       " 'X_CPX-2640.txt',\n",
       " 'X_CPX-2669.txt',\n",
       " 'X_CPX-267.txt',\n",
       " 'X_CPX-2698.txt',\n",
       " 'X_CPX-2701.txt',\n",
       " 'X_CPX-271.txt',\n",
       " 'X_CPX-2721.txt',\n",
       " 'X_CPX-2731.txt',\n",
       " 'X_CPX-2769.txt',\n",
       " 'X_CPX-2805.txt',\n",
       " 'X_CPX-2811.txt',\n",
       " 'X_CPX-2823.txt',\n",
       " 'X_CPX-2827.txt',\n",
       " 'X_CPX-2831.txt',\n",
       " 'X_CPX-2832.txt',\n",
       " 'X_CPX-2837.txt',\n",
       " 'X_CPX-2840.txt',\n",
       " 'X_CPX-2842.txt',\n",
       " 'X_CPX-2845.txt',\n",
       " 'X_CPX-2846.txt',\n",
       " 'X_CPX-2847.txt',\n",
       " 'X_CPX-2848.txt',\n",
       " 'X_CPX-285.txt',\n",
       " 'X_CPX-2850.txt',\n",
       " 'X_CPX-2852.txt',\n",
       " 'X_CPX-286.txt',\n",
       " 'X_CPX-2862.txt',\n",
       " 'X_CPX-2866.txt',\n",
       " 'X_CPX-2871.txt',\n",
       " 'X_CPX-2881.txt',\n",
       " 'X_CPX-2882.txt',\n",
       " 'X_CPX-2884.txt',\n",
       " 'X_CPX-2885.txt',\n",
       " 'X_CPX-2886.txt',\n",
       " 'X_CPX-2887.txt',\n",
       " 'X_CPX-289.txt',\n",
       " 'X_CPX-2891.txt',\n",
       " 'X_CPX-2897.txt',\n",
       " 'X_CPX-2927.txt',\n",
       " 'X_CPX-2928.txt',\n",
       " 'X_CPX-2929.txt',\n",
       " 'X_CPX-2930.txt',\n",
       " 'X_CPX-2931.txt',\n",
       " 'X_CPX-2933.txt',\n",
       " 'X_CPX-2934.txt',\n",
       " 'X_CPX-2936.txt',\n",
       " 'X_CPX-2940.txt',\n",
       " 'X_CPX-2954.txt',\n",
       " 'X_CPX-3032.txt',\n",
       " 'X_CPX-3033.txt',\n",
       " 'X_CPX-3058.txt',\n",
       " 'X_CPX-3080.txt',\n",
       " 'X_CPX-3094.txt',\n",
       " 'X_CPX-3095.txt',\n",
       " 'X_CPX-3201.txt',\n",
       " 'X_CPX-3208.txt',\n",
       " 'X_CPX-3239.txt',\n",
       " 'X_CPX-3252.txt',\n",
       " 'X_CPX-3256.txt',\n",
       " 'X_CPX-3269.txt',\n",
       " 'X_CPX-3280.txt',\n",
       " 'X_CPX-3285.txt',\n",
       " 'X_CPX-3288.txt',\n",
       " 'X_CPX-3295.txt',\n",
       " 'X_CPX-3301.txt',\n",
       " 'X_CPX-3481.txt',\n",
       " 'X_CPX-3622.txt',\n",
       " 'X_CPX-3642.txt',\n",
       " 'X_CPX-373.txt',\n",
       " 'X_CPX-3762.txt',\n",
       " 'X_CPX-3785.txt',\n",
       " 'X_CPX-3805.txt',\n",
       " 'X_CPX-383.txt',\n",
       " 'X_CPX-3905.txt',\n",
       " 'X_CPX-3946.txt',\n",
       " 'X_CPX-395.txt',\n",
       " 'X_CPX-4001.txt',\n",
       " 'X_CPX-42.txt',\n",
       " 'X_CPX-421.txt',\n",
       " 'X_CPX-434.txt',\n",
       " 'X_CPX-4402.txt',\n",
       " 'X_CPX-4442.txt',\n",
       " 'X_CPX-467.txt',\n",
       " 'X_CPX-4741.txt',\n",
       " 'X_CPX-4742.txt',\n",
       " 'X_CPX-4747.txt',\n",
       " 'X_CPX-48.txt',\n",
       " 'X_CPX-480.txt',\n",
       " 'X_CPX-482.txt',\n",
       " 'X_CPX-484.txt',\n",
       " 'X_CPX-496.txt',\n",
       " 'X_CPX-501.txt',\n",
       " 'X_CPX-5021.txt',\n",
       " 'X_CPX-503.txt',\n",
       " 'X_CPX-513.txt',\n",
       " 'X_CPX-5156.txt',\n",
       " 'X_CPX-517.txt',\n",
       " 'X_CPX-52.txt',\n",
       " 'X_CPX-522.txt',\n",
       " 'X_CPX-525.txt',\n",
       " 'X_CPX-529.txt',\n",
       " 'X_CPX-5342.txt',\n",
       " 'X_CPX-54.txt',\n",
       " 'X_CPX-5633.txt',\n",
       " 'X_CPX-5642.txt',\n",
       " 'X_CPX-569.txt',\n",
       " 'X_CPX-5774.txt',\n",
       " 'X_CPX-578.txt',\n",
       " 'X_CPX-5787.txt',\n",
       " 'X_CPX-5790.txt',\n",
       " 'X_CPX-5791.txt',\n",
       " 'X_CPX-5824.txt',\n",
       " 'X_CPX-5961.txt',\n",
       " 'X_CPX-5991.txt',\n",
       " 'X_CPX-5995.txt',\n",
       " 'X_CPX-6010.txt',\n",
       " 'X_CPX-6036.txt',\n",
       " 'X_CPX-6083.txt',\n",
       " 'X_CPX-6125.txt',\n",
       " 'X_CPX-6131.txt',\n",
       " 'X_CPX-614.txt',\n",
       " 'X_CPX-6142.txt',\n",
       " 'X_CPX-6148.txt',\n",
       " 'X_CPX-6155.txt',\n",
       " 'X_CPX-6165.txt',\n",
       " 'X_CPX-6169.txt',\n",
       " 'X_CPX-6175.txt',\n",
       " 'X_CPX-6177.txt',\n",
       " 'X_CPX-618.txt',\n",
       " 'X_CPX-624.txt',\n",
       " 'X_CPX-6245.txt',\n",
       " 'X_CPX-6267.txt',\n",
       " 'X_CPX-6269.txt',\n",
       " 'X_CPX-627.txt',\n",
       " 'X_CPX-6276.txt',\n",
       " 'X_CPX-6321.txt',\n",
       " 'X_CPX-6341.txt',\n",
       " 'X_CPX-6365.txt',\n",
       " 'X_CPX-6366.txt',\n",
       " 'X_CPX-6381.txt',\n",
       " 'X_CPX-6382.txt',\n",
       " 'X_CPX-646.txt',\n",
       " 'X_CPX-6461.txt',\n",
       " 'X_CPX-6464.txt',\n",
       " 'X_CPX-659.txt',\n",
       " 'X_CPX-6641.txt',\n",
       " 'X_CPX-666.txt',\n",
       " 'X_CPX-6662.txt',\n",
       " 'X_CPX-6663.txt',\n",
       " 'X_CPX-6681.txt',\n",
       " 'X_CPX-6701.txt',\n",
       " 'X_CPX-6841.txt',\n",
       " 'X_CPX-6861.txt',\n",
       " 'X_CPX-6862.txt',\n",
       " 'X_CPX-6863.txt',\n",
       " 'X_CPX-6929.txt',\n",
       " 'X_CPX-6932.txt',\n",
       " 'X_CPX-7142.txt',\n",
       " 'X_CPX-7205.txt',\n",
       " 'X_CPX-7241.txt',\n",
       " 'X_CPX-725.txt',\n",
       " 'X_CPX-742.txt',\n",
       " 'X_CPX-745.txt',\n",
       " 'X_CPX-7666.txt',\n",
       " 'X_CPX-7667.txt',\n",
       " 'X_CPX-7668.txt',\n",
       " 'X_CPX-7669.txt',\n",
       " 'X_CPX-767.txt',\n",
       " 'X_CPX-7670.txt',\n",
       " 'X_CPX-7671.txt',\n",
       " 'X_CPX-7674.txt',\n",
       " 'X_CPX-7675.txt',\n",
       " 'X_CPX-7724.txt',\n",
       " 'X_CPX-7841.txt',\n",
       " 'X_CPX-7842.txt',\n",
       " 'X_CPX-787.txt',\n",
       " 'X_CPX-7924.txt',\n",
       " 'X_CPX-7930.txt',\n",
       " 'X_CPX-8001.txt',\n",
       " 'X_CPX-8009.txt',\n",
       " 'X_CPX-8065.txt',\n",
       " 'X_CPX-8095.txt',\n",
       " 'X_CPX-8105.txt',\n",
       " 'X_CPX-8121.txt',\n",
       " 'X_CPX-8122.txt',\n",
       " 'X_CPX-8124.txt',\n",
       " 'X_CPX-8128.txt',\n",
       " 'X_CPX-8129.txt',\n",
       " 'X_CPX-8133.txt',\n",
       " 'X_CPX-8134.txt',\n",
       " 'X_CPX-8142.txt',\n",
       " 'X_CPX-8148.txt',\n",
       " 'X_CPX-815.txt',\n",
       " 'X_CPX-8175.txt',\n",
       " 'X_CPX-8182.txt',\n",
       " 'X_CPX-8183.txt',\n",
       " 'X_CPX-8184.txt',\n",
       " 'X_CPX-8185.txt',\n",
       " 'X_CPX-8192.txt',\n",
       " 'X_CPX-8302.txt',\n",
       " 'X_CPX-833.txt',\n",
       " 'X_CPX-8343.txt',\n",
       " 'X_CPX-8427.txt',\n",
       " 'X_CPX-8432.txt',\n",
       " 'X_CPX-844.txt',\n",
       " 'X_CPX-845.txt',\n",
       " 'X_CPX-8468.txt',\n",
       " 'X_CPX-847.txt',\n",
       " 'X_CPX-848.txt',\n",
       " 'X_CPX-85.txt',\n",
       " 'X_CPX-850.txt',\n",
       " 'X_CPX-8523.txt',\n",
       " 'X_CPX-8570.txt',\n",
       " 'X_CPX-8571.txt',\n",
       " 'X_CPX-8661.txt',\n",
       " 'X_CPX-8673.txt',\n",
       " 'X_CPX-8677.txt',\n",
       " 'X_CPX-8701.txt',\n",
       " 'X_CPX-8729.txt',\n",
       " 'X_CPX-8731.txt',\n",
       " 'X_CPX-8732.txt',\n",
       " 'X_CPX-8736.txt',\n",
       " 'X_CPX-8781.txt',\n",
       " 'X_CPX-8808.txt',\n",
       " 'X_CPX-8826.txt',\n",
       " 'X_CPX-8834.txt',\n",
       " 'X_CPX-8836.txt',\n",
       " 'X_CPX-885.txt',\n",
       " 'X_CPX-8881.txt',\n",
       " 'X_CPX-890.txt',\n",
       " 'X_CPX-8901.txt',\n",
       " 'X_CPX-8927.txt',\n",
       " 'X_CPX-8931.txt',\n",
       " 'X_CPX-8935.txt',\n",
       " 'X_CPX-8943.txt',\n",
       " 'X_CPX-8945.txt',\n",
       " 'X_CPX-8947.txt',\n",
       " 'X_CPX-8967.txt',\n",
       " 'X_CPX-902.txt',\n",
       " 'X_CPX-9128.txt',\n",
       " 'X_CPX-914.txt',\n",
       " 'X_CPX-9182.txt',\n",
       " 'X_CPX-9222.txt',\n",
       " 'X_CPX-9223.txt',\n",
       " 'X_CPX-928.txt',\n",
       " 'X_CPX-9281.txt',\n",
       " 'X_CPX-9309.txt',\n",
       " 'X_CPX-9310.txt',\n",
       " 'X_CPX-9341.txt',\n",
       " 'X_CPX-9361.txt',\n",
       " 'X_CPX-937.txt',\n",
       " 'X_CPX-941.txt',\n",
       " 'X_CPX-944.txt',\n",
       " 'X_CPX-948.txt',\n",
       " 'X_CPX-9481.txt',\n",
       " 'X_CPX-949.txt',\n",
       " 'X_CPX-951.txt',\n",
       " 'X_CPX-952.txt',\n",
       " 'X_CPX-9521.txt',\n",
       " 'X_CPX-9541.txt',\n",
       " 'X_CPX-9621.txt',\n",
       " 'X_CPX-969.txt',\n",
       " 'X_CPX-970.txt',\n",
       " 'X_CPX-971.txt',\n",
       " 'X_CPX-9721.txt',\n",
       " 'X_CPX-9741.txt',\n",
       " 'X_CPX-975.txt',\n",
       " 'X_CPX-9801.txt',\n",
       " 'X_CPX-984.txt']"
      ]
     },
     "execution_count": 313,
     "metadata": {},
     "output_type": "execute_result"
    }
   ],
   "source": [
    "Xs"
   ]
  },
  {
   "cell_type": "code",
   "execution_count": 314,
   "id": "ffa559c0-cc73-4fc8-819c-c064267503bb",
   "metadata": {},
   "outputs": [],
   "source": [
    "protein_df['label_file'] = protein_df['file'].apply(lambda f:'X_' + f[:-4] + 'txt')\n",
    "protein_df['file'] = protein_df['file'].apply(lambda f: f'/work/ccnr/glover.co/net_design/NetDesign/data/protein_complex/complex_portal/{f}')\n",
    "protein_df['label_file'] = protein_df['label_file'].apply(lambda f: f'/work/ccnr/glover.co/net_design/NetDesign/data/protein_complex/complex_portal/{f}')\n",
    "protein_df['starter_attachment'] = 1\n",
    "protein_df['recon_file'] = protein_df['file'].apply(lambda f: f[:-4] + '_recon_2/')\n",
    "protein_df['num_components'] = 2\n",
    "protein_df['c'] = 0"
   ]
  },
  {
   "cell_type": "code",
   "execution_count": 315,
   "id": "21b66874-be27-48cb-9162-12031c3d19c4",
   "metadata": {},
   "outputs": [
    {
     "data": {
      "text/plain": [
       "'/work/ccnr/glover.co/net_design/NetDesign/data/protein_complex/complex_portal/X_CPX-10041.txt'"
      ]
     },
     "execution_count": 315,
     "metadata": {},
     "output_type": "execute_result"
    }
   ],
   "source": [
    "protein_df.iloc[1,1]"
   ]
  },
  {
   "cell_type": "code",
   "execution_count": 316,
   "id": "343651d8-28e6-44f7-8b30-22516ed29e2e",
   "metadata": {},
   "outputs": [],
   "source": [
    "param_lines = protein_df.apply(lambda row: ' '.join([f'--{col} {row[col]}' for col in protein_df.columns]), axis=1)\n"
   ]
  },
  {
   "cell_type": "code",
   "execution_count": 317,
   "id": "bcaecbc7-4303-462f-b862-389506d2184c",
   "metadata": {},
   "outputs": [],
   "source": [
    "for i in range(8):\n",
    "    param_lines = param_lines.iloc[i*1000:(i+1)*1000]\n",
    "    param_lines.to_csv(f'../scripts/protein_data/protein_params_{i}.txt',sep = '\\n',index=False,header=False)"
   ]
  },
  {
   "cell_type": "code",
   "execution_count": 318,
   "id": "75e54bfb-1c56-4e34-b5c8-3494c53263e7",
   "metadata": {},
   "outputs": [],
   "source": [
    "files = os.listdir('../data/lego/networks/')"
   ]
  },
  {
   "cell_type": "code",
   "execution_count": 319,
   "id": "84935ca7-b375-451c-b7ec-b135ea3d6bf8",
   "metadata": {},
   "outputs": [],
   "source": [
    "graphs = [f for f in files if f[-1] == 't' and f[0] != 'X']"
   ]
  },
  {
   "cell_type": "code",
   "execution_count": 320,
   "id": "b8c007b5-2e84-4f53-9b53-54a25145f53c",
   "metadata": {},
   "outputs": [],
   "source": [
    "Xs = [f for f in files if f[0] == 'X']"
   ]
  },
  {
   "cell_type": "code",
   "execution_count": 321,
   "id": "be2c8426-405e-4756-848f-4ce0d0d69e04",
   "metadata": {},
   "outputs": [],
   "source": [
    "lego_df = pd.DataFrame(columns=['file','label_file','detachment_rate','c','starter_attachment','recon_file','num_components'])"
   ]
  },
  {
   "cell_type": "code",
   "execution_count": 322,
   "id": "b716bed7-c724-4df2-b274-be7d1157dd68",
   "metadata": {},
   "outputs": [],
   "source": [
    "ratio_vals = np.linspace(1,40,20)\n",
    "# ratio_vals = np.append(ratio_vals,[None for i in range(21)])\n",
    "c_vals = np.append([None for i in range(21)],np.linspace(0,1,21))"
   ]
  },
  {
   "cell_type": "code",
   "execution_count": 323,
   "id": "c599580b-1bea-433e-a391-49abbfecd5f1",
   "metadata": {},
   "outputs": [],
   "source": [
    "lego_df[['file','detachment_rate']] = list(product(graphs,ratio_vals))\n"
   ]
  },
  {
   "cell_type": "code",
   "execution_count": 324,
   "id": "9221c4c6-417d-4544-a0ab-2963dd158bb4",
   "metadata": {},
   "outputs": [],
   "source": [
    "lego_df['label_file'] = lego_df['file'].apply(lambda f:'X' + f[1:])\n",
    "lego_df['file'] = lego_df['file'].apply(lambda f: f'/work/ccnr/glover.co/net_design/NetDesign/data/lego/networks/{f}')\n",
    "lego_df['label_file'] = lego_df['label_file'].apply(lambda f: f'/work/ccnr/glover.co/net_design/NetDesign/data/lego/networks/{f}')\n",
    "lego_df['starter_attachment'] = 1\n",
    "lego_df['recon_file'] = lego_df['file'].apply(lambda f: f[:-4] + '_recon_2/')\n",
    "lego_df['num_components'] = 2\n",
    "lego_df['c'] = 0"
   ]
  },
  {
   "cell_type": "code",
   "execution_count": 325,
   "id": "5b366016-b6b8-4cb7-8453-f638e7d23646",
   "metadata": {},
   "outputs": [],
   "source": [
    "param_lines = lego_df.apply(lambda row: ' '.join([f'--{col} {row[col]}' for col in lego_df.columns]), axis=1)\n"
   ]
  },
  {
   "cell_type": "code",
   "execution_count": 326,
   "id": "5eab5ab7-34bd-4044-aef9-5e92d1866177",
   "metadata": {},
   "outputs": [],
   "source": [
    "for i in range(2):\n",
    "    param_lines = param_lines.iloc[i*1000:(i+1)*1000]\n",
    "    param_lines.to_csv(f'../scripts/lego_data/lego_params_{i}.txt',sep = '\\n',index=False,header=False)"
   ]
  },
  {
   "cell_type": "code",
   "execution_count": 335,
   "id": "0ca2b629-e1bc-4a81-a381-96f086aa073a",
   "metadata": {},
   "outputs": [
    {
     "data": {
      "text/plain": [
       "NodeView(('1', '2', '3', '4', '5', '6', '7', '8'))"
      ]
     },
     "execution_count": 335,
     "metadata": {},
     "output_type": "execute_result"
    }
   ],
   "source": [
    "nx.read_edgelist(lego_df.iloc[692,1]).nodes()"
   ]
  },
  {
   "cell_type": "code",
   "execution_count": 337,
   "id": "f613ab19-8320-4f2b-a13f-ecf3cb69b58e",
   "metadata": {},
   "outputs": [],
   "source": [
    "X = np.loadtxt(lego_df.iloc[692,1])"
   ]
  },
  {
   "cell_type": "code",
   "execution_count": 340,
   "id": "7aa25d4c-330d-4d12-87b2-e8db1a5dd074",
   "metadata": {},
   "outputs": [
    {
     "data": {
      "text/plain": [
       "'/work/ccnr/glover.co/net_design/NetDesign/data/lego/networks/g_classics_lpub3d_000017.txt'"
      ]
     },
     "execution_count": 340,
     "metadata": {},
     "output_type": "execute_result"
    }
   ],
   "source": [
    "lego_df.iloc[692,0]"
   ]
  },
  {
   "cell_type": "code",
   "execution_count": 349,
   "id": "4b44fdda-fd73-4573-9d0c-53f665204296",
   "metadata": {},
   "outputs": [],
   "source": [
    "g = nx.read_edgelist(protein_df.iloc[0,0],nodetype=int)"
   ]
  },
  {
   "cell_type": "code",
   "execution_count": 350,
   "id": "12f58650-1d05-45b7-8ea4-11f9b0bd55fd",
   "metadata": {},
   "outputs": [],
   "source": [
    "X = np.loadtxt(protein_df.iloc[0,1])"
   ]
  },
  {
   "cell_type": "code",
   "execution_count": 351,
   "id": "0352c854-1935-451d-9607-9840a48bb057",
   "metadata": {},
   "outputs": [],
   "source": [
    "O = nd.extract_O(g,X)"
   ]
  },
  {
   "cell_type": "code",
   "execution_count": 346,
   "id": "3a2fee2e-5f7d-4470-bb2a-fe4938997a82",
   "metadata": {},
   "outputs": [
    {
     "data": {
      "text/plain": [
       "NodeView(('0', '2', '1'))"
      ]
     },
     "execution_count": 346,
     "metadata": {},
     "output_type": "execute_result"
    }
   ],
   "source": [
    "g.nodes()"
   ]
  },
  {
   "cell_type": "code",
   "execution_count": null,
   "id": "949bbba6-8e46-47a6-8189-1d95f69bbf2b",
   "metadata": {},
   "outputs": [],
   "source": []
  }
 ],
 "metadata": {
  "kernelspec": {
   "display_name": "Python 3 (ipykernel)",
   "language": "python",
   "name": "python3"
  },
  "language_info": {
   "codemirror_mode": {
    "name": "ipython",
    "version": 3
   },
   "file_extension": ".py",
   "mimetype": "text/x-python",
   "name": "python",
   "nbconvert_exporter": "python",
   "pygments_lexer": "ipython3",
   "version": "3.12.5"
  }
 },
 "nbformat": 4,
 "nbformat_minor": 5
}
