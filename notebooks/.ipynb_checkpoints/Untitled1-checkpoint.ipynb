{
 "cells": [
  {
   "cell_type": "code",
   "execution_count": 2,
   "id": "9353b05a-72a4-4810-a240-84e32b9a87e3",
   "metadata": {},
   "outputs": [],
   "source": [
    "import pandas as pd\n",
    "import os"
   ]
  },
  {
   "cell_type": "code",
   "execution_count": 7,
   "id": "c4eaf54f-94b9-4542-8673-773685a3069c",
   "metadata": {},
   "outputs": [],
   "source": [
    "molecules = os.listdir('/scratch/glover.co/NetDesign/data/Molecules/')\n",
    "molecule_files = molecules[:len(molecules)//2]\n",
    "molecule_X_files = molecules[len(molecules)//2:]"
   ]
  },
  {
   "cell_type": "code",
   "execution_count": 45,
   "id": "4c33ce22-bb68-4a38-afb8-7fea3865647f",
   "metadata": {},
   "outputs": [],
   "source": [
    "df = pd.DataFrame(columns=['--file','file','--X_file','X_file','--tree_dir','tree_dir','--multiedge','multiedge'])"
   ]
  },
  {
   "cell_type": "code",
   "execution_count": 46,
   "id": "ad6e99bc-02be-43f2-937c-643cae0acbd8",
   "metadata": {},
   "outputs": [],
   "source": [
    "df['file'] = molecule_files\n",
    "df['X_file'] = molecule_X_files[:-1]"
   ]
  },
  {
   "cell_type": "code",
   "execution_count": 47,
   "id": "d294fe9d-f150-4878-a8b4-1271811a3805",
   "metadata": {},
   "outputs": [],
   "source": [
    "df['tree_dir'] = df['file']\n",
    "df['tree_dir'] = df['tree_dir'].apply(lambda x: f'trees/{x[:-4]}')"
   ]
  },
  {
   "cell_type": "code",
   "execution_count": 48,
   "id": "ad5223d7-67fa-4e41-ba90-c0d9dccd4489",
   "metadata": {},
   "outputs": [],
   "source": [
    "df['file']  = df['file'].apply(lambda x: f'/scratch/glover.co/NetDesign/data/Molecules/{x}')\n",
    "df['X_file']  = df['X_file'].apply(lambda x: f'/scratch/glover.co/NetDesign/data/Molecules/{x}')\n",
    "df['tree_dir']  = df['tree_dir'].apply(lambda x: f'/scratch/glover.co/NetDesign/data/Molecules/{x}')"
   ]
  },
  {
   "cell_type": "code",
   "execution_count": 49,
   "id": "fd8a3cfb-a7f4-42b5-808d-9963becae1e0",
   "metadata": {},
   "outputs": [],
   "source": [
    "df['--file'] = '--file'\n",
    "df['--X_file'] = '--X_file'\n",
    "df['--tree_dir'] = '--tree_dir'\n",
    "df['--multiedge']='--multiedge'\n",
    "df['multiedge'] = True"
   ]
  },
  {
   "cell_type": "code",
   "execution_count": 52,
   "id": "0d6a9404-41d1-4caf-a42e-10abccd7cd64",
   "metadata": {},
   "outputs": [
    {
     "data": {
      "text/plain": [
       "4382"
      ]
     },
     "execution_count": 52,
     "metadata": {},
     "output_type": "execute_result"
    }
   ],
   "source": [
    "len(df)"
   ]
  },
  {
   "cell_type": "code",
   "execution_count": 53,
   "id": "4a0b3c44-a1f3-444c-9183-ab2a2f4dc0cb",
   "metadata": {},
   "outputs": [],
   "source": [
    "for i in range(0,6):\n",
    "    df.iloc[i*1000:(i+1)*1000].to_csv(f'/work/ccnr/glover.co/net_design/NetDesign/scripts/molecule_params_{i}.txt',sep=' ',header=False,index=False)"
   ]
  },
  {
   "cell_type": "code",
   "execution_count": 56,
   "id": "95ecc715-1b61-4073-8367-40ed01dcc0bf",
   "metadata": {},
   "outputs": [],
   "source": [
    "human_proteins = os.listdir('/scratch/glover.co/NetDesign/data/proteins/human/edgefiles')"
   ]
  },
  {
   "cell_type": "code",
   "execution_count": 58,
   "id": "af1bf1cd-4b2d-4804-8828-54ad3ef8841f",
   "metadata": {
    "scrolled": true
   },
   "outputs": [],
   "source": [
    "human_proteins_X = os.listdir('/scratch/glover.co/NetDesign/data/proteins/human/Xfiles')"
   ]
  },
  {
   "cell_type": "code",
   "execution_count": 60,
   "id": "079b8c04-b44a-440f-bed4-1334183d9acc",
   "metadata": {
    "scrolled": true
   },
   "outputs": [],
   "source": [
    "mouse_proteins = os.listdir('/scratch/glover.co/NetDesign/data/proteins/mouse/edgefiles')\n",
    "mouse_proteins_X = os.listdir('/scratch/glover.co/NetDesign/data/proteins/mouse/Xfiles')\n",
    "yeast_proteins = os.listdir('/scratch/glover.co/NetDesign/data/proteins/yeast/edgefiles')\n",
    "yeast_proteins_X = os.listdir('/scratch/glover.co/NetDesign/data/proteins/yeast/Xfiles')"
   ]
  },
  {
   "cell_type": "code",
   "execution_count": 82,
   "id": "f50d8037-9b45-47ef-a8da-22a71bf158de",
   "metadata": {},
   "outputs": [],
   "source": [
    "df = pd.DataFrame(columns=['--file','file','--X_file','X_file','--tree_dir','tree_dir','--multiedge','multiedge'])"
   ]
  },
  {
   "cell_type": "code",
   "execution_count": 83,
   "id": "4dd8d984-c871-4406-aa1c-cdd57244a63f",
   "metadata": {},
   "outputs": [],
   "source": [
    "df['file'] = human_proteins + mouse_proteins + yeast_proteins\n",
    "df['X_file'] = human_proteins_X + mouse_proteins_X + yeast_proteins_X"
   ]
  },
  {
   "cell_type": "code",
   "execution_count": 84,
   "id": "d04626a7-abfe-4bd6-83da-5d296d2e10e5",
   "metadata": {},
   "outputs": [],
   "source": [
    "df['tree_dir'] = df['file']\n",
    "df['tree_dir'] = df['tree_dir'].apply(lambda x: f'{x[:-5]}')"
   ]
  },
  {
   "cell_type": "code",
   "execution_count": 85,
   "id": "60070425-a7f8-4dcd-8dbd-c41566ec0281",
   "metadata": {},
   "outputs": [],
   "source": [
    "df['--file'] = '--file'\n",
    "df['--X_file'] = '--X_file'\n",
    "df['--tree_dir'] = '--tree_dir'\n",
    "df['--multiedge']='--multiedge'\n",
    "df['multiedge'] = False"
   ]
  },
  {
   "cell_type": "code",
   "execution_count": 86,
   "id": "cf09362e-5c49-405e-b782-038952bbaa82",
   "metadata": {
    "scrolled": true
   },
   "outputs": [
    {
     "name": "stderr",
     "output_type": "stream",
     "text": [
      "/tmp/ipykernel_7775/898150784.py:1: FutureWarning: ChainedAssignmentError: behaviour will change in pandas 3.0!\n",
      "You are setting values through chained assignment. Currently this works in certain cases, but when using Copy-on-Write (which will become the default behaviour in pandas 3.0) this will never work to update the original DataFrame or Series, because the intermediate object on which we are setting values will behave as a copy.\n",
      "A typical example is when you are setting values in a column of a DataFrame, like:\n",
      "\n",
      "df[\"col\"][row_indexer] = value\n",
      "\n",
      "Use `df.loc[row_indexer, \"col\"] = values` instead, to perform the assignment in a single step and ensure this keeps updating the original `df`.\n",
      "\n",
      "See the caveats in the documentation: https://pandas.pydata.org/pandas-docs/stable/user_guide/indexing.html#returning-a-view-versus-a-copy\n",
      "\n",
      "  df['file'].iloc[:len(human_proteins)]  = df['file'].iloc[:len(human_proteins)].apply(lambda x: f'/scratch/glover.co/NetDesign/data/proteins/human/edgefiles/{x}')\n",
      "/tmp/ipykernel_7775/898150784.py:1: SettingWithCopyWarning: \n",
      "A value is trying to be set on a copy of a slice from a DataFrame\n",
      "\n",
      "See the caveats in the documentation: https://pandas.pydata.org/pandas-docs/stable/user_guide/indexing.html#returning-a-view-versus-a-copy\n",
      "  df['file'].iloc[:len(human_proteins)]  = df['file'].iloc[:len(human_proteins)].apply(lambda x: f'/scratch/glover.co/NetDesign/data/proteins/human/edgefiles/{x}')\n",
      "/tmp/ipykernel_7775/898150784.py:2: FutureWarning: ChainedAssignmentError: behaviour will change in pandas 3.0!\n",
      "You are setting values through chained assignment. Currently this works in certain cases, but when using Copy-on-Write (which will become the default behaviour in pandas 3.0) this will never work to update the original DataFrame or Series, because the intermediate object on which we are setting values will behave as a copy.\n",
      "A typical example is when you are setting values in a column of a DataFrame, like:\n",
      "\n",
      "df[\"col\"][row_indexer] = value\n",
      "\n",
      "Use `df.loc[row_indexer, \"col\"] = values` instead, to perform the assignment in a single step and ensure this keeps updating the original `df`.\n",
      "\n",
      "See the caveats in the documentation: https://pandas.pydata.org/pandas-docs/stable/user_guide/indexing.html#returning-a-view-versus-a-copy\n",
      "\n",
      "  df['file'].iloc[len(human_proteins):len(human_proteins) + len(mouse_proteins)]  = df['file'].iloc[len(human_proteins):len(human_proteins) + len(mouse_proteins)].apply(lambda x: f'/scratch/glover.co/NetDesign/data/protein/mouse/edgefiles/{x}')\n",
      "/tmp/ipykernel_7775/898150784.py:2: SettingWithCopyWarning: \n",
      "A value is trying to be set on a copy of a slice from a DataFrame\n",
      "\n",
      "See the caveats in the documentation: https://pandas.pydata.org/pandas-docs/stable/user_guide/indexing.html#returning-a-view-versus-a-copy\n",
      "  df['file'].iloc[len(human_proteins):len(human_proteins) + len(mouse_proteins)]  = df['file'].iloc[len(human_proteins):len(human_proteins) + len(mouse_proteins)].apply(lambda x: f'/scratch/glover.co/NetDesign/data/protein/mouse/edgefiles/{x}')\n",
      "/tmp/ipykernel_7775/898150784.py:3: FutureWarning: ChainedAssignmentError: behaviour will change in pandas 3.0!\n",
      "You are setting values through chained assignment. Currently this works in certain cases, but when using Copy-on-Write (which will become the default behaviour in pandas 3.0) this will never work to update the original DataFrame or Series, because the intermediate object on which we are setting values will behave as a copy.\n",
      "A typical example is when you are setting values in a column of a DataFrame, like:\n",
      "\n",
      "df[\"col\"][row_indexer] = value\n",
      "\n",
      "Use `df.loc[row_indexer, \"col\"] = values` instead, to perform the assignment in a single step and ensure this keeps updating the original `df`.\n",
      "\n",
      "See the caveats in the documentation: https://pandas.pydata.org/pandas-docs/stable/user_guide/indexing.html#returning-a-view-versus-a-copy\n",
      "\n",
      "  df['file'].iloc[-len(yeast_proteins):]  = df['file'].iloc[-len(yeast_proteins):].apply(lambda x: f'/scratch/glover.co/NetDesign/data/proteins/yeast/edgefiles/{x}')\n",
      "/tmp/ipykernel_7775/898150784.py:3: SettingWithCopyWarning: \n",
      "A value is trying to be set on a copy of a slice from a DataFrame\n",
      "\n",
      "See the caveats in the documentation: https://pandas.pydata.org/pandas-docs/stable/user_guide/indexing.html#returning-a-view-versus-a-copy\n",
      "  df['file'].iloc[-len(yeast_proteins):]  = df['file'].iloc[-len(yeast_proteins):].apply(lambda x: f'/scratch/glover.co/NetDesign/data/proteins/yeast/edgefiles/{x}')\n",
      "/tmp/ipykernel_7775/898150784.py:4: FutureWarning: ChainedAssignmentError: behaviour will change in pandas 3.0!\n",
      "You are setting values through chained assignment. Currently this works in certain cases, but when using Copy-on-Write (which will become the default behaviour in pandas 3.0) this will never work to update the original DataFrame or Series, because the intermediate object on which we are setting values will behave as a copy.\n",
      "A typical example is when you are setting values in a column of a DataFrame, like:\n",
      "\n",
      "df[\"col\"][row_indexer] = value\n",
      "\n",
      "Use `df.loc[row_indexer, \"col\"] = values` instead, to perform the assignment in a single step and ensure this keeps updating the original `df`.\n",
      "\n",
      "See the caveats in the documentation: https://pandas.pydata.org/pandas-docs/stable/user_guide/indexing.html#returning-a-view-versus-a-copy\n",
      "\n",
      "  df['X_file'].iloc[:len(human_proteins)]  = df['X_file'].iloc[:len(human_proteins)].apply(lambda x: f'/scratch/glover.co/NetDesign/data/proteins/human/Xfiles/{x}')\n",
      "/tmp/ipykernel_7775/898150784.py:4: SettingWithCopyWarning: \n",
      "A value is trying to be set on a copy of a slice from a DataFrame\n",
      "\n",
      "See the caveats in the documentation: https://pandas.pydata.org/pandas-docs/stable/user_guide/indexing.html#returning-a-view-versus-a-copy\n",
      "  df['X_file'].iloc[:len(human_proteins)]  = df['X_file'].iloc[:len(human_proteins)].apply(lambda x: f'/scratch/glover.co/NetDesign/data/proteins/human/Xfiles/{x}')\n",
      "/tmp/ipykernel_7775/898150784.py:5: FutureWarning: ChainedAssignmentError: behaviour will change in pandas 3.0!\n",
      "You are setting values through chained assignment. Currently this works in certain cases, but when using Copy-on-Write (which will become the default behaviour in pandas 3.0) this will never work to update the original DataFrame or Series, because the intermediate object on which we are setting values will behave as a copy.\n",
      "A typical example is when you are setting values in a column of a DataFrame, like:\n",
      "\n",
      "df[\"col\"][row_indexer] = value\n",
      "\n",
      "Use `df.loc[row_indexer, \"col\"] = values` instead, to perform the assignment in a single step and ensure this keeps updating the original `df`.\n",
      "\n",
      "See the caveats in the documentation: https://pandas.pydata.org/pandas-docs/stable/user_guide/indexing.html#returning-a-view-versus-a-copy\n",
      "\n",
      "  df['X_file'].iloc[len(human_proteins):len(human_proteins) + len(mouse_proteins)]  = df['X_file'].iloc[len(human_proteins):len(human_proteins) + len(mouse_proteins)].apply(lambda x: f'/scratch/glover.co/NetDesign/data/protein/mouse/Xfiles/{x}')\n",
      "/tmp/ipykernel_7775/898150784.py:5: SettingWithCopyWarning: \n",
      "A value is trying to be set on a copy of a slice from a DataFrame\n",
      "\n",
      "See the caveats in the documentation: https://pandas.pydata.org/pandas-docs/stable/user_guide/indexing.html#returning-a-view-versus-a-copy\n",
      "  df['X_file'].iloc[len(human_proteins):len(human_proteins) + len(mouse_proteins)]  = df['X_file'].iloc[len(human_proteins):len(human_proteins) + len(mouse_proteins)].apply(lambda x: f'/scratch/glover.co/NetDesign/data/protein/mouse/Xfiles/{x}')\n",
      "/tmp/ipykernel_7775/898150784.py:6: FutureWarning: ChainedAssignmentError: behaviour will change in pandas 3.0!\n",
      "You are setting values through chained assignment. Currently this works in certain cases, but when using Copy-on-Write (which will become the default behaviour in pandas 3.0) this will never work to update the original DataFrame or Series, because the intermediate object on which we are setting values will behave as a copy.\n",
      "A typical example is when you are setting values in a column of a DataFrame, like:\n",
      "\n",
      "df[\"col\"][row_indexer] = value\n",
      "\n",
      "Use `df.loc[row_indexer, \"col\"] = values` instead, to perform the assignment in a single step and ensure this keeps updating the original `df`.\n",
      "\n",
      "See the caveats in the documentation: https://pandas.pydata.org/pandas-docs/stable/user_guide/indexing.html#returning-a-view-versus-a-copy\n",
      "\n",
      "  df['X_file'].iloc[-len(yeast_proteins):]  = df['X_file'].iloc[-len(yeast_proteins):].apply(lambda x: f'/scratch/glover.co/NetDesign/data/proteins/yeast/Xfiles/{x}')\n",
      "/tmp/ipykernel_7775/898150784.py:6: SettingWithCopyWarning: \n",
      "A value is trying to be set on a copy of a slice from a DataFrame\n",
      "\n",
      "See the caveats in the documentation: https://pandas.pydata.org/pandas-docs/stable/user_guide/indexing.html#returning-a-view-versus-a-copy\n",
      "  df['X_file'].iloc[-len(yeast_proteins):]  = df['X_file'].iloc[-len(yeast_proteins):].apply(lambda x: f'/scratch/glover.co/NetDesign/data/proteins/yeast/Xfiles/{x}')\n"
     ]
    }
   ],
   "source": [
    "df['file'].iloc[:len(human_proteins)]  = df['file'].iloc[:len(human_proteins)].apply(lambda x: f'/scratch/glover.co/NetDesign/data/proteins/human/edgefiles/{x}')\n",
    "df['file'].iloc[len(human_proteins):len(human_proteins) + len(mouse_proteins)]  = df['file'].iloc[len(human_proteins):len(human_proteins) + len(mouse_proteins)].apply(lambda x: f'/scratch/glover.co/NetDesign/data/protein/mouse/edgefiles/{x}')\n",
    "df['file'].iloc[-len(yeast_proteins):]  = df['file'].iloc[-len(yeast_proteins):].apply(lambda x: f'/scratch/glover.co/NetDesign/data/proteins/yeast/edgefiles/{x}')\n",
    "df['X_file'].iloc[:len(human_proteins)]  = df['X_file'].iloc[:len(human_proteins)].apply(lambda x: f'/scratch/glover.co/NetDesign/data/proteins/human/Xfiles/{x}')\n",
    "df['X_file'].iloc[len(human_proteins):len(human_proteins) + len(mouse_proteins)]  = df['X_file'].iloc[len(human_proteins):len(human_proteins) + len(mouse_proteins)].apply(lambda x: f'/scratch/glover.co/NetDesign/data/protein/mouse/Xfiles/{x}')\n",
    "df['X_file'].iloc[-len(yeast_proteins):]  = df['X_file'].iloc[-len(yeast_proteins):].apply(lambda x: f'/scratch/glover.co/NetDesign/data/proteins/yeast/Xfiles/{x}')\n",
    "df['tree_dir']  = df['tree_dir'].apply(lambda x: f'/scratch/glover.co/NetDesign/data/proteins/trees/{x}')"
   ]
  },
  {
   "cell_type": "code",
   "execution_count": 87,
   "id": "108828a3-1498-4399-be4d-4f9897a3c11b",
   "metadata": {},
   "outputs": [],
   "source": [
    "for i in range(0,2):\n",
    "    df.iloc[i*1000:(i+1)*1000].to_csv(f'/work/ccnr/glover.co/net_design/NetDesign/scripts/protein_params_{i}.txt',sep=' ',header=False,index=False)"
   ]
  },
  {
   "cell_type": "code",
   "execution_count": null,
   "id": "92a54690-5248-4e71-82f7-437dfc514672",
   "metadata": {},
   "outputs": [],
   "source": []
  }
 ],
 "metadata": {
  "kernelspec": {
   "display_name": "Python 3 (ipykernel)",
   "language": "python",
   "name": "python3"
  },
  "language_info": {
   "codemirror_mode": {
    "name": "ipython",
    "version": 3
   },
   "file_extension": ".py",
   "mimetype": "text/x-python",
   "name": "python",
   "nbconvert_exporter": "python",
   "pygments_lexer": "ipython3",
   "version": "3.12.5"
  }
 },
 "nbformat": 4,
 "nbformat_minor": 5
}
