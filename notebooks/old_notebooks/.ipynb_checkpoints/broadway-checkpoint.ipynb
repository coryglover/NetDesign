{
 "cells": [
  {
   "cell_type": "code",
   "execution_count": 1,
   "id": "088cb3e3-1b0b-4c83-b49b-3aa7574426c6",
   "metadata": {
    "scrolled": true,
    "tags": []
   },
   "outputs": [
    {
     "name": "stdout",
     "output_type": "stream",
     "text": [
      "Requirement already satisfied: netrd in /home/glover.co/miniconda3/envs/gt/lib/python3.12/site-packages (0.3.0)\n",
      "Requirement already satisfied: networkx>=2.2.0 in /home/glover.co/miniconda3/envs/gt/lib/python3.12/site-packages (from netrd) (3.3)\n",
      "Requirement already satisfied: numpy>=1.16.0 in /home/glover.co/miniconda3/envs/gt/lib/python3.12/site-packages (from netrd) (1.26.4)\n",
      "Requirement already satisfied: scipy>=1.0.0 in /home/glover.co/miniconda3/envs/gt/lib/python3.12/site-packages (from netrd) (1.14.1)\n",
      "Requirement already satisfied: scikit-learn>=0.18.2 in /home/glover.co/miniconda3/envs/gt/lib/python3.12/site-packages (from netrd) (1.5.2)\n",
      "Requirement already satisfied: numpydoc>=0.9 in /home/glover.co/miniconda3/envs/gt/lib/python3.12/site-packages (from netrd) (1.2.1)\n",
      "Requirement already satisfied: ortools>=6.7 in /home/glover.co/miniconda3/envs/gt/lib/python3.12/site-packages (from netrd) (9.10.4067)\n",
      "Requirement already satisfied: sphinx-rtd-theme>=0.4 in /home/glover.co/miniconda3/envs/gt/lib/python3.12/site-packages (from netrd) (1.3.0)\n",
      "Requirement already satisfied: Sphinx==2.0.1 in /home/glover.co/miniconda3/envs/gt/lib/python3.12/site-packages (from netrd) (2.0.1)\n",
      "Requirement already satisfied: sphinxcontrib-applehelp in /home/glover.co/miniconda3/envs/gt/lib/python3.12/site-packages (from Sphinx==2.0.1->netrd) (2.0.0)\n",
      "Requirement already satisfied: sphinxcontrib-devhelp in /home/glover.co/miniconda3/envs/gt/lib/python3.12/site-packages (from Sphinx==2.0.1->netrd) (2.0.0)\n",
      "Requirement already satisfied: sphinxcontrib-jsmath in /home/glover.co/miniconda3/envs/gt/lib/python3.12/site-packages (from Sphinx==2.0.1->netrd) (1.0.1)\n",
      "Requirement already satisfied: sphinxcontrib-htmlhelp in /home/glover.co/miniconda3/envs/gt/lib/python3.12/site-packages (from Sphinx==2.0.1->netrd) (2.1.0)\n",
      "Requirement already satisfied: sphinxcontrib-serializinghtml in /home/glover.co/miniconda3/envs/gt/lib/python3.12/site-packages (from Sphinx==2.0.1->netrd) (2.0.0)\n",
      "Requirement already satisfied: sphinxcontrib-qthelp in /home/glover.co/miniconda3/envs/gt/lib/python3.12/site-packages (from Sphinx==2.0.1->netrd) (2.0.0)\n",
      "Requirement already satisfied: Jinja2>=2.3 in /home/glover.co/miniconda3/envs/gt/lib/python3.12/site-packages (from Sphinx==2.0.1->netrd) (3.0.3)\n",
      "Requirement already satisfied: Pygments>=2.0 in /home/glover.co/miniconda3/envs/gt/lib/python3.12/site-packages (from Sphinx==2.0.1->netrd) (2.15.1)\n",
      "Requirement already satisfied: docutils>=0.12 in /home/glover.co/miniconda3/envs/gt/lib/python3.12/site-packages (from Sphinx==2.0.1->netrd) (0.18.1)\n",
      "Requirement already satisfied: snowballstemmer>=1.1 in /home/glover.co/miniconda3/envs/gt/lib/python3.12/site-packages (from Sphinx==2.0.1->netrd) (2.2.0)\n",
      "Requirement already satisfied: babel!=2.0,>=1.3 in /home/glover.co/miniconda3/envs/gt/lib/python3.12/site-packages (from Sphinx==2.0.1->netrd) (2.11.0)\n",
      "Requirement already satisfied: alabaster<0.8,>=0.7 in /home/glover.co/miniconda3/envs/gt/lib/python3.12/site-packages (from Sphinx==2.0.1->netrd) (0.7.16)\n",
      "Requirement already satisfied: imagesize in /home/glover.co/miniconda3/envs/gt/lib/python3.12/site-packages (from Sphinx==2.0.1->netrd) (1.4.1)\n",
      "Requirement already satisfied: requests>=2.5.0 in /home/glover.co/miniconda3/envs/gt/lib/python3.12/site-packages (from Sphinx==2.0.1->netrd) (2.32.3)\n",
      "Requirement already satisfied: setuptools in /home/glover.co/miniconda3/envs/gt/lib/python3.12/site-packages (from Sphinx==2.0.1->netrd) (73.0.1)\n",
      "Requirement already satisfied: packaging in /home/glover.co/miniconda3/envs/gt/lib/python3.12/site-packages (from Sphinx==2.0.1->netrd) (24.1)\n",
      "Requirement already satisfied: absl-py>=2.0.0 in /home/glover.co/miniconda3/envs/gt/lib/python3.12/site-packages (from ortools>=6.7->netrd) (2.1.0)\n",
      "Requirement already satisfied: pandas>=2.0.0 in /home/glover.co/miniconda3/envs/gt/lib/python3.12/site-packages (from ortools>=6.7->netrd) (2.2.2)\n",
      "Requirement already satisfied: protobuf>=5.26.1 in /home/glover.co/miniconda3/envs/gt/lib/python3.12/site-packages (from ortools>=6.7->netrd) (5.28.1)\n",
      "Requirement already satisfied: immutabledict>=3.0.0 in /home/glover.co/miniconda3/envs/gt/lib/python3.12/site-packages (from ortools>=6.7->netrd) (4.2.0)\n",
      "Requirement already satisfied: joblib>=1.2.0 in /home/glover.co/miniconda3/envs/gt/lib/python3.12/site-packages (from scikit-learn>=0.18.2->netrd) (1.4.2)\n",
      "Requirement already satisfied: threadpoolctl>=3.1.0 in /home/glover.co/miniconda3/envs/gt/lib/python3.12/site-packages (from scikit-learn>=0.18.2->netrd) (3.5.0)\n",
      "Requirement already satisfied: sphinxcontrib-jquery<5,>=4 in /home/glover.co/miniconda3/envs/gt/lib/python3.12/site-packages (from sphinx-rtd-theme>=0.4->netrd) (4.1)\n",
      "Requirement already satisfied: pytz>=2015.7 in /home/glover.co/miniconda3/envs/gt/lib/python3.12/site-packages (from babel!=2.0,>=1.3->Sphinx==2.0.1->netrd) (2024.1)\n",
      "Requirement already satisfied: MarkupSafe>=2.0 in /home/glover.co/miniconda3/envs/gt/lib/python3.12/site-packages (from Jinja2>=2.3->Sphinx==2.0.1->netrd) (2.1.3)\n",
      "Requirement already satisfied: python-dateutil>=2.8.2 in /home/glover.co/miniconda3/envs/gt/lib/python3.12/site-packages (from pandas>=2.0.0->ortools>=6.7->netrd) (2.9.0)\n",
      "Requirement already satisfied: tzdata>=2022.7 in /home/glover.co/miniconda3/envs/gt/lib/python3.12/site-packages (from pandas>=2.0.0->ortools>=6.7->netrd) (2023.3)\n",
      "Requirement already satisfied: charset-normalizer<4,>=2 in /home/glover.co/miniconda3/envs/gt/lib/python3.12/site-packages (from requests>=2.5.0->Sphinx==2.0.1->netrd) (3.3.2)\n",
      "Requirement already satisfied: idna<4,>=2.5 in /home/glover.co/miniconda3/envs/gt/lib/python3.12/site-packages (from requests>=2.5.0->Sphinx==2.0.1->netrd) (3.7)\n",
      "Requirement already satisfied: urllib3<3,>=1.21.1 in /home/glover.co/miniconda3/envs/gt/lib/python3.12/site-packages (from requests>=2.5.0->Sphinx==2.0.1->netrd) (2.2.2)\n",
      "Requirement already satisfied: certifi>=2017.4.17 in /home/glover.co/miniconda3/envs/gt/lib/python3.12/site-packages (from requests>=2.5.0->Sphinx==2.0.1->netrd) (2024.8.30)\n",
      "Requirement already satisfied: six>=1.5 in /home/glover.co/miniconda3/envs/gt/lib/python3.12/site-packages (from python-dateutil>=2.8.2->pandas>=2.0.0->ortools>=6.7->netrd) (1.16.0)\n"
     ]
    }
   ],
   "source": [
    "import pandas as pd\n",
    "import numpy as np\n",
    "import matplotlib.pyplot as plt\n",
    "import networkx as nx\n",
    "import network_design as nd\n",
    "!pip install netrd\n",
    "import netrd"
   ]
  },
  {
   "cell_type": "code",
   "execution_count": null,
   "id": "2b6178b6-72d9-464b-8fff-f56a09bbfcf6",
   "metadata": {},
   "outputs": [],
   "source": []
  },
  {
   "cell_type": "code",
   "execution_count": 2,
   "id": "bcffbe75-7722-4844-b3b8-f74008f7ca36",
   "metadata": {},
   "outputs": [],
   "source": [
    "df_people = pd.read_csv('data/social_networks/broadway/broadway_people.csv',index_col=False)"
   ]
  },
  {
   "cell_type": "code",
   "execution_count": 3,
   "id": "969380fa-3275-4286-91e0-27c5e71dfd34",
   "metadata": {},
   "outputs": [],
   "source": [
    "creatives = ['Written','Directed','Lyrics','Book','Music','Original Music','Choreographed','Book adapted']"
   ]
  },
  {
   "cell_type": "code",
   "execution_count": 4,
   "id": "2118401c-783a-4373-8ca7-67cd4bb9972a",
   "metadata": {},
   "outputs": [],
   "source": [
    "df_creatives = df_people[df_people.Role.isin(creatives)]"
   ]
  },
  {
   "cell_type": "code",
   "execution_count": 5,
   "id": "ec8023b7-1228-4a92-89fa-baf13c89a05d",
   "metadata": {},
   "outputs": [],
   "source": [
    "df_shows = pd.read_csv('data/social_networks/broadway/broadway_show.csv',index_col=False)"
   ]
  },
  {
   "cell_type": "code",
   "execution_count": 6,
   "id": "b0035c10-fca3-4cf7-ab9d-f443f8b8141d",
   "metadata": {},
   "outputs": [],
   "source": [
    "valid_shows = pd.unique(df_shows.Season)[-10:]"
   ]
  },
  {
   "cell_type": "code",
   "execution_count": 7,
   "id": "3e8a8657-b27a-434b-aeec-b426c12c4c15",
   "metadata": {},
   "outputs": [],
   "source": [
    "df_shows = df_shows[df_shows.Season.isin(valid_shows)]"
   ]
  },
  {
   "cell_type": "code",
   "execution_count": 11,
   "id": "e073e114-1621-4e54-9f61-f080211c46b8",
   "metadata": {},
   "outputs": [],
   "source": [
    "df_musicals = df_shows[df_shows.Type=='Musical']"
   ]
  },
  {
   "cell_type": "code",
   "execution_count": 10,
   "id": "b9c46fdf-6032-4be8-972f-98f85320925b",
   "metadata": {},
   "outputs": [
    {
     "ename": "NameError",
     "evalue": "name 'df_musicals' is not defined",
     "output_type": "error",
     "traceback": [
      "\u001b[0;31m---------------------------------------------------------------------------\u001b[0m",
      "\u001b[0;31mNameError\u001b[0m                                 Traceback (most recent call last)",
      "Cell \u001b[0;32mIn[10], line 1\u001b[0m\n\u001b[0;32m----> 1\u001b[0m df_musicals\n",
      "\u001b[0;31mNameError\u001b[0m: name 'df_musicals' is not defined"
     ]
    }
   ],
   "source": [
    "df_musicals"
   ]
  },
  {
   "cell_type": "code",
   "execution_count": 12,
   "id": "dd25648f-c47e-480e-ad19-0cf277f8c112",
   "metadata": {},
   "outputs": [
    {
     "name": "stderr",
     "output_type": "stream",
     "text": [
      "/tmp/ipykernel_24835/1160362963.py:3: FutureWarning: Downcasting behavior in `replace` is deprecated and will be removed in a future version. To retain the old behavior, explicitly call `result.infer_objects(copy=False)`. To opt-in to the future behavior, set `pd.set_option('future.no_silent_downcasting', True)`\n",
      "  df_creatives_10_years = df_creatives_10_years.replace('Book adapted','Book')\n"
     ]
    }
   ],
   "source": [
    "# Get creatives\n",
    "df_creatives_10_years = pd.merge(df_musicals,df_creatives,on='Show')\n",
    "df_creatives_10_years = df_creatives_10_years.replace('Book adapted','Book')\n",
    "df_creatives_10_years = df_creatives_10_years.replace('Written','Book')"
   ]
  },
  {
   "cell_type": "code",
   "execution_count": 13,
   "id": "75f60e48-60ab-444e-a855-b93023a7556d",
   "metadata": {},
   "outputs": [
    {
     "data": {
      "text/plain": [
       "array(['Book', 'Lyrics', 'Music', 'Directed', 'Choreographed'],\n",
       "      dtype=object)"
      ]
     },
     "execution_count": 13,
     "metadata": {},
     "output_type": "execute_result"
    }
   ],
   "source": [
    "pd.unique(df_creatives_10_years.Role)"
   ]
  },
  {
   "cell_type": "code",
   "execution_count": 14,
   "id": "20191692-9ccc-4dd9-b444-f867d08c2b36",
   "metadata": {},
   "outputs": [],
   "source": [
    "g = nx.Graph()\n",
    "g.add_nodes_from(pd.unique(df_creatives_10_years.Person))\n",
    "g.add_nodes_from(pd.unique(df_creatives_10_years.Show))"
   ]
  },
  {
   "cell_type": "code",
   "execution_count": 15,
   "id": "5f5083a2-3d3b-48f5-b6d2-6d7719495312",
   "metadata": {},
   "outputs": [],
   "source": [
    "particle_types = list(set([tuple(np.sort(pd.unique(df_creatives_10_years[df_creatives_10_years.Person == p].Role))) for p in pd.unique(df_creatives_10_years.Person)])) + ['Show']"
   ]
  },
  {
   "cell_type": "code",
   "execution_count": 16,
   "id": "bb4b00bd-e1a9-43cd-9e4c-f338c66a0424",
   "metadata": {},
   "outputs": [
    {
     "data": {
      "text/plain": [
       "[('Lyrics', 'Music'),\n",
       " ('Directed', 'Lyrics'),\n",
       " ('Book', 'Lyrics'),\n",
       " ('Book', 'Directed', 'Lyrics', 'Music'),\n",
       " ('Choreographed',),\n",
       " ('Book', 'Directed'),\n",
       " ('Lyrics',),\n",
       " ('Book', 'Music'),\n",
       " ('Directed',),\n",
       " ('Book', 'Choreographed', 'Directed'),\n",
       " ('Music',),\n",
       " ('Book', 'Lyrics', 'Music'),\n",
       " ('Book',),\n",
       " ('Choreographed', 'Directed'),\n",
       " 'Show']"
      ]
     },
     "execution_count": 16,
     "metadata": {},
     "output_type": "execute_result"
    }
   ],
   "source": [
    "particle_types"
   ]
  },
  {
   "cell_type": "code",
   "execution_count": 17,
   "id": "76fd2c87-07fd-4ee4-8602-2af9a562093e",
   "metadata": {},
   "outputs": [],
   "source": [
    "from itertools import combinations\n",
    "for s in pd.unique(df_creatives_10_years.Show):\n",
    "    # Get people\n",
    "    cur_show = df_creatives_10_years[df_creatives_10_years.Show == s]\n",
    "    people = pd.unique(cur_show.Person)\n",
    "    # pairs = list(combinations(people,2))\n",
    "    pairs = [(s,p) for p in people]\n",
    "    g.add_edges_from(pairs)"
   ]
  },
  {
   "cell_type": "code",
   "execution_count": 18,
   "id": "88e698a9-4402-49a1-b02f-a133f4591219",
   "metadata": {},
   "outputs": [],
   "source": [
    "for n in list(g.nodes()):\n",
    "    if len(pd.unique(df_creatives_10_years[df_creatives_10_years.Person == n].Role)) > 1:\n",
    "        g.remove_node(n)"
   ]
  },
  {
   "cell_type": "code",
   "execution_count": 19,
   "id": "dbca4720-bb7d-4e16-a1c2-4c6626ba98be",
   "metadata": {},
   "outputs": [
    {
     "data": {
      "image/png": "[encoded data removed]",
      "text/plain": [
       "<Figure size 640x480 with 1 Axes>"
      ]
     },
     "metadata": {},
     "output_type": "display_data"
    }
   ],
   "source": [
    "nx.draw(g,node_size=10,width=1)"
   ]
  },
  {
   "cell_type": "code",
   "execution_count": 17,
   "id": "d9a71f83-3dd2-47f8-a0e5-74eaeffb5863",
   "metadata": {},
   "outputs": [],
   "source": [
    "h = nx.subgraph(g,sorted(list(nx.connected_components(g)),key=len,reverse=True)[0])"
   ]
  },
  {
   "cell_type": "code",
   "execution_count": 18,
   "id": "81a73653-5bc2-4d52-9e46-6e105dff0211",
   "metadata": {},
   "outputs": [
    {
     "data": {
      "image/png": "[encoded data removed]",
      "text/plain": [
       "<Figure size 640x480 with 1 Axes>"
      ]
     },
     "metadata": {},
     "output_type": "display_data"
    }
   ],
   "source": [
    "nx.draw(h,node_size=10,width=1)"
   ]
  },
  {
   "cell_type": "code",
   "execution_count": 83,
   "id": "6820cb54-e256-48c0-821c-ad0da9959b2f",
   "metadata": {},
   "outputs": [
    {
     "data": {
      "image/png": "[encoded data removed]",
      "text/plain": [
       "<Figure size 432x288 with 1 Axes>"
      ]
     },
     "metadata": {
      "needs_background": "light"
     },
     "output_type": "display_data"
    }
   ],
   "source": [
    "plt.hist(np.array(h.degree())[:,1])\n",
    "plt.xscale('log')\n",
    "plt.yscale('log')\n",
    "plt.show()"
   ]
  },
  {
   "cell_type": "code",
   "execution_count": 28,
   "id": "c33002ce-eb93-4b32-b86f-e5a516106b13",
   "metadata": {},
   "outputs": [],
   "source": [
    "vals = np.array(list(dict(nx.pagerank(g)).values()))\n",
    "names = list(dict(nx.pagerank(g)).keys())"
   ]
  },
  {
   "cell_type": "code",
   "execution_count": 29,
   "id": "6e5862be-cbe7-4cc4-b1d8-8e209c22e462",
   "metadata": {
    "scrolled": true,
    "tags": []
   },
   "outputs": [
    {
     "data": {
      "text/plain": [
       "array(['Forever Tango', 'Kiss Me, Kate',\n",
       "       'Beautiful The Carole King Musical', 'Hair', 'Warren Carlyle',\n",
       "       'On the Town', 'The Visit', 'My Fair Lady', 'Christopher Gattelli',\n",
       "       'Hello, Dolly!', 'Oklahoma!', 'Gigi', 'Jesus Christ Superstar',\n",
       "       'Frozen', 'The Color Purple', 'Allegiance', 'Company', 'Carousel',\n",
       "       'The King and I', 'Caroline, or Change', 'Follies',\n",
       "       'On the Twentieth Century', 'Les Misérables', 'West Side Story',\n",
       "       'Spider-Man: Turn Off The Dark', 'Anastasia', 'Cabaret',\n",
       "       'Fiddler on the Roof', 'Harold Prince', 'Side Show',\n",
       "       'Pretty Woman: The Musical', 'On a Clear Day You Can See Forever',\n",
       "       'Rocky', 'Beetlejuice', 'The Rascals: Once Upon A Dream', 'Six',\n",
       "       'Soul Doctor', 'Once', 'First Date', 'Dames at Sea', 'Scandalous',\n",
       "       'Motown The Musical', \"Gettin' The Band Back Together\",\n",
       "       'Finding Neverland', \"The Gershwins' Porgy and Bess\",\n",
       "       'Diane Paulus', 'Spring Awakening', 'Sunset Boulevard',\n",
       "       'Doctor Zhivago', 'Annie', 'Jekyll & Hyde', 'Ghost The Musical',\n",
       "       'In Transit', 'Leap of Faith', 'Charlie and the Chocolate Factory',\n",
       "       'Tuck Everlasting', 'A Bronx Tale The Musical', 'The Last Ship',\n",
       "       'Evita', 'Escape to Margaritaville', 'Casey Nicholaw',\n",
       "       'Groundhog Day', 'Violet', 'It Shoulda Been You', 'Bright Star',\n",
       "       'Scott Ellis',\n",
       "       'Shuffle Along, Or The Making of the Musical Sensation of 1921 and All That Followed',\n",
       "       'Lysistrata Jones', 'Holler If Ya Hear Me',\n",
       "       \"Ruben & Clay's First Annual Christmas Carol Family Fun Pageant Spectacular Reunion Show\",\n",
       "       'Derren Brown: Secret', 'Cirque du Soleil Paramour',\n",
       "       'She Loves Me', 'Dear Evan Hansen', 'American Psycho',\n",
       "       'Susan Stroman', 'Holiday Inn, The New Irving Berlin Musical',\n",
       "       'Amazing Grace', 'Be More Chill', 'War Paint', 'Miss Saigon',\n",
       "       'The Music Man', 'Newsies The Musical',\n",
       "       'A Christmas Story The Musical', \"The Band's Visit\",\n",
       "       'Amélie, A New Musical', 'Fun Home', 'Mean Girls',\n",
       "       'The Mystery of Edwin Drood', 'School of Rock – The Musical',\n",
       "       'Sergio Trujillo', 'Hands on a Hardbody', 'Once on This Island',\n",
       "       'The Lightning Thief', 'Jagged Little Pill',\n",
       "       \"A Gentleman's Guide to Love & Murder\", 'Pippin', 'Mrs. Doubtfire',\n",
       "       'Andrew Lloyd Webber', 'Godspell',\n",
       "       'Natasha, Pierre & The Great Comet of 1812', 'Hadestown',\n",
       "       'Waitress', 'George C. Wolfe', 'Aladdin', 'Bonnie and Clyde',\n",
       "       'Elf', 'Summer', 'Sunday in the Park with George',\n",
       "       'Matilda The Musical', 'Michael Mayer', 'Honeymoon in Vegas',\n",
       "       'John Rando', 'Cats', 'Bring It On The Musical', 'If/Then',\n",
       "       \"Ain't Too Proud\", 'An American in Paris', 'Fela!',\n",
       "       'A Strange Loop', 'Christopher Ashley', 'Diana, The Musical',\n",
       "       'Tootsie', 'Tina', 'Flying Over Sunset',\n",
       "       \"Rodgers + Hammerstein's Cinderella\", 'Denis Jones',\n",
       "       'Matthew Warchus', 'King Kong', 'Girl From The North Country',\n",
       "       'Lewis Black', 'Mike Tyson: Undisputed Truth',\n",
       "       'Richard Jay-Alexander', 'Lord of the Dance: Dangerous Games',\n",
       "       'Evan Jolly', 'Neil Dorward', 'James Lapine', 'Des McAnuff',\n",
       "       'Bandstand', 'Disaster!', 'Kelly Devine',\n",
       "       'Hedwig and the Angry Inch', 'Trevor Nunn', 'Kathleen Marshall',\n",
       "       'Come From Away', 'Nice Work If You Can Get It', 'Jerry Zaks',\n",
       "       'Big Fish', 'Bartlett Sher', 'Stephen Sondheim', 'The Cher Show',\n",
       "       'SpongeBob SquarePants', 'Something Rotten!', 'Jerome Robbins',\n",
       "       'Oscar Hammerstein II', 'Richard Rodgers', 'Stephen Brackett',\n",
       "       'Jeanine Tesori', 'Alan Menken', 'Thomas Meehan', 'Kinky Boots',\n",
       "       'Moulin Rouge! The Musical', 'The Prom', 'Josh Rhodes',\n",
       "       'Anthony Van Laast', 'Jerry Mitchell', 'Head Over Heels',\n",
       "       'On Your Feet!', 'Alex Timbers', 'Falsettos', 'Lorin Latarro',\n",
       "       'Andy Blankenbuehler', 'JoAnn M. Hunter', 'Spencer Liff',\n",
       "       'Jeff Calhoun', 'Alan Jay Lerner', 'Joshua Bergasse',\n",
       "       'The Bridges of Madison County', 'Prince of Broadway', 'Tom Kitt',\n",
       "       'A Night with Janis Joplin', 'Michael Greif', 'Rachel Chavkin',\n",
       "       'Chaplin', 'Thomas Kail', 'George Gershwin', 'Ira Gershwin',\n",
       "       'Michael Korie', 'John Doyle', 'Laurence Connor', 'Lynn Ahrens',\n",
       "       'Stephen Flaherty', 'MJ The Musical', 'Graciela Daniele',\n",
       "       'Harry Connick, Jr. - A Celebration of Cole Porter',\n",
       "       'Glenn Slater', 'Tim Rice', 'Patricia Wilcox', 'Hamilton',\n",
       "       'Kye Brackett', 'An Evening with Patti LuPone and Mandy Patinkin',\n",
       "       \"Shatner's World: We Just Live in It\", 'Brian Burke',\n",
       "       'Mandy Patinkin', 'Il Divo - A Musical Affair', 'Scott Faris',\n",
       "       'Bruce Springsteen', 'Manilow Broadway', 'Springsteen on Broadway',\n",
       "       'Roberto Aguirre-Sacasa', 'Chad Beguelin',\n",
       "       'The Illusionists - Live on Broadway',\n",
       "       'The Illusionists - Witness the Impossible',\n",
       "       'Penn & Teller On Broadway', 'Bullets Over Broadway',\n",
       "       'Christopher Wheeldon', 'Cole Porter', 'Bill T. Jones',\n",
       "       'Joe Tracz', 'Lin-Manuel Miranda', 'Patrick McCollum',\n",
       "       'Nathan Tysen', 'Glen Ballard', 'Stephen Schwartz',\n",
       "       'The Legendary Motown Catalog', 'Duncan Sheik', 'John Logan',\n",
       "       'Frank Wildhorn', 'Kristen Anderson-Lopez', 'Craig Lucas',\n",
       "       'Amanda Green', 'Danny Mefford', 'David Yazbek', 'Doug Wright',\n",
       "       'Harvey Fierstein', 'Darko Tresnjak', 'Peggy Hickey',\n",
       "       'Gary Griffin', 'Brian Yorkey', 'Tim Minchin', 'Peter Darling',\n",
       "       'Don Black', 'Marsha Norman', \"Tom O'Horgan\", 'Jason Robert Brown',\n",
       "       \"Jack O'Brien\", 'Frederick Loewe', 'Rob Ashford',\n",
       "       'Michael Grandage', 'Steven Hoggett', 'Benj Pasek', 'Justin Paul',\n",
       "       'Alain Boublil', 'Claude-Michel Schönberg', 'Michael Arden',\n",
       "       'Peter Gennaro', 'Spike Lee', 'Black to the Future',\n",
       "       'Kristin Chenoweth: For the Girls', 'My Love Letter to Broadway',\n",
       "       'Kiki Tyson', 'Bob Dylan', 'Gerard Fahy', 'Running On Empty',\n",
       "       'Michael Flatley', 'Drew McOnie', 'Conor McPherson', 'Jack Thorne',\n",
       "       'Joe DiPietro', 'Leonard Bernstein', 'Eric Schaeffer',\n",
       "       'Terrence McNally', 'Fred Ebb', 'John Kander', 'Nicholas Hytner',\n",
       "       'Agnes de Mille', 'Rouben Mamoulian', 'Karey Kirkpatrick',\n",
       "       \"John O'Farrell\", 'Wayne Kirkpatrick', 'Betty Comden',\n",
       "       'Adolph Green', 'Joe Masteroff', 'Sheldon Harnick', 'Jerry Bock',\n",
       "       'Matthew Sklar', 'Bob Martin', 'Todd Kreidler', 'Lewis Flinn',\n",
       "       'Tupac Amaru Shakur', 'Dan Knechtges', 'Kenny Leon', 'Ken Arpino',\n",
       "       'Andreas Carlsson', 'Bob & Bill', \"Andrew O'Connor\", 'Andy Nyman',\n",
       "       'Philippe Decouflé', 'Derren Brown', 'Douglas Carter Beane',\n",
       "       'Jesse Joyce', 'Jonathan Tessero', 'Jamie Armitage', 'Lucy Moss',\n",
       "       'Toby Marlow', 'Glen Hansard', 'Benoit-Swan Pouffer',\n",
       "       'Carrie-Anne Ingrouille', 'Bill Berry', 'Daniel S. Wise',\n",
       "       'Alan Zachary', 'Michael Weiner', 'Enda Walsh', 'Shlomo Carlebach',\n",
       "       'David Schechter', 'Austin Winsberg', 'Robin Miller',\n",
       "       'Felix Cavaliere', 'Steven Van Zandt', 'Marc Brickman',\n",
       "       'Eddie Brigati', 'George Haimsohn', 'Jim Wise', 'Randy Skinner',\n",
       "       'Markéta Irglová', 'John Tiffany', 'Marc Acito', 'Andrew Palermo',\n",
       "       'Jay Kuo', 'Stafford Arima', 'Lorenzo Thione', 'Anaïs Mitchell',\n",
       "       'David Neumann', 'Dave Malloy', 'Sam Pinkleton', 'Randy Johnson',\n",
       "       'Freestyle Love Supreme', 'Josh Prince', 'Barry Mann',\n",
       "       'Cynthia Weil', 'Marc Bruni', 'Carole King', 'Douglas McGrath',\n",
       "       'Gerry Goffin', 'Lynn Nottage', 'Harry Connick, Jr.', 'Bono',\n",
       "       'The Edge', 'Glen Berger', 'Julie Taymor', 'Jim Lewis',\n",
       "       'Fela Anikulapo-Kuti', 'Michael R. Jackson', 'Raja Feather Kelly',\n",
       "       'Brian Crawley', 'Jeffrey Page', 'Leigh Silverman', 'Katori Hall',\n",
       "       'Phyllida Lloyd', 'Edie Brickell', 'Steve Martin',\n",
       "       'David Hyde Pierce', 'Walter Bobbie', 'Barbara Anselmi',\n",
       "       'Brian Hargrove', 'Robert Longbottom', 'Bill Russell',\n",
       "       'Bill Condon', 'Henry Krieger',\n",
       "       'The Illusionists - Magic of the Holidays',\n",
       "       'The Illusionists - Turn of the Century', 'Bryan Adams',\n",
       "       'Garry Marshall', 'J.F. Lawton', 'Jim Vallance', 'Eubie Blake',\n",
       "       'Noble Sissle', 'Savion Glover', 'Richard Oberacker', 'Rob Taylor',\n",
       "       'Seth Rudetsky', 'Jack Plotnick', 'Penn & Teller', 'Anthony King',\n",
       "       'Connor Gallagher', 'Eddie Perfect', 'Scott Brown',\n",
       "       'Stephen Trask', 'John Cameron Mitchell', 'David Friedman',\n",
       "       'David Pomeranz', 'Kathie Lee Gifford', 'David Armstrong',\n",
       "       'Warren Adams', 'Charles Randolph-Wright', 'Berry Gordy',\n",
       "       'Claudia Mendoza', 'Gabriel Ortega', 'Cecilia Saia',\n",
       "       'Guillermo Merlo', 'Laura Marcarie', 'Carlos Vera',\n",
       "       'Karina Piazza', 'Jorge Torres', 'Zumo Leguizamón',\n",
       "       'Belén Bartolomé', 'Florencia Blanco', 'Hernán Lazart',\n",
       "       'Natalia Turelli', 'Ariel Manzanares', 'Diego Ortega',\n",
       "       'Aldana Silveyra', 'Sebastián Ripoll', 'Claudio Gonazalez',\n",
       "       'Francisco Forquera', 'Natalia Hills', 'Verónica Gardella',\n",
       "       'Carolina Zokalski', 'Nora Robles', 'Pedro Calveyra',\n",
       "       'Marcela Durán', 'Sandra Bootz', 'Victoria Galoto',\n",
       "       'Mariana Bojanich', 'Guillermina Quiroga', 'Juan Paulo Horvath',\n",
       "       'César Peral', 'Alejandra Gutty', 'Marcelo Bernadaz',\n",
       "       'Carlos Gavito', 'Luis Bravo', 'Diego DiFalco', 'Gaspar Godoy',\n",
       "       'Soledad Buss', 'Melina Brufman', 'Luis Castro', 'Miriam Larici',\n",
       "       'Ken Davenport', 'Chris Bailey', 'Mark Allen', 'The Grundleshotz',\n",
       "       'Gary Barlow', 'Mia Michaels', 'James Graham', 'Eliot Kennedy',\n",
       "       'Rupert Goold', 'Lynne Page', 'David Hein', 'Irene Sankoff',\n",
       "       'Woody Allen', 'John August', 'Andrew Lippa', 'Irving Berlin',\n",
       "       'Chad Hodge', 'Gordon Greenberg', 'Arthur Giron', 'Gabriel Barre',\n",
       "       'Christopher Smith', 'Kyle Jarrow', 'Tina Landau', 'Jason Moore',\n",
       "       'Rick Elice', 'Chase Brock', 'Joe Iconis', 'David Cromer',\n",
       "       'Itamar Moses', 'Daniel Messé', 'Pam MacKinnon', 'Sam Gold',\n",
       "       'Lisa Kron', 'Michael Longhurst', 'Hope Clarke', 'Ann Yee',\n",
       "       'Tony Kushner', 'Tina Fey', 'Nell Benjamin', 'Jeff Richmond',\n",
       "       'Trey Anastasio', 'Neil Pepe', 'Cyndi Lauper', 'Rob Rokicki',\n",
       "       'Sonya Tayeh', 'Leslie Bricusse', 'Joey Pizzi', 'Robin Phillips',\n",
       "       'Diablo Cody', 'Alanis Morissette', 'Robert L. Freedman',\n",
       "       'Steven Lutvak', 'Bob Fosse', 'Roger O. Hirson',\n",
       "       'Bruce Joel Rubin', 'Dave Stewart', 'Ashley Wallen',\n",
       "       'John-Michael Tebelak', 'Daniel Goldstein', 'Russ Kaplan',\n",
       "       'James-Allen Ford', 'Sara Wordsworth', 'Scott Wittman',\n",
       "       'Marc Shaiman', 'David Greig', 'Chris Miller', 'Claudia Shear',\n",
       "       'Tim Federle', 'Sara Bareilles', 'Jessie Nelson',\n",
       "       'Barack on Broadway', 'James Magruder', 'Bryony Lavery',\n",
       "       'Jennifer Lee', 'Robert Lopez', 'Doug Hughes',\n",
       "       'Alexander Dinelaris', 'Joe Mantello', 'Sting', 'Greg Garcia',\n",
       "       \"Mike O'Malley\", 'Jimmy Buffett', 'Lee Roy Reams', 'Jack Craig',\n",
       "       'Jerry Herman', 'Michael Stewart', 'Lucia Victor',\n",
       "       'Gower Champion', 'Brenda Russell', 'Allee Willis', 'Stephen Bray',\n",
       "       'Donald Byrd', 'Karole Armitage', 'Devanand N. Janki',\n",
       "       'Gerome Ragni', 'Julie Arenal', 'Galt MacDermot', 'James Rado',\n",
       "       'Ivan Menchell', 'William Finn', 'Ellen Kane', 'Danny Rubin',\n",
       "       'Robert Lewis', 'Herbert Ross', 'Burton Lane', 'Colman Domingo',\n",
       "       'Robert Cary', 'Sarna Lapine', 'Sam Buntrock', 'Dennis Kelly',\n",
       "       'Andrew Bergman', 'Gillian Lynne', 'T.S. Eliot', 'Ronald K. Brown',\n",
       "       'Dorothy Heyward', 'DuBose Heyward', 'Onna White', 'Joseph Hardy',\n",
       "       'Raymond Rouleau', 'Anita Loos', 'Steven Sater', 'Larry Keigwin',\n",
       "       'Christopher Hampton', 'Lonny Price', 'Stephen Mear',\n",
       "       'Dominique Morisseau', 'Crandall Diehl', 'Patrick Garland',\n",
       "       'Jerry Adler', 'Donald Saddler', 'Howard Davies', 'Sam Spewack',\n",
       "       'Samuel Spewack', 'Bella Spewack', 'Michael Blakemore',\n",
       "       'Hanya Holm', 'John C. Wilson', 'Lucy Simon', 'Amy Powers',\n",
       "       'Michael Weller', 'Steven Levenson', 'David Thompson',\n",
       "       'David Bryan', 'Robert Horn', 'John Caird', 'James Powell',\n",
       "       'Herbert Kretzmer', 'Mark Brokaw', 'Michelle Dorrance',\n",
       "       'Christopher Curtis', 'Scott Frankel', 'Gale Edwards',\n",
       "       'Lisa Shriver', 'William Daniel Grey', 'Richard Maltby, Jr.',\n",
       "       'Martin Charnin', 'Charles Strouse', 'Ivo van Hove',\n",
       "       'Arthur Laurents', 'Anne Teresa De Keersmaeker',\n",
       "       'Meredith Willson', 'Michael Kidd', 'Marcelle Maurette',\n",
       "       'Alan Schneider', 'Jack Feldman', 'Joseph Robinette', 'Sam Mendes',\n",
       "       'Ronald Field', 'Rob Marshall', 'David Leveaux', 'Hofesh Shechter',\n",
       "       'Joseph Stein', 'Ron Field', 'George Abbott', 'Keith Young',\n",
       "       'Wilford Leach', 'Rupert Holmes', 'George Furth', 'Barry Brown',\n",
       "       'Liam Steel', 'Marianne Elliott', 'Julian Fellowes',\n",
       "       'Warren Leight', 'Janus Cercone', 'Edwin Sherin', 'Peter Brook',\n",
       "       'Friedrich Duerrenmatt', 'Maurice Valency', 'Camille A. Brown',\n",
       "       'Chazz Palminteri', 'Robert De Niro', 'Sir Kenneth MacMillan',\n",
       "       'Justin Peck', 'Daniel Fish', 'John Heginbotham',\n",
       "       'William Hammerstein', 'John Van Druten', 'Christopher Renshaw',\n",
       "       'Mitch Leigh', 'Larry Fuller', 'Sylvester Stallone',\n",
       "       'James Goldman', 'Michael Bennett', 'Howard Ashman', 'Peter Flynn',\n",
       "       'Cy Coleman', 'Hugh Jackman, Back on Broadway', 'After Midnight'],\n",
       "      dtype='<U87')"
      ]
     },
     "execution_count": 29,
     "metadata": {},
     "output_type": "execute_result"
    }
   ],
   "source": [
    "np.array(names)[np.argsort(vals)][::-1]"
   ]
  },
  {
   "cell_type": "code",
   "execution_count": 20,
   "id": "9e8b0159-304b-42c6-9876-1f11a0b5755a",
   "metadata": {},
   "outputs": [],
   "source": [
    "particle_types = sorted(particle_types,key=len)[::-1]"
   ]
  },
  {
   "cell_type": "code",
   "execution_count": 31,
   "id": "638b8b2a-ed61-4fa1-a31f-a4e1a5a89e87",
   "metadata": {},
   "outputs": [],
   "source": [
    "type_dict = {p:0 for p in particle_types}\n",
    "idx_rule = {p:i for i, p in enumerate(particle_types)}\n",
    "capacities = {i:{j:0 for j in particle_types} for i in particle_types}\n",
    "people = {p:[] for p in particle_types}\n",
    "for name in g.nodes():\n",
    "    # Get name\n",
    "    try:\n",
    "        cur_person = df_creatives_10_years[df_creatives_10_years.Person == name]\n",
    "        roles = tuple(np.sort(pd.unique(cur_person.Role)))\n",
    "        type_dict[roles] += 1\n",
    "        people[roles].append(name)\n",
    "    except:\n",
    "        type_dict['Show'] += 1\n",
    "        people['Show'].append(name)"
   ]
  },
  {
   "cell_type": "code",
   "execution_count": 32,
   "id": "a0cb76bf-c987-40b1-9474-9d5c35d3be21",
   "metadata": {},
   "outputs": [],
   "source": [
    "totals = np.array([type_dict[p] for p in idx_rule.keys()])"
   ]
  },
  {
   "cell_type": "code",
   "execution_count": 33,
   "id": "b7fcbb65-e3ca-4c80-843a-165589a3f4fa",
   "metadata": {},
   "outputs": [
    {
     "name": "stderr",
     "output_type": "stream",
     "text": [
      "/tmp/ipykernel_24835/1746742205.py:11: RuntimeWarning: invalid value encountered in divide\n",
      "  connections /= totals\n"
     ]
    }
   ],
   "source": [
    "for p in sorted(particle_types,key=len)[::-1]:\n",
    "    names = people[p]\n",
    "    connections = np.zeros(len(particle_types))\n",
    "    for person in names:\n",
    "        neighbors = g.neighbors(person)\n",
    "        for n in neighbors:\n",
    "            roles = tuple(np.sort(pd.unique(df_creatives_10_years[df_creatives_10_years.Person == n].Role)))\n",
    "            if roles == ():\n",
    "                roles = 'Show'\n",
    "            connections[idx_rule[roles]] += 1\n",
    "    connections /= totals\n",
    "    capacities[p] = {c:connections[idx_rule[c]] for c in particle_types}\n",
    "            "
   ]
  },
  {
   "cell_type": "code",
   "execution_count": 34,
   "id": "33a44a12-5835-4317-bac8-fcdc79dcede0",
   "metadata": {},
   "outputs": [
    {
     "data": {
      "text/plain": [
       "{'Show': {'Show': 0.8467741935483871,\n",
       "  ('Book', 'Directed', 'Lyrics', 'Music'): nan,\n",
       "  ('Book', 'Lyrics', 'Music'): nan,\n",
       "  ('Book', 'Choreographed', 'Directed'): nan,\n",
       "  ('Choreographed', 'Directed'): nan,\n",
       "  ('Book', 'Music'): nan,\n",
       "  ('Book', 'Directed'): nan,\n",
       "  ('Book', 'Lyrics'): nan,\n",
       "  ('Directed', 'Lyrics'): nan,\n",
       "  ('Lyrics', 'Music'): nan,\n",
       "  ('Book',): nan,\n",
       "  ('Music',): 1.8125,\n",
       "  ('Directed',): 1.6063829787234043,\n",
       "  ('Lyrics',): 1.45,\n",
       "  ('Choreographed',): 1.2952380952380953},\n",
       " ('Book', 'Directed', 'Lyrics', 'Music'): {'Show': 0.0,\n",
       "  ('Book', 'Directed', 'Lyrics', 'Music'): nan,\n",
       "  ('Book', 'Lyrics', 'Music'): nan,\n",
       "  ('Book', 'Choreographed', 'Directed'): nan,\n",
       "  ('Choreographed', 'Directed'): nan,\n",
       "  ('Book', 'Music'): nan,\n",
       "  ('Book', 'Directed'): nan,\n",
       "  ('Book', 'Lyrics'): nan,\n",
       "  ('Directed', 'Lyrics'): nan,\n",
       "  ('Lyrics', 'Music'): nan,\n",
       "  ('Book',): nan,\n",
       "  ('Music',): 0.0,\n",
       "  ('Directed',): 0.0,\n",
       "  ('Lyrics',): 0.0,\n",
       "  ('Choreographed',): 0.0},\n",
       " ('Book', 'Lyrics', 'Music'): {'Show': 0.0,\n",
       "  ('Book', 'Directed', 'Lyrics', 'Music'): nan,\n",
       "  ('Book', 'Lyrics', 'Music'): nan,\n",
       "  ('Book', 'Choreographed', 'Directed'): nan,\n",
       "  ('Choreographed', 'Directed'): nan,\n",
       "  ('Book', 'Music'): nan,\n",
       "  ('Book', 'Directed'): nan,\n",
       "  ('Book', 'Lyrics'): nan,\n",
       "  ('Directed', 'Lyrics'): nan,\n",
       "  ('Lyrics', 'Music'): nan,\n",
       "  ('Book',): nan,\n",
       "  ('Music',): 0.0,\n",
       "  ('Directed',): 0.0,\n",
       "  ('Lyrics',): 0.0,\n",
       "  ('Choreographed',): 0.0},\n",
       " ('Book', 'Choreographed', 'Directed'): {'Show': 0.0,\n",
       "  ('Book', 'Directed', 'Lyrics', 'Music'): nan,\n",
       "  ('Book', 'Lyrics', 'Music'): nan,\n",
       "  ('Book', 'Choreographed', 'Directed'): nan,\n",
       "  ('Choreographed', 'Directed'): nan,\n",
       "  ('Book', 'Music'): nan,\n",
       "  ('Book', 'Directed'): nan,\n",
       "  ('Book', 'Lyrics'): nan,\n",
       "  ('Directed', 'Lyrics'): nan,\n",
       "  ('Lyrics', 'Music'): nan,\n",
       "  ('Book',): nan,\n",
       "  ('Music',): 0.0,\n",
       "  ('Directed',): 0.0,\n",
       "  ('Lyrics',): 0.0,\n",
       "  ('Choreographed',): 0.0},\n",
       " ('Choreographed', 'Directed'): {'Show': 0.0,\n",
       "  ('Book', 'Directed', 'Lyrics', 'Music'): nan,\n",
       "  ('Book', 'Lyrics', 'Music'): nan,\n",
       "  ('Book', 'Choreographed', 'Directed'): nan,\n",
       "  ('Choreographed', 'Directed'): nan,\n",
       "  ('Book', 'Music'): nan,\n",
       "  ('Book', 'Directed'): nan,\n",
       "  ('Book', 'Lyrics'): nan,\n",
       "  ('Directed', 'Lyrics'): nan,\n",
       "  ('Lyrics', 'Music'): nan,\n",
       "  ('Book',): nan,\n",
       "  ('Music',): 0.0,\n",
       "  ('Directed',): 0.0,\n",
       "  ('Lyrics',): 0.0,\n",
       "  ('Choreographed',): 0.0},\n",
       " ('Book', 'Music'): {'Show': 0.0,\n",
       "  ('Book', 'Directed', 'Lyrics', 'Music'): nan,\n",
       "  ('Book', 'Lyrics', 'Music'): nan,\n",
       "  ('Book', 'Choreographed', 'Directed'): nan,\n",
       "  ('Choreographed', 'Directed'): nan,\n",
       "  ('Book', 'Music'): nan,\n",
       "  ('Book', 'Directed'): nan,\n",
       "  ('Book', 'Lyrics'): nan,\n",
       "  ('Directed', 'Lyrics'): nan,\n",
       "  ('Lyrics', 'Music'): nan,\n",
       "  ('Book',): nan,\n",
       "  ('Music',): 0.0,\n",
       "  ('Directed',): 0.0,\n",
       "  ('Lyrics',): 0.0,\n",
       "  ('Choreographed',): 0.0},\n",
       " ('Book', 'Directed'): {'Show': 0.0,\n",
       "  ('Book', 'Directed', 'Lyrics', 'Music'): nan,\n",
       "  ('Book', 'Lyrics', 'Music'): nan,\n",
       "  ('Book', 'Choreographed', 'Directed'): nan,\n",
       "  ('Choreographed', 'Directed'): nan,\n",
       "  ('Book', 'Music'): nan,\n",
       "  ('Book', 'Directed'): nan,\n",
       "  ('Book', 'Lyrics'): nan,\n",
       "  ('Directed', 'Lyrics'): nan,\n",
       "  ('Lyrics', 'Music'): nan,\n",
       "  ('Book',): nan,\n",
       "  ('Music',): 0.0,\n",
       "  ('Directed',): 0.0,\n",
       "  ('Lyrics',): 0.0,\n",
       "  ('Choreographed',): 0.0},\n",
       " ('Book', 'Lyrics'): {'Show': 0.0,\n",
       "  ('Book', 'Directed', 'Lyrics', 'Music'): nan,\n",
       "  ('Book', 'Lyrics', 'Music'): nan,\n",
       "  ('Book', 'Choreographed', 'Directed'): nan,\n",
       "  ('Choreographed', 'Directed'): nan,\n",
       "  ('Book', 'Music'): nan,\n",
       "  ('Book', 'Directed'): nan,\n",
       "  ('Book', 'Lyrics'): nan,\n",
       "  ('Directed', 'Lyrics'): nan,\n",
       "  ('Lyrics', 'Music'): nan,\n",
       "  ('Book',): nan,\n",
       "  ('Music',): 0.0,\n",
       "  ('Directed',): 0.0,\n",
       "  ('Lyrics',): 0.0,\n",
       "  ('Choreographed',): 0.0},\n",
       " ('Directed', 'Lyrics'): {'Show': 0.0,\n",
       "  ('Book', 'Directed', 'Lyrics', 'Music'): nan,\n",
       "  ('Book', 'Lyrics', 'Music'): nan,\n",
       "  ('Book', 'Choreographed', 'Directed'): nan,\n",
       "  ('Choreographed', 'Directed'): nan,\n",
       "  ('Book', 'Music'): nan,\n",
       "  ('Book', 'Directed'): nan,\n",
       "  ('Book', 'Lyrics'): nan,\n",
       "  ('Directed', 'Lyrics'): nan,\n",
       "  ('Lyrics', 'Music'): nan,\n",
       "  ('Book',): nan,\n",
       "  ('Music',): 0.0,\n",
       "  ('Directed',): 0.0,\n",
       "  ('Lyrics',): 0.0,\n",
       "  ('Choreographed',): 0.0},\n",
       " ('Lyrics', 'Music'): {'Show': 0.0,\n",
       "  ('Book', 'Directed', 'Lyrics', 'Music'): nan,\n",
       "  ('Book', 'Lyrics', 'Music'): nan,\n",
       "  ('Book', 'Choreographed', 'Directed'): nan,\n",
       "  ('Choreographed', 'Directed'): nan,\n",
       "  ('Book', 'Music'): nan,\n",
       "  ('Book', 'Directed'): nan,\n",
       "  ('Book', 'Lyrics'): nan,\n",
       "  ('Directed', 'Lyrics'): nan,\n",
       "  ('Lyrics', 'Music'): nan,\n",
       "  ('Book',): nan,\n",
       "  ('Music',): 0.0,\n",
       "  ('Directed',): 0.0,\n",
       "  ('Lyrics',): 0.0,\n",
       "  ('Choreographed',): 0.0},\n",
       " ('Book',): {'Show': 0.0,\n",
       "  ('Book', 'Directed', 'Lyrics', 'Music'): nan,\n",
       "  ('Book', 'Lyrics', 'Music'): nan,\n",
       "  ('Book', 'Choreographed', 'Directed'): nan,\n",
       "  ('Choreographed', 'Directed'): nan,\n",
       "  ('Book', 'Music'): nan,\n",
       "  ('Book', 'Directed'): nan,\n",
       "  ('Book', 'Lyrics'): nan,\n",
       "  ('Directed', 'Lyrics'): nan,\n",
       "  ('Lyrics', 'Music'): nan,\n",
       "  ('Book',): nan,\n",
       "  ('Music',): 0.0,\n",
       "  ('Directed',): 0.0,\n",
       "  ('Lyrics',): 0.0,\n",
       "  ('Choreographed',): 0.0},\n",
       " ('Music',): {'Show': 0.23387096774193547,\n",
       "  ('Book', 'Directed', 'Lyrics', 'Music'): nan,\n",
       "  ('Book', 'Lyrics', 'Music'): nan,\n",
       "  ('Book', 'Choreographed', 'Directed'): nan,\n",
       "  ('Choreographed', 'Directed'): nan,\n",
       "  ('Book', 'Music'): nan,\n",
       "  ('Book', 'Directed'): nan,\n",
       "  ('Book', 'Lyrics'): nan,\n",
       "  ('Directed', 'Lyrics'): nan,\n",
       "  ('Lyrics', 'Music'): nan,\n",
       "  ('Book',): nan,\n",
       "  ('Music',): 0.0,\n",
       "  ('Directed',): 0.0,\n",
       "  ('Lyrics',): 0.0,\n",
       "  ('Choreographed',): 0.0},\n",
       " ('Directed',): {'Show': 0.6088709677419355,\n",
       "  ('Book', 'Directed', 'Lyrics', 'Music'): nan,\n",
       "  ('Book', 'Lyrics', 'Music'): nan,\n",
       "  ('Book', 'Choreographed', 'Directed'): nan,\n",
       "  ('Choreographed', 'Directed'): nan,\n",
       "  ('Book', 'Music'): nan,\n",
       "  ('Book', 'Directed'): nan,\n",
       "  ('Book', 'Lyrics'): nan,\n",
       "  ('Directed', 'Lyrics'): nan,\n",
       "  ('Lyrics', 'Music'): nan,\n",
       "  ('Book',): nan,\n",
       "  ('Music',): 0.0,\n",
       "  ('Directed',): 0.0,\n",
       "  ('Lyrics',): 0.0,\n",
       "  ('Choreographed',): 0.0},\n",
       " ('Lyrics',): {'Show': 0.11693548387096774,\n",
       "  ('Book', 'Directed', 'Lyrics', 'Music'): nan,\n",
       "  ('Book', 'Lyrics', 'Music'): nan,\n",
       "  ('Book', 'Choreographed', 'Directed'): nan,\n",
       "  ('Choreographed', 'Directed'): nan,\n",
       "  ('Book', 'Music'): nan,\n",
       "  ('Book', 'Directed'): nan,\n",
       "  ('Book', 'Lyrics'): nan,\n",
       "  ('Directed', 'Lyrics'): nan,\n",
       "  ('Lyrics', 'Music'): nan,\n",
       "  ('Book',): nan,\n",
       "  ('Music',): 0.0,\n",
       "  ('Directed',): 0.0,\n",
       "  ('Lyrics',): 0.0,\n",
       "  ('Choreographed',): 0.0},\n",
       " ('Choreographed',): {'Show': 0.5483870967741935,\n",
       "  ('Book', 'Directed', 'Lyrics', 'Music'): nan,\n",
       "  ('Book', 'Lyrics', 'Music'): nan,\n",
       "  ('Book', 'Choreographed', 'Directed'): nan,\n",
       "  ('Choreographed', 'Directed'): nan,\n",
       "  ('Book', 'Music'): nan,\n",
       "  ('Book', 'Directed'): nan,\n",
       "  ('Book', 'Lyrics'): nan,\n",
       "  ('Directed', 'Lyrics'): nan,\n",
       "  ('Lyrics', 'Music'): nan,\n",
       "  ('Book',): nan,\n",
       "  ('Music',): 0.0,\n",
       "  ('Directed',): 0.0,\n",
       "  ('Lyrics',): 0.0,\n",
       "  ('Choreographed',): 0.0}}"
      ]
     },
     "execution_count": 34,
     "metadata": {},
     "output_type": "execute_result"
    }
   ],
   "source": [
    "capacities"
   ]
  },
  {
   "cell_type": "code",
   "execution_count": 25,
   "id": "75b7e01a-38d6-47a0-b938-e642e1486491",
   "metadata": {
    "scrolled": true,
    "tags": []
   },
   "outputs": [
    {
     "ename": "NetworkXError",
     "evalue": "The node Lucy Moss is not in the graph.",
     "output_type": "error",
     "traceback": [
      "\u001b[0;31m---------------------------------------------------------------------------\u001b[0m",
      "\u001b[0;31mKeyError\u001b[0m                                  Traceback (most recent call last)",
      "File \u001b[0;32m~/miniconda3/envs/gt/lib/python3.12/site-packages/networkx/classes/graph.py:1357\u001b[0m, in \u001b[0;36mGraph.neighbors\u001b[0;34m(self, n)\u001b[0m\n\u001b[1;32m   1356\u001b[0m \u001b[38;5;28;01mtry\u001b[39;00m:\n\u001b[0;32m-> 1357\u001b[0m     \u001b[38;5;28;01mreturn\u001b[39;00m \u001b[38;5;28miter\u001b[39m(\u001b[38;5;28mself\u001b[39m\u001b[38;5;241m.\u001b[39m_adj[n])\n\u001b[1;32m   1358\u001b[0m \u001b[38;5;28;01mexcept\u001b[39;00m \u001b[38;5;167;01mKeyError\u001b[39;00m \u001b[38;5;28;01mas\u001b[39;00m err:\n",
      "\u001b[0;31mKeyError\u001b[0m: 'Lucy Moss'",
      "\nThe above exception was the direct cause of the following exception:\n",
      "\u001b[0;31mNetworkXError\u001b[0m                             Traceback (most recent call last)",
      "Cell \u001b[0;32mIn[25], line 25\u001b[0m\n\u001b[1;32m     22\u001b[0m connections \u001b[38;5;241m=\u001b[39m np\u001b[38;5;241m.\u001b[39mzeros(\u001b[38;5;28mlen\u001b[39m(particle_types))\n\u001b[1;32m     23\u001b[0m \u001b[38;5;28;01mfor\u001b[39;00m obj \u001b[38;5;129;01min\u001b[39;00m uniq_part:\n\u001b[1;32m     24\u001b[0m     \u001b[38;5;66;03m# Get neighbors\u001b[39;00m\n\u001b[0;32m---> 25\u001b[0m     neighbors \u001b[38;5;241m=\u001b[39m g\u001b[38;5;241m.\u001b[39mneighbors(obj)\n\u001b[1;32m     26\u001b[0m     \u001b[38;5;28;01mfor\u001b[39;00m n \u001b[38;5;129;01min\u001b[39;00m neighbors:\n\u001b[1;32m     27\u001b[0m         roles \u001b[38;5;241m=\u001b[39m \u001b[38;5;28mtuple\u001b[39m(np\u001b[38;5;241m.\u001b[39msort(pd\u001b[38;5;241m.\u001b[39munique(df_creatives_10_years[df_creatives_10_years\u001b[38;5;241m.\u001b[39mPerson \u001b[38;5;241m==\u001b[39m n]\u001b[38;5;241m.\u001b[39mRole)))\n",
      "File \u001b[0;32m~/miniconda3/envs/gt/lib/python3.12/site-packages/networkx/classes/graph.py:1359\u001b[0m, in \u001b[0;36mGraph.neighbors\u001b[0;34m(self, n)\u001b[0m\n\u001b[1;32m   1357\u001b[0m     \u001b[38;5;28;01mreturn\u001b[39;00m \u001b[38;5;28miter\u001b[39m(\u001b[38;5;28mself\u001b[39m\u001b[38;5;241m.\u001b[39m_adj[n])\n\u001b[1;32m   1358\u001b[0m \u001b[38;5;28;01mexcept\u001b[39;00m \u001b[38;5;167;01mKeyError\u001b[39;00m \u001b[38;5;28;01mas\u001b[39;00m err:\n\u001b[0;32m-> 1359\u001b[0m     \u001b[38;5;28;01mraise\u001b[39;00m NetworkXError(\u001b[38;5;124mf\u001b[39m\u001b[38;5;124m\"\u001b[39m\u001b[38;5;124mThe node \u001b[39m\u001b[38;5;132;01m{\u001b[39;00mn\u001b[38;5;132;01m}\u001b[39;00m\u001b[38;5;124m is not in the graph.\u001b[39m\u001b[38;5;124m\"\u001b[39m) \u001b[38;5;28;01mfrom\u001b[39;00m \u001b[38;5;21;01merr\u001b[39;00m\n",
      "\u001b[0;31mNetworkXError\u001b[0m: The node Lucy Moss is not in the graph."
     ]
    }
   ],
   "source": [
    "# Get rule\n",
    "# particle_types = ['Show','Book','Directed','Lyrics','Music','Choreographed']\n",
    "idx_rule = {p:i for i, p in enumerate(particle_types)}\n",
    "capacities = {i:{j:0 for j in particle_types} for i in particle_types}\n",
    "all_people = np.array([])\n",
    "for p in sorted(particle_types,key=len)[::-1]:\n",
    "    if p == 'Show':\n",
    "        uniq_part = pd.unique(df_creatives_10_years[p])\n",
    "    else:\n",
    "        for i, label in enumerate(p):\n",
    "            if i == 0:\n",
    "                # Get unique particles\n",
    "                uniq_part = pd.unique(df_creatives_10_years[df_creatives_10_years.Role == label].Person)\n",
    "                idx = list(df_creatives_10_years[df_creatives_10_years.Role == label].index)\n",
    "                df_creatives_10_years.drop(idx,axis=0,inplace=True)\n",
    "            else:\n",
    "                cur_df = df_creatives_10_years[df_creatives_10_years.Person.isin(uniq_part)]\n",
    "                # Get unique particles\n",
    "                uniq_part = pd.unique(cur_df[cur_df.Role == label].Person)\n",
    "                idx = list(cur_df[cur_df.Role == label].index)\n",
    "                df_creatives_10_years.drop(idx,axis=0,inplace=True)\n",
    "    connections = np.zeros(len(particle_types))\n",
    "    for obj in uniq_part:\n",
    "        # Get neighbors\n",
    "        neighbors = g.neighbors(obj)\n",
    "        for n in neighbors:\n",
    "            roles = tuple(np.sort(pd.unique(df_creatives_10_years[df_creatives_10_years.Person == n].Role)))\n",
    "            if roles == ():\n",
    "                roles = 'Show'\n",
    "            connections[idx_rule[roles]] += 1\n",
    "    connections /= len(uniq_part)\n",
    "    capacities[p] = {c:connections[idx_rule[c]] for c in particle_types}\n",
    "# for s in pd.unique(df_musicals.Show):\n",
    "# print(capacities)\n",
    "    "
   ]
  },
  {
   "cell_type": "code",
   "execution_count": 35,
   "id": "7925ba10-0ae5-4132-9838-f6fb0dfe2f31",
   "metadata": {},
   "outputs": [
    {
     "ename": "IndexError",
     "evalue": "only integers, slices (`:`), ellipsis (`...`), numpy.newaxis (`None`) and integer or boolean arrays are valid indices",
     "output_type": "error",
     "traceback": [
      "\u001b[0;31m---------------------------------------------------------------------------\u001b[0m",
      "\u001b[0;31mIndexError\u001b[0m                                Traceback (most recent call last)",
      "Cell \u001b[0;32mIn[35], line 4\u001b[0m\n\u001b[1;32m      2\u001b[0m \u001b[38;5;28;01mfor\u001b[39;00m i \u001b[38;5;129;01min\u001b[39;00m capacities\u001b[38;5;241m.\u001b[39mkeys():\n\u001b[1;32m      3\u001b[0m     \u001b[38;5;28;01mfor\u001b[39;00m j \u001b[38;5;129;01min\u001b[39;00m capacities\u001b[38;5;241m.\u001b[39mkeys():\n\u001b[0;32m----> 4\u001b[0m         O[i,j] \u001b[38;5;241m=\u001b[39m capacities[i][j]\n",
      "\u001b[0;31mIndexError\u001b[0m: only integers, slices (`:`), ellipsis (`...`), numpy.newaxis (`None`) and integer or boolean arrays are valid indices"
     ]
    }
   ],
   "source": [
    "O = np.zeros((len(capacities.keys()),len(capacities.keys())))\n",
    "for i in capacities.keys():\n",
    "    for j in capacities.keys():\n",
    "        O[i,j] = capacities[i][j]"
   ]
  },
  {
   "cell_type": "code",
   "execution_count": null,
   "id": "0570b1dc-e00c-4fc7-b522-51ec006b65cc",
   "metadata": {},
   "outputs": [],
   "source": []
  },
  {
   "cell_type": "code",
   "execution_count": 27,
   "id": "4bec7d98-f22e-409a-a3ba-f3ffcfe9525b",
   "metadata": {},
   "outputs": [],
   "source": [
    "new_capacities = {idx_rule[p]:{idx_rule[q]:capacities[p][q] for q in particle_types} for p in particle_types}"
   ]
  },
  {
   "cell_type": "code",
   "execution_count": 145,
   "id": "d946e273-fa98-47f7-8ef4-6109e7c96b1c",
   "metadata": {},
   "outputs": [
    {
     "data": {
      "text/plain": [
       "array([158,   1,   1,  19,   1,  27,  25,   2,  15,  55, 105,  32,  94,\n",
       "        90,  20])"
      ]
     },
     "execution_count": 145,
     "metadata": {},
     "output_type": "execute_result"
    }
   ],
   "source": [
    "N_vec"
   ]
  },
  {
   "cell_type": "code",
   "execution_count": 228,
   "id": "0c3b100c-1ad1-432e-bb95-271f743ee56f",
   "metadata": {},
   "outputs": [],
   "source": [
    "type_dict = {p:0 for p in particle_types}\n",
    "for name in g.nodes():\n",
    "    # Get name\n",
    "    try:\n",
    "        cur_person = df_creatives_10_years[df_creatives_10_years.Person == name]\n",
    "        roles = tuple(np.sort(pd.unique(cur_person.Role)))\n",
    "        type_dict[roles] += 1\n",
    "    except:\n",
    "        type_dict['Show'] += 1"
   ]
  },
  {
   "cell_type": "code",
   "execution_count": 28,
   "id": "e2b9995c-f290-4f0c-9cec-d8fb66cbe707",
   "metadata": {},
   "outputs": [
    {
     "data": {
      "text/plain": [
       "{'Show': 158,\n",
       " ('Book', 'Directed', 'Lyrics', 'Music'): 0,\n",
       " ('Book', 'Lyrics', 'Music'): 0,\n",
       " ('Book', 'Choreographed', 'Directed'): 0,\n",
       " ('Choreographed', 'Directed'): 0,\n",
       " ('Book', 'Music'): 0,\n",
       " ('Book', 'Directed'): 0,\n",
       " ('Book', 'Lyrics'): 0,\n",
       " ('Directed', 'Lyrics'): 0,\n",
       " ('Lyrics', 'Music'): 0,\n",
       " ('Book',): 90,\n",
       " ('Music',): 32,\n",
       " ('Directed',): 94,\n",
       " ('Lyrics',): 20,\n",
       " ('Choreographed',): 105}"
      ]
     },
     "execution_count": 28,
     "metadata": {},
     "output_type": "execute_result"
    }
   ],
   "source": [
    "type_dict"
   ]
  },
  {
   "cell_type": "code",
   "execution_count": 29,
   "id": "9e5a36b6-0b99-4c5c-8b40-9244d29a807c",
   "metadata": {},
   "outputs": [
    {
     "data": {
      "text/plain": [
       "{'Show': {'Show': 0,\n",
       "  ('Book', 'Directed', 'Lyrics', 'Music'): 0,\n",
       "  ('Book', 'Lyrics', 'Music'): 0,\n",
       "  ('Book', 'Choreographed', 'Directed'): 0,\n",
       "  ('Choreographed', 'Directed'): 0,\n",
       "  ('Book', 'Music'): 0,\n",
       "  ('Book', 'Directed'): 0,\n",
       "  ('Book', 'Lyrics'): 0,\n",
       "  ('Directed', 'Lyrics'): 0,\n",
       "  ('Lyrics', 'Music'): 0,\n",
       "  ('Book',): 0,\n",
       "  ('Music',): 0,\n",
       "  ('Directed',): 0,\n",
       "  ('Lyrics',): 0,\n",
       "  ('Choreographed',): 0},\n",
       " ('Book', 'Directed', 'Lyrics', 'Music'): {'Show': 0,\n",
       "  ('Book', 'Directed', 'Lyrics', 'Music'): 0,\n",
       "  ('Book', 'Lyrics', 'Music'): 0,\n",
       "  ('Book', 'Choreographed', 'Directed'): 0,\n",
       "  ('Choreographed', 'Directed'): 0,\n",
       "  ('Book', 'Music'): 0,\n",
       "  ('Book', 'Directed'): 0,\n",
       "  ('Book', 'Lyrics'): 0,\n",
       "  ('Directed', 'Lyrics'): 0,\n",
       "  ('Lyrics', 'Music'): 0,\n",
       "  ('Book',): 0,\n",
       "  ('Music',): 0,\n",
       "  ('Directed',): 0,\n",
       "  ('Lyrics',): 0,\n",
       "  ('Choreographed',): 0},\n",
       " ('Book', 'Lyrics', 'Music'): {'Show': 0,\n",
       "  ('Book', 'Directed', 'Lyrics', 'Music'): 0,\n",
       "  ('Book', 'Lyrics', 'Music'): 0,\n",
       "  ('Book', 'Choreographed', 'Directed'): 0,\n",
       "  ('Choreographed', 'Directed'): 0,\n",
       "  ('Book', 'Music'): 0,\n",
       "  ('Book', 'Directed'): 0,\n",
       "  ('Book', 'Lyrics'): 0,\n",
       "  ('Directed', 'Lyrics'): 0,\n",
       "  ('Lyrics', 'Music'): 0,\n",
       "  ('Book',): 0,\n",
       "  ('Music',): 0,\n",
       "  ('Directed',): 0,\n",
       "  ('Lyrics',): 0,\n",
       "  ('Choreographed',): 0},\n",
       " ('Book', 'Choreographed', 'Directed'): {'Show': 0,\n",
       "  ('Book', 'Directed', 'Lyrics', 'Music'): 0,\n",
       "  ('Book', 'Lyrics', 'Music'): 0,\n",
       "  ('Book', 'Choreographed', 'Directed'): 0,\n",
       "  ('Choreographed', 'Directed'): 0,\n",
       "  ('Book', 'Music'): 0,\n",
       "  ('Book', 'Directed'): 0,\n",
       "  ('Book', 'Lyrics'): 0,\n",
       "  ('Directed', 'Lyrics'): 0,\n",
       "  ('Lyrics', 'Music'): 0,\n",
       "  ('Book',): 0,\n",
       "  ('Music',): 0,\n",
       "  ('Directed',): 0,\n",
       "  ('Lyrics',): 0,\n",
       "  ('Choreographed',): 0},\n",
       " ('Choreographed', 'Directed'): {'Show': 0,\n",
       "  ('Book', 'Directed', 'Lyrics', 'Music'): 0,\n",
       "  ('Book', 'Lyrics', 'Music'): 0,\n",
       "  ('Book', 'Choreographed', 'Directed'): 0,\n",
       "  ('Choreographed', 'Directed'): 0,\n",
       "  ('Book', 'Music'): 0,\n",
       "  ('Book', 'Directed'): 0,\n",
       "  ('Book', 'Lyrics'): 0,\n",
       "  ('Directed', 'Lyrics'): 0,\n",
       "  ('Lyrics', 'Music'): 0,\n",
       "  ('Book',): 0,\n",
       "  ('Music',): 0,\n",
       "  ('Directed',): 0,\n",
       "  ('Lyrics',): 0,\n",
       "  ('Choreographed',): 0},\n",
       " ('Book', 'Music'): {'Show': 0,\n",
       "  ('Book', 'Directed', 'Lyrics', 'Music'): 0,\n",
       "  ('Book', 'Lyrics', 'Music'): 0,\n",
       "  ('Book', 'Choreographed', 'Directed'): 0,\n",
       "  ('Choreographed', 'Directed'): 0,\n",
       "  ('Book', 'Music'): 0,\n",
       "  ('Book', 'Directed'): 0,\n",
       "  ('Book', 'Lyrics'): 0,\n",
       "  ('Directed', 'Lyrics'): 0,\n",
       "  ('Lyrics', 'Music'): 0,\n",
       "  ('Book',): 0,\n",
       "  ('Music',): 0,\n",
       "  ('Directed',): 0,\n",
       "  ('Lyrics',): 0,\n",
       "  ('Choreographed',): 0},\n",
       " ('Book', 'Directed'): {'Show': 0,\n",
       "  ('Book', 'Directed', 'Lyrics', 'Music'): 0,\n",
       "  ('Book', 'Lyrics', 'Music'): 0,\n",
       "  ('Book', 'Choreographed', 'Directed'): 0,\n",
       "  ('Choreographed', 'Directed'): 0,\n",
       "  ('Book', 'Music'): 0,\n",
       "  ('Book', 'Directed'): 0,\n",
       "  ('Book', 'Lyrics'): 0,\n",
       "  ('Directed', 'Lyrics'): 0,\n",
       "  ('Lyrics', 'Music'): 0,\n",
       "  ('Book',): 0,\n",
       "  ('Music',): 0,\n",
       "  ('Directed',): 0,\n",
       "  ('Lyrics',): 0,\n",
       "  ('Choreographed',): 0},\n",
       " ('Book', 'Lyrics'): {'Show': 0,\n",
       "  ('Book', 'Directed', 'Lyrics', 'Music'): 0,\n",
       "  ('Book', 'Lyrics', 'Music'): 0,\n",
       "  ('Book', 'Choreographed', 'Directed'): 0,\n",
       "  ('Choreographed', 'Directed'): 0,\n",
       "  ('Book', 'Music'): 0,\n",
       "  ('Book', 'Directed'): 0,\n",
       "  ('Book', 'Lyrics'): 0,\n",
       "  ('Directed', 'Lyrics'): 0,\n",
       "  ('Lyrics', 'Music'): 0,\n",
       "  ('Book',): 0,\n",
       "  ('Music',): 0,\n",
       "  ('Directed',): 0,\n",
       "  ('Lyrics',): 0,\n",
       "  ('Choreographed',): 0},\n",
       " ('Directed', 'Lyrics'): {'Show': 0,\n",
       "  ('Book', 'Directed', 'Lyrics', 'Music'): 0,\n",
       "  ('Book', 'Lyrics', 'Music'): 0,\n",
       "  ('Book', 'Choreographed', 'Directed'): 0,\n",
       "  ('Choreographed', 'Directed'): 0,\n",
       "  ('Book', 'Music'): 0,\n",
       "  ('Book', 'Directed'): 0,\n",
       "  ('Book', 'Lyrics'): 0,\n",
       "  ('Directed', 'Lyrics'): 0,\n",
       "  ('Lyrics', 'Music'): 0,\n",
       "  ('Book',): 0,\n",
       "  ('Music',): 0,\n",
       "  ('Directed',): 0,\n",
       "  ('Lyrics',): 0,\n",
       "  ('Choreographed',): 0},\n",
       " ('Lyrics', 'Music'): {'Show': 0,\n",
       "  ('Book', 'Directed', 'Lyrics', 'Music'): 0,\n",
       "  ('Book', 'Lyrics', 'Music'): 0,\n",
       "  ('Book', 'Choreographed', 'Directed'): 0,\n",
       "  ('Choreographed', 'Directed'): 0,\n",
       "  ('Book', 'Music'): 0,\n",
       "  ('Book', 'Directed'): 0,\n",
       "  ('Book', 'Lyrics'): 0,\n",
       "  ('Directed', 'Lyrics'): 0,\n",
       "  ('Lyrics', 'Music'): 0,\n",
       "  ('Book',): 0,\n",
       "  ('Music',): 0,\n",
       "  ('Directed',): 0,\n",
       "  ('Lyrics',): 0,\n",
       "  ('Choreographed',): 0},\n",
       " ('Book',): {'Show': 0,\n",
       "  ('Book', 'Directed', 'Lyrics', 'Music'): 0,\n",
       "  ('Book', 'Lyrics', 'Music'): 0,\n",
       "  ('Book', 'Choreographed', 'Directed'): 0,\n",
       "  ('Choreographed', 'Directed'): 0,\n",
       "  ('Book', 'Music'): 0,\n",
       "  ('Book', 'Directed'): 0,\n",
       "  ('Book', 'Lyrics'): 0,\n",
       "  ('Directed', 'Lyrics'): 0,\n",
       "  ('Lyrics', 'Music'): 0,\n",
       "  ('Book',): 0,\n",
       "  ('Music',): 0,\n",
       "  ('Directed',): 0,\n",
       "  ('Lyrics',): 0,\n",
       "  ('Choreographed',): 0},\n",
       " ('Music',): {'Show': 0,\n",
       "  ('Book', 'Directed', 'Lyrics', 'Music'): 0,\n",
       "  ('Book', 'Lyrics', 'Music'): 0,\n",
       "  ('Book', 'Choreographed', 'Directed'): 0,\n",
       "  ('Choreographed', 'Directed'): 0,\n",
       "  ('Book', 'Music'): 0,\n",
       "  ('Book', 'Directed'): 0,\n",
       "  ('Book', 'Lyrics'): 0,\n",
       "  ('Directed', 'Lyrics'): 0,\n",
       "  ('Lyrics', 'Music'): 0,\n",
       "  ('Book',): 0,\n",
       "  ('Music',): 0,\n",
       "  ('Directed',): 0,\n",
       "  ('Lyrics',): 0,\n",
       "  ('Choreographed',): 0},\n",
       " ('Directed',): {'Show': 0,\n",
       "  ('Book', 'Directed', 'Lyrics', 'Music'): 0,\n",
       "  ('Book', 'Lyrics', 'Music'): 0,\n",
       "  ('Book', 'Choreographed', 'Directed'): 0,\n",
       "  ('Choreographed', 'Directed'): 0,\n",
       "  ('Book', 'Music'): 0,\n",
       "  ('Book', 'Directed'): 0,\n",
       "  ('Book', 'Lyrics'): 0,\n",
       "  ('Directed', 'Lyrics'): 0,\n",
       "  ('Lyrics', 'Music'): 0,\n",
       "  ('Book',): 0,\n",
       "  ('Music',): 0,\n",
       "  ('Directed',): 0,\n",
       "  ('Lyrics',): 0,\n",
       "  ('Choreographed',): 0},\n",
       " ('Lyrics',): {'Show': 0,\n",
       "  ('Book', 'Directed', 'Lyrics', 'Music'): 0,\n",
       "  ('Book', 'Lyrics', 'Music'): 0,\n",
       "  ('Book', 'Choreographed', 'Directed'): 0,\n",
       "  ('Choreographed', 'Directed'): 0,\n",
       "  ('Book', 'Music'): 0,\n",
       "  ('Book', 'Directed'): 0,\n",
       "  ('Book', 'Lyrics'): 0,\n",
       "  ('Directed', 'Lyrics'): 0,\n",
       "  ('Lyrics', 'Music'): 0,\n",
       "  ('Book',): 0,\n",
       "  ('Music',): 0,\n",
       "  ('Directed',): 0,\n",
       "  ('Lyrics',): 0,\n",
       "  ('Choreographed',): 0},\n",
       " ('Choreographed',): {'Show': 0,\n",
       "  ('Book', 'Directed', 'Lyrics', 'Music'): 0,\n",
       "  ('Book', 'Lyrics', 'Music'): 0,\n",
       "  ('Book', 'Choreographed', 'Directed'): 0,\n",
       "  ('Choreographed', 'Directed'): 0,\n",
       "  ('Book', 'Music'): 0,\n",
       "  ('Book', 'Directed'): 0,\n",
       "  ('Book', 'Lyrics'): 0,\n",
       "  ('Directed', 'Lyrics'): 0,\n",
       "  ('Lyrics', 'Music'): 0,\n",
       "  ('Book',): 0,\n",
       "  ('Music',): 0,\n",
       "  ('Directed',): 0,\n",
       "  ('Lyrics',): 0,\n",
       "  ('Choreographed',): 0}}"
      ]
     },
     "execution_count": 29,
     "metadata": {},
     "output_type": "execute_result"
    }
   ],
   "source": [
    "capacities"
   ]
  },
  {
   "cell_type": "code",
   "execution_count": 211,
   "id": "6239de30-ccc5-4a7e-b9d3-273a5fd2b544",
   "metadata": {},
   "outputs": [
    {
     "data": {
      "text/plain": [
       "{('Book', 'Directed', 'Lyrics', 'Music'): 1,\n",
       " 'Show': 158,\n",
       " ('Book', 'Lyrics', 'Music'): 19,\n",
       " ('Book', 'Choreographed', 'Directed'): 1,\n",
       " ('Lyrics', 'Music'): 55,\n",
       " ('Book', 'Directed'): 15,\n",
       " ('Book', 'Music'): 2,\n",
       " ('Choreographed', 'Directed'): 25,\n",
       " ('Book', 'Lyrics'): 27,\n",
       " ('Directed', 'Lyrics'): 1,\n",
       " ('Lyrics',): 20,\n",
       " ('Book',): 90,\n",
       " ('Directed',): 94,\n",
       " ('Music',): 32,\n",
       " ('Choreographed',): 105}"
      ]
     },
     "execution_count": 211,
     "metadata": {},
     "output_type": "execute_result"
    }
   ],
   "source": [
    "type_dict"
   ]
  },
  {
   "cell_type": "code",
   "execution_count": 231,
   "id": "b9da0598-3180-4a5d-bb43-0092023f321c",
   "metadata": {},
   "outputs": [],
   "source": [
    "X = np.zeros((g.number_of_nodes(),len(particle_types)))\n",
    "total = 0\n",
    "for k,p in enumerate(particle_types):\n",
    "    uniq_part = type_dict[p]\n",
    "    X[total:(total + uniq_part),k] = 1\n",
    "    total += uniq_part\n",
    "    "
   ]
  },
  {
   "cell_type": "code",
   "execution_count": 232,
   "id": "b7ad33ca-c12c-463b-9577-f75eee48e9d3",
   "metadata": {},
   "outputs": [
    {
     "data": {
      "text/plain": [
       "array([158.,   0.,   0.,   0.,   0.,   0.,   0.,   0.,   0.,   0., 105.,\n",
       "        32.,  94.,  90.,  20.])"
      ]
     },
     "execution_count": 232,
     "metadata": {},
     "output_type": "execute_result"
    }
   ],
   "source": [
    "X.sum(axis=0)"
   ]
  },
  {
   "cell_type": "code",
   "execution_count": 233,
   "id": "ed7174b3-dffa-4bc0-9d93-876232adac61",
   "metadata": {},
   "outputs": [],
   "source": [
    "O = np.zeros((len(particle_types),len(particle_types)))\n",
    "for i in range(len(particle_types)):\n",
    "    for j in range(len(particle_types)):\n",
    "        O[i,j] = new_capacities[i][j]"
   ]
  },
  {
   "cell_type": "code",
   "execution_count": 234,
   "id": "8fbb7c86-796c-4bd1-b09b-a9689f2ae32c",
   "metadata": {},
   "outputs": [
    {
     "data": {
      "text/plain": [
       "<matplotlib.colorbar.Colorbar at 0x2ac441d0ac40>"
      ]
     },
     "execution_count": 234,
     "metadata": {},
     "output_type": "execute_result"
    },
    {
     "data": {
      "image/png": "[encoded data removed]",
      "text/plain": [
       "<Figure size 432x288 with 2 Axes>"
      ]
     },
     "metadata": {
      "needs_background": "light"
     },
     "output_type": "display_data"
    }
   ],
   "source": [
    "plt.imshow(O,cmap='binary')\n",
    "plt.xticks([])\n",
    "plt.yticks([])\n",
    "plt.colorbar()"
   ]
  },
  {
   "cell_type": "code",
   "execution_count": 71,
   "id": "afb491a0-b42e-456c-af44-0db5865261cc",
   "metadata": {},
   "outputs": [
    {
     "data": {
      "text/plain": [
       "<matplotlib.image.AxesImage at 0x2ac441c499d0>"
      ]
     },
     "execution_count": 71,
     "metadata": {},
     "output_type": "execute_result"
    },
    {
     "data": {
      "image/png": "[encoded data removed]",
      "text/plain": [
       "<Figure size 36000x720 with 1 Axes>"
      ]
     },
     "metadata": {
      "needs_background": "light"
     },
     "output_type": "display_data"
    }
   ],
   "source": [
    "plt.figure(figsize=(500,10))\n",
    "plt.imshow(X,cmap='binary')\n"
   ]
  },
  {
   "cell_type": "code",
   "execution_count": 138,
   "id": "e9a84132-677d-485e-ba1e-ba17a09868e4",
   "metadata": {},
   "outputs": [],
   "source": [
    "N_vec = X.sum(axis=0).astype(int)\n",
    "N = np.sum(N_vec)\n",
    "# Generate probability matrix\n",
    "P = np.zeros((N,N))\n",
    "# if directed:\n",
    "#     for i in range(N):\n",
    "#         for j in range(N):\n",
    "#             # Get labels of nodes\n",
    "#             theta_i = np.where(X[i]==1)[0][0]\n",
    "#             theta_j = np.where(X[j]==1)[0][0]\n",
    "#             P[i,j] = O[theta_i,theta_j] / N_vec[theta_j]\n",
    "# else:\n",
    "for i in range(N):\n",
    "    for j in range(i,N):\n",
    "        # Get labels of nodes\n",
    "        theta_i = np.where(X[i]==1)[0][0]\n",
    "        theta_j = np.where(X[j]==1)[0][0]\n",
    "        P[i,j] = np.min([1,np.min([O[theta_i,theta_j]/N_vec[theta_j],O[theta_j,theta_i]/N_vec[theta_i]])])\n",
    "    "
   ]
  },
  {
   "cell_type": "code",
   "execution_count": 144,
   "id": "16c8ea79-b7a5-4fda-8fc4-a3c11c19e4a6",
   "metadata": {},
   "outputs": [
    {
     "data": {
      "text/plain": [
       "array([[0., 0., 0., ..., 0., 0., 0.],\n",
       "       [0., 0., 0., ..., 0., 0., 0.],\n",
       "       [0., 0., 0., ..., 0., 0., 0.],\n",
       "       ...,\n",
       "       [0., 0., 0., ..., 0., 0., 0.],\n",
       "       [0., 0., 0., ..., 0., 0., 0.],\n",
       "       [0., 0., 0., ..., 0., 0., 0.]])"
      ]
     },
     "execution_count": 144,
     "metadata": {},
     "output_type": "execute_result"
    }
   ],
   "source": [
    "P"
   ]
  },
  {
   "cell_type": "code",
   "execution_count": 283,
   "id": "3913e5fe-4199-4c5d-8980-ec735d8357be",
   "metadata": {},
   "outputs": [],
   "source": [
    "new_g = nd.canonical_ensemble(X.sum(axis=0).astype(int),O,X)"
   ]
  },
  {
   "cell_type": "code",
   "execution_count": 264,
   "id": "8ae1e643-029c-4f56-8def-6582841749f7",
   "metadata": {},
   "outputs": [],
   "source": [
    "new_g = nd.new_soup_of_nodes(X,nd.create_capacity(X,new_capacities),self_loops=False)"
   ]
  },
  {
   "cell_type": "code",
   "execution_count": 209,
   "id": "1c6eb3e4-a43a-4dc8-93d6-f35a530b84ac",
   "metadata": {
    "scrolled": true,
    "tags": []
   },
   "outputs": [
    {
     "data": {
      "text/plain": [
       "{0: {0: np.float64(0.0),\n",
       "  1: np.float64(0.006329113924050633),\n",
       "  2: np.float64(0.0),\n",
       "  3: np.float64(0.0),\n",
       "  4: np.float64(0.0),\n",
       "  5: np.float64(0.0),\n",
       "  6: np.float64(0.0),\n",
       "  7: np.float64(0.0),\n",
       "  8: np.float64(0.0),\n",
       "  9: np.float64(0.0),\n",
       "  10: np.float64(0.0),\n",
       "  11: np.float64(0.0),\n",
       "  12: np.float64(0.0),\n",
       "  13: np.float64(0.0),\n",
       "  14: np.float64(0.0)},\n",
       " 1: {0: np.float64(1.0),\n",
       "  1: np.float64(0.0),\n",
       "  2: np.float64(1.1578947368421053),\n",
       "  3: np.float64(2.0),\n",
       "  4: np.float64(1.2727272727272727),\n",
       "  5: np.float64(1.8),\n",
       "  6: np.float64(1.5),\n",
       "  7: np.float64(2.76),\n",
       "  8: np.float64(1.6296296296296295),\n",
       "  9: np.float64(1.0),\n",
       "  10: np.float64(1.45),\n",
       "  11: np.float64(1.1666666666666667),\n",
       "  12: np.float64(1.6063829787234043),\n",
       "  13: np.float64(1.8125),\n",
       "  14: np.float64(1.2952380952380953)},\n",
       " 2: {0: np.float64(0.0),\n",
       "  1: np.float64(0.13924050632911392),\n",
       "  2: np.float64(0.0),\n",
       "  3: np.float64(0.0),\n",
       "  4: np.float64(0.0),\n",
       "  5: np.float64(0.0),\n",
       "  6: np.float64(0.0),\n",
       "  7: np.float64(0.0),\n",
       "  8: np.float64(0.0),\n",
       "  9: np.float64(0.0),\n",
       "  10: np.float64(0.0),\n",
       "  11: np.float64(0.0),\n",
       "  12: np.float64(0.0),\n",
       "  13: np.float64(0.0),\n",
       "  14: np.float64(0.0)},\n",
       " 3: {0: np.float64(0.0),\n",
       "  1: np.float64(0.012658227848101266),\n",
       "  2: np.float64(0.0),\n",
       "  3: np.float64(0.0),\n",
       "  4: np.float64(0.0),\n",
       "  5: np.float64(0.0),\n",
       "  6: np.float64(0.0),\n",
       "  7: np.float64(0.0),\n",
       "  8: np.float64(0.0),\n",
       "  9: np.float64(0.0),\n",
       "  10: np.float64(0.0),\n",
       "  11: np.float64(0.0),\n",
       "  12: np.float64(0.0),\n",
       "  13: np.float64(0.0),\n",
       "  14: np.float64(0.0)},\n",
       " 4: {0: np.float64(0.0),\n",
       "  1: np.float64(0.4430379746835443),\n",
       "  2: np.float64(0.0),\n",
       "  3: np.float64(0.0),\n",
       "  4: np.float64(0.0),\n",
       "  5: np.float64(0.0),\n",
       "  6: np.float64(0.0),\n",
       "  7: np.float64(0.0),\n",
       "  8: np.float64(0.0),\n",
       "  9: np.float64(0.0),\n",
       "  10: np.float64(0.0),\n",
       "  11: np.float64(0.0),\n",
       "  12: np.float64(0.0),\n",
       "  13: np.float64(0.0),\n",
       "  14: np.float64(0.0)},\n",
       " 5: {0: np.float64(0.0),\n",
       "  1: np.float64(0.17088607594936708),\n",
       "  2: np.float64(0.0),\n",
       "  3: np.float64(0.0),\n",
       "  4: np.float64(0.0),\n",
       "  5: np.float64(0.0),\n",
       "  6: np.float64(0.0),\n",
       "  7: np.float64(0.0),\n",
       "  8: np.float64(0.0),\n",
       "  9: np.float64(0.0),\n",
       "  10: np.float64(0.0),\n",
       "  11: np.float64(0.0),\n",
       "  12: np.float64(0.0),\n",
       "  13: np.float64(0.0),\n",
       "  14: np.float64(0.0)},\n",
       " 6: {0: np.float64(0.0),\n",
       "  1: np.float64(0.0189873417721519),\n",
       "  2: np.float64(0.0),\n",
       "  3: np.float64(0.0),\n",
       "  4: np.float64(0.0),\n",
       "  5: np.float64(0.0),\n",
       "  6: np.float64(0.0),\n",
       "  7: np.float64(0.0),\n",
       "  8: np.float64(0.0),\n",
       "  9: np.float64(0.0),\n",
       "  10: np.float64(0.0),\n",
       "  11: np.float64(0.0),\n",
       "  12: np.float64(0.0),\n",
       "  13: np.float64(0.0),\n",
       "  14: np.float64(0.0)},\n",
       " 7: {0: np.float64(0.0),\n",
       "  1: np.float64(0.43670886075949367),\n",
       "  2: np.float64(0.0),\n",
       "  3: np.float64(0.0),\n",
       "  4: np.float64(0.0),\n",
       "  5: np.float64(0.0),\n",
       "  6: np.float64(0.0),\n",
       "  7: np.float64(0.0),\n",
       "  8: np.float64(0.0),\n",
       "  9: np.float64(0.0),\n",
       "  10: np.float64(0.0),\n",
       "  11: np.float64(0.0),\n",
       "  12: np.float64(0.0),\n",
       "  13: np.float64(0.0),\n",
       "  14: np.float64(0.0)},\n",
       " 8: {0: np.float64(0.0),\n",
       "  1: np.float64(0.27848101265822783),\n",
       "  2: np.float64(0.0),\n",
       "  3: np.float64(0.0),\n",
       "  4: np.float64(0.0),\n",
       "  5: np.float64(0.0),\n",
       "  6: np.float64(0.0),\n",
       "  7: np.float64(0.0),\n",
       "  8: np.float64(0.0),\n",
       "  9: np.float64(0.0),\n",
       "  10: np.float64(0.0),\n",
       "  11: np.float64(0.0),\n",
       "  12: np.float64(0.0),\n",
       "  13: np.float64(0.0),\n",
       "  14: np.float64(0.0)},\n",
       " 9: {0: np.float64(0.0),\n",
       "  1: np.float64(0.006329113924050633),\n",
       "  2: np.float64(0.0),\n",
       "  3: np.float64(0.0),\n",
       "  4: np.float64(0.0),\n",
       "  5: np.float64(0.0),\n",
       "  6: np.float64(0.0),\n",
       "  7: np.float64(0.0),\n",
       "  8: np.float64(0.0),\n",
       "  9: np.float64(0.0),\n",
       "  10: np.float64(0.0),\n",
       "  11: np.float64(0.0),\n",
       "  12: np.float64(0.0),\n",
       "  13: np.float64(0.0),\n",
       "  14: np.float64(0.0)},\n",
       " 10: {0: np.float64(0.0),\n",
       "  1: np.float64(0.18354430379746836),\n",
       "  2: np.float64(0.0),\n",
       "  3: np.float64(0.0),\n",
       "  4: np.float64(0.0),\n",
       "  5: np.float64(0.0),\n",
       "  6: np.float64(0.0),\n",
       "  7: np.float64(0.0),\n",
       "  8: np.float64(0.0),\n",
       "  9: np.float64(0.0),\n",
       "  10: np.float64(0.0),\n",
       "  11: np.float64(0.0),\n",
       "  12: np.float64(0.0),\n",
       "  13: np.float64(0.0),\n",
       "  14: np.float64(0.0)},\n",
       " 11: {0: np.float64(0.0),\n",
       "  1: np.float64(0.6645569620253164),\n",
       "  2: np.float64(0.0),\n",
       "  3: np.float64(0.0),\n",
       "  4: np.float64(0.0),\n",
       "  5: np.float64(0.0),\n",
       "  6: np.float64(0.0),\n",
       "  7: np.float64(0.0),\n",
       "  8: np.float64(0.0),\n",
       "  9: np.float64(0.0),\n",
       "  10: np.float64(0.0),\n",
       "  11: np.float64(0.0),\n",
       "  12: np.float64(0.0),\n",
       "  13: np.float64(0.0),\n",
       "  14: np.float64(0.0)},\n",
       " 12: {0: np.float64(0.0),\n",
       "  1: np.float64(0.9556962025316456),\n",
       "  2: np.float64(0.0),\n",
       "  3: np.float64(0.0),\n",
       "  4: np.float64(0.0),\n",
       "  5: np.float64(0.0),\n",
       "  6: np.float64(0.0),\n",
       "  7: np.float64(0.0),\n",
       "  8: np.float64(0.0),\n",
       "  9: np.float64(0.0),\n",
       "  10: np.float64(0.0),\n",
       "  11: np.float64(0.0),\n",
       "  12: np.float64(0.0),\n",
       "  13: np.float64(0.0),\n",
       "  14: np.float64(0.0)},\n",
       " 13: {0: np.float64(0.0),\n",
       "  1: np.float64(0.3670886075949367),\n",
       "  2: np.float64(0.0),\n",
       "  3: np.float64(0.0),\n",
       "  4: np.float64(0.0),\n",
       "  5: np.float64(0.0),\n",
       "  6: np.float64(0.0),\n",
       "  7: np.float64(0.0),\n",
       "  8: np.float64(0.0),\n",
       "  9: np.float64(0.0),\n",
       "  10: np.float64(0.0),\n",
       "  11: np.float64(0.0),\n",
       "  12: np.float64(0.0),\n",
       "  13: np.float64(0.0),\n",
       "  14: np.float64(0.0)},\n",
       " 14: {0: np.float64(0.0),\n",
       "  1: np.float64(0.8607594936708861),\n",
       "  2: np.float64(0.0),\n",
       "  3: np.float64(0.0),\n",
       "  4: np.float64(0.0),\n",
       "  5: np.float64(0.0),\n",
       "  6: np.float64(0.0),\n",
       "  7: np.float64(0.0),\n",
       "  8: np.float64(0.0),\n",
       "  9: np.float64(0.0),\n",
       "  10: np.float64(0.0),\n",
       "  11: np.float64(0.0),\n",
       "  12: np.float64(0.0),\n",
       "  13: np.float64(0.0),\n",
       "  14: np.float64(0.0)}}"
      ]
     },
     "execution_count": 209,
     "metadata": {},
     "output_type": "execute_result"
    }
   ],
   "source": [
    "new_capacities"
   ]
  },
  {
   "cell_type": "code",
   "execution_count": 270,
   "id": "c4f57a91-294c-4789-bd55-2edd3592d5a1",
   "metadata": {},
   "outputs": [
    {
     "data": {
      "text/plain": [
       "{'Show': 0,\n",
       " ('Book', 'Directed', 'Lyrics', 'Music'): 1,\n",
       " ('Book', 'Choreographed', 'Directed'): 2,\n",
       " ('Book', 'Lyrics', 'Music'): 3,\n",
       " ('Directed', 'Lyrics'): 4,\n",
       " ('Book', 'Lyrics'): 5,\n",
       " ('Choreographed', 'Directed'): 6,\n",
       " ('Book', 'Music'): 7,\n",
       " ('Book', 'Directed'): 8,\n",
       " ('Lyrics', 'Music'): 9,\n",
       " ('Choreographed',): 10,\n",
       " ('Music',): 11,\n",
       " ('Directed',): 12,\n",
       " ('Book',): 13,\n",
       " ('Lyrics',): 14}"
      ]
     },
     "execution_count": 270,
     "metadata": {},
     "output_type": "execute_result"
    }
   ],
   "source": [
    "idx_rule"
   ]
  },
  {
   "cell_type": "code",
   "execution_count": 271,
   "id": "aac05b34-b374-431b-aeaa-d783a5679716",
   "metadata": {},
   "outputs": [
    {
     "data": {
      "image/png": "[encoded data removed]",
      "text/plain": [
       "<Figure size 432x288 with 1 Axes>"
      ]
     },
     "metadata": {},
     "output_type": "display_data"
    }
   ],
   "source": [
    "nx.draw(new_g,node_size=10,width=1)"
   ]
  },
  {
   "cell_type": "code",
   "execution_count": null,
   "id": "87e17d9d-7d25-4fd6-a0a9-540b567a9b42",
   "metadata": {},
   "outputs": [],
   "source": []
  },
  {
   "cell_type": "code",
   "execution_count": 284,
   "id": "62954b66-a278-4357-af34-732a32ce6971",
   "metadata": {},
   "outputs": [],
   "source": [
    "new_h = nx.subgraph(new_g,sorted(list(nx.connected_components(new_g)),key=len,reverse=True)[0])"
   ]
  },
  {
   "cell_type": "code",
   "execution_count": 285,
   "id": "b996d9de-88a0-4091-9d94-52c8dd161c60",
   "metadata": {},
   "outputs": [
    {
     "data": {
      "image/png": "[encoded data removed]",
      "text/plain": [
       "<Figure size 432x288 with 1 Axes>"
      ]
     },
     "metadata": {},
     "output_type": "display_data"
    }
   ],
   "source": [
    "nx.draw(new_h,node_size=10,width=1)"
   ]
  },
  {
   "cell_type": "code",
   "execution_count": 200,
   "id": "5fb285bd-cc86-4534-bee1-d7f579b21ec5",
   "metadata": {},
   "outputs": [
    {
     "data": {
      "image/png": "[encoded data removed]",
      "text/plain": [
       "<Figure size 432x288 with 1 Axes>"
      ]
     },
     "metadata": {
      "needs_background": "light"
     },
     "output_type": "display_data"
    }
   ],
   "source": [
    "plt.hist(np.array(new_h.degree())[:,1],alpha=.5,label='Recon')\n",
    "plt.xscale('log')\n",
    "plt.yscale('log')\n",
    "plt.hist(np.array(h.degree())[:,1],alpha=.5,label='Original')\n",
    "plt.xscale('log')\n",
    "plt.yscale('log')\n",
    "plt.legend()\n",
    "plt.show()"
   ]
  },
  {
   "cell_type": "code",
   "execution_count": 215,
   "id": "526f5b5f-0455-48aa-a7b9-97b00481e196",
   "metadata": {},
   "outputs": [
    {
     "name": "stdout",
     "output_type": "stream",
     "text": [
      "6.775130709084198 2.7731890966021826\n"
     ]
    }
   ],
   "source": [
    "print(np.array(list(dict(nx.average_neighbor_degree(g)).values())).mean(),np.array(list(dict(nx.average_neighbor_degree(new_g)).values())).mean())"
   ]
  },
  {
   "cell_type": "code",
   "execution_count": 216,
   "id": "7a8cd242-3be7-4f99-a072-fd4fe9fd7685",
   "metadata": {},
   "outputs": [
    {
     "name": "stdout",
     "output_type": "stream",
     "text": [
      "7.76133911905166 7.9214801187819734\n"
     ]
    }
   ],
   "source": [
    "print(nx.average_shortest_path_length(h),nx.average_shortest_path_length(new_h))"
   ]
  },
  {
   "cell_type": "code",
   "execution_count": 217,
   "id": "811d33a0-f132-489a-bdf0-b7b6008daa9d",
   "metadata": {},
   "outputs": [],
   "source": [
    "nx.write_edgelist(nx.convert_node_labels_to_integers(g),'data/social_networks/broadway/ex1/g.txt')"
   ]
  },
  {
   "cell_type": "code",
   "execution_count": 218,
   "id": "da9f407f-71b7-458b-81af-e4204cbadb02",
   "metadata": {},
   "outputs": [],
   "source": [
    "nx.write_edgelist(nx.convert_node_labels_to_integers(new_g),'data/social_networks/broadway/ex1/new_g.txt')"
   ]
  },
  {
   "cell_type": "code",
   "execution_count": 177,
   "id": "886a97a3-5831-46d3-8ccc-17e80f4520f7",
   "metadata": {},
   "outputs": [],
   "source": [
    "from portrait_divergence import portrait_divergence"
   ]
  },
  {
   "cell_type": "code",
   "execution_count": 281,
   "id": "ce284158-bb7a-403f-89bf-1626aa605f68",
   "metadata": {},
   "outputs": [
    {
     "data": {
      "text/plain": [
       "np.float64(0.595194863785613)"
      ]
     },
     "execution_count": 281,
     "metadata": {},
     "output_type": "execute_result"
    }
   ],
   "source": [
    "portrait_divergence(g,new_g)"
   ]
  },
  {
   "cell_type": "code",
   "execution_count": 208,
   "id": "f11b0e32-eb04-467f-9cdd-fd7dac34a10b",
   "metadata": {},
   "outputs": [
    {
     "data": {
      "text/plain": [
       "<networkx.classes.multigraph.MultiGraph at 0x2b03852cbb20>"
      ]
     },
     "execution_count": 208,
     "metadata": {},
     "output_type": "execute_result"
    }
   ],
   "source": [
    "nx.configuration_model(np.array(g.degree())[:,1].astype('int'))"
   ]
  },
  {
   "cell_type": "code",
   "execution_count": 278,
   "id": "3f3c434e-14e0-427f-9229-28be151a90b1",
   "metadata": {},
   "outputs": [
    {
     "data": {
      "text/plain": [
       "np.float64(0.5364518390798572)"
      ]
     },
     "execution_count": 278,
     "metadata": {},
     "output_type": "execute_result"
    }
   ],
   "source": [
    "portrait_divergence(h,nx.configuration_model(np.array(h.degree())[:,1].astype('int')))"
   ]
  },
  {
   "cell_type": "code",
   "execution_count": 282,
   "id": "84c5814b-abd8-4221-9487-633b614be00c",
   "metadata": {},
   "outputs": [
    {
     "data": {
      "text/plain": [
       "np.float64(0.6367068384458824)"
      ]
     },
     "execution_count": 282,
     "metadata": {},
     "output_type": "execute_result"
    }
   ],
   "source": [
    "portrait_divergence(g,nx.configuration_model(np.array(g.degree())[:,1].astype('int')))"
   ]
  },
  {
   "cell_type": "code",
   "execution_count": 286,
   "id": "5e03061b-8b70-4f9e-9707-d28056954615",
   "metadata": {},
   "outputs": [],
   "source": [
    "from scipy.spatial.distance import *"
   ]
  },
  {
   "cell_type": "code",
   "execution_count": 294,
   "id": "57c06f24-ba2f-4e05-abcc-827baf5a867e",
   "metadata": {},
   "outputs": [
    {
     "data": {
      "text/plain": [
       "np.float64(0.005983911711197947)"
      ]
     },
     "execution_count": 294,
     "metadata": {},
     "output_type": "execute_result"
    }
   ],
   "source": [
    "hamming(nx.adjacency_matrix(g).toarray().flatten(),nx.adjacency_matrix(new_g).toarray().flatten())"
   ]
  },
  {
   "cell_type": "code",
   "execution_count": 296,
   "id": "b85a3353-e146-41db-82ef-badcdedb54a2",
   "metadata": {},
   "outputs": [
    {
     "data": {
      "text/plain": [
       "np.float64(0.5780612233180862)"
      ]
     },
     "execution_count": 296,
     "metadata": {},
     "output_type": "execute_result"
    }
   ],
   "source": [
    "portrait_divergence(h,new_h)"
   ]
  },
  {
   "cell_type": "code",
   "execution_count": 300,
   "id": "6246e009-0161-471a-83b5-604b9cd41b01",
   "metadata": {},
   "outputs": [
    {
     "data": {
      "text/plain": [
       "np.float64(0.9915478077126255)"
      ]
     },
     "execution_count": 300,
     "metadata": {},
     "output_type": "execute_result"
    }
   ],
   "source": [
    "jaccard(nx.adjacency_matrix(g).toarray().flatten(),nx.adjacency_matrix(nx.configuration_model(np.array(g.degree())[:,1].astype('int'))).toarray().flatten())"
   ]
  },
  {
   "cell_type": "code",
   "execution_count": 301,
   "id": "aaec61f4-cc32-4dd5-a8ed-bd6f54894ce0",
   "metadata": {},
   "outputs": [],
   "source": [
    "x = [hamming(nx.adjacency_matrix(g).toarray().flatten(),nx.adjacency_matrix(new_g).toarray().flatten()),\n",
    "     jaccard(nx.adjacency_matrix(g).toarray().flatten(),nx.adjacency_matrix(new_g).toarray().flatten()),\n",
    "     portrait_divergence(g,new_g)]"
   ]
  },
  {
   "cell_type": "code",
   "execution_count": 302,
   "id": "42255fdb-17f2-4063-9a8b-aea384b0b03f",
   "metadata": {},
   "outputs": [],
   "source": [
    "y = [hamming(nx.adjacency_matrix(g).toarray().flatten(),nx.adjacency_matrix(nx.configuration_model(np.array(g.degree())[:,1].astype('int'))).toarray().flatten()),\n",
    "     jaccard(nx.adjacency_matrix(g).toarray().flatten(),nx.adjacency_matrix(nx.configuration_model(np.array(g.degree())[:,1].astype('int'))).toarray().flatten()),\n",
    "     portrait_divergence(g,nx.configuration_model(np.array(g.degree())[:,1].astype('int')))]"
   ]
  },
  {
   "cell_type": "code",
   "execution_count": 305,
   "id": "db65247f-aead-4ac5-b671-5caea7e354bf",
   "metadata": {},
   "outputs": [
    {
     "data": {
      "image/png": "[encoded data removed]",
      "text/plain": [
       "<Figure size 432x288 with 1 Axes>"
      ]
     },
     "metadata": {
      "needs_background": "light"
     },
     "output_type": "display_data"
    }
   ],
   "source": [
    "plt.bar([0,1,2],x,alpha=.5)\n",
    "plt.bar([0,1,2],y,alpha=.5)\n",
    "plt.xticks([0,1,2],['Hamming','Jaccard','Portrait'])\n",
    "plt.show()"
   ]
  },
  {
   "cell_type": "code",
   "execution_count": null,
   "id": "6f206e07-afe5-4b38-99cd-c3f1604c4ff7",
   "metadata": {},
   "outputs": [],
   "source": []
  }
 ],
 "metadata": {
  "kernelspec": {
   "display_name": "Python 3 (ipykernel)",
   "language": "python",
   "name": "python3"
  },
  "language_info": {
   "codemirror_mode": {
    "name": "ipython",
    "version": 3
   },
   "file_extension": ".py",
   "mimetype": "text/x-python",
   "name": "python",
   "nbconvert_exporter": "python",
   "pygments_lexer": "ipython3",
   "version": "3.12.5"
  }
 },
 "nbformat": 4,
 "nbformat_minor": 5
}
