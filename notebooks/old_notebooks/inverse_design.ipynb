{
 "cells": [
  {
   "cell_type": "code",
   "execution_count": 1,
   "id": "f4db2bad-fa7c-4ad1-ba93-76a526091b17",
   "metadata": {},
   "outputs": [],
   "source": [
    "import networkx as nx\n",
    "import numpy as np\n",
    "import matplotlib.pyplot as plt\n",
    "import scipy.linalg as la\n",
    "import network_design as nd\n",
    "from scipy.stats import entropy\n",
    "import copy\n",
    "from itertools import combinations"
   ]
  },
  {
   "cell_type": "code",
   "execution_count": 30,
   "id": "1ddaebb9-ef5e-43a6-bee5-25427a7c88a1",
   "metadata": {},
   "outputs": [],
   "source": [
    "def find_rows_with_positive_values(matrix, columns, degree):\n",
    "    # Create a mask for positive values in each specified column\n",
    "    mask = np.ones(matrix.shape[0], dtype=bool)\n",
    "    for col,deg in zip(columns,degree):\n",
    "        mask &= (matrix[:, col] >= deg)\n",
    "    # Get indices where all conditions are satisfied\n",
    "    return np.where(mask)[0]\n",
    "\n",
    "def generate_smart_node_assignments(g,O):\n",
    "    # initialize matrix\n",
    "    X = np.zeros((g.number_of_nodes(),O.shape[0]))\n",
    "    for i in range(g.number_of_nodes()):\n",
    "        # Get neighbors\n",
    "        neighbors = g.neighbors(i)\n",
    "        labels = []\n",
    "        for n in neighbors:\n",
    "            try:\n",
    "                labels.append(np.where(X[n] == 1)[0][0])\n",
    "            except:\n",
    "                continue\n",
    "        labels = np.array(labels)\n",
    "        uniq_labels = np.unique(labels)\n",
    "        degrees = np.array([len(labels[labels == l]) for l in uniq_labels])\n",
    "        viable_labels = find_rows_with_positive_values(O,uniq_labels,degrees)\n",
    "        if len(viable_labels) == 0:\n",
    "            l = np.random.choice(np.arange(O.shape[0]))\n",
    "        else:\n",
    "            l = np.random.choice(viable_labels)\n",
    "        X[i,l] = 1\n",
    "    return X\n",
    "\n",
    "def mh(f,g,O,burn_in=100,init_T=1,max_iters=1000):\n",
    "    \"\"\"\n",
    "    Perform metropolis-hastings\n",
    "    \n",
    "    Parameters:\n",
    "        f: function to minimize\n",
    "        A (ndarray) - adjacency matrix\n",
    "        O (ndarray) - binding matrix\n",
    "        burn_in (ndarray) - number of iterations for burn in period\n",
    "        init_T (float) - initial temperature\n",
    "        max_iters (int) - maximum number of iterations\n",
    "        cooling_factor (float) - factor to change temperature\n",
    "    \n",
    "    Return:\n",
    "        X (ndarray) - node labels\n",
    "        energy (float) - energy of final labeling\n",
    "        entropy (float) - entropy of labeling\n",
    "    \"\"\"\n",
    "    energies = []\n",
    "    A = nx.adjacency_matrix(g).toarray()\n",
    "    # Create initial labeling\n",
    "    X0 = nd.generate_node_assignments(A.shape[0],O.shape[0]).astype(int)\n",
    "    E0 = -np.log(f(A,X0.sum(axis=0),O,X0))\n",
    "    labels = np.arange(O.shape[0])\n",
    "    for _ in range(burn_in):\n",
    "        # Update node labeling\n",
    "        # Choose node\n",
    "        k = np.random.choice(list(g.nodes()))\n",
    "        # Choose random labeling\n",
    "        # l = np.random.choice(labels)\n",
    "        # Check neighbors\n",
    "        neighbors = g.neighbors(k)\n",
    "        # Get labels of neighbors\n",
    "        labels = np.array([np.where(X0[n] == 1)[0][0] for n in neighbors])\n",
    "\n",
    "        uniq_labels = np.unique(labels)\n",
    "        degrees = np.array([len(labels[labels == l]) for l in uniq_labels])\n",
    "        # Get viable labels\n",
    "        viable_labels = find_rows_with_positive_values(O,uniq_labels,degrees)\n",
    "        if len(viable_labels) == 0:\n",
    "            continue\n",
    "        else:\n",
    "            l = np.random.choice(viable_labels)\n",
    "        \n",
    "        X1 = copy.deepcopy(X0)\n",
    "        X1[k] = np.zeros(X1.shape[1]).astype(int)\n",
    "        X1[k,l] = 1\n",
    "\n",
    "        # Calculate new energy\n",
    "        E1 = -np.log(f(A,X1.sum(axis=0),O,X1))\n",
    "        # if len(diff[diff>0]) > 0:\n",
    "        #     E1 = 10e2\n",
    "        diff_E = np.linalg.norm(E0 - E1)\n",
    "        random_num = np.random.random()\n",
    "        if random_num <= np.min([1,np.exp(diff_E / init_T)]):\n",
    "            X0 = X1\n",
    "            E0 = E1\n",
    "        energies.append(E0)\n",
    "    \n",
    "    T = init_T\n",
    "    for _ in range(max_iters):\n",
    "        T *= 1/np.log(1+_)\n",
    "        # Update node labeling\n",
    "        # Choose node\n",
    "         # Update node labeling\n",
    "        # Choose node\n",
    "        k = np.random.choice(list(g.nodes()))\n",
    "        # Choose random labeling\n",
    "        # l = np.random.choice(labels)\n",
    "        # Check neighbors\n",
    "        neighbors = g.neighbors(k)\n",
    "        # Get labels of neighbors\n",
    "        labels = np.array([np.where(X0[n] == 1)[0][0] for n in neighbors])\n",
    "\n",
    "        uniq_labels = np.unique(labels)\n",
    "        degrees = np.array([len(labels[labels == l]) for l in uniq_labels])\n",
    "        # Get viable labels\n",
    "        viable_labels = find_rows_with_positive_values(O,uniq_labels,degrees)\n",
    "        if len(viable_labels) == 0:\n",
    "            continue\n",
    "        else:\n",
    "            l = np.random.choice(viable_labels)\n",
    "        \n",
    "        X1 = copy.deepcopy(X0)\n",
    "        X1[k] = np.zeros(X1.shape[1])\n",
    "        X1[k,l] = 1\n",
    "\n",
    "        # Calculate new energy\n",
    "        E1 = -np.log(f(A,X1.sum(axis=0),O,X1))\n",
    "        # if len(diff[diff>0]) > 0:\n",
    "        #     E1 = 10e2\n",
    "        diff_E = np.linalg.norm(E0 - E1)\n",
    "        random_num = np.random.random()\n",
    "        if random_num <= np.min([1,np.exp(diff_E / init_T)]):\n",
    "            X0 = X1\n",
    "            E0 = E1\n",
    "        energies.append(E0)\n",
    "        \n",
    "    return X0, E0, energies"
   ]
  },
  {
   "cell_type": "code",
   "execution_count": 3,
   "id": "34b6d66c-5250-49f5-bfa1-6e9e82c47a00",
   "metadata": {},
   "outputs": [],
   "source": [
    "def canonical_energy(params):\n",
    "    A, X, O = params\n",
    "    _, P = nd.canonical_ensemble(X.sum(axis=0).astype(int),O,X,ret_P=True)\n",
    "    probability = np.prod([P[i,j]**A[i,j]*(1-P[i,j])**(1-A[i,j]) for j in range(i,A.shape[0]) for i in range(A.shape[0])])\n",
    "    return probability"
   ]
  },
  {
   "cell_type": "code",
   "execution_count": 6,
   "id": "7515d2e6-6548-4751-99ee-75f332230555",
   "metadata": {},
   "outputs": [
    {
     "data": {
      "text/plain": [
       "array([[3., 0., 1.],\n",
       "       [0., 2., 2.],\n",
       "       [1., 1., 2.]])"
      ]
     },
     "execution_count": 6,
     "metadata": {},
     "output_type": "execute_result"
    }
   ],
   "source": [
    "true_X = nd.generate_node_assignments(10,3)\n",
    "cap = nd.assign_particles(3,4)\n",
    "O = nd.create_O(cap)\n",
    "O"
   ]
  },
  {
   "cell_type": "code",
   "execution_count": 7,
   "id": "61eacc31-fc4b-44c5-b82e-9f85656a9735",
   "metadata": {},
   "outputs": [],
   "source": [
    "g = nd.new_soup_of_nodes(true_X,nd.create_capacity(true_X,cap))"
   ]
  },
  {
   "cell_type": "code",
   "execution_count": 8,
   "id": "e897c38b-3316-4966-9697-dfcec5f854f4",
   "metadata": {},
   "outputs": [],
   "source": [
    "A = nx.adjacency_matrix(g).toarray()"
   ]
  },
  {
   "cell_type": "code",
   "execution_count": 31,
   "id": "179dc349-2cbf-443d-8b45-5bbb98609af0",
   "metadata": {},
   "outputs": [
    {
     "name": "stderr",
     "output_type": "stream",
     "text": [
      "/tmp/ipykernel_17507/1367158969.py:54: RuntimeWarning: divide by zero encountered in log\n",
      "  E0 = -np.log(f(A,X0.sum(axis=0),O,X0))\n",
      "/tmp/ipykernel_17507/1367158969.py:81: RuntimeWarning: divide by zero encountered in log\n",
      "  E1 = -np.log(f(A,X1.sum(axis=0),O,X1))\n",
      "/tmp/ipykernel_17507/1367158969.py:84: RuntimeWarning: invalid value encountered in scalar subtract\n",
      "  diff_E = np.linalg.norm(E0 - E1)\n",
      "/tmp/ipykernel_17507/1367158969.py:93: RuntimeWarning: divide by zero encountered in scalar divide\n",
      "  T *= 1/np.log(1+_)\n",
      "/tmp/ipykernel_17507/1367158969.py:120: RuntimeWarning: divide by zero encountered in log\n",
      "  E1 = -np.log(f(A,X1.sum(axis=0),O,X1))\n",
      "/tmp/ipykernel_17507/1367158969.py:123: RuntimeWarning: invalid value encountered in scalar subtract\n",
      "  diff_E = np.linalg.norm(E0 - E1)\n"
     ]
    }
   ],
   "source": [
    "new_X, new_E, energies = mh(nd.probability,g,O,max_iters=10000)"
   ]
  },
  {
   "cell_type": "code",
   "execution_count": 43,
   "id": "64a20c93-4038-4564-87ff-1c124b239b15",
   "metadata": {},
   "outputs": [
    {
     "data": {
      "text/plain": [
       "np.float64(0.0)"
      ]
     },
     "execution_count": 43,
     "metadata": {},
     "output_type": "execute_result"
    }
   ],
   "source": [
    "nd.probability(A,test_X.sum(axis=0).astype(int),O,test_X)"
   ]
  },
  {
   "cell_type": "code",
   "execution_count": 41,
   "id": "3f01e58a-b141-4352-9649-52c28c9e2244",
   "metadata": {},
   "outputs": [],
   "source": [
    "test_X = generate_smart_node_assignments(g,O)"
   ]
  },
  {
   "cell_type": "code",
   "execution_count": 42,
   "id": "c4e01941-ad93-45bd-b6d7-c292839fa2e0",
   "metadata": {},
   "outputs": [
    {
     "data": {
      "text/plain": [
       "array([[0., 0., 1.],\n",
       "       [0., 1., 0.],\n",
       "       [1., 0., 0.],\n",
       "       [0., 0., 1.],\n",
       "       [0., 0., 1.],\n",
       "       [0., 0., 1.],\n",
       "       [0., 0., 1.],\n",
       "       [0., 1., 0.],\n",
       "       [0., 1., 0.],\n",
       "       [0., 0., 1.]])"
      ]
     },
     "execution_count": 42,
     "metadata": {},
     "output_type": "execute_result"
    }
   ],
   "source": [
    "test_X"
   ]
  },
  {
   "cell_type": "code",
   "execution_count": null,
   "id": "e4ce0787-4407-46e1-a94f-cee9f608dfcc",
   "metadata": {},
   "outputs": [],
   "source": []
  }
 ],
 "metadata": {
  "kernelspec": {
   "display_name": "Python 3 (ipykernel)",
   "language": "python",
   "name": "python3"
  },
  "language_info": {
   "codemirror_mode": {
    "name": "ipython",
    "version": 3
   },
   "file_extension": ".py",
   "mimetype": "text/x-python",
   "name": "python",
   "nbconvert_exporter": "python",
   "pygments_lexer": "ipython3",
   "version": "3.9.12"
  }
 },
 "nbformat": 4,
 "nbformat_minor": 5
}
