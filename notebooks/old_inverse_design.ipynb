{
 "cells": [
  {
   "cell_type": "code",
   "execution_count": 1,
   "id": "93b564bf-600f-47ce-99b9-26eed1bca710",
   "metadata": {},
   "outputs": [],
   "source": [
    "import networkx as nx\n",
    "import numpy as np\n",
    "import matplotlib.pyplot as plt\n",
    "import scipy.linalg as la\n",
    "import network_design as nd\n",
    "from scipy.stats import entropy\n",
    "import copy\n",
    "from itertools import combinations"
   ]
  },
  {
   "cell_type": "markdown",
   "id": "bdf9d792-8137-4a37-bdfc-b730bce1a25c",
   "metadata": {},
   "source": [
    "We want to use Bayesian methods to predict the most probable labeling of our network given that it was made from certain particles.\n",
    "\n",
    "Say we have a network $A$ and we know the binding matrix $O$ and the labeling of our nodes $X$.\n",
    "Then we know that\n",
    "$$P(A\\mid O,X)=\\prod_{ij}p_{ij}^{A_{ij}}(1-p_{ij})^{1-A_{ij}}$$\n",
    "where $p_{ij}=\\min\\left\\{1,\\min\\left\\{\\frac{O_{\\theta_i\\theta_j}}{N_{\\theta_j}},\\frac{O_{\\theta_j\\theta_i}}{N_{\\theta_i}}\\right\\}\\right\\}$."
   ]
  },
  {
   "cell_type": "markdown",
   "id": "c7a7e3c9-c895-47ee-b95a-7e48478ee14a",
   "metadata": {},
   "source": [
    "Now what we want to solve is $P(X\\mid O,A)$.\n",
    "We know from Bayes that\n",
    "$$\n",
    "P(X\\mid O,A)=\\frac{P(A\\mid O,X)P(O,X)}{P(A)}.\n",
    "$$"
   ]
  },
  {
   "cell_type": "markdown",
   "id": "e7ac7c22-c79d-4d67-a9d9-d07fd49203bf",
   "metadata": {},
   "source": [
    "Now we know that $O$ is fixed.\n",
    "Thus we know that $P(A)=\\sum_XP(A\\mid X)$.\n",
    "To solve this we would need to scan over all possible partitions of our nodes in $X$."
   ]
  },
  {
   "cell_type": "markdown",
   "id": "ac4f9c0f-f040-4f7c-a95d-09478d8440e3",
   "metadata": {},
   "source": [
    "Instead, we find the $X$ with minimum description length. To do this, we first need to find our the number of possible networks that can be made for a given labeling $X$ and binding matrices $O_N$ and $O_L$.\n",
    "This number will explode exponentially as many links can have different options.\n",
    "To simplify, we apply the technique of SBM models but set $e_{rs}$ to be the number of expected links between two groups.\n",
    "\n",
    "We know that $O\\otimes X^T\\mathbf{1}$ is the number of expected links between nodes of group $i$ and nodes of group $j$.\n",
    "Thus the total entropy of our ensemble is simply, $\\mathscr{S}=\\frac{1}{2}\\sum_{\\theta_i,\\theta_j}N_{\\theta_i}N_{\\theta_j}H_b\\left(\\frac{OX^T\\mathbf{1}}{N_{\\theta_i}N_{\\theta_j}}\\right)$."
   ]
  },
  {
   "cell_type": "markdown",
   "id": "f472fa45-0a12-4c41-9e04-65290297092b",
   "metadata": {},
   "source": [
    "Now we want to know the best labeling. This labeling will satisfy two constraints:\n",
    "1. It will have the correct values of $e_{rs}$ and\n",
    "2. It will be of minimal entropy of all the networks that satisfy condition (1)."
   ]
  },
  {
   "cell_type": "markdown",
   "id": "740a8aa2-4c7b-4549-b298-624106cf977a",
   "metadata": {},
   "source": [
    "To identify this, we use simulated annhealing on the function $f(x)=\\|[\\mathscr{S},e_{ij}-e_{ij}^*]\\|$ for all $i,j$."
   ]
  },
  {
   "cell_type": "code",
   "execution_count": 2,
   "id": "73091243-2677-44d7-8667-5228d98c33bb",
   "metadata": {},
   "outputs": [],
   "source": [
    "def colors(X):\n",
    "    color = []\n",
    "    for i in range(len(X)):\n",
    "        if np.where(X[i] == 1)[0][0] == 1:\n",
    "            color.append('r')\n",
    "        elif np.where(X[i] == 1)[0][0] == 2:\n",
    "            color.append('gold')\n",
    "        else:\n",
    "            color.append('deepskyblue')\n",
    "    return color"
   ]
  },
  {
   "cell_type": "code",
   "execution_count": 23,
   "id": "33564216-e087-40f7-b06a-b55603a13979",
   "metadata": {},
   "outputs": [],
   "source": [
    "def get_links_between_groups(A,X,mat = True):\n",
    "    R = (X.T@A@X)\n",
    "    R[np.diag_indices_from(R)] /= 2\n",
    "    if mat:\n",
    "        return R[np.triu_indices(X.shape[1])],R\n",
    "    return R[np.triu_indices(X.shape[1])]\n",
    "\n",
    "def H(x):\n",
    "    return -x*np.log(x) - (1-x)*np.log(1-x)\n",
    "\n",
    "def energy(params,lambda0=2):\n",
    "    A, X, O = params\n",
    "    # Get links between groups\n",
    "    e, mat = get_links_between_groups(A,X)\n",
    "    # Get optimal number of links between groups\n",
    "    # e_star_1 = (X.T@O@X)[np.triu_indices(X.shape[1])]\n",
    "    # e_star_2 = (X.T@O@X)[np.tril_indices(X.shape[1])]\n",
    "    e_star_1 = (O*X.sum(axis=0))[np.triu_indices(X.shape[1])]\n",
    "    e_star_2 = (O*X.sum(axis=0))[np.tril_indices(X.shape[1])]\n",
    "    e_star = np.minimum(e_star_1,e_star_2)\n",
    "    \n",
    "    # Get diff\n",
    "    diff = e - e_star\n",
    "    # Link\n",
    "    \n",
    "    # Get entropy\n",
    "    S = 1/2*np.nansum([mat[i,j]*np.log(mat[i,j]/(mat[i].sum()*mat[j].sum())) for j in range(X.shape[1]) for i in range(X.shape[1])])\n",
    "    # total_energy = np.append(S,diff)\n",
    "    \n",
    "    # return np.linalg.norm(S,ord=1),S\n",
    "    return S,diff"
   ]
  },
  {
   "cell_type": "code",
   "execution_count": 24,
   "id": "b1b5ebd8-c6fd-47c1-9f67-f9ea627a4f5a",
   "metadata": {},
   "outputs": [],
   "source": [
    "def find_rows_with_positive_values(matrix, columns, degree):\n",
    "    # Create a mask for positive values in each specified column\n",
    "    mask = np.ones(matrix.shape[0], dtype=bool)\n",
    "    for col,deg in zip(columns,degree):\n",
    "        mask &= (matrix[:, col] >= deg)\n",
    "    # Get indices where all conditions are satisfied\n",
    "    return np.where(mask)[0]\n",
    "\n",
    "def generate_smart_node_assignments(g,O):\n",
    "    # initialize matrix\n",
    "    X = np.zeros((g.number_of_nodes(),O.shape[0]))\n",
    "    for i in range(g.number_of_nodes()):\n",
    "        # Get neighbors\n",
    "        neighbors = g.neighbors(i)\n",
    "        labels = []\n",
    "        for n in neighbors:\n",
    "            try:\n",
    "                labels.append(np.where(X[n] == 1)[0][0])\n",
    "            except:\n",
    "                continue\n",
    "        labels = np.array(labels)\n",
    "        uniq_labels = np.unique(labels)\n",
    "        degrees = np.array([len(labels[labels == l]) for l in uniq_labels])\n",
    "        viable_labels = find_rows_with_positive_values(O,uniq_labels,degrees)\n",
    "        if len(viable_labels) == 0:\n",
    "            l = np.random.choice(np.arange(O.shape[0]))\n",
    "        else:\n",
    "            l = np.random.choice(viable_labels)\n",
    "        X[i,l] = 1\n",
    "    return X\n",
    "            \n",
    "\n",
    "def mh(f,g,O,burn_in=10000,init_T=1,max_iters=100,cooling_factor=.95,cooldown=100):\n",
    "    \"\"\"\n",
    "    Perform metropolis-hastings\n",
    "    \n",
    "    Parameters:\n",
    "        f: function to minimize\n",
    "        A (ndarray) - adjacency matrix\n",
    "        O (ndarray) - binding matrix\n",
    "        burn_in (ndarray) - number of iterations for burn in period\n",
    "        init_T (float) - initial temperature\n",
    "        max_iters (int) - maximum number of iterations\n",
    "        cooling_factor (float) - factor to change temperature\n",
    "    \n",
    "    Return:\n",
    "        X (ndarray) - node labels\n",
    "        energy (float) - energy of final labeling\n",
    "        entropy (float) - entropy of labeling\n",
    "    \"\"\"\n",
    "    energies = []\n",
    "    A = nx.adjacency_matrix(g).toarray()\n",
    "    # Create initial labeling\n",
    "    # X0 = nd.generate_node_assignments(A.shape[0],O.shape[0])\n",
    "    X0 = generate_smart_node_assignments(g,O)\n",
    "    E0,diff = f((A,X0,O))\n",
    "    labels = np.arange(O.shape[0])\n",
    "    for _ in range(burn_in):\n",
    "        # Update node labeling\n",
    "        # Choose node\n",
    "        k = np.random.choice(list(g.nodes()))\n",
    "        # Choose random labeling\n",
    "        # l = np.random.choice(labels)\n",
    "        # Check neighbors\n",
    "        neighbors = g.neighbors(k)\n",
    "        # Get labels of neighbors\n",
    "        labels = np.array([np.where(X0[n] == 1)[0][0] for n in neighbors])\n",
    "\n",
    "        uniq_labels = np.unique(labels)\n",
    "        degrees = np.array([len(labels[labels == l]) for l in uniq_labels])\n",
    "        # Get viable labels\n",
    "        viable_labels = find_rows_with_positive_values(O,uniq_labels,degrees)\n",
    "        if len(viable_labels) == 0:\n",
    "            continue\n",
    "        else:\n",
    "            l = np.random.choice(viable_labels)\n",
    "        \n",
    "        X1 = copy.deepcopy(X0)\n",
    "        X1[k] = np.zeros(X1.shape[1])\n",
    "        X1[k,l] = 1\n",
    "\n",
    "        # Calculate new energy\n",
    "        E1,diff = f((A,X1,O))\n",
    "        # if len(diff[diff>0]) > 0:\n",
    "        #     E1 = 10e2\n",
    "        diff_E = np.linalg.norm(E0 - E1)\n",
    "        random_num = np.random.random()\n",
    "        if random_num < np.min([1,np.exp(diff_E / init_T)]):\n",
    "            X0 = X1\n",
    "            E0 = E1\n",
    "        energies.append(E0)\n",
    "    \n",
    "    T = init_T\n",
    "    for _ in range(max_iters):\n",
    "        T *= cooling_factor\n",
    "        # Update node labeling\n",
    "        # Choose node\n",
    "        k = np.random.choice(list(g.nodes()))\n",
    "        # Choose random labeling\n",
    "        # l = np.random.choice(labels)\n",
    "        # Check neighbors\n",
    "        neighbors = g.neighbors(k)\n",
    "        # Get labels of neighbors\n",
    "        labels = np.array([np.where(X0[n] == 1)[0][0] for n in neighbors])\n",
    "        uniq_labels = np.unique(labels)\n",
    "        degrees = np.array([len(labels[labels == l]) for l in uniq_labels])\n",
    "        # Get viable labels\n",
    "        viable_labels = find_rows_with_positive_values(O,uniq_labels,degrees)\n",
    "        if len(viable_labels) == 0:\n",
    "            continue\n",
    "        else:\n",
    "            l = np.random.choice(viable_labels)\n",
    "        X1 = copy.deepcopy(X0)\n",
    "        X1[k] = np.zeros(X1.shape[1])\n",
    "        X1[k,l] = 1\n",
    "\n",
    "        # Calculate new energy\n",
    "        E1,diff = f((A,X1,O))\n",
    "        # if len(diff[diff>0]) > 0:\n",
    "        #     E1 = 10e2\n",
    "        diff_E = np.linalg.norm(E0 - E1)\n",
    "        random_num = np.random.random()\n",
    "        if random_num < np.min([1,np.exp(diff_E / T)]):\n",
    "            X0 = X1\n",
    "            E0 = E1\n",
    "        energies.append(E0)\n",
    "        \n",
    "    return X0, E0, diff_E, energies"
   ]
  },
  {
   "cell_type": "code",
   "execution_count": 25,
   "id": "c17757a7-2477-4626-af1e-8586a3627bec",
   "metadata": {},
   "outputs": [],
   "source": [
    "def new_energy(params,lambda0=2):\n",
    "    A, X, O = params\n",
    "    # Get links between groups\n",
    "    e, mat = get_links_between_groups(A,X)\n",
    "    # Get optimal number of links between groups\n",
    "    # e_star_1 = (X.T@O@X)[np.triu_indices(X.shape[1])]\n",
    "    # e_star_2 = (X.T@O@X)[np.tril_indices(X.shape[1])]\n",
    "    e_star_1 = (O*X.sum(axis=0))[np.triu_indices(X.shape[1])]\n",
    "    e_star_2 = (O*X.sum(axis=0))[np.tril_indices(X.shape[1])]\n",
    "    e_star = np.minimum(e_star_1,e_star_2)\n",
    "    \n",
    "    # Get diff\n",
    "    diff = e - e_star\n",
    "    # Link\n",
    "    \n",
    "    # Get entropy\n",
    "    S = 1/2*np.nansum([mat[i,j]*np.log(mat[i,j]/(mat[i].sum()*mat[j].sum())) for j in range(X.shape[1]) for i in range(X.shape[1])])\n",
    "    total_energy = np.append(S,np.abs(diff))\n",
    "    \n",
    "    # return np.linalg.norm(S,ord=1),S\n",
    "    return np.linalg.norm(total_energy,ord=1),diff"
   ]
  },
  {
   "cell_type": "code",
   "execution_count": 26,
   "id": "6f327efa-27f0-4db7-a62c-f7f8f71e1f6f",
   "metadata": {},
   "outputs": [],
   "source": [
    "def canonical_energy(params):\n",
    "    A, X, O = params\n",
    "    _, P = nd.canonical_ensemble(X.sum(axis=0).astype(int),O,X,ret_P=True)\n",
    "    probability = np.prod([P[i,j]**A[i,j]*(1-P[i,j])**(1-A[i,j]) for j in range(i,A.shape[0]) for i in range(A.shape[0])])\n",
    "    if probability == 0:\n",
    "        return np.inf, np.zeros(int(A.sum()/2))\n",
    "    return -probability*np.log(probability) - (1-probability)*np.log(1-probability), np.zeros(int(A.sum()/2))"
   ]
  },
  {
   "cell_type": "code",
   "execution_count": 78,
   "id": "a83c3a01-16c7-4c9d-9045-09737f5cec61",
   "metadata": {},
   "outputs": [],
   "source": [
    "true_X = nd.generate_node_assignments(10,3)\n",
    "cap = nd.assign_particles(3,4)\n",
    "O = nd.create_O(cap)"
   ]
  },
  {
   "cell_type": "code",
   "execution_count": 79,
   "id": "e386756b-fa0e-4b38-9649-bb89475a76a4",
   "metadata": {},
   "outputs": [],
   "source": [
    "g = nd.new_soup_of_nodes(true_X,nd.create_capacity(true_X,cap))"
   ]
  },
  {
   "cell_type": "code",
   "execution_count": 80,
   "id": "4ecb12a8-9032-463a-8a15-c5314fb45ee9",
   "metadata": {},
   "outputs": [],
   "source": [
    "A = nx.adjacency_matrix(g).toarray()"
   ]
  },
  {
   "cell_type": "code",
   "execution_count": 81,
   "id": "130a74ec-d693-4864-a771-1071445b8f61",
   "metadata": {
    "scrolled": true,
    "tags": []
   },
   "outputs": [
    {
     "name": "stderr",
     "output_type": "stream",
     "text": [
      "/tmp/ipykernel_17238/1219016132.py:27: RuntimeWarning: divide by zero encountered in log\n",
      "  S = 1/2*np.nansum([mat[i,j]*np.log(mat[i,j]/(mat[i].sum()*mat[j].sum())) for j in range(X.shape[1]) for i in range(X.shape[1])])\n",
      "/tmp/ipykernel_17238/1219016132.py:27: RuntimeWarning: invalid value encountered in scalar multiply\n",
      "  S = 1/2*np.nansum([mat[i,j]*np.log(mat[i,j]/(mat[i].sum()*mat[j].sum())) for j in range(X.shape[1]) for i in range(X.shape[1])])\n",
      "/tmp/ipykernel_17238/1219016132.py:27: RuntimeWarning: invalid value encountered in scalar divide\n",
      "  S = 1/2*np.nansum([mat[i,j]*np.log(mat[i,j]/(mat[i].sum()*mat[j].sum())) for j in range(X.shape[1]) for i in range(X.shape[1])])\n",
      "/tmp/ipykernel_17238/4168715584.py:123: RuntimeWarning: overflow encountered in exp\n",
      "  if random_num < np.min([1,np.exp(diff_E / T)]):\n"
     ]
    }
   ],
   "source": [
    "new_X, new_ent,diff,energies = mh(energy,g,O,max_iters=10000,cooling_factor=.98)"
   ]
  },
  {
   "cell_type": "code",
   "execution_count": 82,
   "id": "7f29f61c-8a9d-493e-8055-5eaa7d3a87f6",
   "metadata": {},
   "outputs": [
    {
     "data": {
      "text/plain": [
       "(array([[1., 0., 0.],\n",
       "        [0., 0., 1.],\n",
       "        [0., 1., 0.],\n",
       "        [0., 1., 0.],\n",
       "        [0., 0., 1.],\n",
       "        [1., 0., 0.],\n",
       "        [0., 0., 1.],\n",
       "        [0., 1., 0.],\n",
       "        [1., 0., 0.],\n",
       "        [0., 0., 1.]]),\n",
       " np.float64(0.0))"
      ]
     },
     "execution_count": 82,
     "metadata": {},
     "output_type": "execute_result"
    }
   ],
   "source": [
    "test_X = gener"
   ]
  },
  {
   "cell_type": "code",
   "execution_count": 83,
   "id": "c48841ec-ccf6-40f6-a807-21890f09831c",
   "metadata": {},
   "outputs": [
    {
     "data": {
      "image/png": "[encoded data removed]",
      "text/plain": [
       "<Figure size 432x288 with 1 Axes>"
      ]
     },
     "metadata": {},
     "output_type": "display_data"
    }
   ],
   "source": [
    "pos = nx.spring_layout(g)\n",
    "nx.draw(g,node_color=colors(true_X),pos=pos,with_labels=True)"
   ]
  },
  {
   "cell_type": "code",
   "execution_count": 84,
   "id": "59f5e5d9-2f47-40e0-a481-aa509c9195ee",
   "metadata": {},
   "outputs": [
    {
     "name": "stderr",
     "output_type": "stream",
     "text": [
      "/tmp/ipykernel_17238/1219016132.py:27: RuntimeWarning: divide by zero encountered in log\n",
      "  S = 1/2*np.nansum([mat[i,j]*np.log(mat[i,j]/(mat[i].sum()*mat[j].sum())) for j in range(X.shape[1]) for i in range(X.shape[1])])\n",
      "/tmp/ipykernel_17238/1219016132.py:27: RuntimeWarning: invalid value encountered in scalar multiply\n",
      "  S = 1/2*np.nansum([mat[i,j]*np.log(mat[i,j]/(mat[i].sum()*mat[j].sum())) for j in range(X.shape[1]) for i in range(X.shape[1])])\n"
     ]
    },
    {
     "data": {
      "text/plain": [
       "(np.float64(-23.665229644817224),\n",
       " (np.float64(-15.602587079287947), array([ 0., -1., -3.,  1.,  0., -4.])),\n",
       " (np.float64(-23.665229644817224), array([ 0.,  0., -2., -3.,  2., -7.])))"
      ]
     },
     "execution_count": 84,
     "metadata": {},
     "output_type": "execute_result"
    }
   ],
   "source": [
    "new_ent, energy((A,true_X,O)),energy((A,new_X,O))"
   ]
  },
  {
   "cell_type": "code",
   "execution_count": 85,
   "id": "451e794c-3969-4495-a120-43fb98971328",
   "metadata": {},
   "outputs": [
    {
     "data": {
      "image/png": "[encoded data removed]",
      "text/plain": [
       "<Figure size 432x288 with 1 Axes>"
      ]
     },
     "metadata": {},
     "output_type": "display_data"
    }
   ],
   "source": [
    "nx.draw(g,node_color=colors(new_X),pos=pos,with_labels=True)"
   ]
  },
  {
   "cell_type": "code",
   "execution_count": 86,
   "id": "fe93321a-4913-4fca-a043-8e8d3de88ce4",
   "metadata": {},
   "outputs": [
    {
     "data": {
      "text/plain": [
       "array([[0., 2., 2.],\n",
       "       [3., 1., 0.],\n",
       "       [1., 1., 2.]])"
      ]
     },
     "execution_count": 86,
     "metadata": {},
     "output_type": "execute_result"
    }
   ],
   "source": [
    "O"
   ]
  },
  {
   "cell_type": "code",
   "execution_count": 43,
   "id": "89b5b1ba-d6b8-416b-a44b-1b3ec4fb3d60",
   "metadata": {},
   "outputs": [
    {
     "data": {
      "text/plain": [
       "(array([1970., 4478.,  620., 4641., 4116.,  926., 1460.,  219.,  228.,\n",
       "          15.]),\n",
       " array([-18.86696785, -18.24146482, -17.61596179, -16.99045876,\n",
       "        -16.36495573, -15.7394527 , -15.11394967, -14.48844664,\n",
       "        -13.86294361, -13.23744058, -12.61193755]),\n",
       " <BarContainer object of 10 artists>)"
      ]
     },
     "execution_count": 43,
     "metadata": {},
     "output_type": "execute_result"
    },
    {
     "data": {
      "image/png": "[encoded data removed]",
      "text/plain": [
       "<Figure size 432x288 with 1 Axes>"
      ]
     },
     "metadata": {
      "needs_background": "light"
     },
     "output_type": "display_data"
    }
   ],
   "source": [
    "plt.hist(energies)"
   ]
  },
  {
   "cell_type": "code",
   "execution_count": 333,
   "id": "df353d2e-c1d6-4f28-bbbb-969e04ff0831",
   "metadata": {},
   "outputs": [],
   "source": [
    "X0 = true_X\n",
    "neighbors = g.neighbors(1)\n",
    "# Get labels of neighbors\n",
    "labels = np.array([np.where(X0[n] == 1)[0][0] for n in neighbors])\n",
    "uniq_labels = np.unique(labels)\n",
    "degrees = np.array([len(labels[labels == l]) for l in uniq_labels])\n",
    "# Get viable labels\n",
    "viable_labels = find_rows_with_positive_values(O,labels,degrees)"
   ]
  },
  {
   "cell_type": "code",
   "execution_count": 493,
   "id": "4627832e-08cf-4ea2-95c7-707e4af8f9f0",
   "metadata": {},
   "outputs": [],
   "source": [
    "test_X = generate_smart_node_assignments(g,O)"
   ]
  },
  {
   "cell_type": "code",
   "execution_count": 494,
   "id": "68e96107-60c7-4213-880e-fa80151a3901",
   "metadata": {},
   "outputs": [
    {
     "name": "stderr",
     "output_type": "stream",
     "text": [
      "/tmp/ipykernel_20666/4268664553.py:17: RuntimeWarning: divide by zero encountered in log\n",
      "  S = 1/2*np.nansum([mat[i,j]*np.log(mat[i,j]/(mat[i].sum()*mat[j].sum())) for j in range(X.shape[1]) for i in range(X.shape[1])])\n",
      "/tmp/ipykernel_20666/4268664553.py:17: RuntimeWarning: invalid value encountered in scalar multiply\n",
      "  S = 1/2*np.nansum([mat[i,j]*np.log(mat[i,j]/(mat[i].sum()*mat[j].sum())) for j in range(X.shape[1]) for i in range(X.shape[1])])\n"
     ]
    },
    {
     "data": {
      "text/plain": [
       "(np.float64(20.59167373200866), array([-4., -3.,  2.,  0.,  1., -4.]))"
      ]
     },
     "execution_count": 494,
     "metadata": {},
     "output_type": "execute_result"
    }
   ],
   "source": [
    "new_energy((A,test_X,O))"
   ]
  },
  {
   "cell_type": "code",
   "execution_count": 500,
   "id": "9030dc47-9df1-4e39-9bd4-2409c4e3fad5",
   "metadata": {},
   "outputs": [
    {
     "data": {
      "image/png": "[encoded data removed]",
      "text/plain": [
       "<Figure size 432x288 with 1 Axes>"
      ]
     },
     "metadata": {},
     "output_type": "display_data"
    }
   ],
   "source": [
    "nx.draw(g,node_color=colors(X))"
   ]
  },
  {
   "cell_type": "code",
   "execution_count": 498,
   "id": "b87948ee-c559-468e-b324-bded26a8a57a",
   "metadata": {},
   "outputs": [],
   "source": [
    "X = np.zeros((g.number_of_nodes(),O.shape[0]))\n",
    "all_assigned = False\n",
    "while all_assigned is False:\n",
    "    node_order = list(g.nodes())\n",
    "    np.random.shuffle(node_order)\n",
    "    for i in node_order:\n",
    "        # Get neighbors\n",
    "        neighbors = g.neighbors(i)\n",
    "        labels = []\n",
    "        for n in neighbors:\n",
    "            try:\n",
    "                labels.append(np.where(X[n] == 1)[0][0])\n",
    "            except:\n",
    "                continue\n",
    "        labels = np.array(labels)\n",
    "        uniq_labels = np.unique(labels)\n",
    "        degrees = np.array([len(labels[labels == l]) for l in uniq_labels])\n",
    "        if len(uniq_labels) == 0:\n",
    "            l = np.random.choice(np.arange(O.shape[0]))\n",
    "        else:\n",
    "            viable_labels = find_rows_with_positive_values(O,uniq_labels,degrees)\n",
    "            try:\n",
    "                l = np.random.choice(viable_labels)\n",
    "            except:\n",
    "                continue\n",
    "        X[i] = np.zeros(O.shape[0])\n",
    "        X[i,l] = 1\n",
    "    if X.sum() == g.number_of_nodes():\n",
    "        all_assigned = True"
   ]
  },
  {
   "cell_type": "code",
   "execution_count": 499,
   "id": "5efdc835-82d8-4a84-a381-60270eb35c51",
   "metadata": {},
   "outputs": [
    {
     "data": {
      "text/plain": [
       "array([[1., 1., 2.],\n",
       "       [4., 0., 0.],\n",
       "       [1., 1., 2.]])"
      ]
     },
     "execution_count": 499,
     "metadata": {},
     "output_type": "execute_result"
    }
   ],
   "source": [
    "O"
   ]
  },
  {
   "cell_type": "code",
   "execution_count": 438,
   "id": "b376270a-3d97-4f43-9afb-ac9b4559c2f2",
   "metadata": {},
   "outputs": [
    {
     "data": {
      "text/plain": [
       "array([[0., 3., 1.],\n",
       "       [2., 1., 1.],\n",
       "       [0., 2., 2.]])"
      ]
     },
     "execution_count": 438,
     "metadata": {},
     "output_type": "execute_result"
    }
   ],
   "source": [
    "O"
   ]
  },
  {
   "cell_type": "code",
   "execution_count": 276,
   "id": "005d31db-0ba2-4bc2-a942-b4a128c12332",
   "metadata": {},
   "outputs": [],
   "source": [
    "def find_rows_with_positive_values(matrix, columns):\n",
    "    # Create a mask for positive values in each specified column\n",
    "    mask = np.ones(matrix.shape[0], dtype=bool)\n",
    "    for col in columns:\n",
    "        mask &= (matrix[:, col] > 0)\n",
    "    # Get indices where all conditions are satisfied\n",
    "    return np.where(mask)[0]"
   ]
  },
  {
   "cell_type": "code",
   "execution_count": 312,
   "id": "b6b6346c-b455-4ad3-9a42-82da8d311ab6",
   "metadata": {},
   "outputs": [
    {
     "data": {
      "text/plain": [
       "array([0, 1])"
      ]
     },
     "execution_count": 312,
     "metadata": {},
     "output_type": "execute_result"
    }
   ],
   "source": [
    "find_rows_with_positive_values(O,[0,2,2,2])"
   ]
  },
  {
   "cell_type": "code",
   "execution_count": 221,
   "id": "4421ad96-41da-4634-b165-0763773000e9",
   "metadata": {},
   "outputs": [],
   "source": [
    "new_g = nd.new_soup_of_nodes(new_X,nd.create_capacity(new_X,cap))"
   ]
  },
  {
   "cell_type": "code",
   "execution_count": 222,
   "id": "c8112f0e-f4c7-42d9-8a6d-9927ebf693a5",
   "metadata": {},
   "outputs": [
    {
     "data": {
      "image/png": "[encoded data removed]",
      "text/plain": [
       "<Figure size 432x288 with 1 Axes>"
      ]
     },
     "metadata": {},
     "output_type": "display_data"
    }
   ],
   "source": [
    "nx.draw(new_g,node_color=colors(new_X))"
   ]
  },
  {
   "cell_type": "code",
   "execution_count": 228,
   "id": "e8db9759-bf07-44ff-a845-101316309f70",
   "metadata": {},
   "outputs": [
    {
     "data": {
      "text/plain": [
       "array([0., 0., 6., 4., 6., 3.])"
      ]
     },
     "execution_count": 228,
     "metadata": {},
     "output_type": "execute_result"
    }
   ],
   "source": [
    "e_star_1 = (O*new_X.sum(axis=0))[np.triu_indices(new_X.shape[1])]\n",
    "e_star_2 = (O*new_X.sum(axis=0))[np.tril_indices(new_X.shape[1])]\n",
    "e_star = np.minimum(e_star_1,e_star_2)\n",
    "e_star"
   ]
  },
  {
   "cell_type": "code",
   "execution_count": 229,
   "id": "7066baa4-6902-4ff5-84db-6e96ab23f6bd",
   "metadata": {},
   "outputs": [
    {
     "data": {
      "text/plain": [
       "array([[0., 1., 0.],\n",
       "       [0., 1., 0.],\n",
       "       [0., 0., 1.],\n",
       "       [1., 0., 0.],\n",
       "       [0., 0., 1.],\n",
       "       [1., 0., 0.],\n",
       "       [0., 1., 0.],\n",
       "       [0., 0., 1.],\n",
       "       [1., 0., 0.],\n",
       "       [1., 0., 0.]])"
      ]
     },
     "execution_count": 229,
     "metadata": {},
     "output_type": "execute_result"
    }
   ],
   "source": [
    "new_X"
   ]
  },
  {
   "cell_type": "code",
   "execution_count": 231,
   "id": "b741bd2c-79ea-4ec0-a18d-fde0a86c9298",
   "metadata": {},
   "outputs": [
    {
     "data": {
      "text/plain": [
       "array([ 2.,  5., -5., -4., -6., -3.])"
      ]
     },
     "execution_count": 231,
     "metadata": {},
     "output_type": "execute_result"
    }
   ],
   "source": [
    "get_links_between_groups(A,new_X,mat=False) - e_star"
   ]
  },
  {
   "cell_type": "code",
   "execution_count": 206,
   "id": "5f7bf75d-ff91-4b43-9aa4-1ba66a833b25",
   "metadata": {},
   "outputs": [
    {
     "data": {
      "image/png": "[encoded data removed]",
      "text/plain": [
       "<Figure size 432x288 with 1 Axes>"
      ]
     },
     "metadata": {},
     "output_type": "display_data"
    }
   ],
   "source": [
    "nx.draw(g,pos=pos,node_color=colors(true_X))"
   ]
  },
  {
   "cell_type": "code",
   "execution_count": 34,
   "id": "97cb403d-c868-479e-a681-f731b49c1878",
   "metadata": {},
   "outputs": [
    {
     "data": {
      "text/plain": [
       "array([13.,  1.,  1.,  1.,  0.,  2.])"
      ]
     },
     "execution_count": 34,
     "metadata": {},
     "output_type": "execute_result"
    }
   ],
   "source": [
    "np.minimum((X.T@O@X)[np.tril_indices(X.shape[1])],(X.T@O@X)[np.triu_indices(X.shape[1])])"
   ]
  },
  {
   "cell_type": "code",
   "execution_count": 3,
   "id": "164597b9-8e1d-4227-95e0-9c9a4b5bf2ee",
   "metadata": {},
   "outputs": [
    {
     "data": {
      "text/plain": [
       "\u001b[0;31mSignature:\u001b[0m \u001b[0mnd\u001b[0m\u001b[0;34m.\u001b[0m\u001b[0mgenerate_node_assignments\u001b[0m\u001b[0;34m(\u001b[0m\u001b[0mN\u001b[0m\u001b[0;34m,\u001b[0m \u001b[0mk\u001b[0m\u001b[0;34m)\u001b[0m\u001b[0;34m\u001b[0m\u001b[0;34m\u001b[0m\u001b[0m\n",
       "\u001b[0;31mDocstring:\u001b[0m Create random X matrix on N particles which each can be one of k different classes\n",
       "\u001b[0;31mFile:\u001b[0m      /work/ccnr/glover.co/net_design/network_design.py\n",
       "\u001b[0;31mType:\u001b[0m      function\n"
      ]
     },
     "metadata": {},
     "output_type": "display_data"
    }
   ],
   "source": [
    "nd.generate_node_assignments?"
   ]
  },
  {
   "cell_type": "code",
   "execution_count": 117,
   "id": "36ccc226-9f6e-4455-8d33-fc046f404aa8",
   "metadata": {},
   "outputs": [
    {
     "data": {
      "text/plain": [
       "array([1, 4, 1, 4, 4, 4, 2, 4, 2, 4])"
      ]
     },
     "execution_count": 117,
     "metadata": {},
     "output_type": "execute_result"
    }
   ],
   "source": [
    "A.sum(axis=1)"
   ]
  },
  {
   "cell_type": "code",
   "execution_count": 7,
   "id": "ec4bb28b-74db-48b3-9cf9-01ffb789bd68",
   "metadata": {},
   "outputs": [],
   "source": [
    "cap = nd.assign_particles(3,[4,2,3])"
   ]
  },
  {
   "cell_type": "code",
   "execution_count": 9,
   "id": "4a7f4a2e-3302-4546-9baa-61884126b199",
   "metadata": {},
   "outputs": [],
   "source": [
    "O = np.array([[1,.5,.5],[2,1.5,.5],[1,1,0]])"
   ]
  },
  {
   "cell_type": "code",
   "execution_count": 48,
   "id": "856179b1-5e04-4415-b696-a246ee3cce80",
   "metadata": {},
   "outputs": [],
   "source": [
    "O_L = np.array([[1,0,0],[0,1,1],[1,0,0],[1,0,0],[0,1,0],[0,1,1],[1,0,0],[0,1,0]])"
   ]
  },
  {
   "cell_type": "code",
   "execution_count": 80,
   "id": "69d2eab7-5207-4d19-b38c-878a4685f591",
   "metadata": {},
   "outputs": [],
   "source": [
    "X = nd.generate_node_assignments(10,3)\n",
    "N = X.sum(axis=0)"
   ]
  },
  {
   "cell_type": "code",
   "execution_count": 81,
   "id": "87740d37-bdc7-4a70-937c-8d0966b7db77",
   "metadata": {},
   "outputs": [
    {
     "data": {
      "text/plain": [
       "array([0.25, 1.  , 0.25, 0.25, 0.25, 1.  , 0.25, 0.25])"
      ]
     },
     "execution_count": 81,
     "metadata": {},
     "output_type": "execute_result"
    }
   ],
   "source": [
    "O_L@N/np.linalg.norm(O_L@N,ord=np.inf)"
   ]
  },
  {
   "cell_type": "code",
   "execution_count": 82,
   "id": "90359978-55ed-4ca9-af15-9d00d315c886",
   "metadata": {},
   "outputs": [],
   "source": [
    "O_L_norm = (O_L*N)/np.linalg.norm(O_L*N,ord=1,axis=1)[:,None]"
   ]
  },
  {
   "cell_type": "code",
   "execution_count": 83,
   "id": "5ebf4e1b-5b62-4cb2-b16f-b4f594a6384f",
   "metadata": {},
   "outputs": [],
   "source": [
    "link_to_node = np.array([[1,0,0],[1,0,0],[0,1,0],[0,1,0],[0,1,0],[0,1,0],[0,0,1],[0,0,1]]).T"
   ]
  },
  {
   "cell_type": "code",
   "execution_count": 119,
   "id": "dae199f9-9793-4750-a032-950442c106e6",
   "metadata": {},
   "outputs": [],
   "source": [
    "O = link_to_node@O_L_norm"
   ]
  },
  {
   "cell_type": "code",
   "execution_count": 197,
   "id": "d5fb6e60-0779-48c1-9fb2-66a4481b6934",
   "metadata": {},
   "outputs": [
    {
     "data": {
      "text/plain": [
       "np.float64(24.0)"
      ]
     },
     "execution_count": 197,
     "metadata": {},
     "output_type": "execute_result"
    }
   ],
   "source": [
    "np.sum(get_links_between_groups(A,true_X)[0])"
   ]
  },
  {
   "cell_type": "code",
   "execution_count": 199,
   "id": "ab3a013c-8e53-4c1f-99a3-5ee435004ae8",
   "metadata": {},
   "outputs": [
    {
     "data": {
      "text/plain": [
       "14"
      ]
     },
     "execution_count": 199,
     "metadata": {},
     "output_type": "execute_result"
    }
   ],
   "source": [
    "g.number_of_edges()"
   ]
  },
  {
   "cell_type": "code",
   "execution_count": 142,
   "id": "c943c326-9450-4b4d-b35d-e89678378962",
   "metadata": {},
   "outputs": [],
   "source": [
    "edges = np.zeros(1000)\n",
    "for i in range(1000):\n",
    "    g = nd.canonical_ensemble(N.astype(int),O,X)\n",
    "    edges[i] = g.number_of_edges()"
   ]
  },
  {
   "cell_type": "code",
   "execution_count": 143,
   "id": "28ac875c-0489-411f-8825-f0d6bc8896f6",
   "metadata": {},
   "outputs": [
    {
     "data": {
      "image/png": "[encoded data removed]",
      "text/plain": [
       "<Figure size 432x288 with 1 Axes>"
      ]
     },
     "metadata": {},
     "output_type": "display_data"
    }
   ],
   "source": [
    "nx.draw(g,node_color=colors(X))"
   ]
  },
  {
   "cell_type": "code",
   "execution_count": 144,
   "id": "21cfda6c-7a0c-4035-b4c7-6f97fc5c1593",
   "metadata": {},
   "outputs": [
    {
     "data": {
      "text/plain": [
       "<matplotlib.colorbar.Colorbar at 0x2b237d05c310>"
      ]
     },
     "execution_count": 144,
     "metadata": {},
     "output_type": "execute_result"
    },
    {
     "data": {
      "image/png": "[encoded data removed]",
      "text/plain": [
       "<Figure size 432x288 with 2 Axes>"
      ]
     },
     "metadata": {
      "needs_background": "light"
     },
     "output_type": "display_data"
    }
   ],
   "source": [
    "plt.imshow(O,cmap='gray_r')\n",
    "plt.colorbar()"
   ]
  },
  {
   "cell_type": "code",
   "execution_count": 145,
   "id": "043d68df-4cdc-48f5-ac6c-34f52f69af22",
   "metadata": {},
   "outputs": [
    {
     "data": {
      "text/plain": [
       "(array([ 44.,  80., 131., 192., 194., 250.,  61.,  32.,   9.,   7.]),\n",
       " array([ 2. ,  3.2,  4.4,  5.6,  6.8,  8. ,  9.2, 10.4, 11.6, 12.8, 14. ]),\n",
       " <BarContainer object of 10 artists>)"
      ]
     },
     "execution_count": 145,
     "metadata": {},
     "output_type": "execute_result"
    },
    {
     "data": {
      "image/png": "[encoded data removed]",
      "text/plain": [
       "<Figure size 432x288 with 1 Axes>"
      ]
     },
     "metadata": {
      "needs_background": "light"
     },
     "output_type": "display_data"
    }
   ],
   "source": [
    "plt.hist(edges)"
   ]
  },
  {
   "cell_type": "code",
   "execution_count": 153,
   "id": "f5351976-0d49-4bf0-812a-f2cd5ce55688",
   "metadata": {},
   "outputs": [],
   "source": [
    "edge_count = 0\n",
    "for i in range(3):\n",
    "    for j in range(i,3):\n",
    "        edge_count+=np.min([(O*N[:,None])[i,j],(O*N[:,None])[j,i]])"
   ]
  },
  {
   "cell_type": "code",
   "execution_count": 154,
   "id": "6f65195e-bc7c-421b-91d0-815b02c5e30a",
   "metadata": {},
   "outputs": [
    {
     "data": {
      "text/plain": [
       "(np.float64(8.0), np.float64(6.871))"
      ]
     },
     "execution_count": 154,
     "metadata": {},
     "output_type": "execute_result"
    }
   ],
   "source": [
    "edge_count, edges.mean()\n"
   ]
  },
  {
   "cell_type": "code",
   "execution_count": 151,
   "id": "bee5c51a-42f9-418c-a880-914ed4aa06e9",
   "metadata": {},
   "outputs": [
    {
     "data": {
      "text/plain": [
       "array([[2. , 0.5, 1.5],\n",
       "       [4. , 2.5, 1.5],\n",
       "       [6. , 6. , 0. ]])"
      ]
     },
     "execution_count": 151,
     "metadata": {},
     "output_type": "execute_result"
    }
   ],
   "source": [
    "O*N[:,None]"
   ]
  },
  {
   "cell_type": "code",
   "execution_count": 152,
   "id": "534e7335-d0cb-4450-83ca-3a0a139f09d1",
   "metadata": {},
   "outputs": [
    {
     "data": {
      "text/plain": [
       "array([[2. , 0.5, 4.5],\n",
       "       [4. , 2.5, 4.5],\n",
       "       [2. , 2. , 0. ]])"
      ]
     },
     "execution_count": 152,
     "metadata": {},
     "output_type": "execute_result"
    }
   ],
   "source": [
    "O*N"
   ]
  },
  {
   "cell_type": "code",
   "execution_count": 150,
   "id": "a46ecb59-0f11-409a-a5a4-8441e7c74d5f",
   "metadata": {},
   "outputs": [
    {
     "data": {
      "text/plain": [
       "4.5"
      ]
     },
     "execution_count": 150,
     "metadata": {},
     "output_type": "execute_result"
    }
   ],
   "source": [
    "def create_network(O_L,P_L,N_L):\n",
    "    # Get node pairs\n",
    "    O_L = copy.deepcopy(O_L)\n",
    "    pairs = list(combinations(np.arange(O_L.shape[0]),2))\n",
    "    for idx1, idx2 in pairs:\n",
    "        e1, e2 = O_L[[idx1,idx2],:]\n",
    "        particle1, particle2 = P_L[[particle_1,particle_2],:]\n",
    "        particle1 = np.where(particle1 == 1)[0][0]\n",
    "        particle2 = np.where(particle2 == 1)[0][0]\n",
    "        node1 = np.where(\n",
    "        \n",
    "        if e1[particle2] == 1 and e2[particle1] == 1:\n",
    "            g.add_edge("
   ]
  },
  {
   "cell_type": "markdown",
   "id": "fc2366e4-775c-4507-87cf-39ecf56b1489",
   "metadata": {},
   "source": [
    "Alternative approach: canonical ensemble.\n",
    "We have\n",
    "$$P(X\\mid G,N,O)=\\frac{P(G\\mid X,N,O)P(X\\mid N,O)}{P(G\\mid N,O)}=\\frac{P(G\\mid X,N,O)P(N\\mid X,O)P(X\\mid O)}{P(G\\mid N,O)P(N\\mid O)}$$"
   ]
  },
  {
   "cell_type": "markdown",
   "id": "a399be5d-490f-42be-80fc-96ead452e552",
   "metadata": {},
   "source": [
    "We will assume our prior $P(X\\mid O)$ is uniform at the moment.\n",
    "We note that there are $|\\Theta|^N$ possible $X$ matrices.\n",
    "Thus $P(X\\mid O)=\\frac{1}{|\\Theta|^N}$."
   ]
  },
  {
   "cell_type": "code",
   "execution_count": 33,
   "id": "5e0e5b50-3951-4d26-b5d1-a3988ca5de7b",
   "metadata": {},
   "outputs": [],
   "source": [
    "capacity = {0:{0:1,1:2,2:1},1:{0:3,1:1,2:0},2:{0:2,1:2,2:0}}"
   ]
  },
  {
   "cell_type": "code",
   "execution_count": 34,
   "id": "d3fd3bda-31b0-4964-8ed1-8b4d302f9a57",
   "metadata": {},
   "outputs": [],
   "source": [
    "g = nx.Graph()\n",
    "g.add_edge(0,1)\n",
    "g.add_edge(0,2)\n",
    "g.add_edge(0,3)\n",
    "g.add_edge(3,4)\n",
    "g.add_edge(5,6)\n",
    "g.add_node(7)\n",
    "g.add_node(8)\n",
    "g.add_node(9)"
   ]
  },
  {
   "cell_type": "code",
   "execution_count": 35,
   "id": "204a04c0-47ed-4780-81d9-dacfb54586d4",
   "metadata": {},
   "outputs": [],
   "source": [
    "X_true = np.array([[1,0,0],[0,1,0],[0,0,1],[0,1,0],[0,1,0],[0,1,0],[0,1,0],[0,0,1],[0,0,1],[0,0,1]])\n"
   ]
  },
  {
   "cell_type": "code",
   "execution_count": 36,
   "id": "a7456460-4792-41ae-a0e4-7ebf129ac758",
   "metadata": {},
   "outputs": [
    {
     "data": {
      "text/plain": [
       "array([[1., 2., 1.],\n",
       "       [3., 1., 0.],\n",
       "       [2., 2., 0.]])"
      ]
     },
     "execution_count": 36,
     "metadata": {},
     "output_type": "execute_result"
    }
   ],
   "source": [
    "nd.create_O(capacity)"
   ]
  },
  {
   "cell_type": "code",
   "execution_count": 39,
   "id": "168f4d3d-7cf2-4482-aa35-6a2cff78b72c",
   "metadata": {},
   "outputs": [],
   "source": [
    "g = nd.new_soup_of_nodes(X_true,nd.create_capacity(X_true,capacity))"
   ]
  },
  {
   "cell_type": "code",
   "execution_count": 40,
   "id": "788a7153-2977-41b2-8983-6bb22f3bd611",
   "metadata": {},
   "outputs": [
    {
     "data": {
      "image/png": "[encoded data removed]",
      "text/plain": [
       "<Figure size 432x288 with 1 Axes>"
      ]
     },
     "metadata": {},
     "output_type": "display_data"
    }
   ],
   "source": [
    "nx.draw(g,node_color=colors(X_true),node_size=100,width=1)"
   ]
  },
  {
   "cell_type": "code",
   "execution_count": 41,
   "id": "a9334b86-1c20-40d8-a6cb-2f2e306ed352",
   "metadata": {},
   "outputs": [],
   "source": [
    "A = nx.adjacency_matrix(g).toarray()"
   ]
  },
  {
   "cell_type": "code",
   "execution_count": 42,
   "id": "19cf5b8c-8a38-44cd-bc34-0a9d42bfaf43",
   "metadata": {},
   "outputs": [
    {
     "data": {
      "text/plain": [
       "np.float64(0.0)"
      ]
     },
     "execution_count": 42,
     "metadata": {},
     "output_type": "execute_result"
    }
   ],
   "source": [
    "nd.probability(A,X_true.sum(axis=0).astype(int),nd.create_O(capacity),X_true)"
   ]
  },
  {
   "cell_type": "code",
   "execution_count": 45,
   "id": "8cde1d23-23d6-4d21-acad-3fa57bd683f9",
   "metadata": {},
   "outputs": [],
   "source": [
    "def inverse_canonical(A,prior,O,burn_in=100,num_samples=1000):\n",
    "    samples = []\n",
    "    sample_count = dict()\n",
    "    T = 1\n",
    "    # Initialize label\n",
    "    p0 = 0\n",
    "    while p0 == 0:\n",
    "        X_cur = generate_smart_node_assignments(nx.from_numpy_array(A),O)\n",
    "        p0 = nd.probability(A,X_cur.sum(axis=0).astype(int),O,X_cur)\n",
    "    for _ in range(burn_in):\n",
    "        # New sample\n",
    "        p1 = 0\n",
    "        while p1 == 0:\n",
    "            X_new = generate_smart_node_assignments(nx.from_numpy_array(A),O)\n",
    "            p1 = nd.probability(A,X_new.sum(axis=0).astype(int),O,X_new)\n",
    "        alpha = np.exp(p0 - p1 / T)\n",
    "        if alpha < np.random.random():\n",
    "            X_cur = X_new\n",
    "            p0 = p1\n",
    "    \n",
    "    for i in range(num_samples):\n",
    "         # New sample\n",
    "        p1 = 0\n",
    "        while p1 == 0:\n",
    "            X_new = generate_smart_node_assignments(nx.from_numpy_array(A),O)\n",
    "            p1 = nd.probability(A,X_new.sum(axis=0).astype(int),O,X_new)\n",
    "        alpha = np.exp(p0 - p1 / T)\n",
    "        if alpha < np.random.random():\n",
    "            X_cur = X_new\n",
    "            p0 = p1\n",
    "        if tuple(np.where(X_cur==1)[1]) not in samples:\n",
    "            sample_count[len(samples)] = 1\n",
    "            samples.append(tuple(np.where(X_cur==1)[1]))\n",
    "        else:\n",
    "            sample_count[samples.index(tuple(np.where(X_cur==1)[1]))] += 1\n",
    "        T *= .95\n",
    "    \n",
    "    return sample_count, samples"
   ]
  },
  {
   "cell_type": "code",
   "execution_count": 46,
   "id": "9f1c8c0b-8a7d-45e5-b3ce-99381a5cc9da",
   "metadata": {
    "scrolled": true,
    "tags": []
   },
   "outputs": [],
   "source": [
    "count, samples = inverse_canonical(A,1/3**10,nd.create_O(capacity),burn_in=1000,num_samples=10000)"
   ]
  },
  {
   "cell_type": "code",
   "execution_count": null,
   "id": "a4fa7e80-0720-41c9-896a-49e236be62a7",
   "metadata": {},
   "outputs": [],
   "source": []
  },
  {
   "cell_type": "code",
   "execution_count": null,
   "id": "e00daa33-5016-4b4c-b810-2f3e1474f2c5",
   "metadata": {},
   "outputs": [],
   "source": [
    "\n"
   ]
  },
  {
   "cell_type": "code",
   "execution_count": 47,
   "id": "5a69a175-b6a5-47f8-a894-da22554eafa2",
   "metadata": {},
   "outputs": [
    {
     "data": {
      "text/plain": [
       "np.float64(0.0)"
      ]
     },
     "execution_count": 47,
     "metadata": {},
     "output_type": "execute_result"
    }
   ],
   "source": [
    "nd.probability(A,X_true.sum(axis=0).astype(int),O,X_true)"
   ]
  },
  {
   "cell_type": "code",
   "execution_count": 48,
   "id": "4b063670-8815-4dc0-8488-907d9b60ab30",
   "metadata": {},
   "outputs": [
    {
     "data": {
      "image/png": "[encoded data removed]",
      "text/plain": [
       "<Figure size 432x288 with 1 Axes>"
      ]
     },
     "metadata": {},
     "output_type": "display_data"
    }
   ],
   "source": [
    "nx.draw(g,node_color=colors(X_true),node_size=100,width=1)"
   ]
  },
  {
   "cell_type": "code",
   "execution_count": 49,
   "id": "5a2edd37-37ec-4c97-aa28-7f266f9e1160",
   "metadata": {},
   "outputs": [
    {
     "data": {
      "text/plain": [
       "np.float64(1.4339859953962238e-10)"
      ]
     },
     "execution_count": 49,
     "metadata": {},
     "output_type": "execute_result"
    }
   ],
   "source": [
    "O = nd.create_O(capacity)\n",
    "X = np.zeros((10,3))\n",
    "X[np.arange(10),np.array(samples[np.argmax(list(count.values()))])] = 1\n",
    "nd.probability(A,X.sum(axis=0).astype(int),O,X)"
   ]
  },
  {
   "cell_type": "code",
   "execution_count": 50,
   "id": "a6c7cca2-47d8-4893-af50-8deee340508e",
   "metadata": {},
   "outputs": [
    {
     "data": {
      "image/png": "[encoded data removed]",
      "text/plain": [
       "<Figure size 432x288 with 1 Axes>"
      ]
     },
     "metadata": {},
     "output_type": "display_data"
    }
   ],
   "source": [
    "nx.draw(g,node_color=colors(X),node_size=100,width=1)"
   ]
  },
  {
   "cell_type": "code",
   "execution_count": 241,
   "id": "eaaeaa45-22fd-4754-8f17-fe6443215608",
   "metadata": {},
   "outputs": [
    {
     "data": {
      "text/plain": [
       "array([[1., 1., 0.],\n",
       "       [2., 1., 0.],\n",
       "       [0., 2., 2.]])"
      ]
     },
     "execution_count": 241,
     "metadata": {},
     "output_type": "execute_result"
    }
   ],
   "source": [
    "nd.create_O(capacity)"
   ]
  },
  {
   "cell_type": "code",
   "execution_count": 51,
   "id": "f45a5eb8-45f5-4845-a1c8-d0f1713ea7e0",
   "metadata": {},
   "outputs": [],
   "source": [
    "values = np.sort(np.array(list(count.values())))\n",
    "idx = np.argsort(np.array(list(count.values())))"
   ]
  },
  {
   "cell_type": "code",
   "execution_count": 52,
   "id": "fc21a4b3-40f3-4d11-9264-3d1b74bd92e5",
   "metadata": {},
   "outputs": [
    {
     "data": {
      "text/plain": [
       "<BarContainer object of 4323 artists>"
      ]
     },
     "execution_count": 52,
     "metadata": {},
     "output_type": "execute_result"
    },
    {
     "data": {
      "image/png": "[encoded data removed]",
      "text/plain": [
       "<Figure size 432x288 with 1 Axes>"
      ]
     },
     "metadata": {
      "needs_background": "light"
     },
     "output_type": "display_data"
    }
   ],
   "source": [
    "plt.bar(np.arange(len(values)),values)"
   ]
  },
  {
   "cell_type": "code",
   "execution_count": 53,
   "id": "2ab1c738-e954-4633-8bff-3093c0b5da93",
   "metadata": {},
   "outputs": [],
   "source": [
    "new_g = nd.new_soup_of_nodes(X,nd.create_capacity(X,capacity))"
   ]
  },
  {
   "cell_type": "code",
   "execution_count": 54,
   "id": "6fa87e9f-acdb-4976-9cee-0761b0522559",
   "metadata": {},
   "outputs": [
    {
     "data": {
      "image/png": "[encoded data removed]",
      "text/plain": [
       "<Figure size 432x288 with 1 Axes>"
      ]
     },
     "metadata": {},
     "output_type": "display_data"
    }
   ],
   "source": [
    "nx.draw(new_g,node_color=colors(X),node_size=100,width=1)"
   ]
  },
  {
   "cell_type": "code",
   "execution_count": 247,
   "id": "2535070c-5886-4c44-90e4-d425f18af1dc",
   "metadata": {},
   "outputs": [
    {
     "data": {
      "text/plain": [
       "np.int64(86)"
      ]
     },
     "execution_count": 247,
     "metadata": {},
     "output_type": "execute_result"
    }
   ],
   "source": [
    "np.argmax(list(count.values()))"
   ]
  },
  {
   "cell_type": "code",
   "execution_count": 248,
   "id": "469a71b7-ec12-46ba-971f-564ebf2f8fd5",
   "metadata": {},
   "outputs": [
    {
     "data": {
      "text/plain": [
       "{0: 193,\n",
       " 1: 29,\n",
       " 2: 26,\n",
       " 3: 38,\n",
       " 4: 27,\n",
       " 5: 24,\n",
       " 6: 261,\n",
       " 7: 25,\n",
       " 8: 48,\n",
       " 9: 502,\n",
       " 10: 70,\n",
       " 11: 265,\n",
       " 12: 35,\n",
       " 13: 55,\n",
       " 14: 32,\n",
       " 15: 26,\n",
       " 16: 18,\n",
       " 17: 120,\n",
       " 18: 22,\n",
       " 19: 9,\n",
       " 20: 514,\n",
       " 21: 15,\n",
       " 22: 43,\n",
       " 23: 38,\n",
       " 24: 9,\n",
       " 25: 36,\n",
       " 26: 74,\n",
       " 27: 8,\n",
       " 28: 36,\n",
       " 29: 23,\n",
       " 30: 22,\n",
       " 31: 53,\n",
       " 32: 14,\n",
       " 33: 23,\n",
       " 34: 39,\n",
       " 35: 11,\n",
       " 36: 3,\n",
       " 37: 164,\n",
       " 38: 18,\n",
       " 39: 7,\n",
       " 40: 8,\n",
       " 41: 11,\n",
       " 42: 34,\n",
       " 43: 166,\n",
       " 44: 13,\n",
       " 45: 16,\n",
       " 46: 22,\n",
       " 47: 104,\n",
       " 48: 77,\n",
       " 49: 69,\n",
       " 50: 50,\n",
       " 51: 4,\n",
       " 52: 4,\n",
       " 53: 14,\n",
       " 54: 44,\n",
       " 55: 494,\n",
       " 56: 81,\n",
       " 57: 156,\n",
       " 58: 63,\n",
       " 59: 21,\n",
       " 60: 20,\n",
       " 61: 16,\n",
       " 62: 91,\n",
       " 63: 140,\n",
       " 64: 10,\n",
       " 65: 4,\n",
       " 66: 31,\n",
       " 67: 20,\n",
       " 68: 169,\n",
       " 69: 87,\n",
       " 70: 18,\n",
       " 71: 48,\n",
       " 72: 48,\n",
       " 73: 60,\n",
       " 74: 17,\n",
       " 75: 16,\n",
       " 76: 250,\n",
       " 77: 72,\n",
       " 78: 46,\n",
       " 79: 11,\n",
       " 80: 94,\n",
       " 81: 78,\n",
       " 82: 25,\n",
       " 83: 262,\n",
       " 84: 49,\n",
       " 85: 32,\n",
       " 86: 542,\n",
       " 87: 100,\n",
       " 88: 62,\n",
       " 89: 77,\n",
       " 90: 465,\n",
       " 91: 79,\n",
       " 92: 22,\n",
       " 93: 6,\n",
       " 94: 12,\n",
       " 95: 24,\n",
       " 96: 24,\n",
       " 97: 4,\n",
       " 98: 14,\n",
       " 99: 23,\n",
       " 100: 30,\n",
       " 101: 17,\n",
       " 102: 244,\n",
       " 103: 97,\n",
       " 104: 74,\n",
       " 105: 43,\n",
       " 106: 15,\n",
       " 107: 16,\n",
       " 108: 92,\n",
       " 109: 75,\n",
       " 110: 64,\n",
       " 111: 156,\n",
       " 112: 69,\n",
       " 113: 20,\n",
       " 114: 8,\n",
       " 115: 15,\n",
       " 116: 47,\n",
       " 117: 56,\n",
       " 118: 160,\n",
       " 119: 81,\n",
       " 120: 38,\n",
       " 121: 47,\n",
       " 122: 11,\n",
       " 123: 54,\n",
       " 124: 9,\n",
       " 125: 11,\n",
       " 126: 14,\n",
       " 127: 5,\n",
       " 128: 11,\n",
       " 129: 56,\n",
       " 130: 23,\n",
       " 131: 13,\n",
       " 132: 29,\n",
       " 133: 5,\n",
       " 134: 26,\n",
       " 135: 61,\n",
       " 136: 514,\n",
       " 137: 35,\n",
       " 138: 39,\n",
       " 139: 23,\n",
       " 140: 24,\n",
       " 141: 19,\n",
       " 142: 56,\n",
       " 143: 95,\n",
       " 144: 20,\n",
       " 145: 282,\n",
       " 146: 20,\n",
       " 147: 85,\n",
       " 148: 87,\n",
       " 149: 127,\n",
       " 150: 10,\n",
       " 151: 32,\n",
       " 152: 71,\n",
       " 153: 14,\n",
       " 154: 4,\n",
       " 155: 19,\n",
       " 156: 20,\n",
       " 157: 39,\n",
       " 158: 162,\n",
       " 159: 169,\n",
       " 160: 3,\n",
       " 161: 106,\n",
       " 162: 97,\n",
       " 163: 80,\n",
       " 164: 47,\n",
       " 165: 20,\n",
       " 166: 9,\n",
       " 167: 15,\n",
       " 168: 84,\n",
       " 169: 261,\n",
       " 170: 71,\n",
       " 171: 14,\n",
       " 172: 28,\n",
       " 173: 23,\n",
       " 174: 7,\n",
       " 175: 119,\n",
       " 176: 16,\n",
       " 177: 6,\n",
       " 178: 26,\n",
       " 179: 32,\n",
       " 180: 151,\n",
       " 181: 172,\n",
       " 182: 7,\n",
       " 183: 57,\n",
       " 184: 162,\n",
       " 185: 11,\n",
       " 186: 47,\n",
       " 187: 14,\n",
       " 188: 4,\n",
       " 189: 32,\n",
       " 190: 9,\n",
       " 191: 42,\n",
       " 192: 33,\n",
       " 193: 6,\n",
       " 194: 71,\n",
       " 195: 160,\n",
       " 196: 112,\n",
       " 197: 24,\n",
       " 198: 167,\n",
       " 199: 12,\n",
       " 200: 6,\n",
       " 201: 46,\n",
       " 202: 9,\n",
       " 203: 16,\n",
       " 204: 5,\n",
       " 205: 74,\n",
       " 206: 20,\n",
       " 207: 74,\n",
       " 208: 81,\n",
       " 209: 5,\n",
       " 210: 8,\n",
       " 211: 214,\n",
       " 212: 141,\n",
       " 213: 57,\n",
       " 214: 20,\n",
       " 215: 58,\n",
       " 216: 7,\n",
       " 217: 81,\n",
       " 218: 9,\n",
       " 219: 57,\n",
       " 220: 20,\n",
       " 221: 6,\n",
       " 222: 9,\n",
       " 223: 64,\n",
       " 224: 6,\n",
       " 225: 22,\n",
       " 226: 24,\n",
       " 227: 33,\n",
       " 228: 29,\n",
       " 229: 24,\n",
       " 230: 92,\n",
       " 231: 92,\n",
       " 232: 279,\n",
       " 233: 81,\n",
       " 234: 51,\n",
       " 235: 15,\n",
       " 236: 11,\n",
       " 237: 10,\n",
       " 238: 56,\n",
       " 239: 54,\n",
       " 240: 18,\n",
       " 241: 167,\n",
       " 242: 152,\n",
       " 243: 14,\n",
       " 244: 35,\n",
       " 245: 91,\n",
       " 246: 61,\n",
       " 247: 99,\n",
       " 248: 5,\n",
       " 249: 24,\n",
       " 250: 8,\n",
       " 251: 22,\n",
       " 252: 27,\n",
       " 253: 37,\n",
       " 254: 12,\n",
       " 255: 43,\n",
       " 256: 37,\n",
       " 257: 61,\n",
       " 258: 53,\n",
       " 259: 158,\n",
       " 260: 76,\n",
       " 261: 74,\n",
       " 262: 13,\n",
       " 263: 116,\n",
       " 264: 38,\n",
       " 265: 147,\n",
       " 266: 149,\n",
       " 267: 15,\n",
       " 268: 81,\n",
       " 269: 8,\n",
       " 270: 24,\n",
       " 271: 11,\n",
       " 272: 56,\n",
       " 273: 87,\n",
       " 274: 33,\n",
       " 275: 90,\n",
       " 276: 13,\n",
       " 277: 250,\n",
       " 278: 61,\n",
       " 279: 22,\n",
       " 280: 2,\n",
       " 281: 10,\n",
       " 282: 2,\n",
       " 283: 86,\n",
       " 284: 25,\n",
       " 285: 18,\n",
       " 286: 25,\n",
       " 287: 125,\n",
       " 288: 22,\n",
       " 289: 14,\n",
       " 290: 104,\n",
       " 291: 20,\n",
       " 292: 14,\n",
       " 293: 12,\n",
       " 294: 58,\n",
       " 295: 59,\n",
       " 296: 20,\n",
       " 297: 19,\n",
       " 298: 17,\n",
       " 299: 46,\n",
       " 300: 15,\n",
       " 301: 39,\n",
       " 302: 22,\n",
       " 303: 27,\n",
       " 304: 12,\n",
       " 305: 16,\n",
       " 306: 10,\n",
       " 307: 61,\n",
       " 308: 72,\n",
       " 309: 26,\n",
       " 310: 86,\n",
       " 311: 44,\n",
       " 312: 11,\n",
       " 313: 8,\n",
       " 314: 52,\n",
       " 315: 242,\n",
       " 316: 8,\n",
       " 317: 12,\n",
       " 318: 6,\n",
       " 319: 148,\n",
       " 320: 71,\n",
       " 321: 42,\n",
       " 322: 28,\n",
       " 323: 40,\n",
       " 324: 120,\n",
       " 325: 5,\n",
       " 326: 40,\n",
       " 327: 51,\n",
       " 328: 76,\n",
       " 329: 20,\n",
       " 330: 9,\n",
       " 331: 23,\n",
       " 332: 16,\n",
       " 333: 8,\n",
       " 334: 7,\n",
       " 335: 49,\n",
       " 336: 123,\n",
       " 337: 14,\n",
       " 338: 20,\n",
       " 339: 75,\n",
       " 340: 44,\n",
       " 341: 17,\n",
       " 342: 31,\n",
       " 343: 33,\n",
       " 344: 38,\n",
       " 345: 25,\n",
       " 346: 42,\n",
       " 347: 57,\n",
       " 348: 4,\n",
       " 349: 508,\n",
       " 350: 33,\n",
       " 351: 174,\n",
       " 352: 165,\n",
       " 353: 13,\n",
       " 354: 38,\n",
       " 355: 20,\n",
       " 356: 15,\n",
       " 357: 37,\n",
       " 358: 26,\n",
       " 359: 15,\n",
       " 360: 12,\n",
       " 361: 81,\n",
       " 362: 255,\n",
       " 363: 285,\n",
       " 364: 62,\n",
       " 365: 11,\n",
       " 366: 9,\n",
       " 367: 21,\n",
       " 368: 9,\n",
       " 369: 9,\n",
       " 370: 51,\n",
       " 371: 24,\n",
       " 372: 39,\n",
       " 373: 5,\n",
       " 374: 7,\n",
       " 375: 15,\n",
       " 376: 16,\n",
       " 377: 10,\n",
       " 378: 23,\n",
       " 379: 54,\n",
       " 380: 122,\n",
       " 381: 16,\n",
       " 382: 43,\n",
       " 383: 25,\n",
       " 384: 12,\n",
       " 385: 20,\n",
       " 386: 10,\n",
       " 387: 37,\n",
       " 388: 17,\n",
       " 389: 29,\n",
       " 390: 18,\n",
       " 391: 60,\n",
       " 392: 3,\n",
       " 393: 70,\n",
       " 394: 9,\n",
       " 395: 31,\n",
       " 396: 132,\n",
       " 397: 9,\n",
       " 398: 44,\n",
       " 399: 20,\n",
       " 400: 28,\n",
       " 401: 34,\n",
       " 402: 36,\n",
       " 403: 15,\n",
       " 404: 9,\n",
       " 405: 69,\n",
       " 406: 7,\n",
       " 407: 46,\n",
       " 408: 25,\n",
       " 409: 163,\n",
       " 410: 45,\n",
       " 411: 22,\n",
       " 412: 236,\n",
       " 413: 66,\n",
       " 414: 11,\n",
       " 415: 8,\n",
       " 416: 28,\n",
       " 417: 24,\n",
       " 418: 7,\n",
       " 419: 54,\n",
       " 420: 100,\n",
       " 421: 18,\n",
       " 422: 8,\n",
       " 423: 65,\n",
       " 424: 17,\n",
       " 425: 31,\n",
       " 426: 21,\n",
       " 427: 7,\n",
       " 428: 88,\n",
       " 429: 267,\n",
       " 430: 158,\n",
       " 431: 91,\n",
       " 432: 35,\n",
       " 433: 52,\n",
       " 434: 7,\n",
       " 435: 6,\n",
       " 436: 21,\n",
       " 437: 7,\n",
       " 438: 42,\n",
       " 439: 86,\n",
       " 440: 13,\n",
       " 441: 54,\n",
       " 442: 85,\n",
       " 443: 22,\n",
       " 444: 91,\n",
       " 445: 26,\n",
       " 446: 11,\n",
       " 447: 44,\n",
       " 448: 35,\n",
       " 449: 56,\n",
       " 450: 35,\n",
       " 451: 32,\n",
       " 452: 19,\n",
       " 453: 82,\n",
       " 454: 164,\n",
       " 455: 5,\n",
       " 456: 24,\n",
       " 457: 18,\n",
       " 458: 164,\n",
       " 459: 10,\n",
       " 460: 60,\n",
       " 461: 14,\n",
       " 462: 124,\n",
       " 463: 28,\n",
       " 464: 32,\n",
       " 465: 5,\n",
       " 466: 8,\n",
       " 467: 32,\n",
       " 468: 11,\n",
       " 469: 15,\n",
       " 470: 28,\n",
       " 471: 74,\n",
       " 472: 254,\n",
       " 473: 29,\n",
       " 474: 20,\n",
       " 475: 19,\n",
       " 476: 18,\n",
       " 477: 26,\n",
       " 478: 27,\n",
       " 479: 134,\n",
       " 480: 32,\n",
       " 481: 7,\n",
       " 482: 82,\n",
       " 483: 6,\n",
       " 484: 81,\n",
       " 485: 25,\n",
       " 486: 23,\n",
       " 487: 30,\n",
       " 488: 13,\n",
       " 489: 57,\n",
       " 490: 57,\n",
       " 491: 64,\n",
       " 492: 33,\n",
       " 493: 30,\n",
       " 494: 265,\n",
       " 495: 29,\n",
       " 496: 14,\n",
       " 497: 15,\n",
       " 498: 87,\n",
       " 499: 30,\n",
       " 500: 20,\n",
       " 501: 57,\n",
       " 502: 23,\n",
       " 503: 23,\n",
       " 504: 4,\n",
       " 505: 57,\n",
       " 506: 31,\n",
       " 507: 25,\n",
       " 508: 10,\n",
       " 509: 25,\n",
       " 510: 23,\n",
       " 511: 52,\n",
       " 512: 18,\n",
       " 513: 79,\n",
       " 514: 3,\n",
       " 515: 47,\n",
       " 516: 29,\n",
       " 517: 17,\n",
       " 518: 30,\n",
       " 519: 36,\n",
       " 520: 26,\n",
       " 521: 25,\n",
       " 522: 51,\n",
       " 523: 84,\n",
       " 524: 246,\n",
       " 525: 16,\n",
       " 526: 8,\n",
       " 527: 56,\n",
       " 528: 166,\n",
       " 529: 20,\n",
       " 530: 52,\n",
       " 531: 159,\n",
       " 532: 56,\n",
       " 533: 16,\n",
       " 534: 56,\n",
       " 535: 5,\n",
       " 536: 6,\n",
       " 537: 102,\n",
       " 538: 49,\n",
       " 539: 14,\n",
       " 540: 32,\n",
       " 541: 13,\n",
       " 542: 35,\n",
       " 543: 58,\n",
       " 544: 43,\n",
       " 545: 62,\n",
       " 546: 18,\n",
       " 547: 27,\n",
       " 548: 100,\n",
       " 549: 95,\n",
       " 550: 89,\n",
       " 551: 7,\n",
       " 552: 4,\n",
       " 553: 81,\n",
       " 554: 29,\n",
       " 555: 5,\n",
       " 556: 70,\n",
       " 557: 78,\n",
       " 558: 37,\n",
       " 559: 24,\n",
       " 560: 19,\n",
       " 561: 77,\n",
       " 562: 128,\n",
       " 563: 7,\n",
       " 564: 144,\n",
       " 565: 90,\n",
       " 566: 14,\n",
       " 567: 42,\n",
       " 568: 15,\n",
       " 569: 55,\n",
       " 570: 34,\n",
       " 571: 10,\n",
       " 572: 44,\n",
       " 573: 175,\n",
       " 574: 91,\n",
       " 575: 3,\n",
       " 576: 130,\n",
       " 577: 38,\n",
       " 578: 8,\n",
       " 579: 21,\n",
       " 580: 158,\n",
       " 581: 18,\n",
       " 582: 15,\n",
       " 583: 53,\n",
       " 584: 22,\n",
       " 585: 67,\n",
       " 586: 123,\n",
       " 587: 171,\n",
       " 588: 10,\n",
       " 589: 80,\n",
       " 590: 2,\n",
       " 591: 158,\n",
       " 592: 58,\n",
       " 593: 20,\n",
       " 594: 40,\n",
       " 595: 46,\n",
       " 596: 128,\n",
       " 597: 26,\n",
       " 598: 17,\n",
       " 599: 98,\n",
       " 600: 131,\n",
       " 601: 16,\n",
       " 602: 56,\n",
       " 603: 30,\n",
       " 604: 15,\n",
       " 605: 6,\n",
       " 606: 9,\n",
       " 607: 84,\n",
       " 608: 47,\n",
       " 609: 6,\n",
       " 610: 10,\n",
       " 611: 42,\n",
       " 612: 78,\n",
       " 613: 14,\n",
       " 614: 6,\n",
       " 615: 29,\n",
       " 616: 13,\n",
       " 617: 58,\n",
       " 618: 82,\n",
       " 619: 3,\n",
       " 620: 17,\n",
       " 621: 34,\n",
       " 622: 9,\n",
       " 623: 48,\n",
       " 624: 144,\n",
       " 625: 16,\n",
       " 626: 22,\n",
       " 627: 38,\n",
       " 628: 33,\n",
       " 629: 21,\n",
       " 630: 5,\n",
       " 631: 62,\n",
       " 632: 182,\n",
       " 633: 96,\n",
       " 634: 22,\n",
       " 635: 99,\n",
       " 636: 63,\n",
       " 637: 17,\n",
       " 638: 15,\n",
       " 639: 58,\n",
       " 640: 39,\n",
       " 641: 21,\n",
       " 642: 57,\n",
       " 643: 5,\n",
       " 644: 13,\n",
       " 645: 63,\n",
       " 646: 48,\n",
       " 647: 57,\n",
       " 648: 106,\n",
       " 649: 16,\n",
       " 650: 7,\n",
       " 651: 103,\n",
       " 652: 33,\n",
       " 653: 5,\n",
       " 654: 56,\n",
       " 655: 9,\n",
       " 656: 69,\n",
       " 657: 49,\n",
       " 658: 16,\n",
       " 659: 2,\n",
       " 660: 10,\n",
       " 661: 25,\n",
       " 662: 12,\n",
       " 663: 10,\n",
       " 664: 29,\n",
       " 665: 64,\n",
       " 666: 73,\n",
       " 667: 25,\n",
       " 668: 38,\n",
       " 669: 4,\n",
       " 670: 32,\n",
       " 671: 20,\n",
       " 672: 165,\n",
       " 673: 18,\n",
       " 674: 17,\n",
       " 675: 80,\n",
       " 676: 50,\n",
       " 677: 90,\n",
       " 678: 10,\n",
       " 679: 84,\n",
       " 680: 22,\n",
       " 681: 40,\n",
       " 682: 18,\n",
       " 683: 56,\n",
       " 684: 41,\n",
       " 685: 13,\n",
       " 686: 17,\n",
       " 687: 14,\n",
       " 688: 35,\n",
       " 689: 21,\n",
       " 690: 64,\n",
       " 691: 19,\n",
       " 692: 57,\n",
       " 693: 11,\n",
       " 694: 29,\n",
       " 695: 16,\n",
       " 696: 79,\n",
       " 697: 20,\n",
       " 698: 15,\n",
       " 699: 74,\n",
       " 700: 90,\n",
       " 701: 38,\n",
       " 702: 17,\n",
       " 703: 28,\n",
       " 704: 16,\n",
       " 705: 18,\n",
       " 706: 53,\n",
       " 707: 80,\n",
       " 708: 28,\n",
       " 709: 76,\n",
       " 710: 27,\n",
       " 711: 26,\n",
       " 712: 27,\n",
       " 713: 17,\n",
       " 714: 87,\n",
       " 715: 16,\n",
       " 716: 30,\n",
       " 717: 47,\n",
       " 718: 35,\n",
       " 719: 15,\n",
       " 720: 17,\n",
       " 721: 81,\n",
       " 722: 26,\n",
       " 723: 23,\n",
       " 724: 16,\n",
       " 725: 10,\n",
       " 726: 74,\n",
       " 727: 12,\n",
       " 728: 32,\n",
       " 729: 15,\n",
       " 730: 42,\n",
       " 731: 153,\n",
       " 732: 19,\n",
       " 733: 96,\n",
       " 734: 16,\n",
       " 735: 11,\n",
       " 736: 15,\n",
       " 737: 135,\n",
       " 738: 160,\n",
       " 739: 40,\n",
       " 740: 17,\n",
       " 741: 12,\n",
       " 742: 89,\n",
       " 743: 8,\n",
       " 744: 15,\n",
       " 745: 10,\n",
       " 746: 261,\n",
       " 747: 20,\n",
       " 748: 9,\n",
       " 749: 27,\n",
       " 750: 6,\n",
       " 751: 25,\n",
       " 752: 16,\n",
       " 753: 14,\n",
       " 754: 12,\n",
       " 755: 15,\n",
       " 756: 23,\n",
       " 757: 49,\n",
       " 758: 15,\n",
       " 759: 18,\n",
       " 760: 5,\n",
       " 761: 8,\n",
       " 762: 66,\n",
       " 763: 9,\n",
       " 764: 65,\n",
       " 765: 4,\n",
       " 766: 24,\n",
       " 767: 3,\n",
       " 768: 16,\n",
       " 769: 26,\n",
       " 770: 32,\n",
       " 771: 17,\n",
       " 772: 34,\n",
       " 773: 83,\n",
       " 774: 9,\n",
       " 775: 44,\n",
       " 776: 13,\n",
       " 777: 30,\n",
       " 778: 34,\n",
       " 779: 13,\n",
       " 780: 250,\n",
       " 781: 7,\n",
       " 782: 9,\n",
       " 783: 31,\n",
       " 784: 33,\n",
       " 785: 29,\n",
       " 786: 81,\n",
       " 787: 19,\n",
       " 788: 21,\n",
       " 789: 9,\n",
       " 790: 30,\n",
       " 791: 15,\n",
       " 792: 178,\n",
       " 793: 10,\n",
       " 794: 51,\n",
       " 795: 43,\n",
       " 796: 27,\n",
       " 797: 7,\n",
       " 798: 32,\n",
       " 799: 22,\n",
       " 800: 14,\n",
       " 801: 27,\n",
       " 802: 24,\n",
       " 803: 4,\n",
       " 804: 69,\n",
       " 805: 40,\n",
       " 806: 7,\n",
       " 807: 10,\n",
       " 808: 22,\n",
       " 809: 11,\n",
       " 810: 40,\n",
       " 811: 14,\n",
       " 812: 52,\n",
       " 813: 17,\n",
       " 814: 8,\n",
       " 815: 57,\n",
       " 816: 8,\n",
       " 817: 48,\n",
       " 818: 5,\n",
       " 819: 17,\n",
       " 820: 16,\n",
       " 821: 10,\n",
       " 822: 12,\n",
       " 823: 43,\n",
       " 824: 8,\n",
       " 825: 32,\n",
       " 826: 48,\n",
       " 827: 13,\n",
       " 828: 9,\n",
       " 829: 14,\n",
       " 830: 19,\n",
       " 831: 35,\n",
       " 832: 23,\n",
       " 833: 8,\n",
       " 834: 92,\n",
       " 835: 23,\n",
       " 836: 54,\n",
       " 837: 3,\n",
       " 838: 16,\n",
       " 839: 10,\n",
       " 840: 14,\n",
       " 841: 96,\n",
       " 842: 26,\n",
       " 843: 31,\n",
       " 844: 51,\n",
       " 845: 31,\n",
       " 846: 57,\n",
       " 847: 14,\n",
       " 848: 17,\n",
       " 849: 42,\n",
       " 850: 10,\n",
       " 851: 6,\n",
       " 852: 62,\n",
       " 853: 34,\n",
       " 854: 48,\n",
       " 855: 16,\n",
       " 856: 12,\n",
       " 857: 2,\n",
       " 858: 19,\n",
       " 859: 16,\n",
       " 860: 34,\n",
       " 861: 7,\n",
       " 862: 5,\n",
       " 863: 38,\n",
       " 864: 34,\n",
       " 865: 47,\n",
       " 866: 33,\n",
       " 867: 22,\n",
       " 868: 111,\n",
       " 869: 15,\n",
       " 870: 5,\n",
       " 871: 27,\n",
       " 872: 34,\n",
       " 873: 41,\n",
       " 874: 11,\n",
       " 875: 11,\n",
       " 876: 30,\n",
       " 877: 26,\n",
       " 878: 10,\n",
       " 879: 24,\n",
       " 880: 91,\n",
       " 881: 34,\n",
       " 882: 23,\n",
       " 883: 46,\n",
       " 884: 23,\n",
       " 885: 13,\n",
       " 886: 35,\n",
       " 887: 14,\n",
       " 888: 19,\n",
       " 889: 41,\n",
       " 890: 9,\n",
       " 891: 103,\n",
       " 892: 27,\n",
       " 893: 22,\n",
       " 894: 13,\n",
       " 895: 19,\n",
       " 896: 9,\n",
       " 897: 82,\n",
       " 898: 9,\n",
       " 899: 37,\n",
       " 900: 7,\n",
       " 901: 26,\n",
       " 902: 17,\n",
       " 903: 68,\n",
       " 904: 40,\n",
       " 905: 162,\n",
       " 906: 6,\n",
       " 907: 56,\n",
       " 908: 32,\n",
       " 909: 21,\n",
       " 910: 16,\n",
       " 911: 25,\n",
       " 912: 27,\n",
       " 913: 45,\n",
       " 914: 13,\n",
       " 915: 79,\n",
       " 916: 6,\n",
       " 917: 15,\n",
       " 918: 12,\n",
       " 919: 9,\n",
       " 920: 40,\n",
       " 921: 74,\n",
       " 922: 21,\n",
       " 923: 19,\n",
       " 924: 86,\n",
       " 925: 159,\n",
       " 926: 5,\n",
       " 927: 8,\n",
       " 928: 11,\n",
       " 929: 54,\n",
       " 930: 26,\n",
       " 931: 50,\n",
       " 932: 78,\n",
       " 933: 13,\n",
       " 934: 17,\n",
       " 935: 36,\n",
       " 936: 9,\n",
       " 937: 28,\n",
       " 938: 28,\n",
       " 939: 91,\n",
       " 940: 14,\n",
       " 941: 22,\n",
       " 942: 21,\n",
       " 943: 14,\n",
       " 944: 45,\n",
       " 945: 5,\n",
       " 946: 18,\n",
       " 947: 32,\n",
       " 948: 80,\n",
       " 949: 6,\n",
       " 950: 13,\n",
       " 951: 12,\n",
       " 952: 16,\n",
       " 953: 13,\n",
       " 954: 21,\n",
       " 955: 36,\n",
       " 956: 9,\n",
       " 957: 15,\n",
       " 958: 49,\n",
       " 959: 57,\n",
       " 960: 6,\n",
       " 961: 11,\n",
       " 962: 12,\n",
       " 963: 117,\n",
       " 964: 36,\n",
       " 965: 41,\n",
       " 966: 77,\n",
       " 967: 6,\n",
       " 968: 12,\n",
       " 969: 27,\n",
       " 970: 24,\n",
       " 971: 9,\n",
       " 972: 34,\n",
       " 973: 46,\n",
       " 974: 8,\n",
       " 975: 58,\n",
       " 976: 29,\n",
       " 977: 17,\n",
       " 978: 7,\n",
       " 979: 49,\n",
       " 980: 7,\n",
       " 981: 11,\n",
       " 982: 42,\n",
       " 983: 82,\n",
       " 984: 78,\n",
       " 985: 25,\n",
       " 986: 33,\n",
       " 987: 43,\n",
       " 988: 44,\n",
       " 989: 23,\n",
       " 990: 29,\n",
       " 991: 41,\n",
       " 992: 10,\n",
       " 993: 10,\n",
       " 994: 39,\n",
       " 995: 29,\n",
       " 996: 21,\n",
       " 997: 36,\n",
       " 998: 52,\n",
       " 999: 33,\n",
       " ...}"
      ]
     },
     "execution_count": 248,
     "metadata": {},
     "output_type": "execute_result"
    }
   ],
   "source": [
    "count"
   ]
  },
  {
   "cell_type": "code",
   "execution_count": null,
   "id": "a4408af3-df9f-4661-955d-61b84ee74cfe",
   "metadata": {},
   "outputs": [],
   "source": []
  }
 ],
 "metadata": {
  "kernelspec": {
   "display_name": "Python 3 (ipykernel)",
   "language": "python",
   "name": "python3"
  },
  "language_info": {
   "codemirror_mode": {
    "name": "ipython",
    "version": 3
   },
   "file_extension": ".py",
   "mimetype": "text/x-python",
   "name": "python",
   "nbconvert_exporter": "python",
   "pygments_lexer": "ipython3",
   "version": "3.9.12"
  }
 },
 "nbformat": 4,
 "nbformat_minor": 5
}
